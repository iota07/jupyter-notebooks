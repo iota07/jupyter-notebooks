{
  "cells": [
    {
      "cell_type": "markdown",
      "id": "b4ef9477-a1d8-4efd-bfed-9c18d486c3ff",
      "metadata": {
        "id": "b4ef9477-a1d8-4efd-bfed-9c18d486c3ff"
      },
      "source": [
        "#### 1.Create a vector, scalar, matrix and tensor with values of your choosing using `tf.constant()`"
      ]
    },
    {
      "cell_type": "code",
      "execution_count": 1,
      "id": "8cb2e77e-93d9-4ab3-8db3-d7267c0fc418",
      "metadata": {
        "id": "8cb2e77e-93d9-4ab3-8db3-d7267c0fc418"
      },
      "outputs": [],
      "source": [
        "import tensorflow as tf"
      ]
    },
    {
      "cell_type": "code",
      "execution_count": 2,
      "id": "2d43b695-27ce-43cb-aad5-d9f191c68458",
      "metadata": {
        "id": "2d43b695-27ce-43cb-aad5-d9f191c68458"
      },
      "outputs": [],
      "source": [
        "import numpy as np"
      ]
    },
    {
      "cell_type": "code",
      "source": [
        "scalar =  tf.constant(3)\n",
        "scalar, scalar.ndim"
      ],
      "metadata": {
        "id": "C9OzBtNqGATq",
        "outputId": "87f1ff27-43b2-44ca-e792-ed542de888a0",
        "colab": {
          "base_uri": "https://localhost:8080/"
        }
      },
      "id": "C9OzBtNqGATq",
      "execution_count": 9,
      "outputs": [
        {
          "output_type": "execute_result",
          "data": {
            "text/plain": [
              "(<tf.Tensor: shape=(), dtype=int32, numpy=3>, 0)"
            ]
          },
          "metadata": {},
          "execution_count": 9
        }
      ]
    },
    {
      "cell_type": "code",
      "source": [
        "vector = tf.constant([1,2])\n",
        "vector, vector.ndim\n"
      ],
      "metadata": {
        "id": "D2v0GEWnG76E",
        "outputId": "52600973-7fd9-4f49-cf4f-8ff22ebaebc9",
        "colab": {
          "base_uri": "https://localhost:8080/"
        }
      },
      "id": "D2v0GEWnG76E",
      "execution_count": 10,
      "outputs": [
        {
          "output_type": "execute_result",
          "data": {
            "text/plain": [
              "(<tf.Tensor: shape=(2,), dtype=int32, numpy=array([1, 2], dtype=int32)>, 1)"
            ]
          },
          "metadata": {},
          "execution_count": 10
        }
      ]
    },
    {
      "cell_type": "code",
      "source": [
        "matrix = tf.constant([[1,2],[2,3]])\n",
        "matrix, matrix.ndim"
      ],
      "metadata": {
        "id": "FcZBQH28HJVH",
        "outputId": "c773b4d9-0fa1-4ba3-cf7a-ae19ce631db6",
        "colab": {
          "base_uri": "https://localhost:8080/"
        }
      },
      "id": "FcZBQH28HJVH",
      "execution_count": 11,
      "outputs": [
        {
          "output_type": "execute_result",
          "data": {
            "text/plain": [
              "(<tf.Tensor: shape=(2, 2), dtype=int32, numpy=\n",
              " array([[1, 2],\n",
              "        [2, 3]], dtype=int32)>,\n",
              " 2)"
            ]
          },
          "metadata": {},
          "execution_count": 11
        }
      ]
    },
    {
      "cell_type": "code",
      "source": [
        "tensor = tf.constant([[[1,2],[3,4]],\n",
        "                      [[5,6],[7,8]]])\n",
        "tensor, tensor.ndim"
      ],
      "metadata": {
        "id": "z-wXJGxeHYgf",
        "outputId": "d6757661-95ee-4eec-a489-4c48eb924d86",
        "colab": {
          "base_uri": "https://localhost:8080/"
        }
      },
      "id": "z-wXJGxeHYgf",
      "execution_count": 13,
      "outputs": [
        {
          "output_type": "execute_result",
          "data": {
            "text/plain": [
              "(<tf.Tensor: shape=(2, 2, 2), dtype=int32, numpy=\n",
              " array([[[1, 2],\n",
              "         [3, 4]],\n",
              " \n",
              "        [[5, 6],\n",
              "         [7, 8]]], dtype=int32)>,\n",
              " 3)"
            ]
          },
          "metadata": {},
          "execution_count": 13
        }
      ]
    },
    {
      "cell_type": "markdown",
      "source": [
        "#### 2.Find the shape, rank and size of the tensor created"
      ],
      "metadata": {
        "id": "nvlvxHSVJAl3"
      },
      "id": "nvlvxHSVJAl3"
    },
    {
      "cell_type": "code",
      "source": [
        "tensor.shape, tf.size(tensor), tf.rank(tensor)"
      ],
      "metadata": {
        "id": "4gg-VeSeJqnb",
        "outputId": "b6229928-60fe-45b7-95b2-1176382d5243",
        "colab": {
          "base_uri": "https://localhost:8080/"
        }
      },
      "id": "4gg-VeSeJqnb",
      "execution_count": 15,
      "outputs": [
        {
          "output_type": "execute_result",
          "data": {
            "text/plain": [
              "(TensorShape([2, 2, 2]),\n",
              " <tf.Tensor: shape=(), dtype=int32, numpy=8>,\n",
              " <tf.Tensor: shape=(), dtype=int32, numpy=3>)"
            ]
          },
          "metadata": {},
          "execution_count": 15
        }
      ]
    },
    {
      "cell_type": "markdown",
      "source": [
        "#### 3.Create two tenors containing random values between 0 and 1 with shape [5,300].\n"
      ],
      "metadata": {
        "id": "Eyaxn0tDJ10d"
      },
      "id": "Eyaxn0tDJ10d"
    },
    {
      "cell_type": "code",
      "source": [
        "random_tensor1 = tf.random.uniform(shape=(5,300))\n",
        "random_tensor1"
      ],
      "metadata": {
        "id": "pNJ1-srtKqdk",
        "outputId": "61a9c5e3-5c91-4a0c-a2cf-bf3c9129c58f",
        "colab": {
          "base_uri": "https://localhost:8080/"
        }
      },
      "id": "pNJ1-srtKqdk",
      "execution_count": 20,
      "outputs": [
        {
          "output_type": "execute_result",
          "data": {
            "text/plain": [
              "<tf.Tensor: shape=(5, 300), dtype=float32, numpy=\n",
              "array([[0.05987561, 0.82498634, 0.22176504, ..., 0.32132864, 0.25710905,\n",
              "        0.00912929],\n",
              "       [0.5548352 , 0.31122017, 0.99403465, ..., 0.396762  , 0.38572717,\n",
              "        0.3406794 ],\n",
              "       [0.10606539, 0.57817173, 0.31108224, ..., 0.17935681, 0.795966  ,\n",
              "        0.4910493 ],\n",
              "       [0.55464363, 0.38794434, 0.31176722, ..., 0.56971383, 0.633031  ,\n",
              "        0.17668283],\n",
              "       [0.14683366, 0.4476596 , 0.39020562, ..., 0.6953801 , 0.73447835,\n",
              "        0.45172656]], dtype=float32)>"
            ]
          },
          "metadata": {},
          "execution_count": 20
        }
      ]
    },
    {
      "cell_type": "code",
      "source": [
        "random_tensor2 = tf.random.uniform(shape=(5,300))\n",
        "random_tensor2"
      ],
      "metadata": {
        "id": "EoECtMhWK1NH",
        "outputId": "36d56328-5c96-41f8-d495-37fa8e205407",
        "colab": {
          "base_uri": "https://localhost:8080/"
        }
      },
      "id": "EoECtMhWK1NH",
      "execution_count": 21,
      "outputs": [
        {
          "output_type": "execute_result",
          "data": {
            "text/plain": [
              "<tf.Tensor: shape=(5, 300), dtype=float32, numpy=\n",
              "array([[0.2777418 , 0.8119087 , 0.41244888, ..., 0.22146583, 0.39385772,\n",
              "        0.24781835],\n",
              "       [0.07551348, 0.02744889, 0.48361826, ..., 0.7783413 , 0.17756498,\n",
              "        0.38000977],\n",
              "       [0.23571432, 0.310238  , 0.20518768, ..., 0.2680478 , 0.74562204,\n",
              "        0.59642863],\n",
              "       [0.7855916 , 0.15216494, 0.45203698, ..., 0.60495985, 0.7927376 ,\n",
              "        0.05976522],\n",
              "       [0.44285238, 0.11362851, 0.28142536, ..., 0.18795717, 0.30841708,\n",
              "        0.8339578 ]], dtype=float32)>"
            ]
          },
          "metadata": {},
          "execution_count": 21
        }
      ]
    },
    {
      "cell_type": "markdown",
      "source": [
        "#### 4.Multiply the two tensors you created in 3 using matrix multiplication."
      ],
      "metadata": {
        "id": "ALB5lD2-LCt9"
      },
      "id": "ALB5lD2-LCt9"
    },
    {
      "cell_type": "code",
      "source": [
        "tf.linalg.matmul(random_tensor1, random_tensor2,  transpose_b=True)"
      ],
      "metadata": {
        "id": "B8ndmFMiLVwS",
        "outputId": "17b09b51-c527-438a-dda4-c35c74905421",
        "colab": {
          "base_uri": "https://localhost:8080/"
        }
      },
      "id": "B8ndmFMiLVwS",
      "execution_count": 23,
      "outputs": [
        {
          "output_type": "execute_result",
          "data": {
            "text/plain": [
              "<tf.Tensor: shape=(5, 5), dtype=float32, numpy=\n",
              "array([[76.670395, 71.13551 , 71.35396 , 76.73754 , 75.32904 ],\n",
              "       [72.780594, 70.98184 , 69.866104, 74.88263 , 72.99069 ],\n",
              "       [73.53587 , 65.23196 , 67.88296 , 70.02713 , 70.28499 ],\n",
              "       [76.398796, 69.07962 , 70.35627 , 76.05353 , 74.12025 ],\n",
              "       [70.994514, 66.11299 , 67.18524 , 73.50718 , 70.89786 ]],\n",
              "      dtype=float32)>"
            ]
          },
          "metadata": {},
          "execution_count": 23
        }
      ]
    },
    {
      "cell_type": "markdown",
      "source": [
        "#### 5.Multiply the two tensors you created using dot product."
      ],
      "metadata": {
        "id": "IkGyLZelLcJO"
      },
      "id": "IkGyLZelLcJO"
    },
    {
      "cell_type": "code",
      "source": [
        "tf.tensordot(random_tensor1, tf.transpose(random_tensor2), axes=1)"
      ],
      "metadata": {
        "id": "Lay_uz6zOEXl",
        "outputId": "548ee86d-fedd-4c8c-f1c3-866db9fcd7d3",
        "colab": {
          "base_uri": "https://localhost:8080/"
        }
      },
      "id": "Lay_uz6zOEXl",
      "execution_count": 27,
      "outputs": [
        {
          "output_type": "execute_result",
          "data": {
            "text/plain": [
              "<tf.Tensor: shape=(5, 5), dtype=float32, numpy=\n",
              "array([[76.670395, 71.13551 , 71.35396 , 76.73754 , 75.32904 ],\n",
              "       [72.780594, 70.98184 , 69.866104, 74.88263 , 72.99069 ],\n",
              "       [73.53587 , 65.23196 , 67.88296 , 70.02713 , 70.28499 ],\n",
              "       [76.398796, 69.07962 , 70.35627 , 76.05353 , 74.12025 ],\n",
              "       [70.994514, 66.11299 , 67.18524 , 73.50718 , 70.89786 ]],\n",
              "      dtype=float32)>"
            ]
          },
          "metadata": {},
          "execution_count": 27
        }
      ]
    },
    {
      "cell_type": "markdown",
      "source": [
        "#### 6.Create a tensor with random values between 0 and 1 with shape [224,224,3]\n"
      ],
      "metadata": {
        "id": "W5CcZQvuOS13"
      },
      "id": "W5CcZQvuOS13"
    },
    {
      "cell_type": "code",
      "source": [
        "random_tensor3 = tf.random.uniform(shape=(224,224,3))\n",
        "random_tensor3"
      ],
      "metadata": {
        "id": "Z23s7hSvO9KC",
        "outputId": "f00b43b1-fbbf-4760-f593-dc36b7171bc7",
        "colab": {
          "base_uri": "https://localhost:8080/"
        }
      },
      "id": "Z23s7hSvO9KC",
      "execution_count": 31,
      "outputs": [
        {
          "output_type": "execute_result",
          "data": {
            "text/plain": [
              "<tf.Tensor: shape=(224, 224, 3), dtype=float32, numpy=\n",
              "array([[[0.27045   , 0.28439677, 0.67773926],\n",
              "        [0.60243845, 0.29166102, 0.32092702],\n",
              "        [0.45362675, 0.60064924, 0.1492306 ],\n",
              "        ...,\n",
              "        [0.95068574, 0.9535047 , 0.17050743],\n",
              "        [0.6224586 , 0.7088213 , 0.18155491],\n",
              "        [0.7075523 , 0.9301311 , 0.89720523]],\n",
              "\n",
              "       [[0.13407207, 0.21994627, 0.59090054],\n",
              "        [0.29772258, 0.8362398 , 0.02416408],\n",
              "        [0.72123575, 0.7791623 , 0.6785729 ],\n",
              "        ...,\n",
              "        [0.16221881, 0.6444409 , 0.62161684],\n",
              "        [0.91668224, 0.5273088 , 0.99014604],\n",
              "        [0.32197416, 0.11072707, 0.47903287]],\n",
              "\n",
              "       [[0.40876818, 0.9523548 , 0.8609592 ],\n",
              "        [0.02770197, 0.5414518 , 0.76117706],\n",
              "        [0.40923357, 0.62166643, 0.22260368],\n",
              "        ...,\n",
              "        [0.14192641, 0.8304596 , 0.89919496],\n",
              "        [0.5464338 , 0.541957  , 0.7938585 ],\n",
              "        [0.9611287 , 0.07247841, 0.2604133 ]],\n",
              "\n",
              "       ...,\n",
              "\n",
              "       [[0.47305274, 0.72428656, 0.9097792 ],\n",
              "        [0.36664057, 0.5699909 , 0.8373927 ],\n",
              "        [0.80513966, 0.3311715 , 0.45912945],\n",
              "        ...,\n",
              "        [0.29625535, 0.06762385, 0.7564542 ],\n",
              "        [0.50069296, 0.53045535, 0.9699539 ],\n",
              "        [0.16237736, 0.15209973, 0.62936795]],\n",
              "\n",
              "       [[0.5121434 , 0.6934297 , 0.7593255 ],\n",
              "        [0.88710546, 0.8375933 , 0.48026192],\n",
              "        [0.81219435, 0.24699032, 0.867254  ],\n",
              "        ...,\n",
              "        [0.9583256 , 0.9864663 , 0.47541904],\n",
              "        [0.2714113 , 0.46936822, 0.80010295],\n",
              "        [0.296417  , 0.713837  , 0.7685826 ]],\n",
              "\n",
              "       [[0.59096   , 0.62481165, 0.25999367],\n",
              "        [0.7884048 , 0.3966887 , 0.94219863],\n",
              "        [0.91452456, 0.8840698 , 0.08019423],\n",
              "        ...,\n",
              "        [0.49919832, 0.98868513, 0.09160435],\n",
              "        [0.07013667, 0.93110156, 0.53600454],\n",
              "        [0.587826  , 0.76629376, 0.42165327]]], dtype=float32)>"
            ]
          },
          "metadata": {},
          "execution_count": 31
        }
      ]
    },
    {
      "cell_type": "markdown",
      "source": [
        "#### 7.Find the min and max values of the tensor you created in 6 along the first axis."
      ],
      "metadata": {
        "id": "t5Q3KImYPERa"
      },
      "id": "t5Q3KImYPERa"
    },
    {
      "cell_type": "code",
      "source": [
        "tf.reduce_max(random_tensor3), tf.reduce_min(random_tensor3)"
      ],
      "metadata": {
        "id": "nM5hU5I1PrV3",
        "outputId": "1e0821e3-03c7-4489-ab68-d9ea08ca727f",
        "colab": {
          "base_uri": "https://localhost:8080/"
        }
      },
      "id": "nM5hU5I1PrV3",
      "execution_count": 35,
      "outputs": [
        {
          "output_type": "execute_result",
          "data": {
            "text/plain": [
              "(<tf.Tensor: shape=(), dtype=float32, numpy=0.99999976>,\n",
              " <tf.Tensor: shape=(), dtype=float32, numpy=5.6028366e-06>)"
            ]
          },
          "metadata": {},
          "execution_count": 35
        }
      ]
    },
    {
      "cell_type": "markdown",
      "source": [
        "#### 8. Create a tensor with random values of shape [1,224,224,3] then squeeze it to change the shape to [224,224,3]"
      ],
      "metadata": {
        "id": "mb78VF9uPx2t"
      },
      "id": "mb78VF9uPx2t"
    },
    {
      "cell_type": "code",
      "source": [
        "big_tensor = tf.random.uniform(shape=[1,224,224,3])\n",
        "big_tensor"
      ],
      "metadata": {
        "id": "EZ_YfFWERBzW",
        "outputId": "354c3898-d2a2-4f94-99ac-5ffbd02f211e",
        "colab": {
          "base_uri": "https://localhost:8080/"
        }
      },
      "id": "EZ_YfFWERBzW",
      "execution_count": 39,
      "outputs": [
        {
          "output_type": "execute_result",
          "data": {
            "text/plain": [
              "<tf.Tensor: shape=(1, 224, 224, 3), dtype=float32, numpy=\n",
              "array([[[[0.5047873 , 0.9172604 , 0.19664097],\n",
              "         [0.23699951, 0.6490557 , 0.48869765],\n",
              "         [0.4998803 , 0.718869  , 0.981406  ],\n",
              "         ...,\n",
              "         [0.04157698, 0.98003495, 0.14617121],\n",
              "         [0.6075721 , 0.11199212, 0.9289863 ],\n",
              "         [0.6717515 , 0.4586885 , 0.16492689]],\n",
              "\n",
              "        [[0.48897457, 0.7653477 , 0.36601877],\n",
              "         [0.09907985, 0.22704148, 0.20799196],\n",
              "         [0.49821413, 0.68127716, 0.7235756 ],\n",
              "         ...,\n",
              "         [0.53412044, 0.56030595, 0.8828156 ],\n",
              "         [0.48528528, 0.7559923 , 0.01413321],\n",
              "         [0.7815219 , 0.1596905 , 0.00956225]],\n",
              "\n",
              "        [[0.0472194 , 0.362813  , 0.8427174 ],\n",
              "         [0.54395604, 0.49633932, 0.817271  ],\n",
              "         [0.89737666, 0.22024977, 0.8185973 ],\n",
              "         ...,\n",
              "         [0.98013055, 0.71873784, 0.75347364],\n",
              "         [0.87099886, 0.9569268 , 0.67975664],\n",
              "         [0.31493318, 0.21248531, 0.02520895]],\n",
              "\n",
              "        ...,\n",
              "\n",
              "        [[0.6880467 , 0.50866103, 0.740916  ],\n",
              "         [0.9080392 , 0.97469413, 0.91569495],\n",
              "         [0.27854967, 0.4252844 , 0.7923602 ],\n",
              "         ...,\n",
              "         [0.44551277, 0.17988646, 0.4351263 ],\n",
              "         [0.8258313 , 0.48116696, 0.90101874],\n",
              "         [0.5937642 , 0.57001686, 0.9142556 ]],\n",
              "\n",
              "        [[0.57635427, 0.20751762, 0.10414457],\n",
              "         [0.20479667, 0.80568147, 0.33132887],\n",
              "         [0.4807688 , 0.9824339 , 0.94912684],\n",
              "         ...,\n",
              "         [0.4469577 , 0.8887476 , 0.16756475],\n",
              "         [0.25183988, 0.8490839 , 0.8640809 ],\n",
              "         [0.05716932, 0.86720717, 0.48021197]],\n",
              "\n",
              "        [[0.01855743, 0.37169814, 0.47597575],\n",
              "         [0.7486222 , 0.37367082, 0.34359825],\n",
              "         [0.3867793 , 0.08709812, 0.319059  ],\n",
              "         ...,\n",
              "         [0.79183006, 0.74992406, 0.94934857],\n",
              "         [0.62722576, 0.382949  , 0.8503028 ],\n",
              "         [0.91032636, 0.25045967, 0.13607657]]]], dtype=float32)>"
            ]
          },
          "metadata": {},
          "execution_count": 39
        }
      ]
    },
    {
      "cell_type": "code",
      "source": [
        "squeeze_tensor = tf.squeeze(big_tensor)\n",
        "squeeze_tensor, squeeze_tensor.shape"
      ],
      "metadata": {
        "id": "iZmW9afLRUC3",
        "outputId": "d8bedc78-3096-4355-8eb7-2a581396279b",
        "colab": {
          "base_uri": "https://localhost:8080/"
        }
      },
      "id": "iZmW9afLRUC3",
      "execution_count": 42,
      "outputs": [
        {
          "output_type": "execute_result",
          "data": {
            "text/plain": [
              "(<tf.Tensor: shape=(224, 224, 3), dtype=float32, numpy=\n",
              " array([[[0.5047873 , 0.9172604 , 0.19664097],\n",
              "         [0.23699951, 0.6490557 , 0.48869765],\n",
              "         [0.4998803 , 0.718869  , 0.981406  ],\n",
              "         ...,\n",
              "         [0.04157698, 0.98003495, 0.14617121],\n",
              "         [0.6075721 , 0.11199212, 0.9289863 ],\n",
              "         [0.6717515 , 0.4586885 , 0.16492689]],\n",
              " \n",
              "        [[0.48897457, 0.7653477 , 0.36601877],\n",
              "         [0.09907985, 0.22704148, 0.20799196],\n",
              "         [0.49821413, 0.68127716, 0.7235756 ],\n",
              "         ...,\n",
              "         [0.53412044, 0.56030595, 0.8828156 ],\n",
              "         [0.48528528, 0.7559923 , 0.01413321],\n",
              "         [0.7815219 , 0.1596905 , 0.00956225]],\n",
              " \n",
              "        [[0.0472194 , 0.362813  , 0.8427174 ],\n",
              "         [0.54395604, 0.49633932, 0.817271  ],\n",
              "         [0.89737666, 0.22024977, 0.8185973 ],\n",
              "         ...,\n",
              "         [0.98013055, 0.71873784, 0.75347364],\n",
              "         [0.87099886, 0.9569268 , 0.67975664],\n",
              "         [0.31493318, 0.21248531, 0.02520895]],\n",
              " \n",
              "        ...,\n",
              " \n",
              "        [[0.6880467 , 0.50866103, 0.740916  ],\n",
              "         [0.9080392 , 0.97469413, 0.91569495],\n",
              "         [0.27854967, 0.4252844 , 0.7923602 ],\n",
              "         ...,\n",
              "         [0.44551277, 0.17988646, 0.4351263 ],\n",
              "         [0.8258313 , 0.48116696, 0.90101874],\n",
              "         [0.5937642 , 0.57001686, 0.9142556 ]],\n",
              " \n",
              "        [[0.57635427, 0.20751762, 0.10414457],\n",
              "         [0.20479667, 0.80568147, 0.33132887],\n",
              "         [0.4807688 , 0.9824339 , 0.94912684],\n",
              "         ...,\n",
              "         [0.4469577 , 0.8887476 , 0.16756475],\n",
              "         [0.25183988, 0.8490839 , 0.8640809 ],\n",
              "         [0.05716932, 0.86720717, 0.48021197]],\n",
              " \n",
              "        [[0.01855743, 0.37169814, 0.47597575],\n",
              "         [0.7486222 , 0.37367082, 0.34359825],\n",
              "         [0.3867793 , 0.08709812, 0.319059  ],\n",
              "         ...,\n",
              "         [0.79183006, 0.74992406, 0.94934857],\n",
              "         [0.62722576, 0.382949  , 0.8503028 ],\n",
              "         [0.91032636, 0.25045967, 0.13607657]]], dtype=float32)>,\n",
              " TensorShape([224, 224, 3]))"
            ]
          },
          "metadata": {},
          "execution_count": 42
        }
      ]
    },
    {
      "cell_type": "markdown",
      "source": [
        "#### 9. Create a tensor with shape [10] using your own choice of values, then find the index which has the maximum value"
      ],
      "metadata": {
        "id": "8na4qx_gUAre"
      },
      "id": "8na4qx_gUAre"
    },
    {
      "cell_type": "code",
      "source": [
        "tensor10 = tf.constant([1,2,3,4,5,6,7,8,9,10])"
      ],
      "metadata": {
        "id": "h6zQ7GYPUyYq"
      },
      "id": "h6zQ7GYPUyYq",
      "execution_count": 47,
      "outputs": []
    },
    {
      "cell_type": "code",
      "source": [
        "tensor10.shape"
      ],
      "metadata": {
        "id": "W46ya121U-sq",
        "outputId": "65ebc1da-fd17-42d7-fc93-a0efd444e1d5",
        "colab": {
          "base_uri": "https://localhost:8080/"
        }
      },
      "id": "W46ya121U-sq",
      "execution_count": 48,
      "outputs": [
        {
          "output_type": "execute_result",
          "data": {
            "text/plain": [
              "TensorShape([10])"
            ]
          },
          "metadata": {},
          "execution_count": 48
        }
      ]
    },
    {
      "cell_type": "code",
      "source": [
        "index_max = tf.argmax(tensor10).numpy()"
      ],
      "metadata": {
        "id": "J2XHk-fsVAIp"
      },
      "id": "J2XHk-fsVAIp",
      "execution_count": 55,
      "outputs": []
    },
    {
      "cell_type": "code",
      "source": [
        "max_value = tf.reduce_max(tensor10).numpy()"
      ],
      "metadata": {
        "id": "X8Rn9o42VF3z"
      },
      "id": "X8Rn9o42VF3z",
      "execution_count": 56,
      "outputs": []
    },
    {
      "cell_type": "code",
      "source": [
        "print(f\"The max value is: {max_value}\\n\")\n",
        "print(f\"The index of the max value is: {index_max}\\n\")"
      ],
      "metadata": {
        "id": "vL5s1-dYV1Ao",
        "outputId": "69d11aa3-d0b4-4b44-fd7c-37648ded4028",
        "colab": {
          "base_uri": "https://localhost:8080/"
        }
      },
      "id": "vL5s1-dYV1Ao",
      "execution_count": 58,
      "outputs": [
        {
          "output_type": "stream",
          "name": "stdout",
          "text": [
            "The max value is: 10\n",
            "\n",
            "The index of the max value is: 9\n",
            "\n"
          ]
        }
      ]
    },
    {
      "cell_type": "markdown",
      "source": [
        "#### 10.One-hot encode the tensor you created in 9."
      ],
      "metadata": {
        "id": "DKdAYD1OWd0P"
      },
      "id": "DKdAYD1OWd0P"
    },
    {
      "cell_type": "code",
      "source": [
        "tf.cast(tensor10, dtype=tf.int32)"
      ],
      "metadata": {
        "id": "4KxDj24AWzH_",
        "outputId": "686f0970-ce22-4554-a68c-6bd8cf08ac5a",
        "colab": {
          "base_uri": "https://localhost:8080/"
        }
      },
      "id": "4KxDj24AWzH_",
      "execution_count": 65,
      "outputs": [
        {
          "output_type": "execute_result",
          "data": {
            "text/plain": [
              "<tf.Tensor: shape=(10,), dtype=int32, numpy=array([ 1,  2,  3,  4,  5,  6,  7,  8,  9, 10], dtype=int32)>"
            ]
          },
          "metadata": {},
          "execution_count": 65
        }
      ]
    },
    {
      "cell_type": "code",
      "source": [
        "tf.one_hot(tf.cast(tensor10, dtype=tf.int32), depth=10)"
      ],
      "metadata": {
        "id": "_3ijaIoaXLMl",
        "outputId": "06f39020-b011-4ade-dfc1-0af7542b2e09",
        "colab": {
          "base_uri": "https://localhost:8080/"
        }
      },
      "id": "_3ijaIoaXLMl",
      "execution_count": 66,
      "outputs": [
        {
          "output_type": "execute_result",
          "data": {
            "text/plain": [
              "<tf.Tensor: shape=(10, 10), dtype=float32, numpy=\n",
              "array([[0., 1., 0., 0., 0., 0., 0., 0., 0., 0.],\n",
              "       [0., 0., 1., 0., 0., 0., 0., 0., 0., 0.],\n",
              "       [0., 0., 0., 1., 0., 0., 0., 0., 0., 0.],\n",
              "       [0., 0., 0., 0., 1., 0., 0., 0., 0., 0.],\n",
              "       [0., 0., 0., 0., 0., 1., 0., 0., 0., 0.],\n",
              "       [0., 0., 0., 0., 0., 0., 1., 0., 0., 0.],\n",
              "       [0., 0., 0., 0., 0., 0., 0., 1., 0., 0.],\n",
              "       [0., 0., 0., 0., 0., 0., 0., 0., 1., 0.],\n",
              "       [0., 0., 0., 0., 0., 0., 0., 0., 0., 1.],\n",
              "       [0., 0., 0., 0., 0., 0., 0., 0., 0., 0.]], dtype=float32)>"
            ]
          },
          "metadata": {},
          "execution_count": 66
        }
      ]
    },
    {
      "cell_type": "code",
      "source": [],
      "metadata": {
        "id": "j6i2J80ZXynn"
      },
      "id": "j6i2J80ZXynn",
      "execution_count": null,
      "outputs": []
    }
  ],
  "metadata": {
    "kernelspec": {
      "display_name": "Python 3 (ipykernel)",
      "language": "python",
      "name": "python3"
    },
    "language_info": {
      "codemirror_mode": {
        "name": "ipython",
        "version": 3
      },
      "file_extension": ".py",
      "mimetype": "text/x-python",
      "name": "python",
      "nbconvert_exporter": "python",
      "pygments_lexer": "ipython3",
      "version": "3.11.7"
    },
    "colab": {
      "provenance": []
    }
  },
  "nbformat": 4,
  "nbformat_minor": 5
}