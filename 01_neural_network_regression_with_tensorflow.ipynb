{
  "nbformat": 4,
  "nbformat_minor": 0,
  "metadata": {
    "colab": {
      "provenance": [],
      "mount_file_id": "https://github.com/iota07/jupyter-notebooks/blob/main/01_neural_network_regression_with_tensorflow.ipynb",
      "authorship_tag": "ABX9TyM6xI2Eg9qUXdRiC2z+dw38"
    },
    "kernelspec": {
      "name": "python3",
      "display_name": "Python 3"
    },
    "language_info": {
      "name": "python"
    }
  },
  "cells": [
    {
      "cell_type": "markdown",
      "source": [
        "# Introduction to Regression with Neural Network in TensorFlow\n",
        "There are many definitions for a regression problem but in our case, we're going to simplify it: predicting numerical variable based on some other combination of variables, even shorted...predicting a number."
      ],
      "metadata": {
        "id": "T4sq1SmW5wiv"
      }
    },
    {
      "cell_type": "code",
      "source": [
        "# Import TensorFlow\n",
        "import tensorflow as tf\n",
        "print(tf.__version__)"
      ],
      "metadata": {
        "colab": {
          "base_uri": "https://localhost:8080/"
        },
        "id": "6g9eeOyN6cHz",
        "outputId": "f9d8a0aa-aa94-4779-b1d9-9c98bbc9f239"
      },
      "execution_count": 1,
      "outputs": [
        {
          "output_type": "stream",
          "name": "stdout",
          "text": [
            "2.15.0\n"
          ]
        }
      ]
    },
    {
      "cell_type": "markdown",
      "source": [
        "### Creating some data to view and fit"
      ],
      "metadata": {
        "id": "l0lgo4rF6k1O"
      }
    },
    {
      "cell_type": "code",
      "source": [
        "import numpy as np\n",
        "import matplotlib.pyplot as plt\n",
        "\n",
        "# Create features\n",
        "X = np.array([-7.0, -4.0, -1.0, 2.0, 5.0, 8.0, 11.0, 14.0])\n",
        "\n",
        "# Create labels\n",
        "y = np.array([3.0, 6.0, 9.0, 12.0, 15.0, 18.0, 21.0, 24.0])\n",
        "\n",
        "# Visulize it\n",
        "plt.scatter(X, y)"
      ],
      "metadata": {
        "colab": {
          "base_uri": "https://localhost:8080/",
          "height": 452
        },
        "id": "U9mD2lUo65cr",
        "outputId": "956ba7b6-dc0d-441b-9c55-41ff58634bdc"
      },
      "execution_count": 2,
      "outputs": [
        {
          "output_type": "execute_result",
          "data": {
            "text/plain": [
              "<matplotlib.collections.PathCollection at 0x7f56ff8f2aa0>"
            ]
          },
          "metadata": {},
          "execution_count": 2
        },
        {
          "output_type": "display_data",
          "data": {
            "text/plain": [
              "<Figure size 640x480 with 1 Axes>"
            ],
            "image/png": "[encoded data removed]"
          },
          "metadata": {}
        }
      ]
    },
    {
      "cell_type": "code",
      "source": [
        "y == X + 10"
      ],
      "metadata": {
        "colab": {
          "base_uri": "https://localhost:8080/"
        },
        "id": "6Ko5VR4l7u_U",
        "outputId": "f2e73790-2636-4f4d-8381-7cfbe6ad7b0c"
      },
      "execution_count": 3,
      "outputs": [
        {
          "output_type": "execute_result",
          "data": {
            "text/plain": [
              "array([ True,  True,  True,  True,  True,  True,  True,  True])"
            ]
          },
          "metadata": {},
          "execution_count": 3
        }
      ]
    },
    {
      "cell_type": "markdown",
      "source": [
        "## Input and output shapes"
      ],
      "metadata": {
        "id": "ngvEVaE278BM"
      }
    },
    {
      "cell_type": "code",
      "source": [
        "# Create a demo tensor for our housing price prediction problem\n",
        "house_info = tf.constant([\"bedroom\",\"bathroom\",\"garage\"])\n",
        "house_price = tf.constant([939700])\n",
        "house_info, house_price"
      ],
      "metadata": {
        "colab": {
          "base_uri": "https://localhost:8080/"
        },
        "id": "HLxK19gp8DnE",
        "outputId": "e325f912-6584-4576-a849-ffd3446056b7"
      },
      "execution_count": 4,
      "outputs": [
        {
          "output_type": "execute_result",
          "data": {
            "text/plain": [
              "(<tf.Tensor: shape=(3,), dtype=string, numpy=array([b'bedroom', b'bathroom', b'garage'], dtype=object)>,\n",
              " <tf.Tensor: shape=(1,), dtype=int32, numpy=array([939700], dtype=int32)>)"
            ]
          },
          "metadata": {},
          "execution_count": 4
        }
      ]
    },
    {
      "cell_type": "code",
      "source": [
        "X[0], y[0]"
      ],
      "metadata": {
        "colab": {
          "base_uri": "https://localhost:8080/"
        },
        "id": "U5szC2v_9ffC",
        "outputId": "77dfd2de-6a72-4059-d33c-dbec713b1063"
      },
      "execution_count": 5,
      "outputs": [
        {
          "output_type": "execute_result",
          "data": {
            "text/plain": [
              "(-7.0, 3.0)"
            ]
          },
          "metadata": {},
          "execution_count": 5
        }
      ]
    },
    {
      "cell_type": "code",
      "source": [
        "X[1], y[1]"
      ],
      "metadata": {
        "colab": {
          "base_uri": "https://localhost:8080/"
        },
        "id": "-wixDPgX9mU_",
        "outputId": "2c400110-fa8d-46a9-d67e-dc52e02a4878"
      },
      "execution_count": 6,
      "outputs": [
        {
          "output_type": "execute_result",
          "data": {
            "text/plain": [
              "(-4.0, 6.0)"
            ]
          },
          "metadata": {},
          "execution_count": 6
        }
      ]
    },
    {
      "cell_type": "code",
      "source": [
        "input_shape = X[0].shape\n",
        "output_shape = y[0].shape\n",
        "input_shape, output_shape"
      ],
      "metadata": {
        "colab": {
          "base_uri": "https://localhost:8080/"
        },
        "id": "t7RfbklQ9CTZ",
        "outputId": "5de41239-7172-45ff-cc71-fb6aaf4bcd73"
      },
      "execution_count": 7,
      "outputs": [
        {
          "output_type": "execute_result",
          "data": {
            "text/plain": [
              "((), ())"
            ]
          },
          "metadata": {},
          "execution_count": 7
        }
      ]
    },
    {
      "cell_type": "code",
      "source": [
        "X[0].ndim"
      ],
      "metadata": {
        "colab": {
          "base_uri": "https://localhost:8080/"
        },
        "id": "apa_sNR29Uc3",
        "outputId": "0268e0df-8846-4051-8186-09b028070a2f"
      },
      "execution_count": 8,
      "outputs": [
        {
          "output_type": "execute_result",
          "data": {
            "text/plain": [
              "0"
            ]
          },
          "metadata": {},
          "execution_count": 8
        }
      ]
    },
    {
      "cell_type": "code",
      "source": [
        "X[0],y[0]"
      ],
      "metadata": {
        "colab": {
          "base_uri": "https://localhost:8080/"
        },
        "id": "vsXl_LVP9_H0",
        "outputId": "c3229922-ee8c-48a1-9e88-86ade166063a"
      },
      "execution_count": 9,
      "outputs": [
        {
          "output_type": "execute_result",
          "data": {
            "text/plain": [
              "(-7.0, 3.0)"
            ]
          },
          "metadata": {},
          "execution_count": 9
        }
      ]
    },
    {
      "cell_type": "code",
      "source": [
        "# Turn our NumPy array into tensors\n",
        "X = tf.cast(tf.constant(X), dtype=tf.float32)\n",
        "y = tf.cast(tf.constant(y), dtype=tf.float32)\n",
        "X, y"
      ],
      "metadata": {
        "colab": {
          "base_uri": "https://localhost:8080/"
        },
        "id": "i-kUwX_w-CbM",
        "outputId": "b458324e-51a0-4bdb-a68e-6162dfcf7c2b"
      },
      "execution_count": 10,
      "outputs": [
        {
          "output_type": "execute_result",
          "data": {
            "text/plain": [
              "(<tf.Tensor: shape=(8,), dtype=float32, numpy=array([-7., -4., -1.,  2.,  5.,  8., 11., 14.], dtype=float32)>,\n",
              " <tf.Tensor: shape=(8,), dtype=float32, numpy=array([ 3.,  6.,  9., 12., 15., 18., 21., 24.], dtype=float32)>)"
            ]
          },
          "metadata": {},
          "execution_count": 10
        }
      ]
    },
    {
      "cell_type": "code",
      "source": [
        "input_shape = X[0].shape\n",
        "output_shape = y[0].shape\n",
        "input_shape, output_shape"
      ],
      "metadata": {
        "colab": {
          "base_uri": "https://localhost:8080/"
        },
        "id": "DDT7FnQv_6A9",
        "outputId": "abf65233-affa-4339-d935-3080706fee79"
      },
      "execution_count": 11,
      "outputs": [
        {
          "output_type": "execute_result",
          "data": {
            "text/plain": [
              "(TensorShape([]), TensorShape([]))"
            ]
          },
          "metadata": {},
          "execution_count": 11
        }
      ]
    },
    {
      "cell_type": "code",
      "source": [
        "plt.scatter(X, y)"
      ],
      "metadata": {
        "colab": {
          "base_uri": "https://localhost:8080/",
          "height": 452
        },
        "id": "LJsyb6LLAGSk",
        "outputId": "4d1f870d-894d-46f1-ab56-d6ef40f8488b"
      },
      "execution_count": 12,
      "outputs": [
        {
          "output_type": "execute_result",
          "data": {
            "text/plain": [
              "<matplotlib.collections.PathCollection at 0x7f56fc5c5f60>"
            ]
          },
          "metadata": {},
          "execution_count": 12
        },
        {
          "output_type": "display_data",
          "data": {
            "text/plain": [
              "<Figure size 640x480 with 1 Axes>"
            ],
            "image/png": "[encoded data removed]"
          },
          "metadata": {}
        }
      ]
    },
    {
      "cell_type": "markdown",
      "source": [
        "## Steps in modelling with TensorFlow\n",
        "1. **Creating a model** - define the input and output layers, as well as the hidden layers of a deep learning model.\n",
        "2. **Compiling a model** - define the loss function ( in other words, the function which tells our model how wrong it is) and the optimizer (tells our model how to improve the patterns its learning) and evalution metric (what we can use to iterpret the performance of our model).\n",
        "3. **Fitting a model** - letting the model try to find patterns between X & y (features and labels).\n"
      ],
      "metadata": {
        "id": "8d7TbwHpAYXo"
      }
    },
    {
      "cell_type": "code",
      "source": [
        "# Set random seed\n",
        "tf.random.set_seed(42)\n",
        "\n",
        "# 1. Create a model using the Sequential API\n",
        "model = tf.keras.Sequential([\n",
        "    tf.keras.layers.Dense(1)\n",
        "])\n",
        "\n",
        "# 2. Compile the model\n",
        "model.compile(loss=tf.keras.losses.mae, #mae is short for mean absolute error\n",
        "              optimizer=tf.keras.optimizers.SGD(), # sgd is short for stochastic gradient descent\n",
        "              metrics=[\"mae\"]\n",
        "              )\n",
        "\n",
        "# 3. Fit the model\n",
        "model.fit(tf.expand_dims(X, axis=1), y, epochs=5) # expand X dimension by 1: from one dimension from two dimension"
      ],
      "metadata": {
        "colab": {
          "base_uri": "https://localhost:8080/"
        },
        "id": "f5LdDMj_AkY9",
        "outputId": "4366dfd5-4cfb-46c6-c92c-488f28a68d23"
      },
      "execution_count": 13,
      "outputs": [
        {
          "output_type": "stream",
          "name": "stdout",
          "text": [
            "Epoch 1/5\n",
            "1/1 [==============================] - 1s 505ms/step - loss: 11.9390 - mae: 11.9390\n",
            "Epoch 2/5\n",
            "1/1 [==============================] - 0s 13ms/step - loss: 11.8065 - mae: 11.8065\n",
            "Epoch 3/5\n",
            "1/1 [==============================] - 0s 12ms/step - loss: 11.6740 - mae: 11.6740\n",
            "Epoch 4/5\n",
            "1/1 [==============================] - 0s 14ms/step - loss: 11.5415 - mae: 11.5415\n",
            "Epoch 5/5\n",
            "1/1 [==============================] - 0s 13ms/step - loss: 11.4090 - mae: 11.4090\n"
          ]
        },
        {
          "output_type": "execute_result",
          "data": {
            "text/plain": [
              "<keras.src.callbacks.History at 0x7f56fc572740>"
            ]
          },
          "metadata": {},
          "execution_count": 13
        }
      ]
    },
    {
      "cell_type": "code",
      "source": [
        "# Check out X and y\n",
        "X, y"
      ],
      "metadata": {
        "colab": {
          "base_uri": "https://localhost:8080/"
        },
        "id": "FmcSXUmoCtOo",
        "outputId": "adaf8704-3beb-4e55-bde5-547f5030b0d8"
      },
      "execution_count": 14,
      "outputs": [
        {
          "output_type": "execute_result",
          "data": {
            "text/plain": [
              "(<tf.Tensor: shape=(8,), dtype=float32, numpy=array([-7., -4., -1.,  2.,  5.,  8., 11., 14.], dtype=float32)>,\n",
              " <tf.Tensor: shape=(8,), dtype=float32, numpy=array([ 3.,  6.,  9., 12., 15., 18., 21., 24.], dtype=float32)>)"
            ]
          },
          "metadata": {},
          "execution_count": 14
        }
      ]
    },
    {
      "cell_type": "code",
      "source": [
        "# Try and make a prediction using our model\n",
        "y_pred = model.predict([17.0])\n",
        "y_pred"
      ],
      "metadata": {
        "colab": {
          "base_uri": "https://localhost:8080/"
        },
        "id": "S1pzNPMMXADd",
        "outputId": "0aca9532-8fd9-4363-eb7b-bc2fce65798f"
      },
      "execution_count": 15,
      "outputs": [
        {
          "output_type": "stream",
          "name": "stdout",
          "text": [
            "1/1 [==============================] - 0s 144ms/step\n"
          ]
        },
        {
          "output_type": "execute_result",
          "data": {
            "text/plain": [
              "array([[10.606835]], dtype=float32)"
            ]
          },
          "metadata": {},
          "execution_count": 15
        }
      ]
    },
    {
      "cell_type": "code",
      "source": [
        "y_pred + 16"
      ],
      "metadata": {
        "colab": {
          "base_uri": "https://localhost:8080/"
        },
        "id": "k1B_8r3wXK2s",
        "outputId": "616474c0-1e32-429f-e0db-0f98b3cdba5f"
      },
      "execution_count": 16,
      "outputs": [
        {
          "output_type": "execute_result",
          "data": {
            "text/plain": [
              "array([[26.606834]], dtype=float32)"
            ]
          },
          "metadata": {},
          "execution_count": 16
        }
      ]
    },
    {
      "cell_type": "markdown",
      "source": [
        "## Improving our model\n",
        "\n",
        "We can improve our model by altering the steps we took to create a model.\n",
        "\n",
        "1. **Creating a model** - here we might add more layers,\n",
        "increase the number of hidden units (all called neurons)\n",
        "within each of the hidden layers, change the activation function of each layer.\n",
        "2. **Compiling a model** - here we might change the optimization function or perhaps the **learning rate** of the optimization function.\n",
        "3. **Fittin a model** - here we might fit a model for more **epochs** (leave it training for longer) or on more data (give the model more examples to learn from).\n",
        "\n"
      ],
      "metadata": {
        "id": "nKk4f-nLXeLI"
      }
    },
    {
      "cell_type": "code",
      "source": [
        "# Let's rebuild our model\n",
        "\n",
        "# 1. Create the model\n",
        "model = tf.keras.Sequential([\n",
        "    tf.keras.layers.Dense(1)\n",
        "])\n",
        "\n",
        "# 2. Compile the model\n",
        "model.compile(loss=tf.keras.losses.mae,\n",
        "              optimizer=tf.keras.optimizers.SGD(),\n",
        "              metrics=[\"mae\"]\n",
        "              )\n",
        "\n",
        "# 3. Fit the model (this time we'll train for longer)\n",
        "model.fit(tf.expand_dims(X, axis=1), y, epochs=100)"
      ],
      "metadata": {
        "colab": {
          "base_uri": "https://localhost:8080/"
        },
        "id": "hnGNg0vrbEzb",
        "outputId": "6d378419-b9a3-4302-91ef-6ef55ce789d1"
      },
      "execution_count": 17,
      "outputs": [
        {
          "output_type": "stream",
          "name": "stdout",
          "text": [
            "Epoch 1/100\n",
            "1/1 [==============================] - 1s 926ms/step - loss: 18.5903 - mae: 18.5903\n",
            "Epoch 2/100\n",
            "1/1 [==============================] - 0s 16ms/step - loss: 18.3091 - mae: 18.3091\n",
            "Epoch 3/100\n",
            "1/1 [==============================] - 0s 20ms/step - loss: 18.0278 - mae: 18.0278\n",
            "Epoch 4/100\n",
            "1/1 [==============================] - 0s 21ms/step - loss: 17.7466 - mae: 17.7466\n",
            "Epoch 5/100\n",
            "1/1 [==============================] - 0s 20ms/step - loss: 17.4653 - mae: 17.4653\n",
            "Epoch 6/100\n",
            "1/1 [==============================] - 0s 16ms/step - loss: 17.1841 - mae: 17.1841\n",
            "Epoch 7/100\n",
            "1/1 [==============================] - 0s 29ms/step - loss: 16.9028 - mae: 16.9028\n",
            "Epoch 8/100\n",
            "1/1 [==============================] - 0s 41ms/step - loss: 16.6216 - mae: 16.6216\n",
            "Epoch 9/100\n",
            "1/1 [==============================] - 0s 20ms/step - loss: 16.3403 - mae: 16.3403\n",
            "Epoch 10/100\n",
            "1/1 [==============================] - 0s 23ms/step - loss: 16.0591 - mae: 16.0591\n",
            "Epoch 11/100\n",
            "1/1 [==============================] - 0s 16ms/step - loss: 15.7778 - mae: 15.7778\n",
            "Epoch 12/100\n",
            "1/1 [==============================] - 0s 16ms/step - loss: 15.4966 - mae: 15.4966\n",
            "Epoch 13/100\n",
            "1/1 [==============================] - 0s 21ms/step - loss: 15.2153 - mae: 15.2153\n",
            "Epoch 14/100\n",
            "1/1 [==============================] - 0s 15ms/step - loss: 14.9341 - mae: 14.9341\n",
            "Epoch 15/100\n",
            "1/1 [==============================] - 0s 17ms/step - loss: 14.7160 - mae: 14.7160\n",
            "Epoch 16/100\n",
            "1/1 [==============================] - 0s 21ms/step - loss: 14.5835 - mae: 14.5835\n",
            "Epoch 17/100\n",
            "1/1 [==============================] - 0s 23ms/step - loss: 14.4510 - mae: 14.4510\n",
            "Epoch 18/100\n",
            "1/1 [==============================] - 0s 20ms/step - loss: 14.3185 - mae: 14.3185\n",
            "Epoch 19/100\n",
            "1/1 [==============================] - 0s 15ms/step - loss: 14.1860 - mae: 14.1860\n",
            "Epoch 20/100\n",
            "1/1 [==============================] - 0s 25ms/step - loss: 14.0535 - mae: 14.0535\n",
            "Epoch 21/100\n",
            "1/1 [==============================] - 0s 15ms/step - loss: 13.9210 - mae: 13.9210\n",
            "Epoch 22/100\n",
            "1/1 [==============================] - 0s 12ms/step - loss: 13.7885 - mae: 13.7885\n",
            "Epoch 23/100\n",
            "1/1 [==============================] - 0s 44ms/step - loss: 13.6560 - mae: 13.6560\n",
            "Epoch 24/100\n",
            "1/1 [==============================] - 0s 18ms/step - loss: 13.5235 - mae: 13.5235\n",
            "Epoch 25/100\n",
            "1/1 [==============================] - 0s 29ms/step - loss: 13.3910 - mae: 13.3910\n",
            "Epoch 26/100\n",
            "1/1 [==============================] - 0s 22ms/step - loss: 13.2585 - mae: 13.2585\n",
            "Epoch 27/100\n",
            "1/1 [==============================] - 0s 26ms/step - loss: 13.1260 - mae: 13.1260\n",
            "Epoch 28/100\n",
            "1/1 [==============================] - 0s 38ms/step - loss: 12.9935 - mae: 12.9935\n",
            "Epoch 29/100\n",
            "1/1 [==============================] - 0s 18ms/step - loss: 12.8610 - mae: 12.8610\n",
            "Epoch 30/100\n",
            "1/1 [==============================] - 0s 11ms/step - loss: 12.7285 - mae: 12.7285\n",
            "Epoch 31/100\n",
            "1/1 [==============================] - 0s 25ms/step - loss: 12.5960 - mae: 12.5960\n",
            "Epoch 32/100\n",
            "1/1 [==============================] - 0s 19ms/step - loss: 12.4635 - mae: 12.4635\n",
            "Epoch 33/100\n",
            "1/1 [==============================] - 0s 11ms/step - loss: 12.3310 - mae: 12.3310\n",
            "Epoch 34/100\n",
            "1/1 [==============================] - 0s 20ms/step - loss: 12.1985 - mae: 12.1985\n",
            "Epoch 35/100\n",
            "1/1 [==============================] - 0s 19ms/step - loss: 12.0660 - mae: 12.0660\n",
            "Epoch 36/100\n",
            "1/1 [==============================] - 0s 33ms/step - loss: 11.9335 - mae: 11.9335\n",
            "Epoch 37/100\n",
            "1/1 [==============================] - 0s 20ms/step - loss: 11.8010 - mae: 11.8010\n",
            "Epoch 38/100\n",
            "1/1 [==============================] - 0s 21ms/step - loss: 11.6685 - mae: 11.6685\n",
            "Epoch 39/100\n",
            "1/1 [==============================] - 0s 18ms/step - loss: 11.5360 - mae: 11.5360\n",
            "Epoch 40/100\n",
            "1/1 [==============================] - 0s 24ms/step - loss: 11.4035 - mae: 11.4035\n",
            "Epoch 41/100\n",
            "1/1 [==============================] - 0s 47ms/step - loss: 11.2710 - mae: 11.2710\n",
            "Epoch 42/100\n",
            "1/1 [==============================] - 0s 24ms/step - loss: 11.1385 - mae: 11.1385\n",
            "Epoch 43/100\n",
            "1/1 [==============================] - 0s 23ms/step - loss: 11.0060 - mae: 11.0060\n",
            "Epoch 44/100\n",
            "1/1 [==============================] - 0s 22ms/step - loss: 10.8735 - mae: 10.8735\n",
            "Epoch 45/100\n",
            "1/1 [==============================] - 0s 18ms/step - loss: 10.7410 - mae: 10.7410\n",
            "Epoch 46/100\n",
            "1/1 [==============================] - 0s 31ms/step - loss: 10.6085 - mae: 10.6085\n",
            "Epoch 47/100\n",
            "1/1 [==============================] - 0s 22ms/step - loss: 10.4760 - mae: 10.4760\n",
            "Epoch 48/100\n",
            "1/1 [==============================] - 0s 16ms/step - loss: 10.3435 - mae: 10.3435\n",
            "Epoch 49/100\n",
            "1/1 [==============================] - 0s 24ms/step - loss: 10.2110 - mae: 10.2110\n",
            "Epoch 50/100\n",
            "1/1 [==============================] - 0s 34ms/step - loss: 10.0785 - mae: 10.0785\n",
            "Epoch 51/100\n",
            "1/1 [==============================] - 0s 24ms/step - loss: 9.9460 - mae: 9.9460\n",
            "Epoch 52/100\n",
            "1/1 [==============================] - 0s 27ms/step - loss: 9.8135 - mae: 9.8135\n",
            "Epoch 53/100\n",
            "1/1 [==============================] - 0s 38ms/step - loss: 9.6810 - mae: 9.6810\n",
            "Epoch 54/100\n",
            "1/1 [==============================] - 0s 28ms/step - loss: 9.5485 - mae: 9.5485\n",
            "Epoch 55/100\n",
            "1/1 [==============================] - 0s 42ms/step - loss: 9.4160 - mae: 9.4160\n",
            "Epoch 56/100\n",
            "1/1 [==============================] - 0s 19ms/step - loss: 9.2835 - mae: 9.2835\n",
            "Epoch 57/100\n",
            "1/1 [==============================] - 0s 38ms/step - loss: 9.1510 - mae: 9.1510\n",
            "Epoch 58/100\n",
            "1/1 [==============================] - 0s 23ms/step - loss: 9.0185 - mae: 9.0185\n",
            "Epoch 59/100\n",
            "1/1 [==============================] - 0s 21ms/step - loss: 8.8860 - mae: 8.8860\n",
            "Epoch 60/100\n",
            "1/1 [==============================] - 0s 15ms/step - loss: 8.7535 - mae: 8.7535\n",
            "Epoch 61/100\n",
            "1/1 [==============================] - 0s 23ms/step - loss: 8.6210 - mae: 8.6210\n",
            "Epoch 62/100\n",
            "1/1 [==============================] - 0s 33ms/step - loss: 8.4885 - mae: 8.4885\n",
            "Epoch 63/100\n",
            "1/1 [==============================] - 0s 18ms/step - loss: 8.3560 - mae: 8.3560\n",
            "Epoch 64/100\n",
            "1/1 [==============================] - 0s 28ms/step - loss: 8.2235 - mae: 8.2235\n",
            "Epoch 65/100\n",
            "1/1 [==============================] - 0s 24ms/step - loss: 8.0910 - mae: 8.0910\n",
            "Epoch 66/100\n",
            "1/1 [==============================] - 0s 29ms/step - loss: 7.9585 - mae: 7.9585\n",
            "Epoch 67/100\n",
            "1/1 [==============================] - 0s 37ms/step - loss: 7.8260 - mae: 7.8260\n",
            "Epoch 68/100\n",
            "1/1 [==============================] - 0s 16ms/step - loss: 7.6935 - mae: 7.6935\n",
            "Epoch 69/100\n",
            "1/1 [==============================] - 0s 18ms/step - loss: 7.5610 - mae: 7.5610\n",
            "Epoch 70/100\n",
            "1/1 [==============================] - 0s 20ms/step - loss: 7.4285 - mae: 7.4285\n",
            "Epoch 71/100\n",
            "1/1 [==============================] - 0s 72ms/step - loss: 7.2960 - mae: 7.2960\n",
            "Epoch 72/100\n",
            "1/1 [==============================] - 0s 34ms/step - loss: 7.1635 - mae: 7.1635\n",
            "Epoch 73/100\n",
            "1/1 [==============================] - 0s 16ms/step - loss: 7.0310 - mae: 7.0310\n",
            "Epoch 74/100\n",
            "1/1 [==============================] - 0s 20ms/step - loss: 6.9788 - mae: 6.9788\n",
            "Epoch 75/100\n",
            "1/1 [==============================] - 0s 13ms/step - loss: 6.9731 - mae: 6.9731\n",
            "Epoch 76/100\n",
            "1/1 [==============================] - 0s 23ms/step - loss: 6.9675 - mae: 6.9675\n",
            "Epoch 77/100\n",
            "1/1 [==============================] - 0s 19ms/step - loss: 6.9619 - mae: 6.9619\n",
            "Epoch 78/100\n",
            "1/1 [==============================] - 0s 23ms/step - loss: 6.9563 - mae: 6.9563\n",
            "Epoch 79/100\n",
            "1/1 [==============================] - 0s 22ms/step - loss: 6.9506 - mae: 6.9506\n",
            "Epoch 80/100\n",
            "1/1 [==============================] - 0s 29ms/step - loss: 6.9450 - mae: 6.9450\n",
            "Epoch 81/100\n",
            "1/1 [==============================] - 0s 27ms/step - loss: 6.9394 - mae: 6.9394\n",
            "Epoch 82/100\n",
            "1/1 [==============================] - 0s 17ms/step - loss: 6.9338 - mae: 6.9338\n",
            "Epoch 83/100\n",
            "1/1 [==============================] - 0s 15ms/step - loss: 6.9281 - mae: 6.9281\n",
            "Epoch 84/100\n",
            "1/1 [==============================] - 0s 16ms/step - loss: 6.9225 - mae: 6.9225\n",
            "Epoch 85/100\n",
            "1/1 [==============================] - 0s 12ms/step - loss: 6.9169 - mae: 6.9169\n",
            "Epoch 86/100\n",
            "1/1 [==============================] - 0s 11ms/step - loss: 6.9113 - mae: 6.9113\n",
            "Epoch 87/100\n",
            "1/1 [==============================] - 0s 40ms/step - loss: 6.9056 - mae: 6.9056\n",
            "Epoch 88/100\n",
            "1/1 [==============================] - 0s 20ms/step - loss: 6.9000 - mae: 6.9000\n",
            "Epoch 89/100\n",
            "1/1 [==============================] - 0s 24ms/step - loss: 6.8944 - mae: 6.8944\n",
            "Epoch 90/100\n",
            "1/1 [==============================] - 0s 29ms/step - loss: 6.8888 - mae: 6.8888\n",
            "Epoch 91/100\n",
            "1/1 [==============================] - 0s 19ms/step - loss: 6.8831 - mae: 6.8831\n",
            "Epoch 92/100\n",
            "1/1 [==============================] - 0s 23ms/step - loss: 6.8775 - mae: 6.8775\n",
            "Epoch 93/100\n",
            "1/1 [==============================] - 0s 18ms/step - loss: 6.8719 - mae: 6.8719\n",
            "Epoch 94/100\n",
            "1/1 [==============================] - 0s 14ms/step - loss: 6.8663 - mae: 6.8663\n",
            "Epoch 95/100\n",
            "1/1 [==============================] - 0s 12ms/step - loss: 6.8606 - mae: 6.8606\n",
            "Epoch 96/100\n",
            "1/1 [==============================] - 0s 22ms/step - loss: 6.8550 - mae: 6.8550\n",
            "Epoch 97/100\n",
            "1/1 [==============================] - 0s 18ms/step - loss: 6.8494 - mae: 6.8494\n",
            "Epoch 98/100\n",
            "1/1 [==============================] - 0s 17ms/step - loss: 6.8438 - mae: 6.8438\n",
            "Epoch 99/100\n",
            "1/1 [==============================] - 0s 15ms/step - loss: 6.8381 - mae: 6.8381\n",
            "Epoch 100/100\n",
            "1/1 [==============================] - 0s 17ms/step - loss: 6.8325 - mae: 6.8325\n"
          ]
        },
        {
          "output_type": "execute_result",
          "data": {
            "text/plain": [
              "<keras.src.callbacks.History at 0x7f56fc154b20>"
            ]
          },
          "metadata": {},
          "execution_count": 17
        }
      ]
    },
    {
      "cell_type": "code",
      "source": [
        "# Remind ourselves of the data\n",
        "X, y"
      ],
      "metadata": {
        "colab": {
          "base_uri": "https://localhost:8080/"
        },
        "id": "_F6bdsh0c2Kc",
        "outputId": "c4366de9-265b-4874-9c7e-a18f616ce031"
      },
      "execution_count": 18,
      "outputs": [
        {
          "output_type": "execute_result",
          "data": {
            "text/plain": [
              "(<tf.Tensor: shape=(8,), dtype=float32, numpy=array([-7., -4., -1.,  2.,  5.,  8., 11., 14.], dtype=float32)>,\n",
              " <tf.Tensor: shape=(8,), dtype=float32, numpy=array([ 3.,  6.,  9., 12., 15., 18., 21., 24.], dtype=float32)>)"
            ]
          },
          "metadata": {},
          "execution_count": 18
        }
      ]
    },
    {
      "cell_type": "code",
      "source": [
        "# Let's see if our model's prediction has improved...\n",
        "model.predict([17.0])"
      ],
      "metadata": {
        "colab": {
          "base_uri": "https://localhost:8080/"
        },
        "id": "LjX3CCzhddVq",
        "outputId": "970c8185-8805-4218-af70-06cb0f86d6d9"
      },
      "execution_count": 19,
      "outputs": [
        {
          "output_type": "stream",
          "name": "stdout",
          "text": [
            "1/1 [==============================] - 0s 118ms/step\n"
          ]
        },
        {
          "output_type": "execute_result",
          "data": {
            "text/plain": [
              "array([[29.586027]], dtype=float32)"
            ]
          },
          "metadata": {},
          "execution_count": 19
        }
      ]
    },
    {
      "cell_type": "code",
      "source": [
        "# Let's rebuild our model\n",
        "\n",
        "# 1. Create the model\n",
        "model = tf.keras.Sequential([\n",
        "    tf.keras.layers.Dense(1),\n",
        "    tf.keras.layers.Dense(1)\n",
        "])\n",
        "\n",
        "# 2. Compile the model\n",
        "model.compile(loss=tf.keras.losses.mae,\n",
        "              optimizer=tf.keras.optimizers.SGD(),\n",
        "              metrics=[\"mae\"]\n",
        "              )\n",
        "\n",
        "# 3. Fit the model (this time we'll train for longer)\n",
        "model.fit(tf.expand_dims(X, axis=1), y, epochs=100)"
      ],
      "metadata": {
        "colab": {
          "base_uri": "https://localhost:8080/"
        },
        "id": "iE1C8D4Sdnwu",
        "outputId": "1a098223-a3ff-4a70-86f2-7eab282cc39b"
      },
      "execution_count": 20,
      "outputs": [
        {
          "output_type": "stream",
          "name": "stdout",
          "text": [
            "Epoch 1/100\n",
            "1/1 [==============================] - 1s 901ms/step - loss: 19.4350 - mae: 19.4350\n",
            "Epoch 2/100\n",
            "1/1 [==============================] - 0s 30ms/step - loss: 18.6713 - mae: 18.6713\n",
            "Epoch 3/100\n",
            "1/1 [==============================] - 0s 25ms/step - loss: 17.9786 - mae: 17.9786\n",
            "Epoch 4/100\n",
            "1/1 [==============================] - 0s 23ms/step - loss: 17.3486 - mae: 17.3486\n",
            "Epoch 5/100\n",
            "1/1 [==============================] - 0s 22ms/step - loss: 16.7741 - mae: 16.7741\n",
            "Epoch 6/100\n",
            "1/1 [==============================] - 0s 21ms/step - loss: 16.2482 - mae: 16.2482\n",
            "Epoch 7/100\n",
            "1/1 [==============================] - 0s 13ms/step - loss: 15.7649 - mae: 15.7649\n",
            "Epoch 8/100\n",
            "1/1 [==============================] - 0s 13ms/step - loss: 15.3185 - mae: 15.3185\n",
            "Epoch 9/100\n",
            "1/1 [==============================] - 0s 13ms/step - loss: 14.9039 - mae: 14.9039\n",
            "Epoch 10/100\n",
            "1/1 [==============================] - 0s 13ms/step - loss: 14.6372 - mae: 14.6372\n",
            "Epoch 11/100\n",
            "1/1 [==============================] - 0s 13ms/step - loss: 14.4677 - mae: 14.4677\n",
            "Epoch 12/100\n",
            "1/1 [==============================] - 0s 12ms/step - loss: 14.3042 - mae: 14.3042\n",
            "Epoch 13/100\n",
            "1/1 [==============================] - 0s 12ms/step - loss: 14.1458 - mae: 14.1458\n",
            "Epoch 14/100\n",
            "1/1 [==============================] - 0s 20ms/step - loss: 13.9917 - mae: 13.9917\n",
            "Epoch 15/100\n",
            "1/1 [==============================] - 0s 14ms/step - loss: 13.8412 - mae: 13.8412\n",
            "Epoch 16/100\n",
            "1/1 [==============================] - 0s 47ms/step - loss: 13.6935 - mae: 13.6935\n",
            "Epoch 17/100\n",
            "1/1 [==============================] - 0s 31ms/step - loss: 13.5479 - mae: 13.5479\n",
            "Epoch 18/100\n",
            "1/1 [==============================] - 0s 37ms/step - loss: 13.4036 - mae: 13.4036\n",
            "Epoch 19/100\n",
            "1/1 [==============================] - 0s 32ms/step - loss: 13.2599 - mae: 13.2599\n",
            "Epoch 20/100\n",
            "1/1 [==============================] - 0s 32ms/step - loss: 13.1162 - mae: 13.1162\n",
            "Epoch 21/100\n",
            "1/1 [==============================] - 0s 16ms/step - loss: 12.9716 - mae: 12.9716\n",
            "Epoch 22/100\n",
            "1/1 [==============================] - 0s 27ms/step - loss: 12.8256 - mae: 12.8256\n",
            "Epoch 23/100\n",
            "1/1 [==============================] - 0s 22ms/step - loss: 12.6773 - mae: 12.6773\n",
            "Epoch 24/100\n",
            "1/1 [==============================] - 0s 17ms/step - loss: 12.5261 - mae: 12.5261\n",
            "Epoch 25/100\n",
            "1/1 [==============================] - 0s 25ms/step - loss: 12.3712 - mae: 12.3712\n",
            "Epoch 26/100\n",
            "1/1 [==============================] - 0s 19ms/step - loss: 12.2119 - mae: 12.2119\n",
            "Epoch 27/100\n",
            "1/1 [==============================] - 0s 20ms/step - loss: 12.0473 - mae: 12.0473\n",
            "Epoch 28/100\n",
            "1/1 [==============================] - 0s 16ms/step - loss: 11.8767 - mae: 11.8767\n",
            "Epoch 29/100\n",
            "1/1 [==============================] - 0s 27ms/step - loss: 11.6993 - mae: 11.6993\n",
            "Epoch 30/100\n",
            "1/1 [==============================] - 0s 29ms/step - loss: 11.5141 - mae: 11.5141\n",
            "Epoch 31/100\n",
            "1/1 [==============================] - 0s 63ms/step - loss: 11.3202 - mae: 11.3202\n",
            "Epoch 32/100\n",
            "1/1 [==============================] - 0s 31ms/step - loss: 11.1168 - mae: 11.1168\n",
            "Epoch 33/100\n",
            "1/1 [==============================] - 0s 15ms/step - loss: 10.9028 - mae: 10.9028\n",
            "Epoch 34/100\n",
            "1/1 [==============================] - 0s 12ms/step - loss: 10.6771 - mae: 10.6771\n",
            "Epoch 35/100\n",
            "1/1 [==============================] - 0s 55ms/step - loss: 10.4387 - mae: 10.4387\n",
            "Epoch 36/100\n",
            "1/1 [==============================] - 0s 17ms/step - loss: 10.1864 - mae: 10.1864\n",
            "Epoch 37/100\n",
            "1/1 [==============================] - 0s 25ms/step - loss: 9.9188 - mae: 9.9188\n",
            "Epoch 38/100\n",
            "1/1 [==============================] - 0s 22ms/step - loss: 9.6348 - mae: 9.6348\n",
            "Epoch 39/100\n",
            "1/1 [==============================] - 0s 30ms/step - loss: 9.3329 - mae: 9.3329\n",
            "Epoch 40/100\n",
            "1/1 [==============================] - 0s 23ms/step - loss: 9.0115 - mae: 9.0115\n",
            "Epoch 41/100\n",
            "1/1 [==============================] - 0s 13ms/step - loss: 8.6691 - mae: 8.6691\n",
            "Epoch 42/100\n",
            "1/1 [==============================] - 0s 13ms/step - loss: 8.3041 - mae: 8.3041\n",
            "Epoch 43/100\n",
            "1/1 [==============================] - 0s 16ms/step - loss: 7.9144 - mae: 7.9144\n",
            "Epoch 44/100\n",
            "1/1 [==============================] - 0s 13ms/step - loss: 7.4983 - mae: 7.4983\n",
            "Epoch 45/100\n",
            "1/1 [==============================] - 0s 20ms/step - loss: 7.1236 - mae: 7.1236\n",
            "Epoch 46/100\n",
            "1/1 [==============================] - 0s 19ms/step - loss: 7.1110 - mae: 7.1110\n",
            "Epoch 47/100\n",
            "1/1 [==============================] - 0s 21ms/step - loss: 7.0983 - mae: 7.0983\n",
            "Epoch 48/100\n",
            "1/1 [==============================] - 0s 25ms/step - loss: 7.0856 - mae: 7.0856\n",
            "Epoch 49/100\n",
            "1/1 [==============================] - 0s 12ms/step - loss: 7.0730 - mae: 7.0730\n",
            "Epoch 50/100\n",
            "1/1 [==============================] - 0s 16ms/step - loss: 7.0603 - mae: 7.0603\n",
            "Epoch 51/100\n",
            "1/1 [==============================] - 0s 16ms/step - loss: 7.0475 - mae: 7.0475\n",
            "Epoch 52/100\n",
            "1/1 [==============================] - 0s 11ms/step - loss: 7.0348 - mae: 7.0348\n",
            "Epoch 53/100\n",
            "1/1 [==============================] - 0s 11ms/step - loss: 7.0220 - mae: 7.0220\n",
            "Epoch 54/100\n",
            "1/1 [==============================] - 0s 10ms/step - loss: 7.0092 - mae: 7.0092\n",
            "Epoch 55/100\n",
            "1/1 [==============================] - 0s 22ms/step - loss: 6.9964 - mae: 6.9964\n",
            "Epoch 56/100\n",
            "1/1 [==============================] - 0s 29ms/step - loss: 6.9835 - mae: 6.9835\n",
            "Epoch 57/100\n",
            "1/1 [==============================] - 0s 20ms/step - loss: 6.9706 - mae: 6.9706\n",
            "Epoch 58/100\n",
            "1/1 [==============================] - 0s 16ms/step - loss: 6.9577 - mae: 6.9577\n",
            "Epoch 59/100\n",
            "1/1 [==============================] - 0s 12ms/step - loss: 6.9448 - mae: 6.9448\n",
            "Epoch 60/100\n",
            "1/1 [==============================] - 0s 13ms/step - loss: 6.9318 - mae: 6.9318\n",
            "Epoch 61/100\n",
            "1/1 [==============================] - 0s 33ms/step - loss: 6.9188 - mae: 6.9188\n",
            "Epoch 62/100\n",
            "1/1 [==============================] - 0s 19ms/step - loss: 6.9057 - mae: 6.9057\n",
            "Epoch 63/100\n",
            "1/1 [==============================] - 0s 13ms/step - loss: 6.8926 - mae: 6.8926\n",
            "Epoch 64/100\n",
            "1/1 [==============================] - 0s 14ms/step - loss: 6.8794 - mae: 6.8794\n",
            "Epoch 65/100\n",
            "1/1 [==============================] - 0s 28ms/step - loss: 6.8662 - mae: 6.8662\n",
            "Epoch 66/100\n",
            "1/1 [==============================] - 0s 21ms/step - loss: 6.8530 - mae: 6.8530\n",
            "Epoch 67/100\n",
            "1/1 [==============================] - 0s 19ms/step - loss: 6.8397 - mae: 6.8397\n",
            "Epoch 68/100\n",
            "1/1 [==============================] - 0s 21ms/step - loss: 6.8264 - mae: 6.8264\n",
            "Epoch 69/100\n",
            "1/1 [==============================] - 0s 20ms/step - loss: 6.8130 - mae: 6.8130\n",
            "Epoch 70/100\n",
            "1/1 [==============================] - 0s 19ms/step - loss: 6.7996 - mae: 6.7996\n",
            "Epoch 71/100\n",
            "1/1 [==============================] - 0s 17ms/step - loss: 6.7861 - mae: 6.7861\n",
            "Epoch 72/100\n",
            "1/1 [==============================] - 0s 34ms/step - loss: 6.7725 - mae: 6.7725\n",
            "Epoch 73/100\n",
            "1/1 [==============================] - 0s 16ms/step - loss: 6.7589 - mae: 6.7589\n",
            "Epoch 74/100\n",
            "1/1 [==============================] - 0s 18ms/step - loss: 6.7452 - mae: 6.7452\n",
            "Epoch 75/100\n",
            "1/1 [==============================] - 0s 28ms/step - loss: 6.7315 - mae: 6.7315\n",
            "Epoch 76/100\n",
            "1/1 [==============================] - 0s 26ms/step - loss: 6.7177 - mae: 6.7177\n",
            "Epoch 77/100\n",
            "1/1 [==============================] - 0s 24ms/step - loss: 6.7038 - mae: 6.7038\n",
            "Epoch 78/100\n",
            "1/1 [==============================] - 0s 25ms/step - loss: 6.6899 - mae: 6.6899\n",
            "Epoch 79/100\n",
            "1/1 [==============================] - 0s 22ms/step - loss: 6.6759 - mae: 6.6759\n",
            "Epoch 80/100\n",
            "1/1 [==============================] - 0s 19ms/step - loss: 6.6618 - mae: 6.6618\n",
            "Epoch 81/100\n",
            "1/1 [==============================] - 0s 20ms/step - loss: 6.6477 - mae: 6.6477\n",
            "Epoch 82/100\n",
            "1/1 [==============================] - 0s 21ms/step - loss: 6.6335 - mae: 6.6335\n",
            "Epoch 83/100\n",
            "1/1 [==============================] - 0s 14ms/step - loss: 6.6192 - mae: 6.6192\n",
            "Epoch 84/100\n",
            "1/1 [==============================] - 0s 20ms/step - loss: 6.6140 - mae: 6.6140\n",
            "Epoch 85/100\n",
            "1/1 [==============================] - 0s 12ms/step - loss: 6.6082 - mae: 6.6082\n",
            "Epoch 86/100\n",
            "1/1 [==============================] - 0s 27ms/step - loss: 6.5943 - mae: 6.5943\n",
            "Epoch 87/100\n",
            "1/1 [==============================] - 0s 20ms/step - loss: 6.5803 - mae: 6.5803\n",
            "Epoch 88/100\n",
            "1/1 [==============================] - 0s 14ms/step - loss: 6.5661 - mae: 6.5661\n",
            "Epoch 89/100\n",
            "1/1 [==============================] - 0s 32ms/step - loss: 6.5519 - mae: 6.5519\n",
            "Epoch 90/100\n",
            "1/1 [==============================] - 0s 20ms/step - loss: 6.5376 - mae: 6.5376\n",
            "Epoch 91/100\n",
            "1/1 [==============================] - 0s 21ms/step - loss: 6.5233 - mae: 6.5233\n",
            "Epoch 92/100\n",
            "1/1 [==============================] - 0s 41ms/step - loss: 6.5088 - mae: 6.5088\n",
            "Epoch 93/100\n",
            "1/1 [==============================] - 0s 23ms/step - loss: 6.4942 - mae: 6.4942\n",
            "Epoch 94/100\n",
            "1/1 [==============================] - 0s 11ms/step - loss: 6.4796 - mae: 6.4796\n",
            "Epoch 95/100\n",
            "1/1 [==============================] - 0s 49ms/step - loss: 6.4648 - mae: 6.4648\n",
            "Epoch 96/100\n",
            "1/1 [==============================] - 0s 26ms/step - loss: 6.4500 - mae: 6.4500\n",
            "Epoch 97/100\n",
            "1/1 [==============================] - 0s 10ms/step - loss: 6.4350 - mae: 6.4350\n",
            "Epoch 98/100\n",
            "1/1 [==============================] - 0s 12ms/step - loss: 6.4199 - mae: 6.4199\n",
            "Epoch 99/100\n",
            "1/1 [==============================] - 0s 24ms/step - loss: 6.4142 - mae: 6.4142\n",
            "Epoch 100/100\n",
            "1/1 [==============================] - 0s 12ms/step - loss: 6.4113 - mae: 6.4113\n"
          ]
        },
        {
          "output_type": "execute_result",
          "data": {
            "text/plain": [
              "<keras.src.callbacks.History at 0x7f56fc242a70>"
            ]
          },
          "metadata": {},
          "execution_count": 20
        }
      ]
    },
    {
      "cell_type": "code",
      "source": [
        "model.predict([17.0])"
      ],
      "metadata": {
        "colab": {
          "base_uri": "https://localhost:8080/"
        },
        "id": "kvW8PW39eCmT",
        "outputId": "3e70a444-c2ed-4fc3-b35e-0e959a697553"
      },
      "execution_count": 21,
      "outputs": [
        {
          "output_type": "stream",
          "name": "stdout",
          "text": [
            "1/1 [==============================] - 0s 143ms/step\n"
          ]
        },
        {
          "output_type": "execute_result",
          "data": {
            "text/plain": [
              "array([[30.21119]], dtype=float32)"
            ]
          },
          "metadata": {},
          "execution_count": 21
        }
      ]
    },
    {
      "cell_type": "code",
      "source": [
        "# Let's rebuild our model\n",
        "\n",
        "# 1. Create the model\n",
        "model = tf.keras.Sequential([\n",
        "    tf.keras.layers.Dense(50, activation=None),\n",
        "    tf.keras.layers.Dense(1)\n",
        "])\n",
        "\n",
        "# 2. Compile the model\n",
        "model.compile(loss=tf.keras.losses.mae,\n",
        "              optimizer=tf.keras.optimizers.Adam(learning_rate=0.01),\n",
        "              metrics=[\"mae\"]\n",
        "              )\n",
        "\n",
        "# 3. Fit the model (this time we'll train for longer)\n",
        "model.fit(tf.expand_dims(X, axis=1), y, epochs=100)"
      ],
      "metadata": {
        "colab": {
          "base_uri": "https://localhost:8080/"
        },
        "id": "IM36QafxeHn9",
        "outputId": "177d4472-02a8-4a9d-d369-0e3c16c85a67"
      },
      "execution_count": 22,
      "outputs": [
        {
          "output_type": "stream",
          "name": "stdout",
          "text": [
            "Epoch 1/100\n",
            "1/1 [==============================] - 2s 2s/step - loss: 12.1610 - mae: 12.1610\n",
            "Epoch 2/100\n",
            "1/1 [==============================] - 0s 33ms/step - loss: 11.4371 - mae: 11.4371\n",
            "Epoch 3/100\n",
            "1/1 [==============================] - 0s 17ms/step - loss: 10.6972 - mae: 10.6972\n",
            "Epoch 4/100\n",
            "1/1 [==============================] - 0s 37ms/step - loss: 9.9408 - mae: 9.9408\n",
            "Epoch 5/100\n",
            "1/1 [==============================] - 0s 14ms/step - loss: 9.1671 - mae: 9.1671\n",
            "Epoch 6/100\n",
            "1/1 [==============================] - 0s 21ms/step - loss: 8.3744 - mae: 8.3744\n",
            "Epoch 7/100\n",
            "1/1 [==============================] - 0s 24ms/step - loss: 7.5610 - mae: 7.5610\n",
            "Epoch 8/100\n",
            "1/1 [==============================] - 0s 18ms/step - loss: 6.9098 - mae: 6.9098\n",
            "Epoch 9/100\n",
            "1/1 [==============================] - 0s 20ms/step - loss: 7.0021 - mae: 7.0021\n",
            "Epoch 10/100\n",
            "1/1 [==============================] - 0s 22ms/step - loss: 7.2836 - mae: 7.2836\n",
            "Epoch 11/100\n",
            "1/1 [==============================] - 0s 23ms/step - loss: 7.4327 - mae: 7.4327\n",
            "Epoch 12/100\n",
            "1/1 [==============================] - 0s 19ms/step - loss: 7.5462 - mae: 7.5462\n",
            "Epoch 13/100\n",
            "1/1 [==============================] - 0s 18ms/step - loss: 7.4315 - mae: 7.4315\n",
            "Epoch 14/100\n",
            "1/1 [==============================] - 0s 19ms/step - loss: 7.1744 - mae: 7.1744\n",
            "Epoch 15/100\n",
            "1/1 [==============================] - 0s 36ms/step - loss: 6.9369 - mae: 6.9369\n",
            "Epoch 16/100\n",
            "1/1 [==============================] - 0s 23ms/step - loss: 6.6683 - mae: 6.6683\n",
            "Epoch 17/100\n",
            "1/1 [==============================] - 0s 13ms/step - loss: 6.3752 - mae: 6.3752\n",
            "Epoch 18/100\n",
            "1/1 [==============================] - 0s 15ms/step - loss: 6.2050 - mae: 6.2050\n",
            "Epoch 19/100\n",
            "1/1 [==============================] - 0s 18ms/step - loss: 6.1518 - mae: 6.1518\n",
            "Epoch 20/100\n",
            "1/1 [==============================] - 0s 17ms/step - loss: 6.2623 - mae: 6.2623\n",
            "Epoch 21/100\n",
            "1/1 [==============================] - 0s 21ms/step - loss: 6.3189 - mae: 6.3189\n",
            "Epoch 22/100\n",
            "1/1 [==============================] - 0s 20ms/step - loss: 6.2562 - mae: 6.2562\n",
            "Epoch 23/100\n",
            "1/1 [==============================] - 0s 39ms/step - loss: 6.0903 - mae: 6.0903\n",
            "Epoch 24/100\n",
            "1/1 [==============================] - 0s 23ms/step - loss: 5.8330 - mae: 5.8330\n",
            "Epoch 25/100\n",
            "1/1 [==============================] - 0s 33ms/step - loss: 5.6489 - mae: 5.6489\n",
            "Epoch 26/100\n",
            "1/1 [==============================] - 0s 25ms/step - loss: 5.5377 - mae: 5.5377\n",
            "Epoch 27/100\n",
            "1/1 [==============================] - 0s 40ms/step - loss: 5.5016 - mae: 5.5016\n",
            "Epoch 28/100\n",
            "1/1 [==============================] - 0s 27ms/step - loss: 5.5058 - mae: 5.5058\n",
            "Epoch 29/100\n",
            "1/1 [==============================] - 0s 18ms/step - loss: 5.4569 - mae: 5.4569\n",
            "Epoch 30/100\n",
            "1/1 [==============================] - 0s 15ms/step - loss: 5.3596 - mae: 5.3596\n",
            "Epoch 31/100\n",
            "1/1 [==============================] - 0s 19ms/step - loss: 5.2185 - mae: 5.2185\n",
            "Epoch 32/100\n",
            "1/1 [==============================] - 0s 18ms/step - loss: 5.0379 - mae: 5.0379\n",
            "Epoch 33/100\n",
            "1/1 [==============================] - 0s 31ms/step - loss: 4.8418 - mae: 4.8418\n",
            "Epoch 34/100\n",
            "1/1 [==============================] - 0s 22ms/step - loss: 4.7484 - mae: 4.7484\n",
            "Epoch 35/100\n",
            "1/1 [==============================] - 0s 23ms/step - loss: 4.6482 - mae: 4.6482\n",
            "Epoch 36/100\n",
            "1/1 [==============================] - 0s 22ms/step - loss: 4.5411 - mae: 4.5411\n",
            "Epoch 37/100\n",
            "1/1 [==============================] - 0s 21ms/step - loss: 4.4644 - mae: 4.4644\n",
            "Epoch 38/100\n",
            "1/1 [==============================] - 0s 19ms/step - loss: 4.2981 - mae: 4.2981\n",
            "Epoch 39/100\n",
            "1/1 [==============================] - 0s 23ms/step - loss: 4.1458 - mae: 4.1458\n",
            "Epoch 40/100\n",
            "1/1 [==============================] - 0s 34ms/step - loss: 3.9907 - mae: 3.9907\n",
            "Epoch 41/100\n",
            "1/1 [==============================] - 0s 19ms/step - loss: 3.8850 - mae: 3.8850\n",
            "Epoch 42/100\n",
            "1/1 [==============================] - 0s 29ms/step - loss: 3.7871 - mae: 3.7871\n",
            "Epoch 43/100\n",
            "1/1 [==============================] - 0s 29ms/step - loss: 3.6331 - mae: 3.6331\n",
            "Epoch 44/100\n",
            "1/1 [==============================] - 0s 17ms/step - loss: 3.4267 - mae: 3.4267\n",
            "Epoch 45/100\n",
            "1/1 [==============================] - 0s 27ms/step - loss: 3.2284 - mae: 3.2284\n",
            "Epoch 46/100\n",
            "1/1 [==============================] - 0s 24ms/step - loss: 3.0732 - mae: 3.0732\n",
            "Epoch 47/100\n",
            "1/1 [==============================] - 0s 40ms/step - loss: 2.9211 - mae: 2.9211\n",
            "Epoch 48/100\n",
            "1/1 [==============================] - 0s 21ms/step - loss: 2.7185 - mae: 2.7185\n",
            "Epoch 49/100\n",
            "1/1 [==============================] - 0s 26ms/step - loss: 2.5199 - mae: 2.5199\n",
            "Epoch 50/100\n",
            "1/1 [==============================] - 0s 22ms/step - loss: 2.3115 - mae: 2.3115\n",
            "Epoch 51/100\n",
            "1/1 [==============================] - 0s 27ms/step - loss: 2.0932 - mae: 2.0932\n",
            "Epoch 52/100\n",
            "1/1 [==============================] - 0s 21ms/step - loss: 1.9390 - mae: 1.9390\n",
            "Epoch 53/100\n",
            "1/1 [==============================] - 0s 21ms/step - loss: 1.7120 - mae: 1.7120\n",
            "Epoch 54/100\n",
            "1/1 [==============================] - 0s 19ms/step - loss: 1.4183 - mae: 1.4183\n",
            "Epoch 55/100\n",
            "1/1 [==============================] - 0s 25ms/step - loss: 1.1838 - mae: 1.1838\n",
            "Epoch 56/100\n",
            "1/1 [==============================] - 0s 18ms/step - loss: 0.9767 - mae: 0.9767\n",
            "Epoch 57/100\n",
            "1/1 [==============================] - 0s 38ms/step - loss: 0.6626 - mae: 0.6626\n",
            "Epoch 58/100\n",
            "1/1 [==============================] - 0s 20ms/step - loss: 0.4025 - mae: 0.4025\n",
            "Epoch 59/100\n",
            "1/1 [==============================] - 0s 19ms/step - loss: 0.1867 - mae: 0.1867\n",
            "Epoch 60/100\n",
            "1/1 [==============================] - 0s 24ms/step - loss: 0.1795 - mae: 0.1795\n",
            "Epoch 61/100\n",
            "1/1 [==============================] - 0s 30ms/step - loss: 0.4531 - mae: 0.4531\n",
            "Epoch 62/100\n",
            "1/1 [==============================] - 0s 29ms/step - loss: 0.5695 - mae: 0.5695\n",
            "Epoch 63/100\n",
            "1/1 [==============================] - 0s 23ms/step - loss: 0.7493 - mae: 0.7493\n",
            "Epoch 64/100\n",
            "1/1 [==============================] - 0s 19ms/step - loss: 0.7478 - mae: 0.7478\n",
            "Epoch 65/100\n",
            "1/1 [==============================] - 0s 27ms/step - loss: 0.8384 - mae: 0.8384\n",
            "Epoch 66/100\n",
            "1/1 [==============================] - 0s 33ms/step - loss: 0.8243 - mae: 0.8243\n",
            "Epoch 67/100\n",
            "1/1 [==============================] - 0s 25ms/step - loss: 0.7106 - mae: 0.7106\n",
            "Epoch 68/100\n",
            "1/1 [==============================] - 0s 22ms/step - loss: 0.7555 - mae: 0.7555\n",
            "Epoch 69/100\n",
            "1/1 [==============================] - 0s 26ms/step - loss: 0.6507 - mae: 0.6507\n",
            "Epoch 70/100\n",
            "1/1 [==============================] - 0s 23ms/step - loss: 0.3979 - mae: 0.3979\n",
            "Epoch 71/100\n",
            "1/1 [==============================] - 0s 30ms/step - loss: 0.3140 - mae: 0.3140\n",
            "Epoch 72/100\n",
            "1/1 [==============================] - 0s 35ms/step - loss: 0.1253 - mae: 0.1253\n",
            "Epoch 73/100\n",
            "1/1 [==============================] - 0s 44ms/step - loss: 0.0896 - mae: 0.0896\n",
            "Epoch 74/100\n",
            "1/1 [==============================] - 0s 50ms/step - loss: 0.2683 - mae: 0.2683\n",
            "Epoch 75/100\n",
            "1/1 [==============================] - 0s 21ms/step - loss: 0.2762 - mae: 0.2762\n",
            "Epoch 76/100\n",
            "1/1 [==============================] - 0s 31ms/step - loss: 0.4346 - mae: 0.4346\n",
            "Epoch 77/100\n",
            "1/1 [==============================] - 0s 34ms/step - loss: 0.4264 - mae: 0.4264\n",
            "Epoch 78/100\n",
            "1/1 [==============================] - 0s 35ms/step - loss: 0.3287 - mae: 0.3287\n",
            "Epoch 79/100\n",
            "1/1 [==============================] - 0s 30ms/step - loss: 0.3559 - mae: 0.3559\n",
            "Epoch 80/100\n",
            "1/1 [==============================] - 0s 25ms/step - loss: 0.2008 - mae: 0.2008\n",
            "Epoch 81/100\n",
            "1/1 [==============================] - 0s 28ms/step - loss: 0.2755 - mae: 0.2755\n",
            "Epoch 82/100\n",
            "1/1 [==============================] - 0s 26ms/step - loss: 0.1853 - mae: 0.1853\n",
            "Epoch 83/100\n",
            "1/1 [==============================] - 0s 26ms/step - loss: 0.2472 - mae: 0.2472\n",
            "Epoch 84/100\n",
            "1/1 [==============================] - 0s 25ms/step - loss: 0.3040 - mae: 0.3040\n",
            "Epoch 85/100\n",
            "1/1 [==============================] - 0s 42ms/step - loss: 0.2014 - mae: 0.2014\n",
            "Epoch 86/100\n",
            "1/1 [==============================] - 0s 29ms/step - loss: 0.4453 - mae: 0.4453\n",
            "Epoch 87/100\n",
            "1/1 [==============================] - 0s 27ms/step - loss: 0.4849 - mae: 0.4849\n",
            "Epoch 88/100\n",
            "1/1 [==============================] - 0s 35ms/step - loss: 0.2295 - mae: 0.2295\n",
            "Epoch 89/100\n",
            "1/1 [==============================] - 0s 18ms/step - loss: 0.3661 - mae: 0.3661\n",
            "Epoch 90/100\n",
            "1/1 [==============================] - 0s 24ms/step - loss: 0.5023 - mae: 0.5023\n",
            "Epoch 91/100\n",
            "1/1 [==============================] - 0s 23ms/step - loss: 0.3041 - mae: 0.3041\n",
            "Epoch 92/100\n",
            "1/1 [==============================] - 0s 32ms/step - loss: 0.1982 - mae: 0.1982\n",
            "Epoch 93/100\n",
            "1/1 [==============================] - 0s 17ms/step - loss: 0.3291 - mae: 0.3291\n",
            "Epoch 94/100\n",
            "1/1 [==============================] - 0s 15ms/step - loss: 0.1771 - mae: 0.1771\n",
            "Epoch 95/100\n",
            "1/1 [==============================] - 0s 25ms/step - loss: 0.2481 - mae: 0.2481\n",
            "Epoch 96/100\n",
            "1/1 [==============================] - 0s 25ms/step - loss: 0.2651 - mae: 0.2651\n",
            "Epoch 97/100\n",
            "1/1 [==============================] - 0s 20ms/step - loss: 0.0590 - mae: 0.0590\n",
            "Epoch 98/100\n",
            "1/1 [==============================] - 0s 24ms/step - loss: 0.0941 - mae: 0.0941\n",
            "Epoch 99/100\n",
            "1/1 [==============================] - 0s 40ms/step - loss: 0.1557 - mae: 0.1557\n",
            "Epoch 100/100\n",
            "1/1 [==============================] - 0s 38ms/step - loss: 0.1361 - mae: 0.1361\n"
          ]
        },
        {
          "output_type": "execute_result",
          "data": {
            "text/plain": [
              "<keras.src.callbacks.History at 0x7f56f4f04cd0>"
            ]
          },
          "metadata": {},
          "execution_count": 22
        }
      ]
    },
    {
      "cell_type": "code",
      "source": [
        "X, y"
      ],
      "metadata": {
        "colab": {
          "base_uri": "https://localhost:8080/"
        },
        "id": "ZIqYOGJ6g2xu",
        "outputId": "e225b794-8189-432a-a8c8-d419963930f3"
      },
      "execution_count": 23,
      "outputs": [
        {
          "output_type": "execute_result",
          "data": {
            "text/plain": [
              "(<tf.Tensor: shape=(8,), dtype=float32, numpy=array([-7., -4., -1.,  2.,  5.,  8., 11., 14.], dtype=float32)>,\n",
              " <tf.Tensor: shape=(8,), dtype=float32, numpy=array([ 3.,  6.,  9., 12., 15., 18., 21., 24.], dtype=float32)>)"
            ]
          },
          "metadata": {},
          "execution_count": 23
        }
      ]
    },
    {
      "cell_type": "code",
      "source": [
        "model.predict([17.0])"
      ],
      "metadata": {
        "colab": {
          "base_uri": "https://localhost:8080/"
        },
        "id": "Cm28xS9fevdU",
        "outputId": "7f5ee265-04f0-498b-e1f6-5c780222b8e1"
      },
      "execution_count": 24,
      "outputs": [
        {
          "output_type": "stream",
          "name": "stdout",
          "text": [
            "1/1 [==============================] - 0s 219ms/step\n"
          ]
        },
        {
          "output_type": "execute_result",
          "data": {
            "text/plain": [
              "array([[26.679203]], dtype=float32)"
            ]
          },
          "metadata": {},
          "execution_count": 24
        }
      ]
    },
    {
      "cell_type": "markdown",
      "source": [
        "## Evaluating a model\n",
        "\n",
        "In practice, a typical workflow you'll go through when building neural networks is:\n",
        "\n",
        "Build a model -> fit it -> evaluate it -> tweak a model -> fit it -> evaluate it ...\n"
      ],
      "metadata": {
        "id": "6Cy1pC2oe3Xw"
      }
    },
    {
      "cell_type": "markdown",
      "source": [
        "When it comes to evaluation... there are 3 words you should memorize:\n",
        "> \"Visualize, visualize, visualize:\"\n",
        "* The data - what data are we working with? what does it look like?\n",
        "* The model itself - what does our model look like?\n",
        "* The training of a model - how does a model perform while it learns?\n",
        "* The predictions of the model - how do the predictions of a model line up against the ground thruth?"
      ],
      "metadata": {
        "id": "Ols0r_9PbYC7"
      }
    },
    {
      "cell_type": "code",
      "source": [
        "# Make a bigger dataset\n",
        "X = tf.range(-100, 100, 4)\n",
        "X"
      ],
      "metadata": {
        "id": "RPMP8MEicAsn",
        "outputId": "7ed1b216-5403-440e-a3d2-b1226b01eaee",
        "colab": {
          "base_uri": "https://localhost:8080/"
        }
      },
      "execution_count": 25,
      "outputs": [
        {
          "output_type": "execute_result",
          "data": {
            "text/plain": [
              "<tf.Tensor: shape=(50,), dtype=int32, numpy=\n",
              "array([-100,  -96,  -92,  -88,  -84,  -80,  -76,  -72,  -68,  -64,  -60,\n",
              "        -56,  -52,  -48,  -44,  -40,  -36,  -32,  -28,  -24,  -20,  -16,\n",
              "        -12,   -8,   -4,    0,    4,    8,   12,   16,   20,   24,   28,\n",
              "         32,   36,   40,   44,   48,   52,   56,   60,   64,   68,   72,\n",
              "         76,   80,   84,   88,   92,   96], dtype=int32)>"
            ]
          },
          "metadata": {},
          "execution_count": 25
        }
      ]
    },
    {
      "cell_type": "code",
      "source": [
        "# Make a labels for the dataset\n",
        "y = X +10\n",
        "y"
      ],
      "metadata": {
        "id": "ra3GT-SVcND7",
        "outputId": "8782e8c3-3c12-4d4e-bbbc-67996d87ff98",
        "colab": {
          "base_uri": "https://localhost:8080/"
        }
      },
      "execution_count": 26,
      "outputs": [
        {
          "output_type": "execute_result",
          "data": {
            "text/plain": [
              "<tf.Tensor: shape=(50,), dtype=int32, numpy=\n",
              "array([-90, -86, -82, -78, -74, -70, -66, -62, -58, -54, -50, -46, -42,\n",
              "       -38, -34, -30, -26, -22, -18, -14, -10,  -6,  -2,   2,   6,  10,\n",
              "        14,  18,  22,  26,  30,  34,  38,  42,  46,  50,  54,  58,  62,\n",
              "        66,  70,  74,  78,  82,  86,  90,  94,  98, 102, 106], dtype=int32)>"
            ]
          },
          "metadata": {},
          "execution_count": 26
        }
      ]
    },
    {
      "cell_type": "code",
      "source": [
        "# Visualize the data\n",
        "import matplotlib.pyplot as plt\n",
        "plt.scatter(X, y)"
      ],
      "metadata": {
        "id": "2SThNmzncuJ8",
        "outputId": "5c682a89-23c9-498d-eeb1-9b7c1afb3d7d",
        "colab": {
          "base_uri": "https://localhost:8080/",
          "height": 447
        }
      },
      "execution_count": 27,
      "outputs": [
        {
          "output_type": "execute_result",
          "data": {
            "text/plain": [
              "<matplotlib.collections.PathCollection at 0x7f56f4e4ca30>"
            ]
          },
          "metadata": {},
          "execution_count": 27
        },
        {
          "output_type": "display_data",
          "data": {
            "text/plain": [
              "<Figure size 640x480 with 1 Axes>"
            ],
            "image/png": "[encoded data removed]"
          },
          "metadata": {}
        }
      ]
    },
    {
      "cell_type": "markdown",
      "source": [
        "### The 3 sets ...\n",
        "\n",
        "* **Training set** - the model learns from this data, which is typically 70-80% of the total data you have available.\n",
        "* **Validation set** - the model gets tuned on this data, which is typically 10-15% of the data available.\n",
        "* **Test set** - the model gets evaluated on this data to test what is has learned, this set is typically 10-15% of the total data available."
      ],
      "metadata": {
        "id": "DoiOoVZYc6UB"
      }
    },
    {
      "cell_type": "code",
      "source": [
        "# Check the length of how many sample we have\n",
        "len(X)"
      ],
      "metadata": {
        "id": "t2r6rZ2TdYKY",
        "outputId": "7278e08b-83ea-48e1-ff7f-4895e143b47f",
        "colab": {
          "base_uri": "https://localhost:8080/"
        }
      },
      "execution_count": 28,
      "outputs": [
        {
          "output_type": "execute_result",
          "data": {
            "text/plain": [
              "50"
            ]
          },
          "metadata": {},
          "execution_count": 28
        }
      ]
    },
    {
      "cell_type": "code",
      "source": [
        "# Split the data into train and test sets\n",
        "X_train = X[:40] # first 40 are training samples (80% of the data)\n",
        "y_train = y[:40]\n",
        "\n",
        "X_test = X[40:] # last 10 are testing samples (20% of the data)\n",
        "y_test = y[40:]\n",
        "\n",
        "len(X_train), len(X_test), len(y_train), len(y_test)"
      ],
      "metadata": {
        "id": "Sn40Cd8MekRT",
        "outputId": "f6a31386-2200-4291-bdb3-2980848ade13",
        "colab": {
          "base_uri": "https://localhost:8080/"
        }
      },
      "execution_count": 29,
      "outputs": [
        {
          "output_type": "execute_result",
          "data": {
            "text/plain": [
              "(40, 10, 40, 10)"
            ]
          },
          "metadata": {},
          "execution_count": 29
        }
      ]
    },
    {
      "cell_type": "markdown",
      "source": [
        "### Visualizing the data\n",
        "\n",
        "Now we've got our data in training and test sets...let's visualize it again!"
      ],
      "metadata": {
        "id": "rZAPNwd2fZGt"
      }
    },
    {
      "cell_type": "code",
      "source": [
        "plt.figure(figsize=(10,7))\n",
        "# Plot training data in blue\n",
        "plt.scatter(X_train, y_train, c=\"b\", label=\"Training data\")\n",
        "plt.scatter(X_test, y_test, c=\"g\", label=\"Testing data\")\n",
        "plt.legend();"
      ],
      "metadata": {
        "id": "_VWL7dGDfrUu",
        "outputId": "ef9c2d0f-534a-49ef-f7a3-49c661a5b3b6",
        "colab": {
          "base_uri": "https://localhost:8080/",
          "height": 599
        }
      },
      "execution_count": 30,
      "outputs": [
        {
          "output_type": "display_data",
          "data": {
            "text/plain": [
              "<Figure size 1000x700 with 1 Axes>"
            ],
            "image/png": "[encoded data removed]"
          },
          "metadata": {}
        }
      ]
    },
    {
      "cell_type": "code",
      "source": [
        "# Let's have a look at how to build a neural network for our data\n",
        "\n",
        "# 1. Create a model\n",
        "model = tf.keras.Sequential([\n",
        "    tf.keras.layers.Dense(1)\n",
        "])\n",
        "\n",
        "# 2. Compile the model\n",
        "model.compile(loss=tf.keras.losses.mae,\n",
        "              optimizer=tf.keras.optimizers.SGD(),\n",
        "              metrics=[\"mae\"]\n",
        "              )\n",
        "\n",
        "# 3. Fit the model\n",
        "# model.fit(X_train, y_train, epochs=100)"
      ],
      "metadata": {
        "id": "ODe2r9vWgEzC"
      },
      "execution_count": 31,
      "outputs": []
    },
    {
      "cell_type": "markdown",
      "source": [
        "# Vizualizing the model"
      ],
      "metadata": {
        "id": "WXM5LZjphqAT"
      }
    },
    {
      "cell_type": "code",
      "source": [
        "model.summary()"
      ],
      "metadata": {
        "id": "ux18eEj7hvQW",
        "outputId": "409b6a9b-3eef-4ff6-c788-912f3d129468",
        "colab": {
          "base_uri": "https://localhost:8080/",
          "height": 263
        }
      },
      "execution_count": 33,
      "outputs": [
        {
          "output_type": "error",
          "ename": "ValueError",
          "evalue": "This model has not yet been built. Build the model first by calling `build()` or by calling the model on a batch of data.",
          "traceback": [
            "\u001b[0;31m---------------------------------------------------------------------------\u001b[0m",
            "\u001b[0;31mValueError\u001b[0m                                Traceback (most recent call last)",
            "\u001b[0;32m<ipython-input-33-5f15418b3570>\u001b[0m in \u001b[0;36m<cell line: 1>\u001b[0;34m()\u001b[0m\n\u001b[0;32m----> 1\u001b[0;31m \u001b[0mmodel\u001b[0m\u001b[0;34m.\u001b[0m\u001b[0msummary\u001b[0m\u001b[0;34m(\u001b[0m\u001b[0;34m)\u001b[0m\u001b[0;34m\u001b[0m\u001b[0;34m\u001b[0m\u001b[0m\n\u001b[0m",
            "\u001b[0;32m/usr/local/lib/python3.10/dist-packages/keras/src/engine/training.py\u001b[0m in \u001b[0;36msummary\u001b[0;34m(self, line_length, positions, print_fn, expand_nested, show_trainable, layer_range)\u001b[0m\n\u001b[1;32m   3504\u001b[0m         \"\"\"\n\u001b[1;32m   3505\u001b[0m         \u001b[0;32mif\u001b[0m \u001b[0;32mnot\u001b[0m \u001b[0mself\u001b[0m\u001b[0;34m.\u001b[0m\u001b[0mbuilt\u001b[0m\u001b[0;34m:\u001b[0m\u001b[0;34m\u001b[0m\u001b[0;34m\u001b[0m\u001b[0m\n\u001b[0;32m-> 3506\u001b[0;31m             raise ValueError(\n\u001b[0m\u001b[1;32m   3507\u001b[0m                 \u001b[0;34m\"This model has not yet been built. \"\u001b[0m\u001b[0;34m\u001b[0m\u001b[0;34m\u001b[0m\u001b[0m\n\u001b[1;32m   3508\u001b[0m                 \u001b[0;34m\"Build the model first by calling `build()` or by calling \"\u001b[0m\u001b[0;34m\u001b[0m\u001b[0;34m\u001b[0m\u001b[0m\n",
            "\u001b[0;31mValueError\u001b[0m: This model has not yet been built. Build the model first by calling `build()` or by calling the model on a batch of data."
          ]
        }
      ]
    },
    {
      "cell_type": "code",
      "source": [
        "model.build()"
      ],
      "metadata": {
        "id": "8Aeoj04oh6Xy",
        "outputId": "5d576bbb-2eb2-4624-91ab-e9667a9c5b3d",
        "colab": {
          "base_uri": "https://localhost:8080/",
          "height": 263
        }
      },
      "execution_count": 34,
      "outputs": [
        {
          "output_type": "error",
          "ename": "ValueError",
          "evalue": "You must provide an `input_shape` argument.",
          "traceback": [
            "\u001b[0;31m---------------------------------------------------------------------------\u001b[0m",
            "\u001b[0;31mValueError\u001b[0m                                Traceback (most recent call last)",
            "\u001b[0;32m<ipython-input-34-2f52417d930d>\u001b[0m in \u001b[0;36m<cell line: 1>\u001b[0;34m()\u001b[0m\n\u001b[0;32m----> 1\u001b[0;31m \u001b[0mmodel\u001b[0m\u001b[0;34m.\u001b[0m\u001b[0mbuild\u001b[0m\u001b[0;34m(\u001b[0m\u001b[0;34m)\u001b[0m\u001b[0;34m\u001b[0m\u001b[0;34m\u001b[0m\u001b[0m\n\u001b[0m",
            "\u001b[0;32m/usr/local/lib/python3.10/dist-packages/keras/src/engine/sequential.py\u001b[0m in \u001b[0;36mbuild\u001b[0;34m(self, input_shape)\u001b[0m\n\u001b[1;32m    369\u001b[0m         \u001b[0;32melse\u001b[0m\u001b[0;34m:\u001b[0m\u001b[0;34m\u001b[0m\u001b[0;34m\u001b[0m\u001b[0m\n\u001b[1;32m    370\u001b[0m             \u001b[0;32mif\u001b[0m \u001b[0minput_shape\u001b[0m \u001b[0;32mis\u001b[0m \u001b[0;32mNone\u001b[0m\u001b[0;34m:\u001b[0m\u001b[0;34m\u001b[0m\u001b[0;34m\u001b[0m\u001b[0m\n\u001b[0;32m--> 371\u001b[0;31m                 \u001b[0;32mraise\u001b[0m \u001b[0mValueError\u001b[0m\u001b[0;34m(\u001b[0m\u001b[0;34m\"You must provide an `input_shape` argument.\"\u001b[0m\u001b[0;34m)\u001b[0m\u001b[0;34m\u001b[0m\u001b[0;34m\u001b[0m\u001b[0m\n\u001b[0m\u001b[1;32m    372\u001b[0m             \u001b[0mself\u001b[0m\u001b[0;34m.\u001b[0m\u001b[0m_build_graph_network_for_inferred_shape\u001b[0m\u001b[0;34m(\u001b[0m\u001b[0minput_shape\u001b[0m\u001b[0;34m)\u001b[0m\u001b[0;34m\u001b[0m\u001b[0;34m\u001b[0m\u001b[0m\n\u001b[1;32m    373\u001b[0m             \u001b[0;32mif\u001b[0m \u001b[0;32mnot\u001b[0m \u001b[0mself\u001b[0m\u001b[0;34m.\u001b[0m\u001b[0mbuilt\u001b[0m\u001b[0;34m:\u001b[0m\u001b[0;34m\u001b[0m\u001b[0;34m\u001b[0m\u001b[0m\n",
            "\u001b[0;31mValueError\u001b[0m: You must provide an `input_shape` argument."
          ]
        }
      ]
    },
    {
      "cell_type": "code",
      "source": [
        "# Let's create a model which builds automatically by defining the input_shape argument in the first layer\n",
        "tf.random.set_seed(42)\n",
        "\n",
        "# 1.Create a model (same as above)\n",
        "model = tf.keras.Sequential([\n",
        "        tf.keras.layers.Dense(100, input_shape=[1], name=\"input_layer\"),\n",
        "        tf.keras.layers.Dense(1, name=\"output_layer\")\n",
        "], name=\"model_1\")\n",
        "\n",
        "\n",
        "# 2. Compile the model\n",
        "model.compile(loss=tf.keras.losses.mae,\n",
        "              optimizer=tf.keras.optimizers.Adam(learning_rate=0.001),\n",
        "              metrics=[\"mae\"]\n",
        "              )\n",
        "\n",
        "# 3.Fit the model"
      ],
      "metadata": {
        "id": "8uYW2V9aiI2Z"
      },
      "execution_count": 35,
      "outputs": []
    },
    {
      "cell_type": "code",
      "source": [
        "model.summary()"
      ],
      "metadata": {
        "id": "BCmB82hDjecb",
        "outputId": "2afd6176-ee73-4563-e7bd-06c2d634ccf1",
        "colab": {
          "base_uri": "https://localhost:8080/"
        }
      },
      "execution_count": 36,
      "outputs": [
        {
          "output_type": "stream",
          "name": "stdout",
          "text": [
            "Model: \"model_1\"\n",
            "_________________________________________________________________\n",
            " Layer (type)                Output Shape              Param #   \n",
            "=================================================================\n",
            " input_layer (Dense)         (None, 100)               200       \n",
            "                                                                 \n",
            " output_layer (Dense)        (None, 1)                 101       \n",
            "                                                                 \n",
            "=================================================================\n",
            "Total params: 301 (1.18 KB)\n",
            "Trainable params: 301 (1.18 KB)\n",
            "Non-trainable params: 0 (0.00 Byte)\n",
            "_________________________________________________________________\n"
          ]
        }
      ]
    },
    {
      "cell_type": "markdown",
      "source": [
        "* Total params - total number of parameters in the model.\n",
        "* Trainable parameters - these are the parameters (patterns) the model can update as it trains.\n",
        "* Non-trainable params -  these parameters aren't updated during training (this is typical when you bring in already learnt patterns or parameters from another model during **transfer learning**)."
      ],
      "metadata": {
        "id": "QIHczXygjsMY"
      }
    },
    {
      "cell_type": "markdown",
      "source": [
        "** Resource: ** For a more in-depth overview of the trainable parameters within a layer, check out MIT's introduction to Deep learning."
      ],
      "metadata": {
        "id": "0LkoyAMjkJm8"
      }
    },
    {
      "cell_type": "markdown",
      "source": [
        "** Exercice:** Try playing around with the number of hiddden units in the dense layer, see how that effects the number of parameters (total and trainable) by calling model.summary()"
      ],
      "metadata": {
        "id": "fshRdUdRl3_b"
      }
    },
    {
      "cell_type": "code",
      "source": [
        "# Let's fit our model to the training data\n",
        "model.fit(X_train, y_train, epochs=500, verbose=0)"
      ],
      "metadata": {
        "id": "IeN5Jp8tmdAU",
        "outputId": "f4e79eca-b90b-4f47-cbaa-99933b3dfdbe",
        "colab": {
          "base_uri": "https://localhost:8080/"
        }
      },
      "execution_count": 37,
      "outputs": [
        {
          "output_type": "execute_result",
          "data": {
            "text/plain": [
              "<keras.src.callbacks.History at 0x7f56f4ee2cb0>"
            ]
          },
          "metadata": {},
          "execution_count": 37
        }
      ]
    },
    {
      "cell_type": "code",
      "source": [
        "# Get a summary of our model\n",
        "model.summary()"
      ],
      "metadata": {
        "id": "JwoTXIUqmvZM",
        "outputId": "1abf6397-b560-4bf7-fe9d-30ca4db5f10f",
        "colab": {
          "base_uri": "https://localhost:8080/"
        }
      },
      "execution_count": 38,
      "outputs": [
        {
          "output_type": "stream",
          "name": "stdout",
          "text": [
            "Model: \"model_1\"\n",
            "_________________________________________________________________\n",
            " Layer (type)                Output Shape              Param #   \n",
            "=================================================================\n",
            " input_layer (Dense)         (None, 100)               200       \n",
            "                                                                 \n",
            " output_layer (Dense)        (None, 1)                 101       \n",
            "                                                                 \n",
            "=================================================================\n",
            "Total params: 301 (1.18 KB)\n",
            "Trainable params: 301 (1.18 KB)\n",
            "Non-trainable params: 0 (0.00 Byte)\n",
            "_________________________________________________________________\n"
          ]
        }
      ]
    },
    {
      "cell_type": "code",
      "source": [
        "from tensorflow.keras.utils import plot_model\n",
        "\n",
        "plot_model(model=model,show_shapes=True)"
      ],
      "metadata": {
        "id": "QySB4jhmz2Xs",
        "outputId": "a53aef21-6755-459b-e808-a7c96b390f34",
        "colab": {
          "base_uri": "https://localhost:8080/",
          "height": 312
        }
      },
      "execution_count": 39,
      "outputs": [
        {
          "output_type": "execute_result",
          "data": {
            "image/png": "[encoded data removed]",
            "text/plain": [
              "<IPython.core.display.Image object>"
            ]
          },
          "metadata": {},
          "execution_count": 39
        }
      ]
    },
    {
      "cell_type": "markdown",
      "source": [
        "### Vizualizing our model's prediction\n",
        "\n",
        "To vizualize predictions, it's a good idea to plot them against the ground truth labels.\n",
        "\n",
        "Often you'll see this in the form of y_test or y_true versus y_pred (ground truth versus your model's preductions)."
      ],
      "metadata": {
        "id": "FGsLAlfl0chm"
      }
    },
    {
      "cell_type": "code",
      "source": [
        "# Make some predictions\n",
        "\n",
        "y_pred = model.predict(X_test)\n",
        "y_pred"
      ],
      "metadata": {
        "id": "yLezlH5T3bDw",
        "outputId": "bac6ceb5-2f2f-40f3-e11d-2400adfd19ed",
        "colab": {
          "base_uri": "https://localhost:8080/"
        }
      },
      "execution_count": 40,
      "outputs": [
        {
          "output_type": "stream",
          "name": "stderr",
          "text": [
            "WARNING:tensorflow:5 out of the last 5 calls to <function Model.make_predict_function.<locals>.predict_function at 0x7f56f4c17640> triggered tf.function retracing. Tracing is expensive and the excessive number of tracings could be due to (1) creating @tf.function repeatedly in a loop, (2) passing tensors with different shapes, (3) passing Python objects instead of tensors. For (1), please define your @tf.function outside of the loop. For (2), @tf.function has reduce_retracing=True option that can avoid unnecessary retracing. For (3), please refer to https://www.tensorflow.org/guide/function#controlling_retracing and https://www.tensorflow.org/api_docs/python/tf/function for  more details.\n"
          ]
        },
        {
          "output_type": "stream",
          "name": "stdout",
          "text": [
            "1/1 [==============================] - 0s 63ms/step\n"
          ]
        },
        {
          "output_type": "execute_result",
          "data": {
            "text/plain": [
              "array([[ 69.63892 ],\n",
              "       [ 73.61638 ],\n",
              "       [ 77.59386 ],\n",
              "       [ 81.57132 ],\n",
              "       [ 85.54878 ],\n",
              "       [ 89.526245],\n",
              "       [ 93.50371 ],\n",
              "       [ 97.481155],\n",
              "       [101.45863 ],\n",
              "       [105.4361  ]], dtype=float32)"
            ]
          },
          "metadata": {},
          "execution_count": 40
        }
      ]
    },
    {
      "cell_type": "code",
      "source": [
        "y_test"
      ],
      "metadata": {
        "id": "GFQT3C-33nXO",
        "outputId": "fb3b8d8f-2f78-46af-dad0-7f52cacab5aa",
        "colab": {
          "base_uri": "https://localhost:8080/"
        }
      },
      "execution_count": 41,
      "outputs": [
        {
          "output_type": "execute_result",
          "data": {
            "text/plain": [
              "<tf.Tensor: shape=(10,), dtype=int32, numpy=array([ 70,  74,  78,  82,  86,  90,  94,  98, 102, 106], dtype=int32)>"
            ]
          },
          "metadata": {},
          "execution_count": 41
        }
      ]
    },
    {
      "cell_type": "markdown",
      "source": [
        "**Note:** If you feel like you're going to reuse some kind of functionality in the future, it's a good idea to turn it into a function."
      ],
      "metadata": {
        "id": "GZIFMJRz3zTj"
      }
    },
    {
      "cell_type": "code",
      "source": [
        "# Let's create a plotting function\n",
        "def plot_predictions(train_data=X_train,\n",
        "                     train_labels=y_train,\n",
        "                     test_data=X_test,\n",
        "                     test_labels=y_test,\n",
        "                     predictions=y_pred):\n",
        "\n",
        "  \"\"\"\n",
        "  Plots training data, test data and compares predictions to ground truth labels.\n",
        "  \"\"\"\n",
        "  plt.figure(figsize=(10,7))\n",
        "  # Plot training data in blue\n",
        "  plt.scatter(train_data, train_labels, c=\"b\", label=\"Training data\")\n",
        "  # Plot testing data in green\n",
        "  plt.scatter(test_data, test_labels, c=\"g\", label=\"Testing data\")\n",
        "  # Plot model's predictions in red\n",
        "  plt.scatter(test_data, predictions, c=\"r\", label=\"Predictions\")\n",
        "  # Show the legend\n",
        "  plt.legend();\n"
      ],
      "metadata": {
        "id": "8wJ-6t0t4rfu"
      },
      "execution_count": 42,
      "outputs": []
    },
    {
      "cell_type": "code",
      "source": [
        "plot_predictions(train_data=X_train,\n",
        "                 train_labels=y_train,\n",
        "                 test_data=X_test,\n",
        "                 test_labels=y_test,\n",
        "                 predictions=y_pred)"
      ],
      "metadata": {
        "id": "mQqRrzVf6CWw",
        "outputId": "b587afca-7d66-4933-a75b-b00be13729b9",
        "colab": {
          "base_uri": "https://localhost:8080/",
          "height": 599
        }
      },
      "execution_count": 43,
      "outputs": [
        {
          "output_type": "display_data",
          "data": {
            "text/plain": [
              "<Figure size 1000x700 with 1 Axes>"
            ],
            "image/png": "[encoded data removed]"
          },
          "metadata": {}
        }
      ]
    },
    {
      "cell_type": "markdown",
      "source": [
        "### Evaluating our model's predictions with regression evaluation metrics\n",
        "\n",
        "Depending on the problem you're working on, there will be different evaluation metrics to evaluate your model's performance.\n",
        "\n",
        "Since we're working on a regression, two of the main metrics:\n",
        "* MAE - mean absolute error, \"on average, how wrong is each of my model's predictions\"\n",
        "* MSE - mean square error, \"square the average errors\""
      ],
      "metadata": {
        "id": "0o953hex6RCm"
      }
    },
    {
      "cell_type": "code",
      "source": [
        "# Evaluate the model on the test\n",
        "model.evaluate(X_test, y_test)"
      ],
      "metadata": {
        "id": "x9Fgw-E67Qtc",
        "outputId": "6ae09603-1e50-408a-cdf6-b1c6c5011c11",
        "colab": {
          "base_uri": "https://localhost:8080/"
        }
      },
      "execution_count": 44,
      "outputs": [
        {
          "output_type": "stream",
          "name": "stdout",
          "text": [
            "1/1 [==============================] - 0s 149ms/step - loss: 0.4625 - mae: 0.4625\n"
          ]
        },
        {
          "output_type": "execute_result",
          "data": {
            "text/plain": [
              "[0.4624900817871094, 0.4624900817871094]"
            ]
          },
          "metadata": {},
          "execution_count": 44
        }
      ]
    },
    {
      "cell_type": "code",
      "source": [
        "# Calculate the mean absolute error\n",
        "mae = tf.metrics.mean_absolute_error(y_true = y_test,\n",
        "                               y_pred = tf.constant(y_pred))\n",
        "mae"
      ],
      "metadata": {
        "id": "ngoJB_clmwg_",
        "outputId": "64606c57-e6d6-4db8-a4d6-367f42a12997",
        "colab": {
          "base_uri": "https://localhost:8080/"
        }
      },
      "execution_count": 45,
      "outputs": [
        {
          "output_type": "execute_result",
          "data": {
            "text/plain": [
              "<tf.Tensor: shape=(10,), dtype=float32, numpy=\n",
              "array([18.361076, 15.106897, 12.643686, 10.971472, 10.090243, 10.      ,\n",
              "       10.700742, 12.192462, 14.47518 , 17.548878], dtype=float32)>"
            ]
          },
          "metadata": {},
          "execution_count": 45
        }
      ]
    },
    {
      "cell_type": "code",
      "source": [
        "tf.constant(y_pred)"
      ],
      "metadata": {
        "id": "uf1W9j3F-45r",
        "outputId": "c869429d-324c-4377-b0da-4dfe0a03c40e",
        "colab": {
          "base_uri": "https://localhost:8080/"
        }
      },
      "execution_count": 46,
      "outputs": [
        {
          "output_type": "execute_result",
          "data": {
            "text/plain": [
              "<tf.Tensor: shape=(10, 1), dtype=float32, numpy=\n",
              "array([[ 69.63892 ],\n",
              "       [ 73.61638 ],\n",
              "       [ 77.59386 ],\n",
              "       [ 81.57132 ],\n",
              "       [ 85.54878 ],\n",
              "       [ 89.526245],\n",
              "       [ 93.50371 ],\n",
              "       [ 97.481155],\n",
              "       [101.45863 ],\n",
              "       [105.4361  ]], dtype=float32)>"
            ]
          },
          "metadata": {},
          "execution_count": 46
        }
      ]
    },
    {
      "cell_type": "code",
      "source": [
        "y_test"
      ],
      "metadata": {
        "id": "I12sxUlg-6YM",
        "outputId": "7915e80b-b0ee-4f31-940c-c6a65aa99d41",
        "colab": {
          "base_uri": "https://localhost:8080/"
        }
      },
      "execution_count": 47,
      "outputs": [
        {
          "output_type": "execute_result",
          "data": {
            "text/plain": [
              "<tf.Tensor: shape=(10,), dtype=int32, numpy=array([ 70,  74,  78,  82,  86,  90,  94,  98, 102, 106], dtype=int32)>"
            ]
          },
          "metadata": {},
          "execution_count": 47
        }
      ]
    },
    {
      "cell_type": "code",
      "source": [
        "tf.squeeze(y_pred)"
      ],
      "metadata": {
        "id": "AnFskpm_obqx",
        "outputId": "b251545e-3b22-408f-d772-1a57a5632755",
        "colab": {
          "base_uri": "https://localhost:8080/"
        }
      },
      "execution_count": 48,
      "outputs": [
        {
          "output_type": "execute_result",
          "data": {
            "text/plain": [
              "<tf.Tensor: shape=(10,), dtype=float32, numpy=\n",
              "array([ 69.63892 ,  73.61638 ,  77.59386 ,  81.57132 ,  85.54878 ,\n",
              "        89.526245,  93.50371 ,  97.481155, 101.45863 , 105.4361  ],\n",
              "      dtype=float32)>"
            ]
          },
          "metadata": {},
          "execution_count": 48
        }
      ]
    },
    {
      "cell_type": "code",
      "source": [
        "# Calculate the mean absolute error\n",
        "mae = tf.metrics.mean_absolute_error(y_true=y_test,\n",
        "                                     y_pred=tf.squeeze(y_pred))\n",
        "mae"
      ],
      "metadata": {
        "id": "OGj5biFl-7XE",
        "outputId": "e679d5f8-753d-44df-a71a-7bcc3bb63d08",
        "colab": {
          "base_uri": "https://localhost:8080/"
        }
      },
      "execution_count": 49,
      "outputs": [
        {
          "output_type": "execute_result",
          "data": {
            "text/plain": [
              "<tf.Tensor: shape=(), dtype=float32, numpy=0.46249008>"
            ]
          },
          "metadata": {},
          "execution_count": 49
        }
      ]
    },
    {
      "cell_type": "code",
      "source": [
        "# Calculat ethe mean square error\n",
        "mse = tf.keras.losses.MSE(y_true=y_test,\n",
        "                                   y_pred=tf.squeeze(y_pred))\n",
        "mse"
      ],
      "metadata": {
        "id": "w1WU4lJ_oZBu",
        "outputId": "f083f18d-447e-4fe3-8428-365c27050eca",
        "colab": {
          "base_uri": "https://localhost:8080/"
        }
      },
      "execution_count": 50,
      "outputs": [
        {
          "output_type": "execute_result",
          "data": {
            "text/plain": [
              "<tf.Tensor: shape=(), dtype=float32, numpy=0.21808724>"
            ]
          },
          "metadata": {},
          "execution_count": 50
        }
      ]
    },
    {
      "cell_type": "code",
      "source": [
        "# Make some fundtions to reuse MAE and MSE\n",
        "def mae(y_true, y_pred):\n",
        "  return tf.metrics.mean_absolute_error(y_true=y_test,\n",
        "                                        y_pred=tf.squeeze(y_pred))\n",
        "\n",
        "def mse(y_true, y_pred):\n",
        "  return tf.metrics.mean_squared_error(y_true=y_test,\n",
        "                                       y_pred=tf.squeeze(y_pred))"
      ],
      "metadata": {
        "id": "-_HEkR0MpndM"
      },
      "execution_count": 51,
      "outputs": []
    },
    {
      "cell_type": "markdown",
      "source": [
        "### Running experiments to improve our model\n",
        "\n",
        "```\n",
        "Build a model -> fit it -> evaluate it -> tweak it -> fit it -> evaluate it -> tweak it -> fit it -> evaluate it ...\n",
        "```\n",
        "\n",
        "1. Get more data - get more examples for our model to train on (more opportunities to learn patterns or relationships between features and labels).\n",
        "2. Make your model larger ( using a more complex model) - this might come in the form of more layers or more hidden units in each layer.\n",
        "3. Train for longer - give your model more of a chance to find patterns in the data.\n",
        "\n",
        "\n",
        "Let's do 3 modelling experiements:\n",
        "\n",
        "1. `model_1` - same as the original model, 1 layer, trained for 100 epochs.\n",
        "2. `model_2` - 2 layers, trained for 100 epochs\n",
        "3. `model_3` - 2 layers, trained for 500 epochs\n",
        "\n",
        "**Build model_1**"
      ],
      "metadata": {
        "id": "PvEdwDJEq-2m"
      }
    },
    {
      "cell_type": "code",
      "source": [
        "#Set random seed\n",
        "tf.random.set_seed(42)\n",
        "\n",
        "# 1. Create the model\n",
        "model_1 = tf.keras.Sequential([\n",
        "        tf.keras.layers.Dense(1, input_shape=[1], name=\"input_layer\"),\n",
        "\n",
        "])\n",
        "\n",
        "# 2. Compile the model\n",
        "model_1.compile(loss=tf.keras.losses.mae,\n",
        "                optimizer=tf.keras.optimizers.SGD(),\n",
        "                metrics=[\"mae\"])\n",
        "\n",
        "# 3. Fit the model\n",
        "model_1.fit(X_train, y_train, epochs=100)"
      ],
      "metadata": {
        "id": "_kd3vBHEsDNf",
        "outputId": "59715fb8-6ccf-4646-8e03-1cda5bb93c83",
        "colab": {
          "base_uri": "https://localhost:8080/"
        }
      },
      "execution_count": 52,
      "outputs": [
        {
          "output_type": "stream",
          "name": "stdout",
          "text": [
            "Epoch 1/100\n",
            "2/2 [==============================] - 0s 10ms/step - loss: 21.7347 - mae: 21.7347\n",
            "Epoch 2/100\n",
            "2/2 [==============================] - 0s 7ms/step - loss: 9.1158 - mae: 9.1158\n",
            "Epoch 3/100\n",
            "2/2 [==============================] - 0s 8ms/step - loss: 8.0158 - mae: 8.0158\n",
            "Epoch 4/100\n",
            "2/2 [==============================] - 0s 8ms/step - loss: 8.0857 - mae: 8.0857\n",
            "Epoch 5/100\n",
            "2/2 [==============================] - 0s 7ms/step - loss: 10.7409 - mae: 10.7409\n",
            "Epoch 6/100\n",
            "2/2 [==============================] - 0s 8ms/step - loss: 9.9345 - mae: 9.9345\n",
            "Epoch 7/100\n",
            "2/2 [==============================] - 0s 8ms/step - loss: 8.9918 - mae: 8.9918\n",
            "Epoch 8/100\n",
            "2/2 [==============================] - 0s 7ms/step - loss: 9.0791 - mae: 9.0791\n",
            "Epoch 9/100\n",
            "2/2 [==============================] - 0s 7ms/step - loss: 19.8078 - mae: 19.8078\n",
            "Epoch 10/100\n",
            "2/2 [==============================] - 0s 7ms/step - loss: 10.7013 - mae: 10.7013\n",
            "Epoch 11/100\n",
            "2/2 [==============================] - 0s 12ms/step - loss: 8.6278 - mae: 8.6278\n",
            "Epoch 12/100\n",
            "2/2 [==============================] - 0s 8ms/step - loss: 9.6174 - mae: 9.6174\n",
            "Epoch 13/100\n",
            "2/2 [==============================] - 0s 7ms/step - loss: 12.9023 - mae: 12.9023\n",
            "Epoch 14/100\n",
            "2/2 [==============================] - 0s 9ms/step - loss: 14.2690 - mae: 14.2690\n",
            "Epoch 15/100\n",
            "2/2 [==============================] - 0s 9ms/step - loss: 11.6759 - mae: 11.6759\n",
            "Epoch 16/100\n",
            "2/2 [==============================] - 0s 9ms/step - loss: 8.4600 - mae: 8.4600\n",
            "Epoch 17/100\n",
            "2/2 [==============================] - 0s 7ms/step - loss: 13.4505 - mae: 13.4505\n",
            "Epoch 18/100\n",
            "2/2 [==============================] - 0s 7ms/step - loss: 11.2325 - mae: 11.2325\n",
            "Epoch 19/100\n",
            "2/2 [==============================] - 0s 7ms/step - loss: 18.2907 - mae: 18.2907\n",
            "Epoch 20/100\n",
            "2/2 [==============================] - 0s 10ms/step - loss: 14.9970 - mae: 14.9970\n",
            "Epoch 21/100\n",
            "2/2 [==============================] - 0s 12ms/step - loss: 10.8701 - mae: 10.8701\n",
            "Epoch 22/100\n",
            "2/2 [==============================] - 0s 8ms/step - loss: 8.6239 - mae: 8.6239\n",
            "Epoch 23/100\n",
            "2/2 [==============================] - 0s 9ms/step - loss: 9.6900 - mae: 9.6900\n",
            "Epoch 24/100\n",
            "2/2 [==============================] - 0s 8ms/step - loss: 8.5820 - mae: 8.5820\n",
            "Epoch 25/100\n",
            "2/2 [==============================] - 0s 8ms/step - loss: 11.5952 - mae: 11.5952\n",
            "Epoch 26/100\n",
            "2/2 [==============================] - 0s 8ms/step - loss: 15.1335 - mae: 15.1335\n",
            "Epoch 27/100\n",
            "2/2 [==============================] - 0s 8ms/step - loss: 11.8788 - mae: 11.8788\n",
            "Epoch 28/100\n",
            "2/2 [==============================] - 0s 8ms/step - loss: 13.9237 - mae: 13.9237\n",
            "Epoch 29/100\n",
            "2/2 [==============================] - 0s 8ms/step - loss: 9.6062 - mae: 9.6062\n",
            "Epoch 30/100\n",
            "2/2 [==============================] - 0s 7ms/step - loss: 17.1819 - mae: 17.1819\n",
            "Epoch 31/100\n",
            "2/2 [==============================] - 0s 7ms/step - loss: 22.8786 - mae: 22.8786\n",
            "Epoch 32/100\n",
            "2/2 [==============================] - 0s 7ms/step - loss: 7.9144 - mae: 7.9144\n",
            "Epoch 33/100\n",
            "2/2 [==============================] - 0s 7ms/step - loss: 14.1305 - mae: 14.1305\n",
            "Epoch 34/100\n",
            "2/2 [==============================] - 0s 7ms/step - loss: 12.3748 - mae: 12.3748\n",
            "Epoch 35/100\n",
            "2/2 [==============================] - 0s 7ms/step - loss: 8.2607 - mae: 8.2607\n",
            "Epoch 36/100\n",
            "2/2 [==============================] - 0s 8ms/step - loss: 10.4814 - mae: 10.4814\n",
            "Epoch 37/100\n",
            "2/2 [==============================] - 0s 8ms/step - loss: 10.1265 - mae: 10.1265\n",
            "Epoch 38/100\n",
            "2/2 [==============================] - 0s 7ms/step - loss: 11.3206 - mae: 11.3206\n",
            "Epoch 39/100\n",
            "2/2 [==============================] - 0s 7ms/step - loss: 14.7529 - mae: 14.7529\n",
            "Epoch 40/100\n",
            "2/2 [==============================] - 0s 8ms/step - loss: 12.8832 - mae: 12.8832\n",
            "Epoch 41/100\n",
            "2/2 [==============================] - 0s 7ms/step - loss: 9.2727 - mae: 9.2727\n",
            "Epoch 42/100\n",
            "2/2 [==============================] - 0s 8ms/step - loss: 11.0018 - mae: 11.0018\n",
            "Epoch 43/100\n",
            "2/2 [==============================] - 0s 7ms/step - loss: 8.3320 - mae: 8.3320\n",
            "Epoch 44/100\n",
            "2/2 [==============================] - 0s 8ms/step - loss: 13.0470 - mae: 13.0470\n",
            "Epoch 45/100\n",
            "2/2 [==============================] - 0s 7ms/step - loss: 13.6736 - mae: 13.6736\n",
            "Epoch 46/100\n",
            "2/2 [==============================] - 0s 8ms/step - loss: 8.2837 - mae: 8.2837\n",
            "Epoch 47/100\n",
            "2/2 [==============================] - 0s 8ms/step - loss: 8.7227 - mae: 8.7227\n",
            "Epoch 48/100\n",
            "2/2 [==============================] - 0s 7ms/step - loss: 10.0228 - mae: 10.0228\n",
            "Epoch 49/100\n",
            "2/2 [==============================] - 0s 8ms/step - loss: 8.5077 - mae: 8.5077\n",
            "Epoch 50/100\n",
            "2/2 [==============================] - 0s 7ms/step - loss: 9.0131 - mae: 9.0131\n",
            "Epoch 51/100\n",
            "2/2 [==============================] - 0s 8ms/step - loss: 9.3716 - mae: 9.3716\n",
            "Epoch 52/100\n",
            "2/2 [==============================] - 0s 13ms/step - loss: 14.1699 - mae: 14.1699\n",
            "Epoch 53/100\n",
            "2/2 [==============================] - 0s 9ms/step - loss: 14.8845 - mae: 14.8845\n",
            "Epoch 54/100\n",
            "2/2 [==============================] - 0s 8ms/step - loss: 14.8234 - mae: 14.8234\n",
            "Epoch 55/100\n",
            "2/2 [==============================] - 0s 8ms/step - loss: 12.6047 - mae: 12.6047\n",
            "Epoch 56/100\n",
            "2/2 [==============================] - 0s 9ms/step - loss: 7.5932 - mae: 7.5932\n",
            "Epoch 57/100\n",
            "2/2 [==============================] - 0s 8ms/step - loss: 8.7877 - mae: 8.7877\n",
            "Epoch 58/100\n",
            "2/2 [==============================] - 0s 8ms/step - loss: 8.3760 - mae: 8.3760\n",
            "Epoch 59/100\n",
            "2/2 [==============================] - 0s 8ms/step - loss: 9.1728 - mae: 9.1728\n",
            "Epoch 60/100\n",
            "2/2 [==============================] - 0s 7ms/step - loss: 9.1152 - mae: 9.1152\n",
            "Epoch 61/100\n",
            "2/2 [==============================] - 0s 9ms/step - loss: 10.6537 - mae: 10.6537\n",
            "Epoch 62/100\n",
            "2/2 [==============================] - 0s 8ms/step - loss: 7.4344 - mae: 7.4344\n",
            "Epoch 63/100\n",
            "2/2 [==============================] - 0s 10ms/step - loss: 10.5280 - mae: 10.5280\n",
            "Epoch 64/100\n",
            "2/2 [==============================] - 0s 8ms/step - loss: 12.1371 - mae: 12.1371\n",
            "Epoch 65/100\n",
            "2/2 [==============================] - 0s 13ms/step - loss: 9.4595 - mae: 9.4595\n",
            "Epoch 66/100\n",
            "2/2 [==============================] - 0s 9ms/step - loss: 11.5437 - mae: 11.5437\n",
            "Epoch 67/100\n",
            "2/2 [==============================] - 0s 10ms/step - loss: 8.0204 - mae: 8.0204\n",
            "Epoch 68/100\n",
            "2/2 [==============================] - 0s 7ms/step - loss: 8.5541 - mae: 8.5541\n",
            "Epoch 69/100\n",
            "2/2 [==============================] - 0s 8ms/step - loss: 12.2240 - mae: 12.2240\n",
            "Epoch 70/100\n",
            "2/2 [==============================] - 0s 8ms/step - loss: 8.9373 - mae: 8.9373\n",
            "Epoch 71/100\n",
            "2/2 [==============================] - 0s 8ms/step - loss: 9.9107 - mae: 9.9107\n",
            "Epoch 72/100\n",
            "2/2 [==============================] - 0s 9ms/step - loss: 9.9540 - mae: 9.9540\n",
            "Epoch 73/100\n",
            "2/2 [==============================] - 0s 9ms/step - loss: 12.4057 - mae: 12.4057\n",
            "Epoch 74/100\n",
            "2/2 [==============================] - 0s 8ms/step - loss: 10.6037 - mae: 10.6037\n",
            "Epoch 75/100\n",
            "2/2 [==============================] - 0s 7ms/step - loss: 9.6109 - mae: 9.6109\n",
            "Epoch 76/100\n",
            "2/2 [==============================] - 0s 8ms/step - loss: 11.0703 - mae: 11.0703\n",
            "Epoch 77/100\n",
            "2/2 [==============================] - 0s 9ms/step - loss: 8.2609 - mae: 8.2609\n",
            "Epoch 78/100\n",
            "2/2 [==============================] - 0s 9ms/step - loss: 8.9382 - mae: 8.9382\n",
            "Epoch 79/100\n",
            "2/2 [==============================] - 0s 11ms/step - loss: 19.8349 - mae: 19.8349\n",
            "Epoch 80/100\n",
            "2/2 [==============================] - 0s 11ms/step - loss: 17.7772 - mae: 17.7772\n",
            "Epoch 81/100\n",
            "2/2 [==============================] - 0s 11ms/step - loss: 7.0929 - mae: 7.0929\n",
            "Epoch 82/100\n",
            "2/2 [==============================] - 0s 7ms/step - loss: 10.3853 - mae: 10.3853\n",
            "Epoch 83/100\n",
            "2/2 [==============================] - 0s 8ms/step - loss: 9.8041 - mae: 9.8041\n",
            "Epoch 84/100\n",
            "2/2 [==============================] - 0s 11ms/step - loss: 7.9462 - mae: 7.9462\n",
            "Epoch 85/100\n",
            "2/2 [==============================] - 0s 7ms/step - loss: 9.4626 - mae: 9.4626\n",
            "Epoch 86/100\n",
            "2/2 [==============================] - 0s 7ms/step - loss: 9.5047 - mae: 9.5047\n",
            "Epoch 87/100\n",
            "2/2 [==============================] - 0s 8ms/step - loss: 11.4586 - mae: 11.4586\n",
            "Epoch 88/100\n",
            "2/2 [==============================] - 0s 8ms/step - loss: 9.9559 - mae: 9.9559\n",
            "Epoch 89/100\n",
            "2/2 [==============================] - 0s 7ms/step - loss: 7.2505 - mae: 7.2505\n",
            "Epoch 90/100\n",
            "2/2 [==============================] - 0s 8ms/step - loss: 12.7212 - mae: 12.7212\n",
            "Epoch 91/100\n",
            "2/2 [==============================] - 0s 12ms/step - loss: 7.3184 - mae: 7.3184\n",
            "Epoch 92/100\n",
            "2/2 [==============================] - 0s 8ms/step - loss: 7.6838 - mae: 7.6838\n",
            "Epoch 93/100\n",
            "2/2 [==============================] - 0s 11ms/step - loss: 7.1138 - mae: 7.1138\n",
            "Epoch 94/100\n",
            "2/2 [==============================] - 0s 9ms/step - loss: 12.5660 - mae: 12.5660\n",
            "Epoch 95/100\n",
            "2/2 [==============================] - 0s 8ms/step - loss: 9.9403 - mae: 9.9403\n",
            "Epoch 96/100\n",
            "2/2 [==============================] - 0s 12ms/step - loss: 9.1257 - mae: 9.1257\n",
            "Epoch 97/100\n",
            "2/2 [==============================] - 0s 10ms/step - loss: 12.0558 - mae: 12.0558\n",
            "Epoch 98/100\n",
            "2/2 [==============================] - 0s 12ms/step - loss: 9.0867 - mae: 9.0867\n",
            "Epoch 99/100\n",
            "2/2 [==============================] - 0s 7ms/step - loss: 8.4876 - mae: 8.4876\n",
            "Epoch 100/100\n",
            "2/2 [==============================] - 0s 7ms/step - loss: 14.4253 - mae: 14.4253\n"
          ]
        },
        {
          "output_type": "execute_result",
          "data": {
            "text/plain": [
              "<keras.src.callbacks.History at 0x7f56f4cabdf0>"
            ]
          },
          "metadata": {},
          "execution_count": 52
        }
      ]
    },
    {
      "cell_type": "code",
      "source": [
        "# Make and plot predictions for model_1\n",
        "y_preds_1 = model_1.predict(X_test)\n",
        "plot_predictions(predictions=y_preds_1)"
      ],
      "metadata": {
        "id": "YAg8Oo_ExuxT",
        "outputId": "54724025-c8e8-4495-9b19-7d7a19665ee9",
        "colab": {
          "base_uri": "https://localhost:8080/",
          "height": 654
        }
      },
      "execution_count": 53,
      "outputs": [
        {
          "output_type": "stream",
          "name": "stderr",
          "text": [
            "WARNING:tensorflow:6 out of the last 6 calls to <function Model.make_predict_function.<locals>.predict_function at 0x7f56f4c16710> triggered tf.function retracing. Tracing is expensive and the excessive number of tracings could be due to (1) creating @tf.function repeatedly in a loop, (2) passing tensors with different shapes, (3) passing Python objects instead of tensors. For (1), please define your @tf.function outside of the loop. For (2), @tf.function has reduce_retracing=True option that can avoid unnecessary retracing. For (3), please refer to https://www.tensorflow.org/guide/function#controlling_retracing and https://www.tensorflow.org/api_docs/python/tf/function for  more details.\n"
          ]
        },
        {
          "output_type": "stream",
          "name": "stdout",
          "text": [
            "1/1 [==============================] - 0s 65ms/step\n"
          ]
        },
        {
          "output_type": "display_data",
          "data": {
            "text/plain": [
              "<Figure size 1000x700 with 1 Axes>"
            ],
            "image/png": "[encoded data removed]"
          },
          "metadata": {}
        }
      ]
    },
    {
      "cell_type": "code",
      "source": [
        "# Calculate model_1 evaluation metrics\n",
        "mae_1 = mae(y_test, y_preds_1)\n",
        "mse_1 = mse(y_test, y_preds_1)\n",
        "mae_1, mse_1"
      ],
      "metadata": {
        "id": "yJPlXXNUyMHR",
        "outputId": "6b5f9e32-632b-4fd9-d553-af48a1a60335",
        "colab": {
          "base_uri": "https://localhost:8080/"
        }
      },
      "execution_count": 54,
      "outputs": [
        {
          "output_type": "execute_result",
          "data": {
            "text/plain": [
              "(<tf.Tensor: shape=(), dtype=float32, numpy=30.66651>,\n",
              " <tf.Tensor: shape=(), dtype=float32, numpy=950.90936>)"
            ]
          },
          "metadata": {},
          "execution_count": 54
        }
      ]
    },
    {
      "cell_type": "code",
      "source": [
        "X_train, y_train"
      ],
      "metadata": {
        "id": "HVz-m3LJsGYw",
        "outputId": "d3d9d1db-11c3-4f55-8568-4a507a79a529",
        "colab": {
          "base_uri": "https://localhost:8080/"
        }
      },
      "execution_count": 55,
      "outputs": [
        {
          "output_type": "execute_result",
          "data": {
            "text/plain": [
              "(<tf.Tensor: shape=(40,), dtype=int32, numpy=\n",
              " array([-100,  -96,  -92,  -88,  -84,  -80,  -76,  -72,  -68,  -64,  -60,\n",
              "         -56,  -52,  -48,  -44,  -40,  -36,  -32,  -28,  -24,  -20,  -16,\n",
              "         -12,   -8,   -4,    0,    4,    8,   12,   16,   20,   24,   28,\n",
              "          32,   36,   40,   44,   48,   52,   56], dtype=int32)>,\n",
              " <tf.Tensor: shape=(40,), dtype=int32, numpy=\n",
              " array([-90, -86, -82, -78, -74, -70, -66, -62, -58, -54, -50, -46, -42,\n",
              "        -38, -34, -30, -26, -22, -18, -14, -10,  -6,  -2,   2,   6,  10,\n",
              "         14,  18,  22,  26,  30,  34,  38,  42,  46,  50,  54,  58,  62,\n",
              "         66], dtype=int32)>)"
            ]
          },
          "metadata": {},
          "execution_count": 55
        }
      ]
    },
    {
      "cell_type": "markdown",
      "source": [
        "**Build `model_2`**\n",
        "\n",
        "* 2 dense layers, trained for 100 epochs"
      ],
      "metadata": {
        "id": "9il9PiUlwShX"
      }
    },
    {
      "cell_type": "code",
      "source": [
        "#set the random seed\n",
        "tf.random.set_seed(42)\n",
        "\n",
        "# 1. Create model\n",
        "model_2 = tf.keras.Sequential([\n",
        "    tf.keras.layers.Dense(10, input_shape=[1]),\n",
        "    tf.keras.layers.Dense(1)\n",
        "])\n",
        "\n",
        "# 2. Compile model\n",
        "model_2.compile(loss=tf.keras.losses.mae,\n",
        "                optimizer=tf.keras.optimizers.SGD(),\n",
        "                metrics=[\"mse\"]\n",
        "                )\n",
        "\n",
        "# 3. Fit the model\n",
        "model_2.fit(X_train, y_train, epochs=100)"
      ],
      "metadata": {
        "id": "boop3-Jbz4yN",
        "outputId": "7b2417e1-44f0-43cc-dbb0-1a852c4ee826",
        "colab": {
          "base_uri": "https://localhost:8080/"
        }
      },
      "execution_count": 56,
      "outputs": [
        {
          "output_type": "stream",
          "name": "stdout",
          "text": [
            "Epoch 1/100\n",
            "2/2 [==============================] - 1s 12ms/step - loss: 15.7399 - mse: 560.8116\n",
            "Epoch 2/100\n",
            "2/2 [==============================] - 0s 7ms/step - loss: 30.2972 - mse: 1463.2748\n",
            "Epoch 3/100\n",
            "2/2 [==============================] - 0s 10ms/step - loss: 23.4229 - mse: 843.1619\n",
            "Epoch 4/100\n",
            "2/2 [==============================] - 0s 7ms/step - loss: 13.5691 - mse: 284.6499\n",
            "Epoch 5/100\n",
            "2/2 [==============================] - 0s 7ms/step - loss: 18.7060 - mse: 476.4410\n",
            "Epoch 6/100\n",
            "2/2 [==============================] - 0s 9ms/step - loss: 9.3988 - mse: 134.2636\n",
            "Epoch 7/100\n",
            "2/2 [==============================] - 0s 8ms/step - loss: 10.4968 - mse: 145.9346\n",
            "Epoch 8/100\n",
            "2/2 [==============================] - 0s 10ms/step - loss: 12.2132 - mse: 205.6973\n",
            "Epoch 9/100\n",
            "2/2 [==============================] - 0s 8ms/step - loss: 38.5526 - mse: 2301.6875\n",
            "Epoch 10/100\n",
            "2/2 [==============================] - 0s 9ms/step - loss: 26.0549 - mse: 954.5408\n",
            "Epoch 11/100\n",
            "2/2 [==============================] - 0s 9ms/step - loss: 10.2665 - mse: 150.7372\n",
            "Epoch 12/100\n",
            "2/2 [==============================] - 0s 7ms/step - loss: 25.2195 - mse: 887.6945\n",
            "Epoch 13/100\n",
            "2/2 [==============================] - 0s 7ms/step - loss: 17.7106 - mse: 435.4357\n",
            "Epoch 14/100\n",
            "2/2 [==============================] - 0s 8ms/step - loss: 23.9247 - mse: 879.4398\n",
            "Epoch 15/100\n",
            "2/2 [==============================] - 0s 7ms/step - loss: 15.9254 - mse: 345.8903\n",
            "Epoch 16/100\n",
            "2/2 [==============================] - 0s 7ms/step - loss: 10.4991 - mse: 125.5498\n",
            "Epoch 17/100\n",
            "2/2 [==============================] - 0s 9ms/step - loss: 20.1822 - mse: 555.1406\n",
            "Epoch 18/100\n",
            "2/2 [==============================] - 0s 8ms/step - loss: 10.8890 - mse: 176.5268\n",
            "Epoch 19/100\n",
            "2/2 [==============================] - 0s 8ms/step - loss: 10.7797 - mse: 142.4226\n",
            "Epoch 20/100\n",
            "2/2 [==============================] - 0s 7ms/step - loss: 12.1003 - mse: 167.4401\n",
            "Epoch 21/100\n",
            "2/2 [==============================] - 0s 8ms/step - loss: 20.3060 - mse: 599.6837\n",
            "Epoch 22/100\n",
            "2/2 [==============================] - 0s 7ms/step - loss: 13.8810 - mse: 247.7376\n",
            "Epoch 23/100\n",
            "2/2 [==============================] - 0s 7ms/step - loss: 9.5909 - mse: 95.9516\n",
            "Epoch 24/100\n",
            "2/2 [==============================] - 0s 7ms/step - loss: 11.9518 - mse: 165.3170\n",
            "Epoch 25/100\n",
            "2/2 [==============================] - 0s 8ms/step - loss: 16.3290 - mse: 390.8723\n",
            "Epoch 26/100\n",
            "2/2 [==============================] - 0s 8ms/step - loss: 16.5172 - mse: 380.4814\n",
            "Epoch 27/100\n",
            "2/2 [==============================] - 0s 8ms/step - loss: 11.6274 - mse: 184.8591\n",
            "Epoch 28/100\n",
            "2/2 [==============================] - 0s 7ms/step - loss: 30.1989 - mse: 1488.2480\n",
            "Epoch 29/100\n",
            "2/2 [==============================] - 0s 7ms/step - loss: 9.2592 - mse: 92.4142\n",
            "Epoch 30/100\n",
            "2/2 [==============================] - 0s 8ms/step - loss: 30.7021 - mse: 1733.4114\n",
            "Epoch 31/100\n",
            "2/2 [==============================] - 0s 7ms/step - loss: 42.0102 - mse: 3085.4880\n",
            "Epoch 32/100\n",
            "2/2 [==============================] - 0s 8ms/step - loss: 11.9066 - mse: 206.3506\n",
            "Epoch 33/100\n",
            "2/2 [==============================] - 0s 8ms/step - loss: 15.5034 - mse: 331.2828\n",
            "Epoch 34/100\n",
            "2/2 [==============================] - 0s 8ms/step - loss: 12.5938 - mse: 209.4633\n",
            "Epoch 35/100\n",
            "2/2 [==============================] - 0s 7ms/step - loss: 9.1888 - mse: 91.5017\n",
            "Epoch 36/100\n",
            "2/2 [==============================] - 0s 8ms/step - loss: 16.4987 - mse: 395.8781\n",
            "Epoch 37/100\n",
            "2/2 [==============================] - 0s 8ms/step - loss: 11.0679 - mse: 192.0028\n",
            "Epoch 38/100\n",
            "2/2 [==============================] - 0s 7ms/step - loss: 18.1972 - mse: 436.1611\n",
            "Epoch 39/100\n",
            "2/2 [==============================] - 0s 7ms/step - loss: 19.1295 - mse: 532.6429\n",
            "Epoch 40/100\n",
            "2/2 [==============================] - 0s 7ms/step - loss: 20.4872 - mse: 613.2883\n",
            "Epoch 41/100\n",
            "2/2 [==============================] - 0s 8ms/step - loss: 14.8213 - mse: 275.4471\n",
            "Epoch 42/100\n",
            "2/2 [==============================] - 0s 8ms/step - loss: 12.2129 - mse: 183.2896\n",
            "Epoch 43/100\n",
            "2/2 [==============================] - 0s 13ms/step - loss: 10.6908 - mse: 164.2342\n",
            "Epoch 44/100\n",
            "2/2 [==============================] - 0s 8ms/step - loss: 32.3786 - mse: 1725.1272\n",
            "Epoch 45/100\n",
            "2/2 [==============================] - 0s 11ms/step - loss: 12.4832 - mse: 203.2229\n",
            "Epoch 46/100\n",
            "2/2 [==============================] - 0s 8ms/step - loss: 17.6029 - mse: 464.4388\n",
            "Epoch 47/100\n",
            "2/2 [==============================] - 0s 8ms/step - loss: 15.7149 - mse: 337.8035\n",
            "Epoch 48/100\n",
            "2/2 [==============================] - 0s 8ms/step - loss: 8.3440 - mse: 112.3554\n",
            "Epoch 49/100\n",
            "2/2 [==============================] - 0s 7ms/step - loss: 13.9434 - mse: 268.0807\n",
            "Epoch 50/100\n",
            "2/2 [==============================] - 0s 8ms/step - loss: 12.7930 - mse: 214.2661\n",
            "Epoch 51/100\n",
            "2/2 [==============================] - 0s 8ms/step - loss: 14.8080 - mse: 307.9160\n",
            "Epoch 52/100\n",
            "2/2 [==============================] - 0s 8ms/step - loss: 18.6967 - mse: 527.1955\n",
            "Epoch 53/100\n",
            "2/2 [==============================] - 0s 8ms/step - loss: 24.1239 - mse: 825.7786\n",
            "Epoch 54/100\n",
            "2/2 [==============================] - 0s 8ms/step - loss: 23.2806 - mse: 812.7321\n",
            "Epoch 55/100\n",
            "2/2 [==============================] - 0s 9ms/step - loss: 24.1486 - mse: 878.0981\n",
            "Epoch 56/100\n",
            "2/2 [==============================] - 0s 7ms/step - loss: 11.1841 - mse: 170.8162\n",
            "Epoch 57/100\n",
            "2/2 [==============================] - 0s 9ms/step - loss: 13.1551 - mse: 216.1371\n",
            "Epoch 58/100\n",
            "2/2 [==============================] - 0s 9ms/step - loss: 9.8282 - mse: 106.6673\n",
            "Epoch 59/100\n",
            "2/2 [==============================] - 0s 8ms/step - loss: 13.3569 - mse: 252.6991\n",
            "Epoch 60/100\n",
            "2/2 [==============================] - 0s 9ms/step - loss: 10.8937 - mse: 140.4375\n",
            "Epoch 61/100\n",
            "2/2 [==============================] - 0s 8ms/step - loss: 13.5171 - mse: 244.6125\n",
            "Epoch 62/100\n",
            "2/2 [==============================] - 0s 7ms/step - loss: 17.8354 - mse: 484.2677\n",
            "Epoch 63/100\n",
            "2/2 [==============================] - 0s 9ms/step - loss: 8.7088 - mse: 91.8326\n",
            "Epoch 64/100\n",
            "2/2 [==============================] - 0s 8ms/step - loss: 16.1021 - mse: 371.7897\n",
            "Epoch 65/100\n",
            "2/2 [==============================] - 0s 8ms/step - loss: 10.7161 - mse: 145.7923\n",
            "Epoch 66/100\n",
            "2/2 [==============================] - 0s 8ms/step - loss: 22.1616 - mse: 727.5345\n",
            "Epoch 67/100\n",
            "2/2 [==============================] - 0s 7ms/step - loss: 10.2411 - mse: 120.6667\n",
            "Epoch 68/100\n",
            "2/2 [==============================] - 0s 8ms/step - loss: 13.4506 - mse: 268.5483\n",
            "Epoch 69/100\n",
            "2/2 [==============================] - 0s 9ms/step - loss: 11.4098 - mse: 162.7041\n",
            "Epoch 70/100\n",
            "2/2 [==============================] - 0s 10ms/step - loss: 13.5948 - mse: 245.4335\n",
            "Epoch 71/100\n",
            "2/2 [==============================] - 0s 7ms/step - loss: 15.6215 - mse: 346.8939\n",
            "Epoch 72/100\n",
            "2/2 [==============================] - 0s 7ms/step - loss: 11.8357 - mse: 168.2570\n",
            "Epoch 73/100\n",
            "2/2 [==============================] - 0s 8ms/step - loss: 16.6288 - mse: 372.8403\n",
            "Epoch 74/100\n",
            "2/2 [==============================] - 0s 7ms/step - loss: 24.1843 - mse: 920.5999\n",
            "Epoch 75/100\n",
            "2/2 [==============================] - 0s 7ms/step - loss: 9.6216 - mse: 148.6113\n",
            "Epoch 76/100\n",
            "2/2 [==============================] - 0s 8ms/step - loss: 12.4768 - mse: 189.9421\n",
            "Epoch 77/100\n",
            "2/2 [==============================] - 0s 8ms/step - loss: 16.7519 - mse: 435.4800\n",
            "Epoch 78/100\n",
            "2/2 [==============================] - 0s 7ms/step - loss: 9.0694 - mse: 96.5882\n",
            "Epoch 79/100\n",
            "2/2 [==============================] - 0s 7ms/step - loss: 24.1011 - mse: 875.0514\n",
            "Epoch 80/100\n",
            "2/2 [==============================] - 0s 7ms/step - loss: 26.9071 - mse: 1119.1204\n",
            "Epoch 81/100\n",
            "2/2 [==============================] - 0s 7ms/step - loss: 11.7399 - mse: 173.9795\n",
            "Epoch 82/100\n",
            "2/2 [==============================] - 0s 7ms/step - loss: 11.9762 - mse: 211.0720\n",
            "Epoch 83/100\n",
            "2/2 [==============================] - 0s 7ms/step - loss: 17.3561 - mse: 392.4787\n",
            "Epoch 84/100\n",
            "2/2 [==============================] - 0s 7ms/step - loss: 7.2473 - mse: 73.1264\n",
            "Epoch 85/100\n",
            "2/2 [==============================] - 0s 11ms/step - loss: 14.9140 - mse: 310.8982\n",
            "Epoch 86/100\n",
            "2/2 [==============================] - 0s 8ms/step - loss: 15.2450 - mse: 314.3362\n",
            "Epoch 87/100\n",
            "2/2 [==============================] - 0s 8ms/step - loss: 19.0276 - mse: 517.5823\n",
            "Epoch 88/100\n",
            "2/2 [==============================] - 0s 7ms/step - loss: 30.0322 - mse: 1306.6624\n",
            "Epoch 89/100\n",
            "2/2 [==============================] - 0s 8ms/step - loss: 10.2009 - mse: 124.1992\n",
            "Epoch 90/100\n",
            "2/2 [==============================] - 0s 7ms/step - loss: 21.6970 - mse: 674.8943\n",
            "Epoch 91/100\n",
            "2/2 [==============================] - 0s 8ms/step - loss: 10.6096 - mse: 161.0215\n",
            "Epoch 92/100\n",
            "2/2 [==============================] - 0s 8ms/step - loss: 18.5538 - mse: 472.5636\n",
            "Epoch 93/100\n",
            "2/2 [==============================] - 0s 7ms/step - loss: 8.1613 - mse: 104.9366\n",
            "Epoch 94/100\n",
            "2/2 [==============================] - 0s 7ms/step - loss: 11.3747 - mse: 167.9308\n",
            "Epoch 95/100\n",
            "2/2 [==============================] - 0s 7ms/step - loss: 25.4969 - mse: 982.0291\n",
            "Epoch 96/100\n",
            "2/2 [==============================] - 0s 7ms/step - loss: 10.9960 - mse: 169.5187\n",
            "Epoch 97/100\n",
            "2/2 [==============================] - 0s 7ms/step - loss: 16.3464 - mse: 407.3209\n",
            "Epoch 98/100\n",
            "2/2 [==============================] - 0s 7ms/step - loss: 6.8276 - mse: 65.7602\n",
            "Epoch 99/100\n",
            "2/2 [==============================] - 0s 7ms/step - loss: 11.6856 - mse: 213.1526\n",
            "Epoch 100/100\n",
            "2/2 [==============================] - 0s 9ms/step - loss: 23.5019 - mse: 767.8446\n"
          ]
        },
        {
          "output_type": "execute_result",
          "data": {
            "text/plain": [
              "<keras.src.callbacks.History at 0x7f56f5629990>"
            ]
          },
          "metadata": {},
          "execution_count": 56
        }
      ]
    },
    {
      "cell_type": "code",
      "source": [
        "# Make and plot predictions for model_2\n",
        "y_preds_2 = model_2.predict(X_test)\n",
        "plot_predictions(predictions=y_preds_2)"
      ],
      "metadata": {
        "id": "iXRagaEZ3DyW",
        "outputId": "34b67079-d891-4b0a-e600-928ed011926a",
        "colab": {
          "base_uri": "https://localhost:8080/",
          "height": 618
        }
      },
      "execution_count": 57,
      "outputs": [
        {
          "output_type": "stream",
          "name": "stdout",
          "text": [
            "1/1 [==============================] - 0s 61ms/step\n"
          ]
        },
        {
          "output_type": "display_data",
          "data": {
            "text/plain": [
              "<Figure size 1000x700 with 1 Axes>"
            ],
            "image/png": "[encoded data removed]"
          },
          "metadata": {}
        }
      ]
    },
    {
      "cell_type": "code",
      "source": [
        "# Calculate model_1 evaluation metrics\n",
        "mae_2 = mae(y_test, y_preds_2)\n",
        "mse_2 = mse(y_test, y_preds_2)\n",
        "mae_2, mse_2"
      ],
      "metadata": {
        "id": "wFOr8GgB00xa",
        "outputId": "affb62b3-21bf-4f07-8982-0de7bcaec4c9",
        "colab": {
          "base_uri": "https://localhost:8080/"
        }
      },
      "execution_count": 58,
      "outputs": [
        {
          "output_type": "execute_result",
          "data": {
            "text/plain": [
              "(<tf.Tensor: shape=(), dtype=float32, numpy=26.37469>,\n",
              " <tf.Tensor: shape=(), dtype=float32, numpy=721.4839>)"
            ]
          },
          "metadata": {},
          "execution_count": 58
        }
      ]
    },
    {
      "cell_type": "markdown",
      "source": [
        "**Build `model_3`**\n",
        "\n",
        "* 2 layers, trained for 500 epochs"
      ],
      "metadata": {
        "id": "0KiAFOjd3Idv"
      }
    },
    {
      "cell_type": "code",
      "source": [
        "# set the random seed\n",
        "tf.random.set_seed(42)\n",
        "\n",
        "# 1. create the model\n",
        "model_3 = tf.keras.Sequential([\n",
        "    tf.keras.layers.Dense(10, input_shape=[1]),\n",
        "    tf.keras.layers.Dense(1)\n",
        "])\n",
        "\n",
        "# 2. Compile the model\n",
        "model_3.compile(loss=tf.keras.losses.mae,\n",
        "                optimizer=tf.keras.optimizers.SGD(),\n",
        "                metrics=[\"mae\"])\n",
        "\n",
        "# 3. fit our model\n",
        "model_3.fit(X_train, y_train, epochs=500)"
      ],
      "metadata": {
        "id": "DCu2sNLt4Ln4",
        "outputId": "50f390ba-dfcf-48f1-a185-db0fd8d30028",
        "colab": {
          "base_uri": "https://localhost:8080/"
        }
      },
      "execution_count": 59,
      "outputs": [
        {
          "output_type": "stream",
          "name": "stdout",
          "text": [
            "Epoch 1/500\n",
            "2/2 [==============================] - 0s 12ms/step - loss: 64.9982 - mae: 64.9982\n",
            "Epoch 2/500\n",
            "2/2 [==============================] - 0s 8ms/step - loss: 17.8303 - mae: 17.8303\n",
            "Epoch 3/500\n",
            "2/2 [==============================] - 0s 9ms/step - loss: 18.2685 - mae: 18.2685\n",
            "Epoch 4/500\n",
            "2/2 [==============================] - 0s 7ms/step - loss: 13.3658 - mae: 13.3658\n",
            "Epoch 5/500\n",
            "2/2 [==============================] - 0s 8ms/step - loss: 14.7518 - mae: 14.7518\n",
            "Epoch 6/500\n",
            "2/2 [==============================] - 0s 7ms/step - loss: 11.7461 - mae: 11.7461\n",
            "Epoch 7/500\n",
            "2/2 [==============================] - 0s 7ms/step - loss: 11.0916 - mae: 11.0916\n",
            "Epoch 8/500\n",
            "2/2 [==============================] - 0s 9ms/step - loss: 11.0718 - mae: 11.0718\n",
            "Epoch 9/500\n",
            "2/2 [==============================] - 0s 8ms/step - loss: 40.1506 - mae: 40.1506\n",
            "Epoch 10/500\n",
            "2/2 [==============================] - 0s 7ms/step - loss: 27.5850 - mae: 27.5850\n",
            "Epoch 11/500\n",
            "2/2 [==============================] - 0s 8ms/step - loss: 10.2479 - mae: 10.2479\n",
            "Epoch 12/500\n",
            "2/2 [==============================] - 0s 9ms/step - loss: 25.3841 - mae: 25.3841\n",
            "Epoch 13/500\n",
            "2/2 [==============================] - 0s 9ms/step - loss: 16.8600 - mae: 16.8600\n",
            "Epoch 14/500\n",
            "2/2 [==============================] - 0s 9ms/step - loss: 25.6859 - mae: 25.6859\n",
            "Epoch 15/500\n",
            "2/2 [==============================] - 0s 8ms/step - loss: 17.5538 - mae: 17.5538\n",
            "Epoch 16/500\n",
            "2/2 [==============================] - 0s 10ms/step - loss: 10.0403 - mae: 10.0403\n",
            "Epoch 17/500\n",
            "2/2 [==============================] - 0s 9ms/step - loss: 18.5708 - mae: 18.5708\n",
            "Epoch 18/500\n",
            "2/2 [==============================] - 0s 8ms/step - loss: 11.7363 - mae: 11.7363\n",
            "Epoch 19/500\n",
            "2/2 [==============================] - 0s 7ms/step - loss: 16.3867 - mae: 16.3867\n",
            "Epoch 20/500\n",
            "2/2 [==============================] - 0s 8ms/step - loss: 8.2465 - mae: 8.2465\n",
            "Epoch 21/500\n",
            "2/2 [==============================] - 0s 10ms/step - loss: 14.4542 - mae: 14.4542\n",
            "Epoch 22/500\n",
            "2/2 [==============================] - 0s 8ms/step - loss: 12.8729 - mae: 12.8729\n",
            "Epoch 23/500\n",
            "2/2 [==============================] - 0s 7ms/step - loss: 15.5047 - mae: 15.5047\n",
            "Epoch 24/500\n",
            "2/2 [==============================] - 0s 7ms/step - loss: 15.2956 - mae: 15.2956\n",
            "Epoch 25/500\n",
            "2/2 [==============================] - 0s 7ms/step - loss: 14.3576 - mae: 14.3576\n",
            "Epoch 26/500\n",
            "2/2 [==============================] - 0s 7ms/step - loss: 19.3803 - mae: 19.3803\n",
            "Epoch 27/500\n",
            "2/2 [==============================] - 0s 7ms/step - loss: 11.4314 - mae: 11.4314\n",
            "Epoch 28/500\n",
            "2/2 [==============================] - 0s 8ms/step - loss: 28.9821 - mae: 28.9821\n",
            "Epoch 29/500\n",
            "2/2 [==============================] - 0s 8ms/step - loss: 9.2480 - mae: 9.2480\n",
            "Epoch 30/500\n",
            "2/2 [==============================] - 0s 7ms/step - loss: 29.7431 - mae: 29.7431\n",
            "Epoch 31/500\n",
            "2/2 [==============================] - 0s 7ms/step - loss: 53.9564 - mae: 53.9564\n",
            "Epoch 32/500\n",
            "2/2 [==============================] - 0s 7ms/step - loss: 9.5457 - mae: 9.5457\n",
            "Epoch 33/500\n",
            "2/2 [==============================] - 0s 7ms/step - loss: 12.1339 - mae: 12.1339\n",
            "Epoch 34/500\n",
            "2/2 [==============================] - 0s 8ms/step - loss: 23.7912 - mae: 23.7912\n",
            "Epoch 35/500\n",
            "2/2 [==============================] - 0s 7ms/step - loss: 12.6369 - mae: 12.6369\n",
            "Epoch 36/500\n",
            "2/2 [==============================] - 0s 7ms/step - loss: 21.5710 - mae: 21.5710\n",
            "Epoch 37/500\n",
            "2/2 [==============================] - 0s 7ms/step - loss: 11.3415 - mae: 11.3415\n",
            "Epoch 38/500\n",
            "2/2 [==============================] - 0s 7ms/step - loss: 13.4027 - mae: 13.4027\n",
            "Epoch 39/500\n",
            "2/2 [==============================] - 0s 7ms/step - loss: 10.7586 - mae: 10.7586\n",
            "Epoch 40/500\n",
            "2/2 [==============================] - 0s 7ms/step - loss: 16.5117 - mae: 16.5117\n",
            "Epoch 41/500\n",
            "2/2 [==============================] - 0s 12ms/step - loss: 10.9282 - mae: 10.9282\n",
            "Epoch 42/500\n",
            "2/2 [==============================] - 0s 12ms/step - loss: 9.2664 - mae: 9.2664\n",
            "Epoch 43/500\n",
            "2/2 [==============================] - 0s 10ms/step - loss: 9.5810 - mae: 9.5810\n",
            "Epoch 44/500\n",
            "2/2 [==============================] - 0s 8ms/step - loss: 27.8695 - mae: 27.8695\n",
            "Epoch 45/500\n",
            "2/2 [==============================] - 0s 8ms/step - loss: 11.2491 - mae: 11.2491\n",
            "Epoch 46/500\n",
            "2/2 [==============================] - 0s 10ms/step - loss: 13.8319 - mae: 13.8319\n",
            "Epoch 47/500\n",
            "2/2 [==============================] - 0s 9ms/step - loss: 11.9285 - mae: 11.9285\n",
            "Epoch 48/500\n",
            "2/2 [==============================] - 0s 7ms/step - loss: 16.9680 - mae: 16.9680\n",
            "Epoch 49/500\n",
            "2/2 [==============================] - 0s 8ms/step - loss: 9.7627 - mae: 9.7627\n",
            "Epoch 50/500\n",
            "2/2 [==============================] - 0s 7ms/step - loss: 14.1482 - mae: 14.1482\n",
            "Epoch 51/500\n",
            "2/2 [==============================] - 0s 7ms/step - loss: 11.7276 - mae: 11.7276\n",
            "Epoch 52/500\n",
            "2/2 [==============================] - 0s 7ms/step - loss: 31.3479 - mae: 31.3479\n",
            "Epoch 53/500\n",
            "2/2 [==============================] - 0s 7ms/step - loss: 14.7065 - mae: 14.7065\n",
            "Epoch 54/500\n",
            "2/2 [==============================] - 0s 7ms/step - loss: 24.5844 - mae: 24.5844\n",
            "Epoch 55/500\n",
            "2/2 [==============================] - 0s 8ms/step - loss: 23.8643 - mae: 23.8643\n",
            "Epoch 56/500\n",
            "2/2 [==============================] - 0s 7ms/step - loss: 11.1080 - mae: 11.1080\n",
            "Epoch 57/500\n",
            "2/2 [==============================] - 0s 7ms/step - loss: 13.0438 - mae: 13.0438\n",
            "Epoch 58/500\n",
            "2/2 [==============================] - 0s 8ms/step - loss: 9.7707 - mae: 9.7707\n",
            "Epoch 59/500\n",
            "2/2 [==============================] - 0s 7ms/step - loss: 13.2232 - mae: 13.2232\n",
            "Epoch 60/500\n",
            "2/2 [==============================] - 0s 8ms/step - loss: 10.8231 - mae: 10.8231\n",
            "Epoch 61/500\n",
            "2/2 [==============================] - 0s 9ms/step - loss: 13.4032 - mae: 13.4032\n",
            "Epoch 62/500\n",
            "2/2 [==============================] - 0s 8ms/step - loss: 17.3674 - mae: 17.3674\n",
            "Epoch 63/500\n",
            "2/2 [==============================] - 0s 7ms/step - loss: 9.1306 - mae: 9.1306\n",
            "Epoch 64/500\n",
            "2/2 [==============================] - 0s 9ms/step - loss: 18.2420 - mae: 18.2420\n",
            "Epoch 65/500\n",
            "2/2 [==============================] - 0s 9ms/step - loss: 10.0856 - mae: 10.0856\n",
            "Epoch 66/500\n",
            "2/2 [==============================] - 0s 8ms/step - loss: 24.0730 - mae: 24.0730\n",
            "Epoch 67/500\n",
            "2/2 [==============================] - 0s 7ms/step - loss: 10.8334 - mae: 10.8334\n",
            "Epoch 68/500\n",
            "2/2 [==============================] - 0s 7ms/step - loss: 10.7305 - mae: 10.7305\n",
            "Epoch 69/500\n",
            "2/2 [==============================] - 0s 8ms/step - loss: 23.0447 - mae: 23.0447\n",
            "Epoch 70/500\n",
            "2/2 [==============================] - 0s 10ms/step - loss: 8.8496 - mae: 8.8496\n",
            "Epoch 71/500\n",
            "2/2 [==============================] - 0s 8ms/step - loss: 16.0860 - mae: 16.0860\n",
            "Epoch 72/500\n",
            "2/2 [==============================] - 0s 8ms/step - loss: 7.7626 - mae: 7.7626\n",
            "Epoch 73/500\n",
            "2/2 [==============================] - 0s 8ms/step - loss: 10.6349 - mae: 10.6349\n",
            "Epoch 74/500\n",
            "2/2 [==============================] - 0s 8ms/step - loss: 27.9134 - mae: 27.9134\n",
            "Epoch 75/500\n",
            "2/2 [==============================] - 0s 7ms/step - loss: 10.4616 - mae: 10.4616\n",
            "Epoch 76/500\n",
            "2/2 [==============================] - 0s 7ms/step - loss: 13.4580 - mae: 13.4580\n",
            "Epoch 77/500\n",
            "2/2 [==============================] - 0s 8ms/step - loss: 19.3040 - mae: 19.3040\n",
            "Epoch 78/500\n",
            "2/2 [==============================] - 0s 7ms/step - loss: 8.9014 - mae: 8.9014\n",
            "Epoch 79/500\n",
            "2/2 [==============================] - 0s 7ms/step - loss: 27.9701 - mae: 27.9701\n",
            "Epoch 80/500\n",
            "2/2 [==============================] - 0s 7ms/step - loss: 30.0553 - mae: 30.0553\n",
            "Epoch 81/500\n",
            "2/2 [==============================] - 0s 8ms/step - loss: 13.8430 - mae: 13.8430\n",
            "Epoch 82/500\n",
            "2/2 [==============================] - 0s 8ms/step - loss: 15.7324 - mae: 15.7324\n",
            "Epoch 83/500\n",
            "2/2 [==============================] - 0s 8ms/step - loss: 9.2645 - mae: 9.2645\n",
            "Epoch 84/500\n",
            "2/2 [==============================] - 0s 8ms/step - loss: 8.1898 - mae: 8.1898\n",
            "Epoch 85/500\n",
            "2/2 [==============================] - 0s 9ms/step - loss: 18.7393 - mae: 18.7393\n",
            "Epoch 86/500\n",
            "2/2 [==============================] - 0s 8ms/step - loss: 22.2835 - mae: 22.2835\n",
            "Epoch 87/500\n",
            "2/2 [==============================] - 0s 8ms/step - loss: 11.2924 - mae: 11.2924\n",
            "Epoch 88/500\n",
            "2/2 [==============================] - 0s 8ms/step - loss: 26.2790 - mae: 26.2790\n",
            "Epoch 89/500\n",
            "2/2 [==============================] - 0s 8ms/step - loss: 9.5891 - mae: 9.5891\n",
            "Epoch 90/500\n",
            "2/2 [==============================] - 0s 8ms/step - loss: 18.5061 - mae: 18.5061\n",
            "Epoch 91/500\n",
            "2/2 [==============================] - 0s 8ms/step - loss: 10.4096 - mae: 10.4096\n",
            "Epoch 92/500\n",
            "2/2 [==============================] - 0s 8ms/step - loss: 17.7460 - mae: 17.7460\n",
            "Epoch 93/500\n",
            "2/2 [==============================] - 0s 8ms/step - loss: 6.8532 - mae: 6.8532\n",
            "Epoch 94/500\n",
            "2/2 [==============================] - 0s 8ms/step - loss: 17.5931 - mae: 17.5931\n",
            "Epoch 95/500\n",
            "2/2 [==============================] - 0s 8ms/step - loss: 17.2906 - mae: 17.2906\n",
            "Epoch 96/500\n",
            "2/2 [==============================] - 0s 9ms/step - loss: 11.4803 - mae: 11.4803\n",
            "Epoch 97/500\n",
            "2/2 [==============================] - 0s 8ms/step - loss: 18.2235 - mae: 18.2235\n",
            "Epoch 98/500\n",
            "2/2 [==============================] - 0s 8ms/step - loss: 9.7079 - mae: 9.7079\n",
            "Epoch 99/500\n",
            "2/2 [==============================] - 0s 8ms/step - loss: 16.8895 - mae: 16.8895\n",
            "Epoch 100/500\n",
            "2/2 [==============================] - 0s 10ms/step - loss: 17.7534 - mae: 17.7534\n",
            "Epoch 101/500\n",
            "2/2 [==============================] - 0s 9ms/step - loss: 16.4119 - mae: 16.4119\n",
            "Epoch 102/500\n",
            "2/2 [==============================] - 0s 9ms/step - loss: 12.8593 - mae: 12.8593\n",
            "Epoch 103/500\n",
            "2/2 [==============================] - 0s 14ms/step - loss: 16.0354 - mae: 16.0354\n",
            "Epoch 104/500\n",
            "2/2 [==============================] - 0s 9ms/step - loss: 22.1642 - mae: 22.1642\n",
            "Epoch 105/500\n",
            "2/2 [==============================] - 0s 11ms/step - loss: 20.5517 - mae: 20.5517\n",
            "Epoch 106/500\n",
            "2/2 [==============================] - 0s 8ms/step - loss: 10.0928 - mae: 10.0928\n",
            "Epoch 107/500\n",
            "2/2 [==============================] - 0s 7ms/step - loss: 24.6987 - mae: 24.6987\n",
            "Epoch 108/500\n",
            "2/2 [==============================] - 0s 8ms/step - loss: 15.3453 - mae: 15.3453\n",
            "Epoch 109/500\n",
            "2/2 [==============================] - 0s 8ms/step - loss: 7.6453 - mae: 7.6453\n",
            "Epoch 110/500\n",
            "2/2 [==============================] - 0s 7ms/step - loss: 10.5964 - mae: 10.5964\n",
            "Epoch 111/500\n",
            "2/2 [==============================] - 0s 7ms/step - loss: 16.7487 - mae: 16.7487\n",
            "Epoch 112/500\n",
            "2/2 [==============================] - 0s 7ms/step - loss: 9.5669 - mae: 9.5669\n",
            "Epoch 113/500\n",
            "2/2 [==============================] - 0s 7ms/step - loss: 17.5857 - mae: 17.5857\n",
            "Epoch 114/500\n",
            "2/2 [==============================] - 0s 7ms/step - loss: 16.9617 - mae: 16.9617\n",
            "Epoch 115/500\n",
            "2/2 [==============================] - 0s 8ms/step - loss: 11.0931 - mae: 11.0931\n",
            "Epoch 116/500\n",
            "2/2 [==============================] - 0s 7ms/step - loss: 22.9794 - mae: 22.9794\n",
            "Epoch 117/500\n",
            "2/2 [==============================] - 0s 9ms/step - loss: 9.5599 - mae: 9.5599\n",
            "Epoch 118/500\n",
            "2/2 [==============================] - 0s 7ms/step - loss: 10.6068 - mae: 10.6068\n",
            "Epoch 119/500\n",
            "2/2 [==============================] - 0s 9ms/step - loss: 8.0730 - mae: 8.0730\n",
            "Epoch 120/500\n",
            "2/2 [==============================] - 0s 8ms/step - loss: 29.1668 - mae: 29.1668\n",
            "Epoch 121/500\n",
            "2/2 [==============================] - 0s 8ms/step - loss: 8.1083 - mae: 8.1083\n",
            "Epoch 122/500\n",
            "2/2 [==============================] - 0s 7ms/step - loss: 27.8573 - mae: 27.8573\n",
            "Epoch 123/500\n",
            "2/2 [==============================] - 0s 9ms/step - loss: 32.3394 - mae: 32.3394\n",
            "Epoch 124/500\n",
            "2/2 [==============================] - 0s 8ms/step - loss: 19.2205 - mae: 19.2205\n",
            "Epoch 125/500\n",
            "2/2 [==============================] - 0s 7ms/step - loss: 9.5100 - mae: 9.5100\n",
            "Epoch 126/500\n",
            "2/2 [==============================] - 0s 8ms/step - loss: 9.5848 - mae: 9.5848\n",
            "Epoch 127/500\n",
            "2/2 [==============================] - 0s 9ms/step - loss: 12.2681 - mae: 12.2681\n",
            "Epoch 128/500\n",
            "2/2 [==============================] - 0s 8ms/step - loss: 15.2778 - mae: 15.2778\n",
            "Epoch 129/500\n",
            "2/2 [==============================] - 0s 10ms/step - loss: 9.6564 - mae: 9.6564\n",
            "Epoch 130/500\n",
            "2/2 [==============================] - 0s 8ms/step - loss: 20.6492 - mae: 20.6492\n",
            "Epoch 131/500\n",
            "2/2 [==============================] - 0s 8ms/step - loss: 9.3584 - mae: 9.3584\n",
            "Epoch 132/500\n",
            "2/2 [==============================] - 0s 8ms/step - loss: 16.6958 - mae: 16.6958\n",
            "Epoch 133/500\n",
            "2/2 [==============================] - 0s 9ms/step - loss: 7.7260 - mae: 7.7260\n",
            "Epoch 134/500\n",
            "2/2 [==============================] - 0s 7ms/step - loss: 19.0571 - mae: 19.0571\n",
            "Epoch 135/500\n",
            "2/2 [==============================] - 0s 8ms/step - loss: 10.7553 - mae: 10.7553\n",
            "Epoch 136/500\n",
            "2/2 [==============================] - 0s 9ms/step - loss: 18.6428 - mae: 18.6428\n",
            "Epoch 137/500\n",
            "2/2 [==============================] - 0s 8ms/step - loss: 23.6708 - mae: 23.6708\n",
            "Epoch 138/500\n",
            "2/2 [==============================] - 0s 7ms/step - loss: 9.3762 - mae: 9.3762\n",
            "Epoch 139/500\n",
            "2/2 [==============================] - 0s 8ms/step - loss: 9.0820 - mae: 9.0820\n",
            "Epoch 140/500\n",
            "2/2 [==============================] - 0s 8ms/step - loss: 17.0537 - mae: 17.0537\n",
            "Epoch 141/500\n",
            "2/2 [==============================] - 0s 7ms/step - loss: 8.3705 - mae: 8.3705\n",
            "Epoch 142/500\n",
            "2/2 [==============================] - 0s 9ms/step - loss: 34.1032 - mae: 34.1032\n",
            "Epoch 143/500\n",
            "2/2 [==============================] - 0s 7ms/step - loss: 23.1823 - mae: 23.1823\n",
            "Epoch 144/500\n",
            "2/2 [==============================] - 0s 7ms/step - loss: 10.5115 - mae: 10.5115\n",
            "Epoch 145/500\n",
            "2/2 [==============================] - 0s 8ms/step - loss: 25.8993 - mae: 25.8993\n",
            "Epoch 146/500\n",
            "2/2 [==============================] - 0s 8ms/step - loss: 9.8831 - mae: 9.8831\n",
            "Epoch 147/500\n",
            "2/2 [==============================] - 0s 8ms/step - loss: 15.0718 - mae: 15.0718\n",
            "Epoch 148/500\n",
            "2/2 [==============================] - 0s 7ms/step - loss: 17.5217 - mae: 17.5217\n",
            "Epoch 149/500\n",
            "2/2 [==============================] - 0s 7ms/step - loss: 8.7722 - mae: 8.7722\n",
            "Epoch 150/500\n",
            "2/2 [==============================] - 0s 7ms/step - loss: 7.7626 - mae: 7.7626\n",
            "Epoch 151/500\n",
            "2/2 [==============================] - 0s 8ms/step - loss: 19.7704 - mae: 19.7704\n",
            "Epoch 152/500\n",
            "2/2 [==============================] - 0s 7ms/step - loss: 10.2535 - mae: 10.2535\n",
            "Epoch 153/500\n",
            "2/2 [==============================] - 0s 8ms/step - loss: 29.0644 - mae: 29.0644\n",
            "Epoch 154/500\n",
            "2/2 [==============================] - 0s 7ms/step - loss: 10.7004 - mae: 10.7004\n",
            "Epoch 155/500\n",
            "2/2 [==============================] - 0s 8ms/step - loss: 15.5850 - mae: 15.5850\n",
            "Epoch 156/500\n",
            "2/2 [==============================] - 0s 8ms/step - loss: 17.2895 - mae: 17.2895\n",
            "Epoch 157/500\n",
            "2/2 [==============================] - 0s 7ms/step - loss: 32.1255 - mae: 32.1255\n",
            "Epoch 158/500\n",
            "2/2 [==============================] - 0s 10ms/step - loss: 10.5578 - mae: 10.5578\n",
            "Epoch 159/500\n",
            "2/2 [==============================] - 0s 8ms/step - loss: 8.8622 - mae: 8.8622\n",
            "Epoch 160/500\n",
            "2/2 [==============================] - 0s 8ms/step - loss: 21.4285 - mae: 21.4285\n",
            "Epoch 161/500\n",
            "2/2 [==============================] - 0s 10ms/step - loss: 12.6523 - mae: 12.6523\n",
            "Epoch 162/500\n",
            "2/2 [==============================] - 0s 7ms/step - loss: 19.3179 - mae: 19.3179\n",
            "Epoch 163/500\n",
            "2/2 [==============================] - 0s 14ms/step - loss: 18.2628 - mae: 18.2628\n",
            "Epoch 164/500\n",
            "2/2 [==============================] - 0s 7ms/step - loss: 11.9723 - mae: 11.9723\n",
            "Epoch 165/500\n",
            "2/2 [==============================] - 0s 8ms/step - loss: 11.7715 - mae: 11.7715\n",
            "Epoch 166/500\n",
            "2/2 [==============================] - 0s 7ms/step - loss: 21.7070 - mae: 21.7070\n",
            "Epoch 167/500\n",
            "2/2 [==============================] - 0s 6ms/step - loss: 25.9944 - mae: 25.9944\n",
            "Epoch 168/500\n",
            "2/2 [==============================] - 0s 8ms/step - loss: 9.8663 - mae: 9.8663\n",
            "Epoch 169/500\n",
            "2/2 [==============================] - 0s 8ms/step - loss: 22.2236 - mae: 22.2236\n",
            "Epoch 170/500\n",
            "2/2 [==============================] - 0s 7ms/step - loss: 10.2407 - mae: 10.2407\n",
            "Epoch 171/500\n",
            "2/2 [==============================] - 0s 7ms/step - loss: 18.2106 - mae: 18.2106\n",
            "Epoch 172/500\n",
            "2/2 [==============================] - 0s 12ms/step - loss: 28.4476 - mae: 28.4476\n",
            "Epoch 173/500\n",
            "2/2 [==============================] - 0s 10ms/step - loss: 16.0874 - mae: 16.0874\n",
            "Epoch 174/500\n",
            "2/2 [==============================] - 0s 10ms/step - loss: 10.5104 - mae: 10.5104\n",
            "Epoch 175/500\n",
            "2/2 [==============================] - 0s 9ms/step - loss: 27.5090 - mae: 27.5090\n",
            "Epoch 176/500\n",
            "2/2 [==============================] - 0s 9ms/step - loss: 8.4215 - mae: 8.4215\n",
            "Epoch 177/500\n",
            "2/2 [==============================] - 0s 10ms/step - loss: 9.3931 - mae: 9.3931\n",
            "Epoch 178/500\n",
            "2/2 [==============================] - 0s 9ms/step - loss: 18.3697 - mae: 18.3697\n",
            "Epoch 179/500\n",
            "2/2 [==============================] - 0s 7ms/step - loss: 10.5199 - mae: 10.5199\n",
            "Epoch 180/500\n",
            "2/2 [==============================] - 0s 8ms/step - loss: 8.0027 - mae: 8.0027\n",
            "Epoch 181/500\n",
            "2/2 [==============================] - 0s 11ms/step - loss: 17.5562 - mae: 17.5562\n",
            "Epoch 182/500\n",
            "2/2 [==============================] - 0s 11ms/step - loss: 11.1441 - mae: 11.1441\n",
            "Epoch 183/500\n",
            "2/2 [==============================] - 0s 8ms/step - loss: 11.7868 - mae: 11.7868\n",
            "Epoch 184/500\n",
            "2/2 [==============================] - 0s 8ms/step - loss: 30.5631 - mae: 30.5631\n",
            "Epoch 185/500\n",
            "2/2 [==============================] - 0s 8ms/step - loss: 7.6086 - mae: 7.6086\n",
            "Epoch 186/500\n",
            "2/2 [==============================] - 0s 7ms/step - loss: 15.9827 - mae: 15.9827\n",
            "Epoch 187/500\n",
            "2/2 [==============================] - 0s 7ms/step - loss: 8.6370 - mae: 8.6370\n",
            "Epoch 188/500\n",
            "2/2 [==============================] - 0s 8ms/step - loss: 28.7838 - mae: 28.7838\n",
            "Epoch 189/500\n",
            "2/2 [==============================] - 0s 7ms/step - loss: 13.1862 - mae: 13.1862\n",
            "Epoch 190/500\n",
            "2/2 [==============================] - 0s 7ms/step - loss: 18.3327 - mae: 18.3327\n",
            "Epoch 191/500\n",
            "2/2 [==============================] - 0s 10ms/step - loss: 13.7654 - mae: 13.7654\n",
            "Epoch 192/500\n",
            "2/2 [==============================] - 0s 8ms/step - loss: 13.7474 - mae: 13.7474\n",
            "Epoch 193/500\n",
            "2/2 [==============================] - 0s 7ms/step - loss: 28.6028 - mae: 28.6028\n",
            "Epoch 194/500\n",
            "2/2 [==============================] - 0s 7ms/step - loss: 7.1112 - mae: 7.1112\n",
            "Epoch 195/500\n",
            "2/2 [==============================] - 0s 7ms/step - loss: 7.1149 - mae: 7.1149\n",
            "Epoch 196/500\n",
            "2/2 [==============================] - 0s 7ms/step - loss: 22.0701 - mae: 22.0701\n",
            "Epoch 197/500\n",
            "2/2 [==============================] - 0s 7ms/step - loss: 20.7267 - mae: 20.7267\n",
            "Epoch 198/500\n",
            "2/2 [==============================] - 0s 8ms/step - loss: 12.4228 - mae: 12.4228\n",
            "Epoch 199/500\n",
            "2/2 [==============================] - 0s 7ms/step - loss: 17.8034 - mae: 17.8034\n",
            "Epoch 200/500\n",
            "2/2 [==============================] - 0s 7ms/step - loss: 13.6541 - mae: 13.6541\n",
            "Epoch 201/500\n",
            "2/2 [==============================] - 0s 7ms/step - loss: 5.5454 - mae: 5.5454\n",
            "Epoch 202/500\n",
            "2/2 [==============================] - 0s 7ms/step - loss: 13.6001 - mae: 13.6001\n",
            "Epoch 203/500\n",
            "2/2 [==============================] - 0s 10ms/step - loss: 9.4345 - mae: 9.4345\n",
            "Epoch 204/500\n",
            "2/2 [==============================] - 0s 7ms/step - loss: 20.7406 - mae: 20.7406\n",
            "Epoch 205/500\n",
            "2/2 [==============================] - 0s 7ms/step - loss: 9.5272 - mae: 9.5272\n",
            "Epoch 206/500\n",
            "2/2 [==============================] - 0s 7ms/step - loss: 11.1542 - mae: 11.1542\n",
            "Epoch 207/500\n",
            "2/2 [==============================] - 0s 8ms/step - loss: 17.6123 - mae: 17.6123\n",
            "Epoch 208/500\n",
            "2/2 [==============================] - 0s 7ms/step - loss: 14.3662 - mae: 14.3662\n",
            "Epoch 209/500\n",
            "2/2 [==============================] - 0s 8ms/step - loss: 16.6398 - mae: 16.6398\n",
            "Epoch 210/500\n",
            "2/2 [==============================] - 0s 7ms/step - loss: 18.1409 - mae: 18.1409\n",
            "Epoch 211/500\n",
            "2/2 [==============================] - 0s 7ms/step - loss: 9.9713 - mae: 9.9713\n",
            "Epoch 212/500\n",
            "2/2 [==============================] - 0s 8ms/step - loss: 18.5759 - mae: 18.5759\n",
            "Epoch 213/500\n",
            "2/2 [==============================] - 0s 9ms/step - loss: 15.0077 - mae: 15.0077\n",
            "Epoch 214/500\n",
            "2/2 [==============================] - 0s 10ms/step - loss: 14.5743 - mae: 14.5743\n",
            "Epoch 215/500\n",
            "2/2 [==============================] - 0s 10ms/step - loss: 23.2489 - mae: 23.2489\n",
            "Epoch 216/500\n",
            "2/2 [==============================] - 0s 10ms/step - loss: 13.4810 - mae: 13.4810\n",
            "Epoch 217/500\n",
            "2/2 [==============================] - 0s 9ms/step - loss: 9.9970 - mae: 9.9970\n",
            "Epoch 218/500\n",
            "2/2 [==============================] - 0s 10ms/step - loss: 12.5233 - mae: 12.5233\n",
            "Epoch 219/500\n",
            "2/2 [==============================] - 0s 10ms/step - loss: 5.3501 - mae: 5.3501\n",
            "Epoch 220/500\n",
            "2/2 [==============================] - 0s 9ms/step - loss: 12.3696 - mae: 12.3696\n",
            "Epoch 221/500\n",
            "2/2 [==============================] - 0s 11ms/step - loss: 22.3047 - mae: 22.3047\n",
            "Epoch 222/500\n",
            "2/2 [==============================] - 0s 9ms/step - loss: 21.3729 - mae: 21.3729\n",
            "Epoch 223/500\n",
            "2/2 [==============================] - 0s 12ms/step - loss: 11.6971 - mae: 11.6971\n",
            "Epoch 224/500\n",
            "2/2 [==============================] - 0s 10ms/step - loss: 13.6157 - mae: 13.6157\n",
            "Epoch 225/500\n",
            "2/2 [==============================] - 0s 12ms/step - loss: 15.7594 - mae: 15.7594\n",
            "Epoch 226/500\n",
            "2/2 [==============================] - 0s 9ms/step - loss: 15.0022 - mae: 15.0022\n",
            "Epoch 227/500\n",
            "2/2 [==============================] - 0s 9ms/step - loss: 15.3253 - mae: 15.3253\n",
            "Epoch 228/500\n",
            "2/2 [==============================] - 0s 8ms/step - loss: 17.5098 - mae: 17.5098\n",
            "Epoch 229/500\n",
            "2/2 [==============================] - 0s 9ms/step - loss: 7.2106 - mae: 7.2106\n",
            "Epoch 230/500\n",
            "2/2 [==============================] - 0s 9ms/step - loss: 7.4700 - mae: 7.4700\n",
            "Epoch 231/500\n",
            "2/2 [==============================] - 0s 8ms/step - loss: 24.5841 - mae: 24.5841\n",
            "Epoch 232/500\n",
            "2/2 [==============================] - 0s 7ms/step - loss: 8.7901 - mae: 8.7901\n",
            "Epoch 233/500\n",
            "2/2 [==============================] - 0s 9ms/step - loss: 24.5315 - mae: 24.5315\n",
            "Epoch 234/500\n",
            "2/2 [==============================] - 0s 10ms/step - loss: 8.1385 - mae: 8.1385\n",
            "Epoch 235/500\n",
            "2/2 [==============================] - 0s 8ms/step - loss: 16.7719 - mae: 16.7719\n",
            "Epoch 236/500\n",
            "2/2 [==============================] - 0s 8ms/step - loss: 7.0877 - mae: 7.0877\n",
            "Epoch 237/500\n",
            "2/2 [==============================] - 0s 11ms/step - loss: 9.1337 - mae: 9.1337\n",
            "Epoch 238/500\n",
            "2/2 [==============================] - 0s 10ms/step - loss: 8.0759 - mae: 8.0759\n",
            "Epoch 239/500\n",
            "2/2 [==============================] - 0s 8ms/step - loss: 16.7798 - mae: 16.7798\n",
            "Epoch 240/500\n",
            "2/2 [==============================] - 0s 8ms/step - loss: 8.7991 - mae: 8.7991\n",
            "Epoch 241/500\n",
            "2/2 [==============================] - 0s 11ms/step - loss: 12.6252 - mae: 12.6252\n",
            "Epoch 242/500\n",
            "2/2 [==============================] - 0s 9ms/step - loss: 10.7940 - mae: 10.7940\n",
            "Epoch 243/500\n",
            "2/2 [==============================] - 0s 8ms/step - loss: 17.0528 - mae: 17.0528\n",
            "Epoch 244/500\n",
            "2/2 [==============================] - 0s 8ms/step - loss: 14.0360 - mae: 14.0360\n",
            "Epoch 245/500\n",
            "2/2 [==============================] - 0s 8ms/step - loss: 14.6650 - mae: 14.6650\n",
            "Epoch 246/500\n",
            "2/2 [==============================] - 0s 8ms/step - loss: 15.8055 - mae: 15.8055\n",
            "Epoch 247/500\n",
            "2/2 [==============================] - 0s 14ms/step - loss: 17.6815 - mae: 17.6815\n",
            "Epoch 248/500\n",
            "2/2 [==============================] - 0s 7ms/step - loss: 13.2415 - mae: 13.2415\n",
            "Epoch 249/500\n",
            "2/2 [==============================] - 0s 7ms/step - loss: 14.5233 - mae: 14.5233\n",
            "Epoch 250/500\n",
            "2/2 [==============================] - 0s 7ms/step - loss: 23.2400 - mae: 23.2400\n",
            "Epoch 251/500\n",
            "2/2 [==============================] - 0s 6ms/step - loss: 9.3514 - mae: 9.3514\n",
            "Epoch 252/500\n",
            "2/2 [==============================] - 0s 10ms/step - loss: 36.6206 - mae: 36.6206\n",
            "Epoch 253/500\n",
            "2/2 [==============================] - 0s 7ms/step - loss: 21.8097 - mae: 21.8097\n",
            "Epoch 254/500\n",
            "2/2 [==============================] - 0s 7ms/step - loss: 7.3329 - mae: 7.3329\n",
            "Epoch 255/500\n",
            "2/2 [==============================] - 0s 7ms/step - loss: 24.6654 - mae: 24.6654\n",
            "Epoch 256/500\n",
            "2/2 [==============================] - 0s 8ms/step - loss: 12.4375 - mae: 12.4375\n",
            "Epoch 257/500\n",
            "2/2 [==============================] - 0s 8ms/step - loss: 10.6006 - mae: 10.6006\n",
            "Epoch 258/500\n",
            "2/2 [==============================] - 0s 7ms/step - loss: 14.1936 - mae: 14.1936\n",
            "Epoch 259/500\n",
            "2/2 [==============================] - 0s 8ms/step - loss: 11.2710 - mae: 11.2710\n",
            "Epoch 260/500\n",
            "2/2 [==============================] - 0s 7ms/step - loss: 31.5488 - mae: 31.5488\n",
            "Epoch 261/500\n",
            "2/2 [==============================] - 0s 7ms/step - loss: 11.1931 - mae: 11.1931\n",
            "Epoch 262/500\n",
            "2/2 [==============================] - 0s 7ms/step - loss: 10.0472 - mae: 10.0472\n",
            "Epoch 263/500\n",
            "2/2 [==============================] - 0s 7ms/step - loss: 8.9640 - mae: 8.9640\n",
            "Epoch 264/500\n",
            "2/2 [==============================] - 0s 7ms/step - loss: 21.4329 - mae: 21.4329\n",
            "Epoch 265/500\n",
            "2/2 [==============================] - 0s 7ms/step - loss: 11.4812 - mae: 11.4812\n",
            "Epoch 266/500\n",
            "2/2 [==============================] - 0s 7ms/step - loss: 13.3254 - mae: 13.3254\n",
            "Epoch 267/500\n",
            "2/2 [==============================] - 0s 8ms/step - loss: 11.1077 - mae: 11.1077\n",
            "Epoch 268/500\n",
            "2/2 [==============================] - 0s 7ms/step - loss: 19.1991 - mae: 19.1991\n",
            "Epoch 269/500\n",
            "2/2 [==============================] - 0s 8ms/step - loss: 40.5796 - mae: 40.5796\n",
            "Epoch 270/500\n",
            "2/2 [==============================] - 0s 9ms/step - loss: 12.8729 - mae: 12.8729\n",
            "Epoch 271/500\n",
            "2/2 [==============================] - 0s 7ms/step - loss: 14.7832 - mae: 14.7832\n",
            "Epoch 272/500\n",
            "2/2 [==============================] - 0s 8ms/step - loss: 28.5371 - mae: 28.5371\n",
            "Epoch 273/500\n",
            "2/2 [==============================] - 0s 11ms/step - loss: 7.3638 - mae: 7.3638\n",
            "Epoch 274/500\n",
            "2/2 [==============================] - 0s 8ms/step - loss: 6.3769 - mae: 6.3769\n",
            "Epoch 275/500\n",
            "2/2 [==============================] - 0s 9ms/step - loss: 36.7545 - mae: 36.7545\n",
            "Epoch 276/500\n",
            "2/2 [==============================] - 0s 9ms/step - loss: 8.2981 - mae: 8.2981\n",
            "Epoch 277/500\n",
            "2/2 [==============================] - 0s 10ms/step - loss: 27.5948 - mae: 27.5948\n",
            "Epoch 278/500\n",
            "2/2 [==============================] - 0s 8ms/step - loss: 10.7150 - mae: 10.7150\n",
            "Epoch 279/500\n",
            "2/2 [==============================] - 0s 7ms/step - loss: 16.1380 - mae: 16.1380\n",
            "Epoch 280/500\n",
            "2/2 [==============================] - 0s 9ms/step - loss: 21.2883 - mae: 21.2883\n",
            "Epoch 281/500\n",
            "2/2 [==============================] - 0s 9ms/step - loss: 23.6665 - mae: 23.6665\n",
            "Epoch 282/500\n",
            "2/2 [==============================] - 0s 11ms/step - loss: 8.2480 - mae: 8.2480\n",
            "Epoch 283/500\n",
            "2/2 [==============================] - 0s 8ms/step - loss: 8.4433 - mae: 8.4433\n",
            "Epoch 284/500\n",
            "2/2 [==============================] - 0s 6ms/step - loss: 26.4921 - mae: 26.4921\n",
            "Epoch 285/500\n",
            "2/2 [==============================] - 0s 9ms/step - loss: 14.1332 - mae: 14.1332\n",
            "Epoch 286/500\n",
            "2/2 [==============================] - 0s 7ms/step - loss: 6.0261 - mae: 6.0261\n",
            "Epoch 287/500\n",
            "2/2 [==============================] - 0s 8ms/step - loss: 19.0145 - mae: 19.0145\n",
            "Epoch 288/500\n",
            "2/2 [==============================] - 0s 9ms/step - loss: 32.8309 - mae: 32.8309\n",
            "Epoch 289/500\n",
            "2/2 [==============================] - 0s 7ms/step - loss: 8.3965 - mae: 8.3965\n",
            "Epoch 290/500\n",
            "2/2 [==============================] - 0s 7ms/step - loss: 16.8880 - mae: 16.8880\n",
            "Epoch 291/500\n",
            "2/2 [==============================] - 0s 7ms/step - loss: 17.2627 - mae: 17.2627\n",
            "Epoch 292/500\n",
            "2/2 [==============================] - 0s 11ms/step - loss: 10.9030 - mae: 10.9030\n",
            "Epoch 293/500\n",
            "2/2 [==============================] - 0s 8ms/step - loss: 14.5871 - mae: 14.5871\n",
            "Epoch 294/500\n",
            "2/2 [==============================] - 0s 9ms/step - loss: 21.8272 - mae: 21.8272\n",
            "Epoch 295/500\n",
            "2/2 [==============================] - 0s 8ms/step - loss: 19.9305 - mae: 19.9305\n",
            "Epoch 296/500\n",
            "2/2 [==============================] - 0s 9ms/step - loss: 7.0021 - mae: 7.0021\n",
            "Epoch 297/500\n",
            "2/2 [==============================] - 0s 8ms/step - loss: 9.0241 - mae: 9.0241\n",
            "Epoch 298/500\n",
            "2/2 [==============================] - 0s 12ms/step - loss: 24.2811 - mae: 24.2811\n",
            "Epoch 299/500\n",
            "2/2 [==============================] - 0s 8ms/step - loss: 17.8222 - mae: 17.8222\n",
            "Epoch 300/500\n",
            "2/2 [==============================] - 0s 8ms/step - loss: 7.0243 - mae: 7.0243\n",
            "Epoch 301/500\n",
            "2/2 [==============================] - 0s 8ms/step - loss: 25.2945 - mae: 25.2945\n",
            "Epoch 302/500\n",
            "2/2 [==============================] - 0s 8ms/step - loss: 9.4453 - mae: 9.4453\n",
            "Epoch 303/500\n",
            "2/2 [==============================] - 0s 7ms/step - loss: 14.3942 - mae: 14.3942\n",
            "Epoch 304/500\n",
            "2/2 [==============================] - 0s 7ms/step - loss: 10.8290 - mae: 10.8290\n",
            "Epoch 305/500\n",
            "2/2 [==============================] - 0s 7ms/step - loss: 12.6240 - mae: 12.6240\n",
            "Epoch 306/500\n",
            "2/2 [==============================] - 0s 8ms/step - loss: 8.2743 - mae: 8.2743\n",
            "Epoch 307/500\n",
            "2/2 [==============================] - 0s 7ms/step - loss: 13.0666 - mae: 13.0666\n",
            "Epoch 308/500\n",
            "2/2 [==============================] - 0s 7ms/step - loss: 8.1356 - mae: 8.1356\n",
            "Epoch 309/500\n",
            "2/2 [==============================] - 0s 7ms/step - loss: 11.7103 - mae: 11.7103\n",
            "Epoch 310/500\n",
            "2/2 [==============================] - 0s 8ms/step - loss: 6.3392 - mae: 6.3392\n",
            "Epoch 311/500\n",
            "2/2 [==============================] - 0s 7ms/step - loss: 4.9862 - mae: 4.9862\n",
            "Epoch 312/500\n",
            "2/2 [==============================] - 0s 8ms/step - loss: 29.3039 - mae: 29.3039\n",
            "Epoch 313/500\n",
            "2/2 [==============================] - 0s 7ms/step - loss: 8.9398 - mae: 8.9398\n",
            "Epoch 314/500\n",
            "2/2 [==============================] - 0s 9ms/step - loss: 6.5153 - mae: 6.5153\n",
            "Epoch 315/500\n",
            "2/2 [==============================] - 0s 8ms/step - loss: 23.9316 - mae: 23.9316\n",
            "Epoch 316/500\n",
            "2/2 [==============================] - 0s 11ms/step - loss: 16.2057 - mae: 16.2057\n",
            "Epoch 317/500\n",
            "2/2 [==============================] - 0s 9ms/step - loss: 20.6997 - mae: 20.6997\n",
            "Epoch 318/500\n",
            "2/2 [==============================] - 0s 7ms/step - loss: 9.1662 - mae: 9.1662\n",
            "Epoch 319/500\n",
            "2/2 [==============================] - 0s 7ms/step - loss: 11.7528 - mae: 11.7528\n",
            "Epoch 320/500\n",
            "2/2 [==============================] - 0s 8ms/step - loss: 12.3805 - mae: 12.3805\n",
            "Epoch 321/500\n",
            "2/2 [==============================] - 0s 10ms/step - loss: 5.3833 - mae: 5.3833\n",
            "Epoch 322/500\n",
            "2/2 [==============================] - 0s 7ms/step - loss: 14.2173 - mae: 14.2173\n",
            "Epoch 323/500\n",
            "2/2 [==============================] - 0s 7ms/step - loss: 18.6452 - mae: 18.6452\n",
            "Epoch 324/500\n",
            "2/2 [==============================] - 0s 9ms/step - loss: 17.9758 - mae: 17.9758\n",
            "Epoch 325/500\n",
            "2/2 [==============================] - 0s 6ms/step - loss: 7.9252 - mae: 7.9252\n",
            "Epoch 326/500\n",
            "2/2 [==============================] - 0s 7ms/step - loss: 21.1900 - mae: 21.1900\n",
            "Epoch 327/500\n",
            "2/2 [==============================] - 0s 6ms/step - loss: 24.5857 - mae: 24.5857\n",
            "Epoch 328/500\n",
            "2/2 [==============================] - 0s 7ms/step - loss: 12.6706 - mae: 12.6706\n",
            "Epoch 329/500\n",
            "2/2 [==============================] - 0s 7ms/step - loss: 17.1777 - mae: 17.1777\n",
            "Epoch 330/500\n",
            "2/2 [==============================] - 0s 7ms/step - loss: 6.9775 - mae: 6.9775\n",
            "Epoch 331/500\n",
            "2/2 [==============================] - 0s 7ms/step - loss: 20.5826 - mae: 20.5826\n",
            "Epoch 332/500\n",
            "2/2 [==============================] - 0s 7ms/step - loss: 11.4678 - mae: 11.4678\n",
            "Epoch 333/500\n",
            "2/2 [==============================] - 0s 7ms/step - loss: 13.8434 - mae: 13.8434\n",
            "Epoch 334/500\n",
            "2/2 [==============================] - 0s 7ms/step - loss: 10.2059 - mae: 10.2059\n",
            "Epoch 335/500\n",
            "2/2 [==============================] - 0s 7ms/step - loss: 13.0434 - mae: 13.0434\n",
            "Epoch 336/500\n",
            "2/2 [==============================] - 0s 7ms/step - loss: 32.4177 - mae: 32.4177\n",
            "Epoch 337/500\n",
            "2/2 [==============================] - 0s 7ms/step - loss: 10.6837 - mae: 10.6837\n",
            "Epoch 338/500\n",
            "2/2 [==============================] - 0s 12ms/step - loss: 20.2246 - mae: 20.2246\n",
            "Epoch 339/500\n",
            "2/2 [==============================] - 0s 8ms/step - loss: 33.5575 - mae: 33.5575\n",
            "Epoch 340/500\n",
            "2/2 [==============================] - 0s 8ms/step - loss: 8.6049 - mae: 8.6049\n",
            "Epoch 341/500\n",
            "2/2 [==============================] - 0s 7ms/step - loss: 21.2912 - mae: 21.2912\n",
            "Epoch 342/500\n",
            "2/2 [==============================] - 0s 8ms/step - loss: 14.1414 - mae: 14.1414\n",
            "Epoch 343/500\n",
            "2/2 [==============================] - 0s 7ms/step - loss: 11.7018 - mae: 11.7018\n",
            "Epoch 344/500\n",
            "2/2 [==============================] - 0s 8ms/step - loss: 10.7233 - mae: 10.7233\n",
            "Epoch 345/500\n",
            "2/2 [==============================] - 0s 9ms/step - loss: 30.9105 - mae: 30.9105\n",
            "Epoch 346/500\n",
            "2/2 [==============================] - 0s 10ms/step - loss: 10.6586 - mae: 10.6586\n",
            "Epoch 347/500\n",
            "2/2 [==============================] - 0s 9ms/step - loss: 25.5817 - mae: 25.5817\n",
            "Epoch 348/500\n",
            "2/2 [==============================] - 0s 14ms/step - loss: 13.2573 - mae: 13.2573\n",
            "Epoch 349/500\n",
            "2/2 [==============================] - 0s 7ms/step - loss: 13.0664 - mae: 13.0664\n",
            "Epoch 350/500\n",
            "2/2 [==============================] - 0s 8ms/step - loss: 15.4207 - mae: 15.4207\n",
            "Epoch 351/500\n",
            "2/2 [==============================] - 0s 9ms/step - loss: 32.8860 - mae: 32.8860\n",
            "Epoch 352/500\n",
            "2/2 [==============================] - 0s 9ms/step - loss: 14.0003 - mae: 14.0003\n",
            "Epoch 353/500\n",
            "2/2 [==============================] - 0s 10ms/step - loss: 15.9840 - mae: 15.9840\n",
            "Epoch 354/500\n",
            "2/2 [==============================] - 0s 10ms/step - loss: 13.3475 - mae: 13.3475\n",
            "Epoch 355/500\n",
            "2/2 [==============================] - 0s 8ms/step - loss: 21.4804 - mae: 21.4804\n",
            "Epoch 356/500\n",
            "2/2 [==============================] - 0s 8ms/step - loss: 16.3132 - mae: 16.3132\n",
            "Epoch 357/500\n",
            "2/2 [==============================] - 0s 8ms/step - loss: 11.8571 - mae: 11.8571\n",
            "Epoch 358/500\n",
            "2/2 [==============================] - 0s 9ms/step - loss: 14.9700 - mae: 14.9700\n",
            "Epoch 359/500\n",
            "2/2 [==============================] - 0s 10ms/step - loss: 12.2653 - mae: 12.2653\n",
            "Epoch 360/500\n",
            "2/2 [==============================] - 0s 8ms/step - loss: 20.2091 - mae: 20.2091\n",
            "Epoch 361/500\n",
            "2/2 [==============================] - 0s 7ms/step - loss: 11.1454 - mae: 11.1454\n",
            "Epoch 362/500\n",
            "2/2 [==============================] - 0s 7ms/step - loss: 6.8883 - mae: 6.8883\n",
            "Epoch 363/500\n",
            "2/2 [==============================] - 0s 7ms/step - loss: 24.1275 - mae: 24.1275\n",
            "Epoch 364/500\n",
            "2/2 [==============================] - 0s 9ms/step - loss: 29.9452 - mae: 29.9452\n",
            "Epoch 365/500\n",
            "2/2 [==============================] - 0s 8ms/step - loss: 8.4590 - mae: 8.4590\n",
            "Epoch 366/500\n",
            "2/2 [==============================] - 0s 8ms/step - loss: 6.1458 - mae: 6.1458\n",
            "Epoch 367/500\n",
            "2/2 [==============================] - 0s 8ms/step - loss: 35.0402 - mae: 35.0402\n",
            "Epoch 368/500\n",
            "2/2 [==============================] - 0s 8ms/step - loss: 7.4921 - mae: 7.4921\n",
            "Epoch 369/500\n",
            "2/2 [==============================] - 0s 7ms/step - loss: 9.3030 - mae: 9.3030\n",
            "Epoch 370/500\n",
            "2/2 [==============================] - 0s 7ms/step - loss: 11.0001 - mae: 11.0001\n",
            "Epoch 371/500\n",
            "2/2 [==============================] - 0s 9ms/step - loss: 9.0608 - mae: 9.0608\n",
            "Epoch 372/500\n",
            "2/2 [==============================] - 0s 8ms/step - loss: 7.7308 - mae: 7.7308\n",
            "Epoch 373/500\n",
            "2/2 [==============================] - 0s 8ms/step - loss: 25.0442 - mae: 25.0442\n",
            "Epoch 374/500\n",
            "2/2 [==============================] - 0s 8ms/step - loss: 13.2641 - mae: 13.2641\n",
            "Epoch 375/500\n",
            "2/2 [==============================] - 0s 8ms/step - loss: 11.8533 - mae: 11.8533\n",
            "Epoch 376/500\n",
            "2/2 [==============================] - 0s 8ms/step - loss: 14.1199 - mae: 14.1199\n",
            "Epoch 377/500\n",
            "2/2 [==============================] - 0s 9ms/step - loss: 15.7270 - mae: 15.7270\n",
            "Epoch 378/500\n",
            "2/2 [==============================] - 0s 8ms/step - loss: 17.0468 - mae: 17.0468\n",
            "Epoch 379/500\n",
            "2/2 [==============================] - 0s 9ms/step - loss: 19.3969 - mae: 19.3969\n",
            "Epoch 380/500\n",
            "2/2 [==============================] - 0s 8ms/step - loss: 15.7605 - mae: 15.7605\n",
            "Epoch 381/500\n",
            "2/2 [==============================] - 0s 10ms/step - loss: 11.4712 - mae: 11.4712\n",
            "Epoch 382/500\n",
            "2/2 [==============================] - 0s 8ms/step - loss: 16.3549 - mae: 16.3549\n",
            "Epoch 383/500\n",
            "2/2 [==============================] - 0s 7ms/step - loss: 22.1105 - mae: 22.1105\n",
            "Epoch 384/500\n",
            "2/2 [==============================] - 0s 10ms/step - loss: 7.7893 - mae: 7.7893\n",
            "Epoch 385/500\n",
            "2/2 [==============================] - 0s 10ms/step - loss: 10.6409 - mae: 10.6409\n",
            "Epoch 386/500\n",
            "2/2 [==============================] - 0s 8ms/step - loss: 19.1253 - mae: 19.1253\n",
            "Epoch 387/500\n",
            "2/2 [==============================] - 0s 7ms/step - loss: 26.4195 - mae: 26.4195\n",
            "Epoch 388/500\n",
            "2/2 [==============================] - 0s 7ms/step - loss: 10.0949 - mae: 10.0949\n",
            "Epoch 389/500\n",
            "2/2 [==============================] - 0s 7ms/step - loss: 5.2048 - mae: 5.2048\n",
            "Epoch 390/500\n",
            "2/2 [==============================] - 0s 8ms/step - loss: 18.7467 - mae: 18.7467\n",
            "Epoch 391/500\n",
            "2/2 [==============================] - 0s 7ms/step - loss: 9.3736 - mae: 9.3736\n",
            "Epoch 392/500\n",
            "2/2 [==============================] - 0s 11ms/step - loss: 14.4331 - mae: 14.4331\n",
            "Epoch 393/500\n",
            "2/2 [==============================] - 0s 11ms/step - loss: 12.1073 - mae: 12.1073\n",
            "Epoch 394/500\n",
            "2/2 [==============================] - 0s 10ms/step - loss: 14.1063 - mae: 14.1063\n",
            "Epoch 395/500\n",
            "2/2 [==============================] - 0s 7ms/step - loss: 28.4698 - mae: 28.4698\n",
            "Epoch 396/500\n",
            "2/2 [==============================] - 0s 7ms/step - loss: 8.5095 - mae: 8.5095\n",
            "Epoch 397/500\n",
            "2/2 [==============================] - 0s 7ms/step - loss: 11.1817 - mae: 11.1817\n",
            "Epoch 398/500\n",
            "2/2 [==============================] - 0s 8ms/step - loss: 6.9145 - mae: 6.9145\n",
            "Epoch 399/500\n",
            "2/2 [==============================] - 0s 8ms/step - loss: 13.9759 - mae: 13.9759\n",
            "Epoch 400/500\n",
            "2/2 [==============================] - 0s 8ms/step - loss: 6.6912 - mae: 6.6912\n",
            "Epoch 401/500\n",
            "2/2 [==============================] - 0s 7ms/step - loss: 7.5001 - mae: 7.5001\n",
            "Epoch 402/500\n",
            "2/2 [==============================] - 0s 9ms/step - loss: 19.3985 - mae: 19.3985\n",
            "Epoch 403/500\n",
            "2/2 [==============================] - 0s 9ms/step - loss: 10.4918 - mae: 10.4918\n",
            "Epoch 404/500\n",
            "2/2 [==============================] - 0s 8ms/step - loss: 23.2462 - mae: 23.2462\n",
            "Epoch 405/500\n",
            "2/2 [==============================] - 0s 7ms/step - loss: 17.4247 - mae: 17.4247\n",
            "Epoch 406/500\n",
            "2/2 [==============================] - 0s 7ms/step - loss: 6.8559 - mae: 6.8559\n",
            "Epoch 407/500\n",
            "2/2 [==============================] - 0s 8ms/step - loss: 11.9270 - mae: 11.9270\n",
            "Epoch 408/500\n",
            "2/2 [==============================] - 0s 8ms/step - loss: 7.1087 - mae: 7.1087\n",
            "Epoch 409/500\n",
            "2/2 [==============================] - 0s 9ms/step - loss: 23.4134 - mae: 23.4134\n",
            "Epoch 410/500\n",
            "2/2 [==============================] - 0s 7ms/step - loss: 12.4181 - mae: 12.4181\n",
            "Epoch 411/500\n",
            "2/2 [==============================] - 0s 9ms/step - loss: 15.2083 - mae: 15.2083\n",
            "Epoch 412/500\n",
            "2/2 [==============================] - 0s 9ms/step - loss: 22.3298 - mae: 22.3298\n",
            "Epoch 413/500\n",
            "2/2 [==============================] - 0s 9ms/step - loss: 15.6484 - mae: 15.6484\n",
            "Epoch 414/500\n",
            "2/2 [==============================] - 0s 9ms/step - loss: 6.6400 - mae: 6.6400\n",
            "Epoch 415/500\n",
            "2/2 [==============================] - 0s 11ms/step - loss: 12.7044 - mae: 12.7044\n",
            "Epoch 416/500\n",
            "2/2 [==============================] - 0s 8ms/step - loss: 26.9362 - mae: 26.9362\n",
            "Epoch 417/500\n",
            "2/2 [==============================] - 0s 10ms/step - loss: 12.0318 - mae: 12.0318\n",
            "Epoch 418/500\n",
            "2/2 [==============================] - 0s 9ms/step - loss: 13.0784 - mae: 13.0784\n",
            "Epoch 419/500\n",
            "2/2 [==============================] - 0s 7ms/step - loss: 16.0481 - mae: 16.0481\n",
            "Epoch 420/500\n",
            "2/2 [==============================] - 0s 8ms/step - loss: 25.0864 - mae: 25.0864\n",
            "Epoch 421/500\n",
            "2/2 [==============================] - 0s 8ms/step - loss: 16.5636 - mae: 16.5636\n",
            "Epoch 422/500\n",
            "2/2 [==============================] - 0s 9ms/step - loss: 8.7165 - mae: 8.7165\n",
            "Epoch 423/500\n",
            "2/2 [==============================] - 0s 8ms/step - loss: 24.8189 - mae: 24.8189\n",
            "Epoch 424/500\n",
            "2/2 [==============================] - 0s 8ms/step - loss: 16.4634 - mae: 16.4634\n",
            "Epoch 425/500\n",
            "2/2 [==============================] - 0s 10ms/step - loss: 7.2552 - mae: 7.2552\n",
            "Epoch 426/500\n",
            "2/2 [==============================] - 0s 8ms/step - loss: 20.5972 - mae: 20.5972\n",
            "Epoch 427/500\n",
            "2/2 [==============================] - 0s 8ms/step - loss: 6.4190 - mae: 6.4190\n",
            "Epoch 428/500\n",
            "2/2 [==============================] - 0s 9ms/step - loss: 13.1659 - mae: 13.1659\n",
            "Epoch 429/500\n",
            "2/2 [==============================] - 0s 9ms/step - loss: 10.9338 - mae: 10.9338\n",
            "Epoch 430/500\n",
            "2/2 [==============================] - 0s 8ms/step - loss: 11.8017 - mae: 11.8017\n",
            "Epoch 431/500\n",
            "2/2 [==============================] - 0s 11ms/step - loss: 7.9718 - mae: 7.9718\n",
            "Epoch 432/500\n",
            "2/2 [==============================] - 0s 8ms/step - loss: 22.2364 - mae: 22.2364\n",
            "Epoch 433/500\n",
            "2/2 [==============================] - 0s 10ms/step - loss: 5.9559 - mae: 5.9559\n",
            "Epoch 434/500\n",
            "2/2 [==============================] - 0s 8ms/step - loss: 32.6466 - mae: 32.6466\n",
            "Epoch 435/500\n",
            "2/2 [==============================] - 0s 7ms/step - loss: 13.5096 - mae: 13.5096\n",
            "Epoch 436/500\n",
            "2/2 [==============================] - 0s 7ms/step - loss: 29.0673 - mae: 29.0673\n",
            "Epoch 437/500\n",
            "2/2 [==============================] - 0s 7ms/step - loss: 9.2112 - mae: 9.2112\n",
            "Epoch 438/500\n",
            "2/2 [==============================] - 0s 8ms/step - loss: 12.3764 - mae: 12.3764\n",
            "Epoch 439/500\n",
            "2/2 [==============================] - 0s 7ms/step - loss: 33.6568 - mae: 33.6568\n",
            "Epoch 440/500\n",
            "2/2 [==============================] - 0s 7ms/step - loss: 15.0732 - mae: 15.0732\n",
            "Epoch 441/500\n",
            "2/2 [==============================] - 0s 7ms/step - loss: 17.4659 - mae: 17.4659\n",
            "Epoch 442/500\n",
            "2/2 [==============================] - 0s 8ms/step - loss: 22.2659 - mae: 22.2659\n",
            "Epoch 443/500\n",
            "2/2 [==============================] - 0s 8ms/step - loss: 23.6803 - mae: 23.6803\n",
            "Epoch 444/500\n",
            "2/2 [==============================] - 0s 10ms/step - loss: 11.0820 - mae: 11.0820\n",
            "Epoch 445/500\n",
            "2/2 [==============================] - 0s 8ms/step - loss: 14.9004 - mae: 14.9004\n",
            "Epoch 446/500\n",
            "2/2 [==============================] - 0s 9ms/step - loss: 17.9731 - mae: 17.9731\n",
            "Epoch 447/500\n",
            "2/2 [==============================] - 0s 9ms/step - loss: 5.4909 - mae: 5.4909\n",
            "Epoch 448/500\n",
            "2/2 [==============================] - 0s 8ms/step - loss: 9.6955 - mae: 9.6955\n",
            "Epoch 449/500\n",
            "2/2 [==============================] - 0s 8ms/step - loss: 14.3244 - mae: 14.3244\n",
            "Epoch 450/500\n",
            "2/2 [==============================] - 0s 8ms/step - loss: 17.0879 - mae: 17.0879\n",
            "Epoch 451/500\n",
            "2/2 [==============================] - 0s 9ms/step - loss: 14.4263 - mae: 14.4263\n",
            "Epoch 452/500\n",
            "2/2 [==============================] - 0s 9ms/step - loss: 30.8912 - mae: 30.8912\n",
            "Epoch 453/500\n",
            "2/2 [==============================] - 0s 8ms/step - loss: 9.1548 - mae: 9.1548\n",
            "Epoch 454/500\n",
            "2/2 [==============================] - 0s 10ms/step - loss: 27.2718 - mae: 27.2718\n",
            "Epoch 455/500\n",
            "2/2 [==============================] - 0s 9ms/step - loss: 11.0735 - mae: 11.0735\n",
            "Epoch 456/500\n",
            "2/2 [==============================] - 0s 9ms/step - loss: 15.0181 - mae: 15.0181\n",
            "Epoch 457/500\n",
            "2/2 [==============================] - 0s 10ms/step - loss: 18.4299 - mae: 18.4299\n",
            "Epoch 458/500\n",
            "2/2 [==============================] - 0s 7ms/step - loss: 24.8284 - mae: 24.8284\n",
            "Epoch 459/500\n",
            "2/2 [==============================] - 0s 8ms/step - loss: 18.1118 - mae: 18.1118\n",
            "Epoch 460/500\n",
            "2/2 [==============================] - 0s 12ms/step - loss: 4.6717 - mae: 4.6717\n",
            "Epoch 461/500\n",
            "2/2 [==============================] - 0s 7ms/step - loss: 15.9471 - mae: 15.9471\n",
            "Epoch 462/500\n",
            "2/2 [==============================] - 0s 10ms/step - loss: 11.9033 - mae: 11.9033\n",
            "Epoch 463/500\n",
            "2/2 [==============================] - 0s 8ms/step - loss: 27.4527 - mae: 27.4527\n",
            "Epoch 464/500\n",
            "2/2 [==============================] - 0s 8ms/step - loss: 11.0971 - mae: 11.0971\n",
            "Epoch 465/500\n",
            "2/2 [==============================] - 0s 6ms/step - loss: 7.0847 - mae: 7.0847\n",
            "Epoch 466/500\n",
            "2/2 [==============================] - 0s 8ms/step - loss: 11.3842 - mae: 11.3842\n",
            "Epoch 467/500\n",
            "2/2 [==============================] - 0s 10ms/step - loss: 6.3404 - mae: 6.3404\n",
            "Epoch 468/500\n",
            "2/2 [==============================] - 0s 11ms/step - loss: 14.6423 - mae: 14.6423\n",
            "Epoch 469/500\n",
            "2/2 [==============================] - 0s 8ms/step - loss: 13.3428 - mae: 13.3428\n",
            "Epoch 470/500\n",
            "2/2 [==============================] - 0s 11ms/step - loss: 6.6797 - mae: 6.6797\n",
            "Epoch 471/500\n",
            "2/2 [==============================] - 0s 8ms/step - loss: 22.4363 - mae: 22.4363\n",
            "Epoch 472/500\n",
            "2/2 [==============================] - 0s 10ms/step - loss: 13.4513 - mae: 13.4513\n",
            "Epoch 473/500\n",
            "2/2 [==============================] - 0s 9ms/step - loss: 15.3741 - mae: 15.3741\n",
            "Epoch 474/500\n",
            "2/2 [==============================] - 0s 7ms/step - loss: 11.8417 - mae: 11.8417\n",
            "Epoch 475/500\n",
            "2/2 [==============================] - 0s 8ms/step - loss: 16.4916 - mae: 16.4916\n",
            "Epoch 476/500\n",
            "2/2 [==============================] - 0s 10ms/step - loss: 13.9198 - mae: 13.9198\n",
            "Epoch 477/500\n",
            "2/2 [==============================] - 0s 10ms/step - loss: 30.7362 - mae: 30.7362\n",
            "Epoch 478/500\n",
            "2/2 [==============================] - 0s 12ms/step - loss: 8.7319 - mae: 8.7319\n",
            "Epoch 479/500\n",
            "2/2 [==============================] - 0s 9ms/step - loss: 10.8376 - mae: 10.8376\n",
            "Epoch 480/500\n",
            "2/2 [==============================] - 0s 7ms/step - loss: 18.0052 - mae: 18.0052\n",
            "Epoch 481/500\n",
            "2/2 [==============================] - 0s 7ms/step - loss: 15.8894 - mae: 15.8894\n",
            "Epoch 482/500\n",
            "2/2 [==============================] - 0s 7ms/step - loss: 21.4676 - mae: 21.4676\n",
            "Epoch 483/500\n",
            "2/2 [==============================] - 0s 7ms/step - loss: 25.0199 - mae: 25.0199\n",
            "Epoch 484/500\n",
            "2/2 [==============================] - 0s 8ms/step - loss: 23.6041 - mae: 23.6041\n",
            "Epoch 485/500\n",
            "2/2 [==============================] - 0s 9ms/step - loss: 5.7321 - mae: 5.7321\n",
            "Epoch 486/500\n",
            "2/2 [==============================] - 0s 8ms/step - loss: 19.5418 - mae: 19.5418\n",
            "Epoch 487/500\n",
            "2/2 [==============================] - 0s 9ms/step - loss: 13.9688 - mae: 13.9688\n",
            "Epoch 488/500\n",
            "2/2 [==============================] - 0s 7ms/step - loss: 30.4655 - mae: 30.4655\n",
            "Epoch 489/500\n",
            "2/2 [==============================] - 0s 8ms/step - loss: 11.7211 - mae: 11.7211\n",
            "Epoch 490/500\n",
            "2/2 [==============================] - 0s 9ms/step - loss: 12.4488 - mae: 12.4488\n",
            "Epoch 491/500\n",
            "2/2 [==============================] - 0s 10ms/step - loss: 23.6132 - mae: 23.6132\n",
            "Epoch 492/500\n",
            "2/2 [==============================] - 0s 7ms/step - loss: 20.5458 - mae: 20.5458\n",
            "Epoch 493/500\n",
            "2/2 [==============================] - 0s 7ms/step - loss: 5.0182 - mae: 5.0182\n",
            "Epoch 494/500\n",
            "2/2 [==============================] - 0s 6ms/step - loss: 12.8053 - mae: 12.8053\n",
            "Epoch 495/500\n",
            "2/2 [==============================] - 0s 10ms/step - loss: 13.3858 - mae: 13.3858\n",
            "Epoch 496/500\n",
            "2/2 [==============================] - 0s 7ms/step - loss: 12.6795 - mae: 12.6795\n",
            "Epoch 497/500\n",
            "2/2 [==============================] - 0s 8ms/step - loss: 17.6339 - mae: 17.6339\n",
            "Epoch 498/500\n",
            "2/2 [==============================] - 0s 10ms/step - loss: 23.5408 - mae: 23.5408\n",
            "Epoch 499/500\n",
            "2/2 [==============================] - 0s 14ms/step - loss: 9.3563 - mae: 9.3563\n",
            "Epoch 500/500\n",
            "2/2 [==============================] - 0s 11ms/step - loss: 14.6421 - mae: 14.6421\n"
          ]
        },
        {
          "output_type": "execute_result",
          "data": {
            "text/plain": [
              "<keras.src.callbacks.History at 0x7f56f4c60cd0>"
            ]
          },
          "metadata": {},
          "execution_count": 59
        }
      ]
    },
    {
      "cell_type": "code",
      "source": [
        "# Make and plot some predictions\n",
        "y_preds_3 = model_3.predict(X_test)\n",
        "plot_predictions(predictions=y_preds_3)"
      ],
      "metadata": {
        "id": "cbKMk3Oa4_rB",
        "outputId": "b6b55522-e98a-40f8-feb7-4f4c6593a842",
        "colab": {
          "base_uri": "https://localhost:8080/",
          "height": 616
        }
      },
      "execution_count": 60,
      "outputs": [
        {
          "output_type": "stream",
          "name": "stdout",
          "text": [
            "1/1 [==============================] - 0s 91ms/step\n"
          ]
        },
        {
          "output_type": "display_data",
          "data": {
            "text/plain": [
              "<Figure size 1000x700 with 1 Axes>"
            ],
            "image/png": "[encoded data removed]"
          },
          "metadata": {}
        }
      ]
    },
    {
      "cell_type": "code",
      "source": [
        "# Calculate model_3 evaluation metrics\n",
        "mae_3 = mae(y_test, y_preds_3)\n",
        "mse_3 = mse(y_test, y_preds_3)\n",
        "mae_3, mse_3"
      ],
      "metadata": {
        "id": "l-nD1YW25oMT",
        "outputId": "425f8e25-8dd4-4bad-c1ae-c428d64507ac",
        "colab": {
          "base_uri": "https://localhost:8080/"
        }
      },
      "execution_count": 61,
      "outputs": [
        {
          "output_type": "execute_result",
          "data": {
            "text/plain": [
              "(<tf.Tensor: shape=(), dtype=float32, numpy=68.75513>,\n",
              " <tf.Tensor: shape=(), dtype=float32, numpy=4813.7847>)"
            ]
          },
          "metadata": {},
          "execution_count": 61
        }
      ]
    },
    {
      "cell_type": "markdown",
      "source": [
        "**Note:** You want to start with small experiements (small models) and make sure they work and then increase their scale when necessary."
      ],
      "metadata": {
        "id": "8yleLo8Y6k8h"
      }
    },
    {
      "cell_type": "markdown",
      "source": [
        "## Comparing the results of our experiments\n",
        "\n",
        "We've run a few experiments, let's compare the results.\n"
      ],
      "metadata": {
        "id": "ECmr_jR16Csi"
      }
    },
    {
      "cell_type": "code",
      "source": [
        "# Let's compare our model's results using pandas DataFrame\n",
        "\n",
        "import pandas as pd\n",
        "\n",
        "model_results = [[\"model_1\",mae_1.numpy(), mse_1.numpy()],\n",
        "                 [\"model_2\",mae_2.numpy(), mse_2.numpy()],\n",
        "                 [\"model_3\",mae_3.numpy(), mse_3.numpy()]]\n",
        "\n",
        "all_results = pd.DataFrame(model_results, columns=[\"model\", \"mae\", \"mse\"])\n",
        "all_results"
      ],
      "metadata": {
        "id": "-h08ytrz6U1R",
        "outputId": "3480f6c2-1c71-4501-cc80-541c52c797bc",
        "colab": {
          "base_uri": "https://localhost:8080/",
          "height": 143
        }
      },
      "execution_count": 62,
      "outputs": [
        {
          "output_type": "execute_result",
          "data": {
            "text/plain": [
              "     model        mae          mse\n",
              "0  model_1  30.666510   950.909363\n",
              "1  model_2  26.374689   721.483887\n",
              "2  model_3  68.755127  4813.784668"
            ],
            "text/html": [
              "\n",
              "  <div id=\"df-1ce7128b-a098-4ca5-8729-15648fc9c84c\" class=\"colab-df-container\">\n",
              "    <div>\n",
              "<style scoped>\n",
              "    .dataframe tbody tr th:only-of-type {\n",
              "        vertical-align: middle;\n",
              "    }\n",
              "\n",
              "    .dataframe tbody tr th {\n",
              "        vertical-align: top;\n",
              "    }\n",
              "\n",
              "    .dataframe thead th {\n",
              "        text-align: right;\n",
              "    }\n",
              "</style>\n",
              "<table border=\"1\" class=\"dataframe\">\n",
              "  <thead>\n",
              "    <tr style=\"text-align: right;\">\n",
              "      <th></th>\n",
              "      <th>model</th>\n",
              "      <th>mae</th>\n",
              "      <th>mse</th>\n",
              "    </tr>\n",
              "  </thead>\n",
              "  <tbody>\n",
              "    <tr>\n",
              "      <th>0</th>\n",
              "      <td>model_1</td>\n",
              "      <td>30.666510</td>\n",
              "      <td>950.909363</td>\n",
              "    </tr>\n",
              "    <tr>\n",
              "      <th>1</th>\n",
              "      <td>model_2</td>\n",
              "      <td>26.374689</td>\n",
              "      <td>721.483887</td>\n",
              "    </tr>\n",
              "    <tr>\n",
              "      <th>2</th>\n",
              "      <td>model_3</td>\n",
              "      <td>68.755127</td>\n",
              "      <td>4813.784668</td>\n",
              "    </tr>\n",
              "  </tbody>\n",
              "</table>\n",
              "</div>\n",
              "    <div class=\"colab-df-buttons\">\n",
              "\n",
              "  <div class=\"colab-df-container\">\n",
              "    <button class=\"colab-df-convert\" onclick=\"convertToInteractive('df-1ce7128b-a098-4ca5-8729-15648fc9c84c')\"\n",
              "            title=\"Convert this dataframe to an interactive table.\"\n",
              "            style=\"display:none;\">\n",
              "\n",
              "  <svg xmlns=\"http://www.w3.org/2000/svg\" height=\"24px\" viewBox=\"0 -960 960 960\">\n",
              "    <path d=\"M120-120v-720h720v720H120Zm60-500h600v-160H180v160Zm220 220h160v-160H400v160Zm0 220h160v-160H400v160ZM180-400h160v-160H180v160Zm440 0h160v-160H620v160ZM180-180h160v-160H180v160Zm440 0h160v-160H620v160Z\"/>\n",
              "  </svg>\n",
              "    </button>\n",
              "\n",
              "  <style>\n",
              "    .colab-df-container {\n",
              "      display:flex;\n",
              "      gap: 12px;\n",
              "    }\n",
              "\n",
              "    .colab-df-convert {\n",
              "      background-color: #E8F0FE;\n",
              "      border: none;\n",
              "      border-radius: 50%;\n",
              "      cursor: pointer;\n",
              "      display: none;\n",
              "      fill: #1967D2;\n",
              "      height: 32px;\n",
              "      padding: 0 0 0 0;\n",
              "      width: 32px;\n",
              "    }\n",
              "\n",
              "    .colab-df-convert:hover {\n",
              "      background-color: #E2EBFA;\n",
              "      box-shadow: 0px 1px 2px rgba(60, 64, 67, 0.3), 0px 1px 3px 1px rgba(60, 64, 67, 0.15);\n",
              "      fill: #174EA6;\n",
              "    }\n",
              "\n",
              "    .colab-df-buttons div {\n",
              "      margin-bottom: 4px;\n",
              "    }\n",
              "\n",
              "    [theme=dark] .colab-df-convert {\n",
              "      background-color: #3B4455;\n",
              "      fill: #D2E3FC;\n",
              "    }\n",
              "\n",
              "    [theme=dark] .colab-df-convert:hover {\n",
              "      background-color: #434B5C;\n",
              "      box-shadow: 0px 1px 3px 1px rgba(0, 0, 0, 0.15);\n",
              "      filter: drop-shadow(0px 1px 2px rgba(0, 0, 0, 0.3));\n",
              "      fill: #FFFFFF;\n",
              "    }\n",
              "  </style>\n",
              "\n",
              "    <script>\n",
              "      const buttonEl =\n",
              "        document.querySelector('#df-1ce7128b-a098-4ca5-8729-15648fc9c84c button.colab-df-convert');\n",
              "      buttonEl.style.display =\n",
              "        google.colab.kernel.accessAllowed ? 'block' : 'none';\n",
              "\n",
              "      async function convertToInteractive(key) {\n",
              "        const element = document.querySelector('#df-1ce7128b-a098-4ca5-8729-15648fc9c84c');\n",
              "        const dataTable =\n",
              "          await google.colab.kernel.invokeFunction('convertToInteractive',\n",
              "                                                    [key], {});\n",
              "        if (!dataTable) return;\n",
              "\n",
              "        const docLinkHtml = 'Like what you see? Visit the ' +\n",
              "          '<a target=\"_blank\" href=https://colab.research.google.com/notebooks/data_table.ipynb>data table notebook</a>'\n",
              "          + ' to learn more about interactive tables.';\n",
              "        element.innerHTML = '';\n",
              "        dataTable['output_type'] = 'display_data';\n",
              "        await google.colab.output.renderOutput(dataTable, element);\n",
              "        const docLink = document.createElement('div');\n",
              "        docLink.innerHTML = docLinkHtml;\n",
              "        element.appendChild(docLink);\n",
              "      }\n",
              "    </script>\n",
              "  </div>\n",
              "\n",
              "\n",
              "<div id=\"df-b8fea751-e688-4867-a053-1c48babd695b\">\n",
              "  <button class=\"colab-df-quickchart\" onclick=\"quickchart('df-b8fea751-e688-4867-a053-1c48babd695b')\"\n",
              "            title=\"Suggest charts\"\n",
              "            style=\"display:none;\">\n",
              "\n",
              "<svg xmlns=\"http://www.w3.org/2000/svg\" height=\"24px\"viewBox=\"0 0 24 24\"\n",
              "     width=\"24px\">\n",
              "    <g>\n",
              "        <path d=\"M19 3H5c-1.1 0-2 .9-2 2v14c0 1.1.9 2 2 2h14c1.1 0 2-.9 2-2V5c0-1.1-.9-2-2-2zM9 17H7v-7h2v7zm4 0h-2V7h2v10zm4 0h-2v-4h2v4z\"/>\n",
              "    </g>\n",
              "</svg>\n",
              "  </button>\n",
              "\n",
              "<style>\n",
              "  .colab-df-quickchart {\n",
              "      --bg-color: #E8F0FE;\n",
              "      --fill-color: #1967D2;\n",
              "      --hover-bg-color: #E2EBFA;\n",
              "      --hover-fill-color: #174EA6;\n",
              "      --disabled-fill-color: #AAA;\n",
              "      --disabled-bg-color: #DDD;\n",
              "  }\n",
              "\n",
              "  [theme=dark] .colab-df-quickchart {\n",
              "      --bg-color: #3B4455;\n",
              "      --fill-color: #D2E3FC;\n",
              "      --hover-bg-color: #434B5C;\n",
              "      --hover-fill-color: #FFFFFF;\n",
              "      --disabled-bg-color: #3B4455;\n",
              "      --disabled-fill-color: #666;\n",
              "  }\n",
              "\n",
              "  .colab-df-quickchart {\n",
              "    background-color: var(--bg-color);\n",
              "    border: none;\n",
              "    border-radius: 50%;\n",
              "    cursor: pointer;\n",
              "    display: none;\n",
              "    fill: var(--fill-color);\n",
              "    height: 32px;\n",
              "    padding: 0;\n",
              "    width: 32px;\n",
              "  }\n",
              "\n",
              "  .colab-df-quickchart:hover {\n",
              "    background-color: var(--hover-bg-color);\n",
              "    box-shadow: 0 1px 2px rgba(60, 64, 67, 0.3), 0 1px 3px 1px rgba(60, 64, 67, 0.15);\n",
              "    fill: var(--button-hover-fill-color);\n",
              "  }\n",
              "\n",
              "  .colab-df-quickchart-complete:disabled,\n",
              "  .colab-df-quickchart-complete:disabled:hover {\n",
              "    background-color: var(--disabled-bg-color);\n",
              "    fill: var(--disabled-fill-color);\n",
              "    box-shadow: none;\n",
              "  }\n",
              "\n",
              "  .colab-df-spinner {\n",
              "    border: 2px solid var(--fill-color);\n",
              "    border-color: transparent;\n",
              "    border-bottom-color: var(--fill-color);\n",
              "    animation:\n",
              "      spin 1s steps(1) infinite;\n",
              "  }\n",
              "\n",
              "  @keyframes spin {\n",
              "    0% {\n",
              "      border-color: transparent;\n",
              "      border-bottom-color: var(--fill-color);\n",
              "      border-left-color: var(--fill-color);\n",
              "    }\n",
              "    20% {\n",
              "      border-color: transparent;\n",
              "      border-left-color: var(--fill-color);\n",
              "      border-top-color: var(--fill-color);\n",
              "    }\n",
              "    30% {\n",
              "      border-color: transparent;\n",
              "      border-left-color: var(--fill-color);\n",
              "      border-top-color: var(--fill-color);\n",
              "      border-right-color: var(--fill-color);\n",
              "    }\n",
              "    40% {\n",
              "      border-color: transparent;\n",
              "      border-right-color: var(--fill-color);\n",
              "      border-top-color: var(--fill-color);\n",
              "    }\n",
              "    60% {\n",
              "      border-color: transparent;\n",
              "      border-right-color: var(--fill-color);\n",
              "    }\n",
              "    80% {\n",
              "      border-color: transparent;\n",
              "      border-right-color: var(--fill-color);\n",
              "      border-bottom-color: var(--fill-color);\n",
              "    }\n",
              "    90% {\n",
              "      border-color: transparent;\n",
              "      border-bottom-color: var(--fill-color);\n",
              "    }\n",
              "  }\n",
              "</style>\n",
              "\n",
              "  <script>\n",
              "    async function quickchart(key) {\n",
              "      const quickchartButtonEl =\n",
              "        document.querySelector('#' + key + ' button');\n",
              "      quickchartButtonEl.disabled = true;  // To prevent multiple clicks.\n",
              "      quickchartButtonEl.classList.add('colab-df-spinner');\n",
              "      try {\n",
              "        const charts = await google.colab.kernel.invokeFunction(\n",
              "            'suggestCharts', [key], {});\n",
              "      } catch (error) {\n",
              "        console.error('Error during call to suggestCharts:', error);\n",
              "      }\n",
              "      quickchartButtonEl.classList.remove('colab-df-spinner');\n",
              "      quickchartButtonEl.classList.add('colab-df-quickchart-complete');\n",
              "    }\n",
              "    (() => {\n",
              "      let quickchartButtonEl =\n",
              "        document.querySelector('#df-b8fea751-e688-4867-a053-1c48babd695b button');\n",
              "      quickchartButtonEl.style.display =\n",
              "        google.colab.kernel.accessAllowed ? 'block' : 'none';\n",
              "    })();\n",
              "  </script>\n",
              "</div>\n",
              "    </div>\n",
              "  </div>\n"
            ],
            "application/vnd.google.colaboratory.intrinsic+json": {
              "type": "dataframe",
              "variable_name": "all_results",
              "summary": "{\n  \"name\": \"all_results\",\n  \"rows\": 3,\n  \"fields\": [\n    {\n      \"column\": \"model\",\n      \"properties\": {\n        \"dtype\": \"string\",\n        \"num_unique_values\": 3,\n        \"samples\": [\n          \"model_1\",\n          \"model_2\",\n          \"model_3\"\n        ],\n        \"semantic_type\": \"\",\n        \"description\": \"\"\n      }\n    },\n    {\n      \"column\": \"mae\",\n      \"properties\": {\n        \"dtype\": \"float32\",\n        \"num_unique_values\": 3,\n        \"samples\": [\n          30.6665096282959,\n          26.37468910217285,\n          68.755126953125\n        ],\n        \"semantic_type\": \"\",\n        \"description\": \"\"\n      }\n    },\n    {\n      \"column\": \"mse\",\n      \"properties\": {\n        \"dtype\": \"float32\",\n        \"num_unique_values\": 3,\n        \"samples\": [\n          950.9093627929688,\n          721.48388671875,\n          4813.78466796875\n        ],\n        \"semantic_type\": \"\",\n        \"description\": \"\"\n      }\n    }\n  ]\n}"
            }
          },
          "metadata": {},
          "execution_count": 62
        }
      ]
    },
    {
      "cell_type": "markdown",
      "source": [
        "Looks like `model_2` performed the best..."
      ],
      "metadata": {
        "id": "Pb7Tcpfb8FQf"
      }
    },
    {
      "cell_type": "code",
      "source": [
        "model_2.summary()"
      ],
      "metadata": {
        "id": "PvJGz7Bk7pZq",
        "outputId": "eeedbb85-dd53-4855-be65-76746673c888",
        "colab": {
          "base_uri": "https://localhost:8080/"
        }
      },
      "execution_count": 63,
      "outputs": [
        {
          "output_type": "stream",
          "name": "stdout",
          "text": [
            "Model: \"sequential_6\"\n",
            "_________________________________________________________________\n",
            " Layer (type)                Output Shape              Param #   \n",
            "=================================================================\n",
            " dense_7 (Dense)             (None, 10)                20        \n",
            "                                                                 \n",
            " dense_8 (Dense)             (None, 1)                 11        \n",
            "                                                                 \n",
            "=================================================================\n",
            "Total params: 31 (124.00 Byte)\n",
            "Trainable params: 31 (124.00 Byte)\n",
            "Non-trainable params: 0 (0.00 Byte)\n",
            "_________________________________________________________________\n"
          ]
        }
      ]
    },
    {
      "cell_type": "markdown",
      "source": [
        "**Note:** One of the main goals should be to minimize the time between your experiments. The more experiments you do, the more things you'll figure out which don't work and in turn, get closer to figuring out which don't work and in turn, get closer to figuring out what does work. Remember the machine learning practitioners moto:\"experiment, experiment, experiment\"."
      ],
      "metadata": {
        "id": "QFPZN9Ce77AU"
      }
    },
    {
      "cell_type": "markdown",
      "source": [
        "## Tracking your experiments\n",
        "\n",
        "One really good habit in machine learning modelling is to track the results of your experiments.\n",
        "\n",
        "And when doing do, it can be tedious if you're running lots of experiments.else\n",
        "\n",
        "Luckily, there are tools to help us!\n",
        "\n",
        "**Resource:** As you build more models, you'll want to look into using:\n",
        "\n",
        "* TensorBoard - a component of the TensorFlow library to help track modelling experiements.\n",
        "* Weights & Biases - a tool for tracking all kinds of machine learning experiments (plugs straight into TensorBoard)."
      ],
      "metadata": {
        "id": "pEu9tMXI8hJk"
      }
    },
    {
      "cell_type": "markdown",
      "source": [
        "## Saving our models\n",
        "\n",
        "Saving our models allows us to use them outside of Google colab (or wherever they were trained) such as a web application or a mobile app.\n",
        "\n",
        "There are 2 main format we can save our model's too:\n",
        "\n",
        "1. The SavedModel format\n",
        "2. The HDF5 format"
      ],
      "metadata": {
        "id": "tveIshFr-WpF"
      }
    },
    {
      "cell_type": "code",
      "source": [
        "# Save model using the SavedModel format\n",
        "model_2.save(\"best_model_SavedModel_format\")"
      ],
      "metadata": {
        "id": "0nyDDEEL-q7V"
      },
      "execution_count": 64,
      "outputs": []
    },
    {
      "cell_type": "code",
      "source": [
        "# Save model using the HDF5 format\n",
        "model_2.save(\"best_model_HDF5_format.h5\")"
      ],
      "metadata": {
        "id": "vkdVIfdw_jyB",
        "outputId": "21555942-60b8-4103-bf25-b7e55c9e7b07",
        "colab": {
          "base_uri": "https://localhost:8080/"
        }
      },
      "execution_count": 65,
      "outputs": [
        {
          "output_type": "stream",
          "name": "stderr",
          "text": [
            "/usr/local/lib/python3.10/dist-packages/keras/src/engine/training.py:3103: UserWarning: You are saving your model as an HDF5 file via `model.save()`. This file format is considered legacy. We recommend using instead the native Keras format, e.g. `model.save('my_model.keras')`.\n",
            "  saving_api.save_model(\n"
          ]
        }
      ]
    },
    {
      "cell_type": "code",
      "source": [
        "# Save model using the keras format\n",
        "model_2.save(\"best_model_keras_format.keras\")"
      ],
      "metadata": {
        "id": "lbDSlNucAMG8"
      },
      "execution_count": 66,
      "outputs": []
    },
    {
      "cell_type": "code",
      "source": [
        "# Loading in a saved model\n",
        "loaded_SavedModel_format = tf.keras.models.load_model(\"/content/best_model_SavedModel_format\")\n",
        "loaded_SavedModel_format.summary()"
      ],
      "metadata": {
        "id": "MWJuVX2fArPK",
        "outputId": "30a22a10-6bfe-4598-d830-2bae1dbe7214",
        "colab": {
          "base_uri": "https://localhost:8080/"
        }
      },
      "execution_count": 67,
      "outputs": [
        {
          "output_type": "stream",
          "name": "stdout",
          "text": [
            "Model: \"sequential_6\"\n",
            "_________________________________________________________________\n",
            " Layer (type)                Output Shape              Param #   \n",
            "=================================================================\n",
            " dense_7 (Dense)             (None, 10)                20        \n",
            "                                                                 \n",
            " dense_8 (Dense)             (None, 1)                 11        \n",
            "                                                                 \n",
            "=================================================================\n",
            "Total params: 31 (124.00 Byte)\n",
            "Trainable params: 31 (124.00 Byte)\n",
            "Non-trainable params: 0 (0.00 Byte)\n",
            "_________________________________________________________________\n"
          ]
        }
      ]
    },
    {
      "cell_type": "code",
      "source": [
        "model_2.summary()"
      ],
      "metadata": {
        "id": "clfA74EOBP2s",
        "outputId": "a5923cd6-6974-40f2-d526-2ff2130f1553",
        "colab": {
          "base_uri": "https://localhost:8080/"
        }
      },
      "execution_count": 68,
      "outputs": [
        {
          "output_type": "stream",
          "name": "stdout",
          "text": [
            "Model: \"sequential_6\"\n",
            "_________________________________________________________________\n",
            " Layer (type)                Output Shape              Param #   \n",
            "=================================================================\n",
            " dense_7 (Dense)             (None, 10)                20        \n",
            "                                                                 \n",
            " dense_8 (Dense)             (None, 1)                 11        \n",
            "                                                                 \n",
            "=================================================================\n",
            "Total params: 31 (124.00 Byte)\n",
            "Trainable params: 31 (124.00 Byte)\n",
            "Non-trainable params: 0 (0.00 Byte)\n",
            "_________________________________________________________________\n"
          ]
        }
      ]
    },
    {
      "cell_type": "code",
      "source": [
        "# Compare model_2 predictions with SavedModel format model predictions\n",
        "\n",
        "model_2_preds = model_2.predict(X_test)\n",
        "loaded_SavedModel_format_preds = loaded_SavedModel_format.predict(X_test)\n",
        "model_2_preds == loaded_SavedModel_format_preds"
      ],
      "metadata": {
        "id": "gTm34poIBXn_",
        "outputId": "a05f4683-6a29-4d2f-b763-ad29ffeeb5e2",
        "colab": {
          "base_uri": "https://localhost:8080/"
        }
      },
      "execution_count": 69,
      "outputs": [
        {
          "output_type": "stream",
          "name": "stdout",
          "text": [
            "1/1 [==============================] - 0s 54ms/step\n",
            "1/1 [==============================] - 0s 114ms/step\n"
          ]
        },
        {
          "output_type": "execute_result",
          "data": {
            "text/plain": [
              "array([[ True],\n",
              "       [ True],\n",
              "       [ True],\n",
              "       [ True],\n",
              "       [ True],\n",
              "       [ True],\n",
              "       [ True],\n",
              "       [ True],\n",
              "       [ True],\n",
              "       [ True]])"
            ]
          },
          "metadata": {},
          "execution_count": 69
        }
      ]
    },
    {
      "cell_type": "code",
      "source": [
        "# Load in a model using the .h5 format\n",
        "loaded_h5_model = tf.keras.models.load_model(\"/content/best_model_HDF5_format.h5\")\n",
        "loaded_h5_model"
      ],
      "metadata": {
        "id": "OP3Zelr_B8FZ",
        "outputId": "4623ce05-2e30-4422-b515-9092888e4f4f",
        "colab": {
          "base_uri": "https://localhost:8080/"
        }
      },
      "execution_count": 70,
      "outputs": [
        {
          "output_type": "execute_result",
          "data": {
            "text/plain": [
              "<keras.src.engine.sequential.Sequential at 0x7f56f54b0b80>"
            ]
          },
          "metadata": {},
          "execution_count": 70
        }
      ]
    },
    {
      "cell_type": "code",
      "source": [
        "# Compare model_2 predictions with h5 format model predictions\n",
        "loaded_h5_model.predict(X_test) == model_2.predict(X_test)"
      ],
      "metadata": {
        "id": "Et4bQiMBC9V_",
        "outputId": "bd73c9ba-88d3-4d11-e5c3-07de5c29ea15",
        "colab": {
          "base_uri": "https://localhost:8080/"
        }
      },
      "execution_count": 71,
      "outputs": [
        {
          "output_type": "stream",
          "name": "stdout",
          "text": [
            "1/1 [==============================] - 0s 117ms/step\n",
            "1/1 [==============================] - 0s 36ms/step\n"
          ]
        },
        {
          "output_type": "execute_result",
          "data": {
            "text/plain": [
              "array([[ True],\n",
              "       [ True],\n",
              "       [ True],\n",
              "       [ True],\n",
              "       [ True],\n",
              "       [ True],\n",
              "       [ True],\n",
              "       [ True],\n",
              "       [ True],\n",
              "       [ True]])"
            ]
          },
          "metadata": {},
          "execution_count": 71
        }
      ]
    },
    {
      "cell_type": "markdown",
      "source": [
        "## Download a model (or any other file) from Google Colab\n",
        "\n",
        "If you want to download your files from Google Colab:\n",
        "\n",
        "1. You can go to the \"files\" tab and right click on the file you're after and click download.\n",
        "\n",
        "2. Use code (see the cell below).\n",
        "\n",
        "3. You can save it to Google Drive by connecting Google Drive and copying it there (see 2nd cell below)."
      ],
      "metadata": {
        "id": "m4ySjKpMDHkU"
      }
    },
    {
      "cell_type": "code",
      "source": [
        "# Download a file from Google Colab\n",
        "from google.colab import files\n",
        "files.download(\"/content/best_model_HDF5_format.h5\")"
      ],
      "metadata": {
        "id": "LkJzI05zIhqH",
        "outputId": "71cc0973-e527-497c-e5a1-8f6263de8d95",
        "colab": {
          "base_uri": "https://localhost:8080/",
          "height": 17
        }
      },
      "execution_count": 73,
      "outputs": [
        {
          "output_type": "display_data",
          "data": {
            "text/plain": [
              "<IPython.core.display.Javascript object>"
            ],
            "application/javascript": [
              "\n",
              "    async function download(id, filename, size) {\n",
              "      if (!google.colab.kernel.accessAllowed) {\n",
              "        return;\n",
              "      }\n",
              "      const div = document.createElement('div');\n",
              "      const label = document.createElement('label');\n",
              "      label.textContent = `Downloading \"${filename}\": `;\n",
              "      div.appendChild(label);\n",
              "      const progress = document.createElement('progress');\n",
              "      progress.max = size;\n",
              "      div.appendChild(progress);\n",
              "      document.body.appendChild(div);\n",
              "\n",
              "      const buffers = [];\n",
              "      let downloaded = 0;\n",
              "\n",
              "      const channel = await google.colab.kernel.comms.open(id);\n",
              "      // Send a message to notify the kernel that we're ready.\n",
              "      channel.send({})\n",
              "\n",
              "      for await (const message of channel.messages) {\n",
              "        // Send a message to notify the kernel that we're ready.\n",
              "        channel.send({})\n",
              "        if (message.buffers) {\n",
              "          for (const buffer of message.buffers) {\n",
              "            buffers.push(buffer);\n",
              "            downloaded += buffer.byteLength;\n",
              "            progress.value = downloaded;\n",
              "          }\n",
              "        }\n",
              "      }\n",
              "      const blob = new Blob(buffers, {type: 'application/binary'});\n",
              "      const a = document.createElement('a');\n",
              "      a.href = window.URL.createObjectURL(blob);\n",
              "      a.download = filename;\n",
              "      div.appendChild(a);\n",
              "      a.click();\n",
              "      div.remove();\n",
              "    }\n",
              "  "
            ]
          },
          "metadata": {}
        },
        {
          "output_type": "display_data",
          "data": {
            "text/plain": [
              "<IPython.core.display.Javascript object>"
            ],
            "application/javascript": [
              "download(\"download_6ac51912-30d7-4832-8484-e078f675aeaa\", \"best_model_HDF5_format.h5\", 21952)"
            ]
          },
          "metadata": {}
        }
      ]
    },
    {
      "cell_type": "code",
      "source": [
        "# Mount Google Drive\n",
        "# Save a file from Google Colab to google drive (requires mounting Google Drive).\n",
        "!cp /content/best_model_HDF5_format.h5 /content/drive/MyDrive/TensorFlow"
      ],
      "metadata": {
        "id": "s9HtTzD9JN4i"
      },
      "execution_count": 74,
      "outputs": []
    },
    {
      "cell_type": "code",
      "source": [
        "!ls /content/drive/MyDrive/TensorFlow"
      ],
      "metadata": {
        "id": "65--bHQUKNfZ",
        "outputId": "a0bf9155-aa6d-411f-c834-79d8f9feb56d",
        "colab": {
          "base_uri": "https://localhost:8080/"
        }
      },
      "execution_count": 75,
      "outputs": [
        {
          "output_type": "stream",
          "name": "stdout",
          "text": [
            "best_model_HDF5_format.h5\n"
          ]
        }
      ]
    },
    {
      "cell_type": "markdown",
      "source": [
        "## A larger example"
      ],
      "metadata": {
        "id": "KqgRpBC3KXbk"
      }
    },
    {
      "cell_type": "code",
      "source": [
        "# Import required libraries\n",
        "import tensorflow as tf\n",
        "import pandas as pd\n",
        "import numpy as np\n",
        "import matplotlib.pyplot as plt"
      ],
      "metadata": {
        "id": "TXYCqwU4KnN0"
      },
      "execution_count": 77,
      "outputs": []
    },
    {
      "cell_type": "code",
      "source": [
        "# Read in the insurance dataset\n",
        "insurance = pd.read_csv(\"https://raw.githubusercontent.com/stedy/Machine-Learning-with-R-datasets/master/insurance.csv\")\n",
        "insurance"
      ],
      "metadata": {
        "id": "lB2XRkmUKo4l",
        "outputId": "d1e0f4a5-7acb-47ed-ddaa-e1c1a698393f",
        "colab": {
          "base_uri": "https://localhost:8080/",
          "height": 424
        }
      },
      "execution_count": 79,
      "outputs": [
        {
          "output_type": "execute_result",
          "data": {
            "text/plain": [
              "      age     sex     bmi  children smoker     region      charges\n",
              "0      19  female  27.900         0    yes  southwest  16884.92400\n",
              "1      18    male  33.770         1     no  southeast   1725.55230\n",
              "2      28    male  33.000         3     no  southeast   4449.46200\n",
              "3      33    male  22.705         0     no  northwest  21984.47061\n",
              "4      32    male  28.880         0     no  northwest   3866.85520\n",
              "...   ...     ...     ...       ...    ...        ...          ...\n",
              "1333   50    male  30.970         3     no  northwest  10600.54830\n",
              "1334   18  female  31.920         0     no  northeast   2205.98080\n",
              "1335   18  female  36.850         0     no  southeast   1629.83350\n",
              "1336   21  female  25.800         0     no  southwest   2007.94500\n",
              "1337   61  female  29.070         0    yes  northwest  29141.36030\n",
              "\n",
              "[1338 rows x 7 columns]"
            ],
            "text/html": [
              "\n",
              "  <div id=\"df-21bac263-1cff-41ac-b407-8cab4ec911c4\" class=\"colab-df-container\">\n",
              "    <div>\n",
              "<style scoped>\n",
              "    .dataframe tbody tr th:only-of-type {\n",
              "        vertical-align: middle;\n",
              "    }\n",
              "\n",
              "    .dataframe tbody tr th {\n",
              "        vertical-align: top;\n",
              "    }\n",
              "\n",
              "    .dataframe thead th {\n",
              "        text-align: right;\n",
              "    }\n",
              "</style>\n",
              "<table border=\"1\" class=\"dataframe\">\n",
              "  <thead>\n",
              "    <tr style=\"text-align: right;\">\n",
              "      <th></th>\n",
              "      <th>age</th>\n",
              "      <th>sex</th>\n",
              "      <th>bmi</th>\n",
              "      <th>children</th>\n",
              "      <th>smoker</th>\n",
              "      <th>region</th>\n",
              "      <th>charges</th>\n",
              "    </tr>\n",
              "  </thead>\n",
              "  <tbody>\n",
              "    <tr>\n",
              "      <th>0</th>\n",
              "      <td>19</td>\n",
              "      <td>female</td>\n",
              "      <td>27.900</td>\n",
              "      <td>0</td>\n",
              "      <td>yes</td>\n",
              "      <td>southwest</td>\n",
              "      <td>16884.92400</td>\n",
              "    </tr>\n",
              "    <tr>\n",
              "      <th>1</th>\n",
              "      <td>18</td>\n",
              "      <td>male</td>\n",
              "      <td>33.770</td>\n",
              "      <td>1</td>\n",
              "      <td>no</td>\n",
              "      <td>southeast</td>\n",
              "      <td>1725.55230</td>\n",
              "    </tr>\n",
              "    <tr>\n",
              "      <th>2</th>\n",
              "      <td>28</td>\n",
              "      <td>male</td>\n",
              "      <td>33.000</td>\n",
              "      <td>3</td>\n",
              "      <td>no</td>\n",
              "      <td>southeast</td>\n",
              "      <td>4449.46200</td>\n",
              "    </tr>\n",
              "    <tr>\n",
              "      <th>3</th>\n",
              "      <td>33</td>\n",
              "      <td>male</td>\n",
              "      <td>22.705</td>\n",
              "      <td>0</td>\n",
              "      <td>no</td>\n",
              "      <td>northwest</td>\n",
              "      <td>21984.47061</td>\n",
              "    </tr>\n",
              "    <tr>\n",
              "      <th>4</th>\n",
              "      <td>32</td>\n",
              "      <td>male</td>\n",
              "      <td>28.880</td>\n",
              "      <td>0</td>\n",
              "      <td>no</td>\n",
              "      <td>northwest</td>\n",
              "      <td>3866.85520</td>\n",
              "    </tr>\n",
              "    <tr>\n",
              "      <th>...</th>\n",
              "      <td>...</td>\n",
              "      <td>...</td>\n",
              "      <td>...</td>\n",
              "      <td>...</td>\n",
              "      <td>...</td>\n",
              "      <td>...</td>\n",
              "      <td>...</td>\n",
              "    </tr>\n",
              "    <tr>\n",
              "      <th>1333</th>\n",
              "      <td>50</td>\n",
              "      <td>male</td>\n",
              "      <td>30.970</td>\n",
              "      <td>3</td>\n",
              "      <td>no</td>\n",
              "      <td>northwest</td>\n",
              "      <td>10600.54830</td>\n",
              "    </tr>\n",
              "    <tr>\n",
              "      <th>1334</th>\n",
              "      <td>18</td>\n",
              "      <td>female</td>\n",
              "      <td>31.920</td>\n",
              "      <td>0</td>\n",
              "      <td>no</td>\n",
              "      <td>northeast</td>\n",
              "      <td>2205.98080</td>\n",
              "    </tr>\n",
              "    <tr>\n",
              "      <th>1335</th>\n",
              "      <td>18</td>\n",
              "      <td>female</td>\n",
              "      <td>36.850</td>\n",
              "      <td>0</td>\n",
              "      <td>no</td>\n",
              "      <td>southeast</td>\n",
              "      <td>1629.83350</td>\n",
              "    </tr>\n",
              "    <tr>\n",
              "      <th>1336</th>\n",
              "      <td>21</td>\n",
              "      <td>female</td>\n",
              "      <td>25.800</td>\n",
              "      <td>0</td>\n",
              "      <td>no</td>\n",
              "      <td>southwest</td>\n",
              "      <td>2007.94500</td>\n",
              "    </tr>\n",
              "    <tr>\n",
              "      <th>1337</th>\n",
              "      <td>61</td>\n",
              "      <td>female</td>\n",
              "      <td>29.070</td>\n",
              "      <td>0</td>\n",
              "      <td>yes</td>\n",
              "      <td>northwest</td>\n",
              "      <td>29141.36030</td>\n",
              "    </tr>\n",
              "  </tbody>\n",
              "</table>\n",
              "<p>1338 rows × 7 columns</p>\n",
              "</div>\n",
              "    <div class=\"colab-df-buttons\">\n",
              "\n",
              "  <div class=\"colab-df-container\">\n",
              "    <button class=\"colab-df-convert\" onclick=\"convertToInteractive('df-21bac263-1cff-41ac-b407-8cab4ec911c4')\"\n",
              "            title=\"Convert this dataframe to an interactive table.\"\n",
              "            style=\"display:none;\">\n",
              "\n",
              "  <svg xmlns=\"http://www.w3.org/2000/svg\" height=\"24px\" viewBox=\"0 -960 960 960\">\n",
              "    <path d=\"M120-120v-720h720v720H120Zm60-500h600v-160H180v160Zm220 220h160v-160H400v160Zm0 220h160v-160H400v160ZM180-400h160v-160H180v160Zm440 0h160v-160H620v160ZM180-180h160v-160H180v160Zm440 0h160v-160H620v160Z\"/>\n",
              "  </svg>\n",
              "    </button>\n",
              "\n",
              "  <style>\n",
              "    .colab-df-container {\n",
              "      display:flex;\n",
              "      gap: 12px;\n",
              "    }\n",
              "\n",
              "    .colab-df-convert {\n",
              "      background-color: #E8F0FE;\n",
              "      border: none;\n",
              "      border-radius: 50%;\n",
              "      cursor: pointer;\n",
              "      display: none;\n",
              "      fill: #1967D2;\n",
              "      height: 32px;\n",
              "      padding: 0 0 0 0;\n",
              "      width: 32px;\n",
              "    }\n",
              "\n",
              "    .colab-df-convert:hover {\n",
              "      background-color: #E2EBFA;\n",
              "      box-shadow: 0px 1px 2px rgba(60, 64, 67, 0.3), 0px 1px 3px 1px rgba(60, 64, 67, 0.15);\n",
              "      fill: #174EA6;\n",
              "    }\n",
              "\n",
              "    .colab-df-buttons div {\n",
              "      margin-bottom: 4px;\n",
              "    }\n",
              "\n",
              "    [theme=dark] .colab-df-convert {\n",
              "      background-color: #3B4455;\n",
              "      fill: #D2E3FC;\n",
              "    }\n",
              "\n",
              "    [theme=dark] .colab-df-convert:hover {\n",
              "      background-color: #434B5C;\n",
              "      box-shadow: 0px 1px 3px 1px rgba(0, 0, 0, 0.15);\n",
              "      filter: drop-shadow(0px 1px 2px rgba(0, 0, 0, 0.3));\n",
              "      fill: #FFFFFF;\n",
              "    }\n",
              "  </style>\n",
              "\n",
              "    <script>\n",
              "      const buttonEl =\n",
              "        document.querySelector('#df-21bac263-1cff-41ac-b407-8cab4ec911c4 button.colab-df-convert');\n",
              "      buttonEl.style.display =\n",
              "        google.colab.kernel.accessAllowed ? 'block' : 'none';\n",
              "\n",
              "      async function convertToInteractive(key) {\n",
              "        const element = document.querySelector('#df-21bac263-1cff-41ac-b407-8cab4ec911c4');\n",
              "        const dataTable =\n",
              "          await google.colab.kernel.invokeFunction('convertToInteractive',\n",
              "                                                    [key], {});\n",
              "        if (!dataTable) return;\n",
              "\n",
              "        const docLinkHtml = 'Like what you see? Visit the ' +\n",
              "          '<a target=\"_blank\" href=https://colab.research.google.com/notebooks/data_table.ipynb>data table notebook</a>'\n",
              "          + ' to learn more about interactive tables.';\n",
              "        element.innerHTML = '';\n",
              "        dataTable['output_type'] = 'display_data';\n",
              "        await google.colab.output.renderOutput(dataTable, element);\n",
              "        const docLink = document.createElement('div');\n",
              "        docLink.innerHTML = docLinkHtml;\n",
              "        element.appendChild(docLink);\n",
              "      }\n",
              "    </script>\n",
              "  </div>\n",
              "\n",
              "\n",
              "<div id=\"df-39b7e2ec-cfc9-4be9-86f9-8af323ca2a4b\">\n",
              "  <button class=\"colab-df-quickchart\" onclick=\"quickchart('df-39b7e2ec-cfc9-4be9-86f9-8af323ca2a4b')\"\n",
              "            title=\"Suggest charts\"\n",
              "            style=\"display:none;\">\n",
              "\n",
              "<svg xmlns=\"http://www.w3.org/2000/svg\" height=\"24px\"viewBox=\"0 0 24 24\"\n",
              "     width=\"24px\">\n",
              "    <g>\n",
              "        <path d=\"M19 3H5c-1.1 0-2 .9-2 2v14c0 1.1.9 2 2 2h14c1.1 0 2-.9 2-2V5c0-1.1-.9-2-2-2zM9 17H7v-7h2v7zm4 0h-2V7h2v10zm4 0h-2v-4h2v4z\"/>\n",
              "    </g>\n",
              "</svg>\n",
              "  </button>\n",
              "\n",
              "<style>\n",
              "  .colab-df-quickchart {\n",
              "      --bg-color: #E8F0FE;\n",
              "      --fill-color: #1967D2;\n",
              "      --hover-bg-color: #E2EBFA;\n",
              "      --hover-fill-color: #174EA6;\n",
              "      --disabled-fill-color: #AAA;\n",
              "      --disabled-bg-color: #DDD;\n",
              "  }\n",
              "\n",
              "  [theme=dark] .colab-df-quickchart {\n",
              "      --bg-color: #3B4455;\n",
              "      --fill-color: #D2E3FC;\n",
              "      --hover-bg-color: #434B5C;\n",
              "      --hover-fill-color: #FFFFFF;\n",
              "      --disabled-bg-color: #3B4455;\n",
              "      --disabled-fill-color: #666;\n",
              "  }\n",
              "\n",
              "  .colab-df-quickchart {\n",
              "    background-color: var(--bg-color);\n",
              "    border: none;\n",
              "    border-radius: 50%;\n",
              "    cursor: pointer;\n",
              "    display: none;\n",
              "    fill: var(--fill-color);\n",
              "    height: 32px;\n",
              "    padding: 0;\n",
              "    width: 32px;\n",
              "  }\n",
              "\n",
              "  .colab-df-quickchart:hover {\n",
              "    background-color: var(--hover-bg-color);\n",
              "    box-shadow: 0 1px 2px rgba(60, 64, 67, 0.3), 0 1px 3px 1px rgba(60, 64, 67, 0.15);\n",
              "    fill: var(--button-hover-fill-color);\n",
              "  }\n",
              "\n",
              "  .colab-df-quickchart-complete:disabled,\n",
              "  .colab-df-quickchart-complete:disabled:hover {\n",
              "    background-color: var(--disabled-bg-color);\n",
              "    fill: var(--disabled-fill-color);\n",
              "    box-shadow: none;\n",
              "  }\n",
              "\n",
              "  .colab-df-spinner {\n",
              "    border: 2px solid var(--fill-color);\n",
              "    border-color: transparent;\n",
              "    border-bottom-color: var(--fill-color);\n",
              "    animation:\n",
              "      spin 1s steps(1) infinite;\n",
              "  }\n",
              "\n",
              "  @keyframes spin {\n",
              "    0% {\n",
              "      border-color: transparent;\n",
              "      border-bottom-color: var(--fill-color);\n",
              "      border-left-color: var(--fill-color);\n",
              "    }\n",
              "    20% {\n",
              "      border-color: transparent;\n",
              "      border-left-color: var(--fill-color);\n",
              "      border-top-color: var(--fill-color);\n",
              "    }\n",
              "    30% {\n",
              "      border-color: transparent;\n",
              "      border-left-color: var(--fill-color);\n",
              "      border-top-color: var(--fill-color);\n",
              "      border-right-color: var(--fill-color);\n",
              "    }\n",
              "    40% {\n",
              "      border-color: transparent;\n",
              "      border-right-color: var(--fill-color);\n",
              "      border-top-color: var(--fill-color);\n",
              "    }\n",
              "    60% {\n",
              "      border-color: transparent;\n",
              "      border-right-color: var(--fill-color);\n",
              "    }\n",
              "    80% {\n",
              "      border-color: transparent;\n",
              "      border-right-color: var(--fill-color);\n",
              "      border-bottom-color: var(--fill-color);\n",
              "    }\n",
              "    90% {\n",
              "      border-color: transparent;\n",
              "      border-bottom-color: var(--fill-color);\n",
              "    }\n",
              "  }\n",
              "</style>\n",
              "\n",
              "  <script>\n",
              "    async function quickchart(key) {\n",
              "      const quickchartButtonEl =\n",
              "        document.querySelector('#' + key + ' button');\n",
              "      quickchartButtonEl.disabled = true;  // To prevent multiple clicks.\n",
              "      quickchartButtonEl.classList.add('colab-df-spinner');\n",
              "      try {\n",
              "        const charts = await google.colab.kernel.invokeFunction(\n",
              "            'suggestCharts', [key], {});\n",
              "      } catch (error) {\n",
              "        console.error('Error during call to suggestCharts:', error);\n",
              "      }\n",
              "      quickchartButtonEl.classList.remove('colab-df-spinner');\n",
              "      quickchartButtonEl.classList.add('colab-df-quickchart-complete');\n",
              "    }\n",
              "    (() => {\n",
              "      let quickchartButtonEl =\n",
              "        document.querySelector('#df-39b7e2ec-cfc9-4be9-86f9-8af323ca2a4b button');\n",
              "      quickchartButtonEl.style.display =\n",
              "        google.colab.kernel.accessAllowed ? 'block' : 'none';\n",
              "    })();\n",
              "  </script>\n",
              "</div>\n",
              "    </div>\n",
              "  </div>\n"
            ],
            "application/vnd.google.colaboratory.intrinsic+json": {
              "type": "dataframe",
              "variable_name": "insurance",
              "summary": "{\n  \"name\": \"insurance\",\n  \"rows\": 1338,\n  \"fields\": [\n    {\n      \"column\": \"age\",\n      \"properties\": {\n        \"dtype\": \"number\",\n        \"std\": 14,\n        \"min\": 18,\n        \"max\": 64,\n        \"num_unique_values\": 47,\n        \"samples\": [\n          21,\n          45,\n          36\n        ],\n        \"semantic_type\": \"\",\n        \"description\": \"\"\n      }\n    },\n    {\n      \"column\": \"sex\",\n      \"properties\": {\n        \"dtype\": \"category\",\n        \"num_unique_values\": 2,\n        \"samples\": [\n          \"male\",\n          \"female\"\n        ],\n        \"semantic_type\": \"\",\n        \"description\": \"\"\n      }\n    },\n    {\n      \"column\": \"bmi\",\n      \"properties\": {\n        \"dtype\": \"number\",\n        \"std\": 6.098186911679014,\n        \"min\": 15.96,\n        \"max\": 53.13,\n        \"num_unique_values\": 548,\n        \"samples\": [\n          23.18,\n          26.885\n        ],\n        \"semantic_type\": \"\",\n        \"description\": \"\"\n      }\n    },\n    {\n      \"column\": \"children\",\n      \"properties\": {\n        \"dtype\": \"number\",\n        \"std\": 1,\n        \"min\": 0,\n        \"max\": 5,\n        \"num_unique_values\": 6,\n        \"samples\": [\n          0,\n          1\n        ],\n        \"semantic_type\": \"\",\n        \"description\": \"\"\n      }\n    },\n    {\n      \"column\": \"smoker\",\n      \"properties\": {\n        \"dtype\": \"category\",\n        \"num_unique_values\": 2,\n        \"samples\": [\n          \"no\",\n          \"yes\"\n        ],\n        \"semantic_type\": \"\",\n        \"description\": \"\"\n      }\n    },\n    {\n      \"column\": \"region\",\n      \"properties\": {\n        \"dtype\": \"category\",\n        \"num_unique_values\": 4,\n        \"samples\": [\n          \"southeast\",\n          \"northeast\"\n        ],\n        \"semantic_type\": \"\",\n        \"description\": \"\"\n      }\n    },\n    {\n      \"column\": \"charges\",\n      \"properties\": {\n        \"dtype\": \"number\",\n        \"std\": 12110.011236694001,\n        \"min\": 1121.8739,\n        \"max\": 63770.42801,\n        \"num_unique_values\": 1337,\n        \"samples\": [\n          8688.85885,\n          5708.867\n        ],\n        \"semantic_type\": \"\",\n        \"description\": \"\"\n      }\n    }\n  ]\n}"
            }
          },
          "metadata": {},
          "execution_count": 79
        }
      ]
    },
    {
      "cell_type": "code",
      "source": [
        "insurance[\"smoker\"], insurance[\"age\"]"
      ],
      "metadata": {
        "id": "47JEsMf0Le6f",
        "outputId": "3699c884-d71e-4062-abae-2e0d6df364c0",
        "colab": {
          "base_uri": "https://localhost:8080/"
        }
      },
      "execution_count": 82,
      "outputs": [
        {
          "output_type": "execute_result",
          "data": {
            "text/plain": [
              "(0       yes\n",
              " 1        no\n",
              " 2        no\n",
              " 3        no\n",
              " 4        no\n",
              "        ... \n",
              " 1333     no\n",
              " 1334     no\n",
              " 1335     no\n",
              " 1336     no\n",
              " 1337    yes\n",
              " Name: smoker, Length: 1338, dtype: object,\n",
              " 0       19\n",
              " 1       18\n",
              " 2       28\n",
              " 3       33\n",
              " 4       32\n",
              "         ..\n",
              " 1333    50\n",
              " 1334    18\n",
              " 1335    18\n",
              " 1336    21\n",
              " 1337    61\n",
              " Name: age, Length: 1338, dtype: int64)"
            ]
          },
          "metadata": {},
          "execution_count": 82
        }
      ]
    },
    {
      "cell_type": "code",
      "source": [
        "# Let's try one-hot encode our DataFrame so it's all numbers\n",
        "insurance_one_hot = pd.get_dummies(insurance)\n",
        "insurance_one_hot.head()"
      ],
      "metadata": {
        "id": "0Z4aOwP7L-kF",
        "outputId": "b041cdcf-85c9-486a-a991-9b767de3e88f",
        "colab": {
          "base_uri": "https://localhost:8080/",
          "height": 206
        }
      },
      "execution_count": 86,
      "outputs": [
        {
          "output_type": "execute_result",
          "data": {
            "text/plain": [
              "   age     bmi  children      charges  sex_female  sex_male  smoker_no  \\\n",
              "0   19  27.900         0  16884.92400           1         0          0   \n",
              "1   18  33.770         1   1725.55230           0         1          1   \n",
              "2   28  33.000         3   4449.46200           0         1          1   \n",
              "3   33  22.705         0  21984.47061           0         1          1   \n",
              "4   32  28.880         0   3866.85520           0         1          1   \n",
              "\n",
              "   smoker_yes  region_northeast  region_northwest  region_southeast  \\\n",
              "0           1                 0                 0                 0   \n",
              "1           0                 0                 0                 1   \n",
              "2           0                 0                 0                 1   \n",
              "3           0                 0                 1                 0   \n",
              "4           0                 0                 1                 0   \n",
              "\n",
              "   region_southwest  \n",
              "0                 1  \n",
              "1                 0  \n",
              "2                 0  \n",
              "3                 0  \n",
              "4                 0  "
            ],
            "text/html": [
              "\n",
              "  <div id=\"df-5da5eba8-e25e-4f21-a93f-359c581f2875\" class=\"colab-df-container\">\n",
              "    <div>\n",
              "<style scoped>\n",
              "    .dataframe tbody tr th:only-of-type {\n",
              "        vertical-align: middle;\n",
              "    }\n",
              "\n",
              "    .dataframe tbody tr th {\n",
              "        vertical-align: top;\n",
              "    }\n",
              "\n",
              "    .dataframe thead th {\n",
              "        text-align: right;\n",
              "    }\n",
              "</style>\n",
              "<table border=\"1\" class=\"dataframe\">\n",
              "  <thead>\n",
              "    <tr style=\"text-align: right;\">\n",
              "      <th></th>\n",
              "      <th>age</th>\n",
              "      <th>bmi</th>\n",
              "      <th>children</th>\n",
              "      <th>charges</th>\n",
              "      <th>sex_female</th>\n",
              "      <th>sex_male</th>\n",
              "      <th>smoker_no</th>\n",
              "      <th>smoker_yes</th>\n",
              "      <th>region_northeast</th>\n",
              "      <th>region_northwest</th>\n",
              "      <th>region_southeast</th>\n",
              "      <th>region_southwest</th>\n",
              "    </tr>\n",
              "  </thead>\n",
              "  <tbody>\n",
              "    <tr>\n",
              "      <th>0</th>\n",
              "      <td>19</td>\n",
              "      <td>27.900</td>\n",
              "      <td>0</td>\n",
              "      <td>16884.92400</td>\n",
              "      <td>1</td>\n",
              "      <td>0</td>\n",
              "      <td>0</td>\n",
              "      <td>1</td>\n",
              "      <td>0</td>\n",
              "      <td>0</td>\n",
              "      <td>0</td>\n",
              "      <td>1</td>\n",
              "    </tr>\n",
              "    <tr>\n",
              "      <th>1</th>\n",
              "      <td>18</td>\n",
              "      <td>33.770</td>\n",
              "      <td>1</td>\n",
              "      <td>1725.55230</td>\n",
              "      <td>0</td>\n",
              "      <td>1</td>\n",
              "      <td>1</td>\n",
              "      <td>0</td>\n",
              "      <td>0</td>\n",
              "      <td>0</td>\n",
              "      <td>1</td>\n",
              "      <td>0</td>\n",
              "    </tr>\n",
              "    <tr>\n",
              "      <th>2</th>\n",
              "      <td>28</td>\n",
              "      <td>33.000</td>\n",
              "      <td>3</td>\n",
              "      <td>4449.46200</td>\n",
              "      <td>0</td>\n",
              "      <td>1</td>\n",
              "      <td>1</td>\n",
              "      <td>0</td>\n",
              "      <td>0</td>\n",
              "      <td>0</td>\n",
              "      <td>1</td>\n",
              "      <td>0</td>\n",
              "    </tr>\n",
              "    <tr>\n",
              "      <th>3</th>\n",
              "      <td>33</td>\n",
              "      <td>22.705</td>\n",
              "      <td>0</td>\n",
              "      <td>21984.47061</td>\n",
              "      <td>0</td>\n",
              "      <td>1</td>\n",
              "      <td>1</td>\n",
              "      <td>0</td>\n",
              "      <td>0</td>\n",
              "      <td>1</td>\n",
              "      <td>0</td>\n",
              "      <td>0</td>\n",
              "    </tr>\n",
              "    <tr>\n",
              "      <th>4</th>\n",
              "      <td>32</td>\n",
              "      <td>28.880</td>\n",
              "      <td>0</td>\n",
              "      <td>3866.85520</td>\n",
              "      <td>0</td>\n",
              "      <td>1</td>\n",
              "      <td>1</td>\n",
              "      <td>0</td>\n",
              "      <td>0</td>\n",
              "      <td>1</td>\n",
              "      <td>0</td>\n",
              "      <td>0</td>\n",
              "    </tr>\n",
              "  </tbody>\n",
              "</table>\n",
              "</div>\n",
              "    <div class=\"colab-df-buttons\">\n",
              "\n",
              "  <div class=\"colab-df-container\">\n",
              "    <button class=\"colab-df-convert\" onclick=\"convertToInteractive('df-5da5eba8-e25e-4f21-a93f-359c581f2875')\"\n",
              "            title=\"Convert this dataframe to an interactive table.\"\n",
              "            style=\"display:none;\">\n",
              "\n",
              "  <svg xmlns=\"http://www.w3.org/2000/svg\" height=\"24px\" viewBox=\"0 -960 960 960\">\n",
              "    <path d=\"M120-120v-720h720v720H120Zm60-500h600v-160H180v160Zm220 220h160v-160H400v160Zm0 220h160v-160H400v160ZM180-400h160v-160H180v160Zm440 0h160v-160H620v160ZM180-180h160v-160H180v160Zm440 0h160v-160H620v160Z\"/>\n",
              "  </svg>\n",
              "    </button>\n",
              "\n",
              "  <style>\n",
              "    .colab-df-container {\n",
              "      display:flex;\n",
              "      gap: 12px;\n",
              "    }\n",
              "\n",
              "    .colab-df-convert {\n",
              "      background-color: #E8F0FE;\n",
              "      border: none;\n",
              "      border-radius: 50%;\n",
              "      cursor: pointer;\n",
              "      display: none;\n",
              "      fill: #1967D2;\n",
              "      height: 32px;\n",
              "      padding: 0 0 0 0;\n",
              "      width: 32px;\n",
              "    }\n",
              "\n",
              "    .colab-df-convert:hover {\n",
              "      background-color: #E2EBFA;\n",
              "      box-shadow: 0px 1px 2px rgba(60, 64, 67, 0.3), 0px 1px 3px 1px rgba(60, 64, 67, 0.15);\n",
              "      fill: #174EA6;\n",
              "    }\n",
              "\n",
              "    .colab-df-buttons div {\n",
              "      margin-bottom: 4px;\n",
              "    }\n",
              "\n",
              "    [theme=dark] .colab-df-convert {\n",
              "      background-color: #3B4455;\n",
              "      fill: #D2E3FC;\n",
              "    }\n",
              "\n",
              "    [theme=dark] .colab-df-convert:hover {\n",
              "      background-color: #434B5C;\n",
              "      box-shadow: 0px 1px 3px 1px rgba(0, 0, 0, 0.15);\n",
              "      filter: drop-shadow(0px 1px 2px rgba(0, 0, 0, 0.3));\n",
              "      fill: #FFFFFF;\n",
              "    }\n",
              "  </style>\n",
              "\n",
              "    <script>\n",
              "      const buttonEl =\n",
              "        document.querySelector('#df-5da5eba8-e25e-4f21-a93f-359c581f2875 button.colab-df-convert');\n",
              "      buttonEl.style.display =\n",
              "        google.colab.kernel.accessAllowed ? 'block' : 'none';\n",
              "\n",
              "      async function convertToInteractive(key) {\n",
              "        const element = document.querySelector('#df-5da5eba8-e25e-4f21-a93f-359c581f2875');\n",
              "        const dataTable =\n",
              "          await google.colab.kernel.invokeFunction('convertToInteractive',\n",
              "                                                    [key], {});\n",
              "        if (!dataTable) return;\n",
              "\n",
              "        const docLinkHtml = 'Like what you see? Visit the ' +\n",
              "          '<a target=\"_blank\" href=https://colab.research.google.com/notebooks/data_table.ipynb>data table notebook</a>'\n",
              "          + ' to learn more about interactive tables.';\n",
              "        element.innerHTML = '';\n",
              "        dataTable['output_type'] = 'display_data';\n",
              "        await google.colab.output.renderOutput(dataTable, element);\n",
              "        const docLink = document.createElement('div');\n",
              "        docLink.innerHTML = docLinkHtml;\n",
              "        element.appendChild(docLink);\n",
              "      }\n",
              "    </script>\n",
              "  </div>\n",
              "\n",
              "\n",
              "<div id=\"df-b981e01c-8cdb-4fe6-95a4-3bf6c623feae\">\n",
              "  <button class=\"colab-df-quickchart\" onclick=\"quickchart('df-b981e01c-8cdb-4fe6-95a4-3bf6c623feae')\"\n",
              "            title=\"Suggest charts\"\n",
              "            style=\"display:none;\">\n",
              "\n",
              "<svg xmlns=\"http://www.w3.org/2000/svg\" height=\"24px\"viewBox=\"0 0 24 24\"\n",
              "     width=\"24px\">\n",
              "    <g>\n",
              "        <path d=\"M19 3H5c-1.1 0-2 .9-2 2v14c0 1.1.9 2 2 2h14c1.1 0 2-.9 2-2V5c0-1.1-.9-2-2-2zM9 17H7v-7h2v7zm4 0h-2V7h2v10zm4 0h-2v-4h2v4z\"/>\n",
              "    </g>\n",
              "</svg>\n",
              "  </button>\n",
              "\n",
              "<style>\n",
              "  .colab-df-quickchart {\n",
              "      --bg-color: #E8F0FE;\n",
              "      --fill-color: #1967D2;\n",
              "      --hover-bg-color: #E2EBFA;\n",
              "      --hover-fill-color: #174EA6;\n",
              "      --disabled-fill-color: #AAA;\n",
              "      --disabled-bg-color: #DDD;\n",
              "  }\n",
              "\n",
              "  [theme=dark] .colab-df-quickchart {\n",
              "      --bg-color: #3B4455;\n",
              "      --fill-color: #D2E3FC;\n",
              "      --hover-bg-color: #434B5C;\n",
              "      --hover-fill-color: #FFFFFF;\n",
              "      --disabled-bg-color: #3B4455;\n",
              "      --disabled-fill-color: #666;\n",
              "  }\n",
              "\n",
              "  .colab-df-quickchart {\n",
              "    background-color: var(--bg-color);\n",
              "    border: none;\n",
              "    border-radius: 50%;\n",
              "    cursor: pointer;\n",
              "    display: none;\n",
              "    fill: var(--fill-color);\n",
              "    height: 32px;\n",
              "    padding: 0;\n",
              "    width: 32px;\n",
              "  }\n",
              "\n",
              "  .colab-df-quickchart:hover {\n",
              "    background-color: var(--hover-bg-color);\n",
              "    box-shadow: 0 1px 2px rgba(60, 64, 67, 0.3), 0 1px 3px 1px rgba(60, 64, 67, 0.15);\n",
              "    fill: var(--button-hover-fill-color);\n",
              "  }\n",
              "\n",
              "  .colab-df-quickchart-complete:disabled,\n",
              "  .colab-df-quickchart-complete:disabled:hover {\n",
              "    background-color: var(--disabled-bg-color);\n",
              "    fill: var(--disabled-fill-color);\n",
              "    box-shadow: none;\n",
              "  }\n",
              "\n",
              "  .colab-df-spinner {\n",
              "    border: 2px solid var(--fill-color);\n",
              "    border-color: transparent;\n",
              "    border-bottom-color: var(--fill-color);\n",
              "    animation:\n",
              "      spin 1s steps(1) infinite;\n",
              "  }\n",
              "\n",
              "  @keyframes spin {\n",
              "    0% {\n",
              "      border-color: transparent;\n",
              "      border-bottom-color: var(--fill-color);\n",
              "      border-left-color: var(--fill-color);\n",
              "    }\n",
              "    20% {\n",
              "      border-color: transparent;\n",
              "      border-left-color: var(--fill-color);\n",
              "      border-top-color: var(--fill-color);\n",
              "    }\n",
              "    30% {\n",
              "      border-color: transparent;\n",
              "      border-left-color: var(--fill-color);\n",
              "      border-top-color: var(--fill-color);\n",
              "      border-right-color: var(--fill-color);\n",
              "    }\n",
              "    40% {\n",
              "      border-color: transparent;\n",
              "      border-right-color: var(--fill-color);\n",
              "      border-top-color: var(--fill-color);\n",
              "    }\n",
              "    60% {\n",
              "      border-color: transparent;\n",
              "      border-right-color: var(--fill-color);\n",
              "    }\n",
              "    80% {\n",
              "      border-color: transparent;\n",
              "      border-right-color: var(--fill-color);\n",
              "      border-bottom-color: var(--fill-color);\n",
              "    }\n",
              "    90% {\n",
              "      border-color: transparent;\n",
              "      border-bottom-color: var(--fill-color);\n",
              "    }\n",
              "  }\n",
              "</style>\n",
              "\n",
              "  <script>\n",
              "    async function quickchart(key) {\n",
              "      const quickchartButtonEl =\n",
              "        document.querySelector('#' + key + ' button');\n",
              "      quickchartButtonEl.disabled = true;  // To prevent multiple clicks.\n",
              "      quickchartButtonEl.classList.add('colab-df-spinner');\n",
              "      try {\n",
              "        const charts = await google.colab.kernel.invokeFunction(\n",
              "            'suggestCharts', [key], {});\n",
              "      } catch (error) {\n",
              "        console.error('Error during call to suggestCharts:', error);\n",
              "      }\n",
              "      quickchartButtonEl.classList.remove('colab-df-spinner');\n",
              "      quickchartButtonEl.classList.add('colab-df-quickchart-complete');\n",
              "    }\n",
              "    (() => {\n",
              "      let quickchartButtonEl =\n",
              "        document.querySelector('#df-b981e01c-8cdb-4fe6-95a4-3bf6c623feae button');\n",
              "      quickchartButtonEl.style.display =\n",
              "        google.colab.kernel.accessAllowed ? 'block' : 'none';\n",
              "    })();\n",
              "  </script>\n",
              "</div>\n",
              "    </div>\n",
              "  </div>\n"
            ],
            "application/vnd.google.colaboratory.intrinsic+json": {
              "type": "dataframe",
              "variable_name": "insurance_one_hot",
              "summary": "{\n  \"name\": \"insurance_one_hot\",\n  \"rows\": 1338,\n  \"fields\": [\n    {\n      \"column\": \"age\",\n      \"properties\": {\n        \"dtype\": \"number\",\n        \"std\": 14,\n        \"min\": 18,\n        \"max\": 64,\n        \"num_unique_values\": 47,\n        \"samples\": [\n          21,\n          45,\n          36\n        ],\n        \"semantic_type\": \"\",\n        \"description\": \"\"\n      }\n    },\n    {\n      \"column\": \"bmi\",\n      \"properties\": {\n        \"dtype\": \"number\",\n        \"std\": 6.098186911679014,\n        \"min\": 15.96,\n        \"max\": 53.13,\n        \"num_unique_values\": 548,\n        \"samples\": [\n          23.18,\n          26.885,\n          29.26\n        ],\n        \"semantic_type\": \"\",\n        \"description\": \"\"\n      }\n    },\n    {\n      \"column\": \"children\",\n      \"properties\": {\n        \"dtype\": \"number\",\n        \"std\": 1,\n        \"min\": 0,\n        \"max\": 5,\n        \"num_unique_values\": 6,\n        \"samples\": [\n          0,\n          1,\n          4\n        ],\n        \"semantic_type\": \"\",\n        \"description\": \"\"\n      }\n    },\n    {\n      \"column\": \"charges\",\n      \"properties\": {\n        \"dtype\": \"number\",\n        \"std\": 12110.011236694001,\n        \"min\": 1121.8739,\n        \"max\": 63770.42801,\n        \"num_unique_values\": 1337,\n        \"samples\": [\n          8688.85885,\n          5708.867,\n          11436.73815\n        ],\n        \"semantic_type\": \"\",\n        \"description\": \"\"\n      }\n    },\n    {\n      \"column\": \"sex_female\",\n      \"properties\": {\n        \"dtype\": \"uint8\",\n        \"num_unique_values\": 2,\n        \"samples\": [\n          0,\n          1\n        ],\n        \"semantic_type\": \"\",\n        \"description\": \"\"\n      }\n    },\n    {\n      \"column\": \"sex_male\",\n      \"properties\": {\n        \"dtype\": \"uint8\",\n        \"num_unique_values\": 2,\n        \"samples\": [\n          1,\n          0\n        ],\n        \"semantic_type\": \"\",\n        \"description\": \"\"\n      }\n    },\n    {\n      \"column\": \"smoker_no\",\n      \"properties\": {\n        \"dtype\": \"uint8\",\n        \"num_unique_values\": 2,\n        \"samples\": [\n          1,\n          0\n        ],\n        \"semantic_type\": \"\",\n        \"description\": \"\"\n      }\n    },\n    {\n      \"column\": \"smoker_yes\",\n      \"properties\": {\n        \"dtype\": \"uint8\",\n        \"num_unique_values\": 2,\n        \"samples\": [\n          0,\n          1\n        ],\n        \"semantic_type\": \"\",\n        \"description\": \"\"\n      }\n    },\n    {\n      \"column\": \"region_northeast\",\n      \"properties\": {\n        \"dtype\": \"uint8\",\n        \"num_unique_values\": 2,\n        \"samples\": [\n          1,\n          0\n        ],\n        \"semantic_type\": \"\",\n        \"description\": \"\"\n      }\n    },\n    {\n      \"column\": \"region_northwest\",\n      \"properties\": {\n        \"dtype\": \"uint8\",\n        \"num_unique_values\": 2,\n        \"samples\": [\n          1,\n          0\n        ],\n        \"semantic_type\": \"\",\n        \"description\": \"\"\n      }\n    },\n    {\n      \"column\": \"region_southeast\",\n      \"properties\": {\n        \"dtype\": \"uint8\",\n        \"num_unique_values\": 2,\n        \"samples\": [\n          1,\n          0\n        ],\n        \"semantic_type\": \"\",\n        \"description\": \"\"\n      }\n    },\n    {\n      \"column\": \"region_southwest\",\n      \"properties\": {\n        \"dtype\": \"uint8\",\n        \"num_unique_values\": 2,\n        \"samples\": [\n          0,\n          1\n        ],\n        \"semantic_type\": \"\",\n        \"description\": \"\"\n      }\n    }\n  ]\n}"
            }
          },
          "metadata": {},
          "execution_count": 86
        }
      ]
    },
    {
      "cell_type": "code",
      "source": [
        "# Create X & y values (features and labels)\n",
        "X = insurance_one_hot.drop(\"charges\", axis=1)\n",
        "y = insurance_one_hot[\"charges\"]"
      ],
      "metadata": {
        "id": "emonuX8TOPfs"
      },
      "execution_count": 90,
      "outputs": []
    },
    {
      "cell_type": "code",
      "source": [
        "# View X\n",
        "X.head()"
      ],
      "metadata": {
        "id": "7tKSAdarOClF",
        "outputId": "b4490ec5-4dd2-4ad0-95fe-765b1c9e5ff7",
        "colab": {
          "base_uri": "https://localhost:8080/",
          "height": 206
        }
      },
      "execution_count": 91,
      "outputs": [
        {
          "output_type": "execute_result",
          "data": {
            "text/plain": [
              "   age     bmi  children  sex_female  sex_male  smoker_no  smoker_yes  \\\n",
              "0   19  27.900         0           1         0          0           1   \n",
              "1   18  33.770         1           0         1          1           0   \n",
              "2   28  33.000         3           0         1          1           0   \n",
              "3   33  22.705         0           0         1          1           0   \n",
              "4   32  28.880         0           0         1          1           0   \n",
              "\n",
              "   region_northeast  region_northwest  region_southeast  region_southwest  \n",
              "0                 0                 0                 0                 1  \n",
              "1                 0                 0                 1                 0  \n",
              "2                 0                 0                 1                 0  \n",
              "3                 0                 1                 0                 0  \n",
              "4                 0                 1                 0                 0  "
            ],
            "text/html": [
              "\n",
              "  <div id=\"df-83c720d2-cab4-4b3e-853d-a5d887012829\" class=\"colab-df-container\">\n",
              "    <div>\n",
              "<style scoped>\n",
              "    .dataframe tbody tr th:only-of-type {\n",
              "        vertical-align: middle;\n",
              "    }\n",
              "\n",
              "    .dataframe tbody tr th {\n",
              "        vertical-align: top;\n",
              "    }\n",
              "\n",
              "    .dataframe thead th {\n",
              "        text-align: right;\n",
              "    }\n",
              "</style>\n",
              "<table border=\"1\" class=\"dataframe\">\n",
              "  <thead>\n",
              "    <tr style=\"text-align: right;\">\n",
              "      <th></th>\n",
              "      <th>age</th>\n",
              "      <th>bmi</th>\n",
              "      <th>children</th>\n",
              "      <th>sex_female</th>\n",
              "      <th>sex_male</th>\n",
              "      <th>smoker_no</th>\n",
              "      <th>smoker_yes</th>\n",
              "      <th>region_northeast</th>\n",
              "      <th>region_northwest</th>\n",
              "      <th>region_southeast</th>\n",
              "      <th>region_southwest</th>\n",
              "    </tr>\n",
              "  </thead>\n",
              "  <tbody>\n",
              "    <tr>\n",
              "      <th>0</th>\n",
              "      <td>19</td>\n",
              "      <td>27.900</td>\n",
              "      <td>0</td>\n",
              "      <td>1</td>\n",
              "      <td>0</td>\n",
              "      <td>0</td>\n",
              "      <td>1</td>\n",
              "      <td>0</td>\n",
              "      <td>0</td>\n",
              "      <td>0</td>\n",
              "      <td>1</td>\n",
              "    </tr>\n",
              "    <tr>\n",
              "      <th>1</th>\n",
              "      <td>18</td>\n",
              "      <td>33.770</td>\n",
              "      <td>1</td>\n",
              "      <td>0</td>\n",
              "      <td>1</td>\n",
              "      <td>1</td>\n",
              "      <td>0</td>\n",
              "      <td>0</td>\n",
              "      <td>0</td>\n",
              "      <td>1</td>\n",
              "      <td>0</td>\n",
              "    </tr>\n",
              "    <tr>\n",
              "      <th>2</th>\n",
              "      <td>28</td>\n",
              "      <td>33.000</td>\n",
              "      <td>3</td>\n",
              "      <td>0</td>\n",
              "      <td>1</td>\n",
              "      <td>1</td>\n",
              "      <td>0</td>\n",
              "      <td>0</td>\n",
              "      <td>0</td>\n",
              "      <td>1</td>\n",
              "      <td>0</td>\n",
              "    </tr>\n",
              "    <tr>\n",
              "      <th>3</th>\n",
              "      <td>33</td>\n",
              "      <td>22.705</td>\n",
              "      <td>0</td>\n",
              "      <td>0</td>\n",
              "      <td>1</td>\n",
              "      <td>1</td>\n",
              "      <td>0</td>\n",
              "      <td>0</td>\n",
              "      <td>1</td>\n",
              "      <td>0</td>\n",
              "      <td>0</td>\n",
              "    </tr>\n",
              "    <tr>\n",
              "      <th>4</th>\n",
              "      <td>32</td>\n",
              "      <td>28.880</td>\n",
              "      <td>0</td>\n",
              "      <td>0</td>\n",
              "      <td>1</td>\n",
              "      <td>1</td>\n",
              "      <td>0</td>\n",
              "      <td>0</td>\n",
              "      <td>1</td>\n",
              "      <td>0</td>\n",
              "      <td>0</td>\n",
              "    </tr>\n",
              "  </tbody>\n",
              "</table>\n",
              "</div>\n",
              "    <div class=\"colab-df-buttons\">\n",
              "\n",
              "  <div class=\"colab-df-container\">\n",
              "    <button class=\"colab-df-convert\" onclick=\"convertToInteractive('df-83c720d2-cab4-4b3e-853d-a5d887012829')\"\n",
              "            title=\"Convert this dataframe to an interactive table.\"\n",
              "            style=\"display:none;\">\n",
              "\n",
              "  <svg xmlns=\"http://www.w3.org/2000/svg\" height=\"24px\" viewBox=\"0 -960 960 960\">\n",
              "    <path d=\"M120-120v-720h720v720H120Zm60-500h600v-160H180v160Zm220 220h160v-160H400v160Zm0 220h160v-160H400v160ZM180-400h160v-160H180v160Zm440 0h160v-160H620v160ZM180-180h160v-160H180v160Zm440 0h160v-160H620v160Z\"/>\n",
              "  </svg>\n",
              "    </button>\n",
              "\n",
              "  <style>\n",
              "    .colab-df-container {\n",
              "      display:flex;\n",
              "      gap: 12px;\n",
              "    }\n",
              "\n",
              "    .colab-df-convert {\n",
              "      background-color: #E8F0FE;\n",
              "      border: none;\n",
              "      border-radius: 50%;\n",
              "      cursor: pointer;\n",
              "      display: none;\n",
              "      fill: #1967D2;\n",
              "      height: 32px;\n",
              "      padding: 0 0 0 0;\n",
              "      width: 32px;\n",
              "    }\n",
              "\n",
              "    .colab-df-convert:hover {\n",
              "      background-color: #E2EBFA;\n",
              "      box-shadow: 0px 1px 2px rgba(60, 64, 67, 0.3), 0px 1px 3px 1px rgba(60, 64, 67, 0.15);\n",
              "      fill: #174EA6;\n",
              "    }\n",
              "\n",
              "    .colab-df-buttons div {\n",
              "      margin-bottom: 4px;\n",
              "    }\n",
              "\n",
              "    [theme=dark] .colab-df-convert {\n",
              "      background-color: #3B4455;\n",
              "      fill: #D2E3FC;\n",
              "    }\n",
              "\n",
              "    [theme=dark] .colab-df-convert:hover {\n",
              "      background-color: #434B5C;\n",
              "      box-shadow: 0px 1px 3px 1px rgba(0, 0, 0, 0.15);\n",
              "      filter: drop-shadow(0px 1px 2px rgba(0, 0, 0, 0.3));\n",
              "      fill: #FFFFFF;\n",
              "    }\n",
              "  </style>\n",
              "\n",
              "    <script>\n",
              "      const buttonEl =\n",
              "        document.querySelector('#df-83c720d2-cab4-4b3e-853d-a5d887012829 button.colab-df-convert');\n",
              "      buttonEl.style.display =\n",
              "        google.colab.kernel.accessAllowed ? 'block' : 'none';\n",
              "\n",
              "      async function convertToInteractive(key) {\n",
              "        const element = document.querySelector('#df-83c720d2-cab4-4b3e-853d-a5d887012829');\n",
              "        const dataTable =\n",
              "          await google.colab.kernel.invokeFunction('convertToInteractive',\n",
              "                                                    [key], {});\n",
              "        if (!dataTable) return;\n",
              "\n",
              "        const docLinkHtml = 'Like what you see? Visit the ' +\n",
              "          '<a target=\"_blank\" href=https://colab.research.google.com/notebooks/data_table.ipynb>data table notebook</a>'\n",
              "          + ' to learn more about interactive tables.';\n",
              "        element.innerHTML = '';\n",
              "        dataTable['output_type'] = 'display_data';\n",
              "        await google.colab.output.renderOutput(dataTable, element);\n",
              "        const docLink = document.createElement('div');\n",
              "        docLink.innerHTML = docLinkHtml;\n",
              "        element.appendChild(docLink);\n",
              "      }\n",
              "    </script>\n",
              "  </div>\n",
              "\n",
              "\n",
              "<div id=\"df-c8a50f1a-90b6-4d73-906e-4ca1bc6b4ef9\">\n",
              "  <button class=\"colab-df-quickchart\" onclick=\"quickchart('df-c8a50f1a-90b6-4d73-906e-4ca1bc6b4ef9')\"\n",
              "            title=\"Suggest charts\"\n",
              "            style=\"display:none;\">\n",
              "\n",
              "<svg xmlns=\"http://www.w3.org/2000/svg\" height=\"24px\"viewBox=\"0 0 24 24\"\n",
              "     width=\"24px\">\n",
              "    <g>\n",
              "        <path d=\"M19 3H5c-1.1 0-2 .9-2 2v14c0 1.1.9 2 2 2h14c1.1 0 2-.9 2-2V5c0-1.1-.9-2-2-2zM9 17H7v-7h2v7zm4 0h-2V7h2v10zm4 0h-2v-4h2v4z\"/>\n",
              "    </g>\n",
              "</svg>\n",
              "  </button>\n",
              "\n",
              "<style>\n",
              "  .colab-df-quickchart {\n",
              "      --bg-color: #E8F0FE;\n",
              "      --fill-color: #1967D2;\n",
              "      --hover-bg-color: #E2EBFA;\n",
              "      --hover-fill-color: #174EA6;\n",
              "      --disabled-fill-color: #AAA;\n",
              "      --disabled-bg-color: #DDD;\n",
              "  }\n",
              "\n",
              "  [theme=dark] .colab-df-quickchart {\n",
              "      --bg-color: #3B4455;\n",
              "      --fill-color: #D2E3FC;\n",
              "      --hover-bg-color: #434B5C;\n",
              "      --hover-fill-color: #FFFFFF;\n",
              "      --disabled-bg-color: #3B4455;\n",
              "      --disabled-fill-color: #666;\n",
              "  }\n",
              "\n",
              "  .colab-df-quickchart {\n",
              "    background-color: var(--bg-color);\n",
              "    border: none;\n",
              "    border-radius: 50%;\n",
              "    cursor: pointer;\n",
              "    display: none;\n",
              "    fill: var(--fill-color);\n",
              "    height: 32px;\n",
              "    padding: 0;\n",
              "    width: 32px;\n",
              "  }\n",
              "\n",
              "  .colab-df-quickchart:hover {\n",
              "    background-color: var(--hover-bg-color);\n",
              "    box-shadow: 0 1px 2px rgba(60, 64, 67, 0.3), 0 1px 3px 1px rgba(60, 64, 67, 0.15);\n",
              "    fill: var(--button-hover-fill-color);\n",
              "  }\n",
              "\n",
              "  .colab-df-quickchart-complete:disabled,\n",
              "  .colab-df-quickchart-complete:disabled:hover {\n",
              "    background-color: var(--disabled-bg-color);\n",
              "    fill: var(--disabled-fill-color);\n",
              "    box-shadow: none;\n",
              "  }\n",
              "\n",
              "  .colab-df-spinner {\n",
              "    border: 2px solid var(--fill-color);\n",
              "    border-color: transparent;\n",
              "    border-bottom-color: var(--fill-color);\n",
              "    animation:\n",
              "      spin 1s steps(1) infinite;\n",
              "  }\n",
              "\n",
              "  @keyframes spin {\n",
              "    0% {\n",
              "      border-color: transparent;\n",
              "      border-bottom-color: var(--fill-color);\n",
              "      border-left-color: var(--fill-color);\n",
              "    }\n",
              "    20% {\n",
              "      border-color: transparent;\n",
              "      border-left-color: var(--fill-color);\n",
              "      border-top-color: var(--fill-color);\n",
              "    }\n",
              "    30% {\n",
              "      border-color: transparent;\n",
              "      border-left-color: var(--fill-color);\n",
              "      border-top-color: var(--fill-color);\n",
              "      border-right-color: var(--fill-color);\n",
              "    }\n",
              "    40% {\n",
              "      border-color: transparent;\n",
              "      border-right-color: var(--fill-color);\n",
              "      border-top-color: var(--fill-color);\n",
              "    }\n",
              "    60% {\n",
              "      border-color: transparent;\n",
              "      border-right-color: var(--fill-color);\n",
              "    }\n",
              "    80% {\n",
              "      border-color: transparent;\n",
              "      border-right-color: var(--fill-color);\n",
              "      border-bottom-color: var(--fill-color);\n",
              "    }\n",
              "    90% {\n",
              "      border-color: transparent;\n",
              "      border-bottom-color: var(--fill-color);\n",
              "    }\n",
              "  }\n",
              "</style>\n",
              "\n",
              "  <script>\n",
              "    async function quickchart(key) {\n",
              "      const quickchartButtonEl =\n",
              "        document.querySelector('#' + key + ' button');\n",
              "      quickchartButtonEl.disabled = true;  // To prevent multiple clicks.\n",
              "      quickchartButtonEl.classList.add('colab-df-spinner');\n",
              "      try {\n",
              "        const charts = await google.colab.kernel.invokeFunction(\n",
              "            'suggestCharts', [key], {});\n",
              "      } catch (error) {\n",
              "        console.error('Error during call to suggestCharts:', error);\n",
              "      }\n",
              "      quickchartButtonEl.classList.remove('colab-df-spinner');\n",
              "      quickchartButtonEl.classList.add('colab-df-quickchart-complete');\n",
              "    }\n",
              "    (() => {\n",
              "      let quickchartButtonEl =\n",
              "        document.querySelector('#df-c8a50f1a-90b6-4d73-906e-4ca1bc6b4ef9 button');\n",
              "      quickchartButtonEl.style.display =\n",
              "        google.colab.kernel.accessAllowed ? 'block' : 'none';\n",
              "    })();\n",
              "  </script>\n",
              "</div>\n",
              "    </div>\n",
              "  </div>\n"
            ],
            "application/vnd.google.colaboratory.intrinsic+json": {
              "type": "dataframe",
              "variable_name": "X",
              "summary": "{\n  \"name\": \"X\",\n  \"rows\": 1338,\n  \"fields\": [\n    {\n      \"column\": \"age\",\n      \"properties\": {\n        \"dtype\": \"number\",\n        \"std\": 14,\n        \"min\": 18,\n        \"max\": 64,\n        \"num_unique_values\": 47,\n        \"samples\": [\n          21,\n          45,\n          36\n        ],\n        \"semantic_type\": \"\",\n        \"description\": \"\"\n      }\n    },\n    {\n      \"column\": \"bmi\",\n      \"properties\": {\n        \"dtype\": \"number\",\n        \"std\": 6.098186911679014,\n        \"min\": 15.96,\n        \"max\": 53.13,\n        \"num_unique_values\": 548,\n        \"samples\": [\n          23.18,\n          26.885,\n          29.26\n        ],\n        \"semantic_type\": \"\",\n        \"description\": \"\"\n      }\n    },\n    {\n      \"column\": \"children\",\n      \"properties\": {\n        \"dtype\": \"number\",\n        \"std\": 1,\n        \"min\": 0,\n        \"max\": 5,\n        \"num_unique_values\": 6,\n        \"samples\": [\n          0,\n          1,\n          4\n        ],\n        \"semantic_type\": \"\",\n        \"description\": \"\"\n      }\n    },\n    {\n      \"column\": \"sex_female\",\n      \"properties\": {\n        \"dtype\": \"uint8\",\n        \"num_unique_values\": 2,\n        \"samples\": [\n          0,\n          1\n        ],\n        \"semantic_type\": \"\",\n        \"description\": \"\"\n      }\n    },\n    {\n      \"column\": \"sex_male\",\n      \"properties\": {\n        \"dtype\": \"uint8\",\n        \"num_unique_values\": 2,\n        \"samples\": [\n          1,\n          0\n        ],\n        \"semantic_type\": \"\",\n        \"description\": \"\"\n      }\n    },\n    {\n      \"column\": \"smoker_no\",\n      \"properties\": {\n        \"dtype\": \"uint8\",\n        \"num_unique_values\": 2,\n        \"samples\": [\n          1,\n          0\n        ],\n        \"semantic_type\": \"\",\n        \"description\": \"\"\n      }\n    },\n    {\n      \"column\": \"smoker_yes\",\n      \"properties\": {\n        \"dtype\": \"uint8\",\n        \"num_unique_values\": 2,\n        \"samples\": [\n          0,\n          1\n        ],\n        \"semantic_type\": \"\",\n        \"description\": \"\"\n      }\n    },\n    {\n      \"column\": \"region_northeast\",\n      \"properties\": {\n        \"dtype\": \"uint8\",\n        \"num_unique_values\": 2,\n        \"samples\": [\n          1,\n          0\n        ],\n        \"semantic_type\": \"\",\n        \"description\": \"\"\n      }\n    },\n    {\n      \"column\": \"region_northwest\",\n      \"properties\": {\n        \"dtype\": \"uint8\",\n        \"num_unique_values\": 2,\n        \"samples\": [\n          1,\n          0\n        ],\n        \"semantic_type\": \"\",\n        \"description\": \"\"\n      }\n    },\n    {\n      \"column\": \"region_southeast\",\n      \"properties\": {\n        \"dtype\": \"uint8\",\n        \"num_unique_values\": 2,\n        \"samples\": [\n          1,\n          0\n        ],\n        \"semantic_type\": \"\",\n        \"description\": \"\"\n      }\n    },\n    {\n      \"column\": \"region_southwest\",\n      \"properties\": {\n        \"dtype\": \"uint8\",\n        \"num_unique_values\": 2,\n        \"samples\": [\n          0,\n          1\n        ],\n        \"semantic_type\": \"\",\n        \"description\": \"\"\n      }\n    }\n  ]\n}"
            }
          },
          "metadata": {},
          "execution_count": 91
        }
      ]
    },
    {
      "cell_type": "code",
      "source": [
        "# View y\n",
        "y.head()"
      ],
      "metadata": {
        "id": "HUmPGzLDOYkn",
        "outputId": "2b95e16b-73c6-46aa-a668-613d13b31479",
        "colab": {
          "base_uri": "https://localhost:8080/"
        }
      },
      "execution_count": 92,
      "outputs": [
        {
          "output_type": "execute_result",
          "data": {
            "text/plain": [
              "0    16884.92400\n",
              "1     1725.55230\n",
              "2     4449.46200\n",
              "3    21984.47061\n",
              "4     3866.85520\n",
              "Name: charges, dtype: float64"
            ]
          },
          "metadata": {},
          "execution_count": 92
        }
      ]
    },
    {
      "cell_type": "code",
      "source": [
        "# Create training and test sets\n",
        "from sklearn.model_selection import train_test_split\n",
        "X_train, X_test, y_train, y_test = train_test_split(X, y, test_size=0.2, random_state=42)\n",
        "len(X), len(X_train), len(X_test)"
      ],
      "metadata": {
        "id": "QY40vB4lNcub",
        "outputId": "c1aa9967-e259-4ede-d46c-d9fa651b9ae8",
        "colab": {
          "base_uri": "https://localhost:8080/"
        }
      },
      "execution_count": 95,
      "outputs": [
        {
          "output_type": "execute_result",
          "data": {
            "text/plain": [
              "(1338, 1070, 268)"
            ]
          },
          "metadata": {},
          "execution_count": 95
        }
      ]
    },
    {
      "cell_type": "code",
      "source": [
        "# Build a neural network (sort of like model_2 above)\n",
        "\n",
        "# Set random seed\n",
        "tf.random.set_seed(42)\n",
        "\n",
        "\n",
        "# 1. Create a model\n",
        "insurance_model = tf.keras.Sequential([\n",
        "    tf.keras.layers.Dense(10),\n",
        "    tf.keras.layers.Dense(1)\n",
        "])\n",
        "\n",
        "# 2. Compile the model\n",
        "insurance_model.compile(loss=tf.keras.losses.mae,\n",
        "                        optimizer=tf.keras.optimizers.SGD(),\n",
        "                        metrics=[\"mae\"]\n",
        "                        )\n",
        "# 3. Fit the model\n",
        "insurance_model.fit(X_train, y_train, epochs=100)"
      ],
      "metadata": {
        "id": "rkJthCGsNorB",
        "outputId": "613bb66a-b15f-410e-9efe-7dfb3aed1281",
        "colab": {
          "base_uri": "https://localhost:8080/"
        }
      },
      "execution_count": 99,
      "outputs": [
        {
          "output_type": "stream",
          "name": "stdout",
          "text": [
            "Epoch 1/100\n",
            "34/34 [==============================] - 0s 2ms/step - loss: 8586.0117 - mae: 8586.0117\n",
            "Epoch 2/100\n",
            "34/34 [==============================] - 0s 2ms/step - loss: 7790.1670 - mae: 7790.1670\n",
            "Epoch 3/100\n",
            "34/34 [==============================] - 0s 2ms/step - loss: 7612.4424 - mae: 7612.4424\n",
            "Epoch 4/100\n",
            "34/34 [==============================] - 0s 2ms/step - loss: 7546.6562 - mae: 7546.6562\n",
            "Epoch 5/100\n",
            "34/34 [==============================] - 0s 2ms/step - loss: 7693.8525 - mae: 7693.8525\n",
            "Epoch 6/100\n",
            "34/34 [==============================] - 0s 1ms/step - loss: 7654.1685 - mae: 7654.1685\n",
            "Epoch 7/100\n",
            "34/34 [==============================] - 0s 2ms/step - loss: 7580.6318 - mae: 7580.6318\n",
            "Epoch 8/100\n",
            "34/34 [==============================] - 0s 2ms/step - loss: 7720.9312 - mae: 7720.9312\n",
            "Epoch 9/100\n",
            "34/34 [==============================] - 0s 1ms/step - loss: 7508.4048 - mae: 7508.4048\n",
            "Epoch 10/100\n",
            "34/34 [==============================] - 0s 1ms/step - loss: 7671.9990 - mae: 7671.9990\n",
            "Epoch 11/100\n",
            "34/34 [==============================] - 0s 2ms/step - loss: 7637.9346 - mae: 7637.9346\n",
            "Epoch 12/100\n",
            "34/34 [==============================] - 0s 2ms/step - loss: 7667.1230 - mae: 7667.1230\n",
            "Epoch 13/100\n",
            "34/34 [==============================] - 0s 2ms/step - loss: 7731.4937 - mae: 7731.4937\n",
            "Epoch 14/100\n",
            "34/34 [==============================] - 0s 1ms/step - loss: 7797.3809 - mae: 7797.3809\n",
            "Epoch 15/100\n",
            "34/34 [==============================] - 0s 2ms/step - loss: 7425.0596 - mae: 7425.0596\n",
            "Epoch 16/100\n",
            "34/34 [==============================] - 0s 2ms/step - loss: 7796.4175 - mae: 7796.4175\n",
            "Epoch 17/100\n",
            "34/34 [==============================] - 0s 2ms/step - loss: 7522.8018 - mae: 7522.8018\n",
            "Epoch 18/100\n",
            "34/34 [==============================] - 0s 1ms/step - loss: 7842.7700 - mae: 7842.7700\n",
            "Epoch 19/100\n",
            "34/34 [==============================] - 0s 2ms/step - loss: 7634.7832 - mae: 7634.7832\n",
            "Epoch 20/100\n",
            "34/34 [==============================] - 0s 2ms/step - loss: 7876.6777 - mae: 7876.6777\n",
            "Epoch 21/100\n",
            "34/34 [==============================] - 0s 2ms/step - loss: 7531.6919 - mae: 7531.6919\n",
            "Epoch 22/100\n",
            "34/34 [==============================] - 0s 2ms/step - loss: 7847.6992 - mae: 7847.6992\n",
            "Epoch 23/100\n",
            "34/34 [==============================] - 0s 1ms/step - loss: 7632.1460 - mae: 7632.1460\n",
            "Epoch 24/100\n",
            "34/34 [==============================] - 0s 1ms/step - loss: 7525.8999 - mae: 7525.8999\n",
            "Epoch 25/100\n",
            "34/34 [==============================] - 0s 1ms/step - loss: 7607.8916 - mae: 7607.8916\n",
            "Epoch 26/100\n",
            "34/34 [==============================] - 0s 2ms/step - loss: 7586.5278 - mae: 7586.5278\n",
            "Epoch 27/100\n",
            "34/34 [==============================] - 0s 2ms/step - loss: 7711.0713 - mae: 7711.0713\n",
            "Epoch 28/100\n",
            "34/34 [==============================] - 0s 2ms/step - loss: 7371.1260 - mae: 7371.1260\n",
            "Epoch 29/100\n",
            "34/34 [==============================] - 0s 1ms/step - loss: 7443.2231 - mae: 7443.2231\n",
            "Epoch 30/100\n",
            "34/34 [==============================] - 0s 1ms/step - loss: 7602.2983 - mae: 7602.2983\n",
            "Epoch 31/100\n",
            "34/34 [==============================] - 0s 2ms/step - loss: 7551.5679 - mae: 7551.5679\n",
            "Epoch 32/100\n",
            "34/34 [==============================] - 0s 2ms/step - loss: 7565.4482 - mae: 7565.4482\n",
            "Epoch 33/100\n",
            "34/34 [==============================] - 0s 1ms/step - loss: 7470.8882 - mae: 7470.8882\n",
            "Epoch 34/100\n",
            "34/34 [==============================] - 0s 2ms/step - loss: 7405.1797 - mae: 7405.1797\n",
            "Epoch 35/100\n",
            "34/34 [==============================] - 0s 2ms/step - loss: 7482.5825 - mae: 7482.5825\n",
            "Epoch 36/100\n",
            "34/34 [==============================] - 0s 2ms/step - loss: 7580.6094 - mae: 7580.6094\n",
            "Epoch 37/100\n",
            "34/34 [==============================] - 0s 1ms/step - loss: 7704.5762 - mae: 7704.5762\n",
            "Epoch 38/100\n",
            "34/34 [==============================] - 0s 1ms/step - loss: 7435.1470 - mae: 7435.1470\n",
            "Epoch 39/100\n",
            "34/34 [==============================] - 0s 1ms/step - loss: 7542.9995 - mae: 7542.9995\n",
            "Epoch 40/100\n",
            "34/34 [==============================] - 0s 2ms/step - loss: 7589.4023 - mae: 7589.4023\n",
            "Epoch 41/100\n",
            "34/34 [==============================] - 0s 2ms/step - loss: 7699.1289 - mae: 7699.1289\n",
            "Epoch 42/100\n",
            "34/34 [==============================] - 0s 2ms/step - loss: 7745.5024 - mae: 7745.5024\n",
            "Epoch 43/100\n",
            "34/34 [==============================] - 0s 2ms/step - loss: 7641.3652 - mae: 7641.3652\n",
            "Epoch 44/100\n",
            "34/34 [==============================] - 0s 1ms/step - loss: 7295.5972 - mae: 7295.5972\n",
            "Epoch 45/100\n",
            "34/34 [==============================] - 0s 2ms/step - loss: 7529.0640 - mae: 7529.0640\n",
            "Epoch 46/100\n",
            "34/34 [==============================] - 0s 2ms/step - loss: 7448.2446 - mae: 7448.2446\n",
            "Epoch 47/100\n",
            "34/34 [==============================] - 0s 2ms/step - loss: 7319.2690 - mae: 7319.2690\n",
            "Epoch 48/100\n",
            "34/34 [==============================] - 0s 1ms/step - loss: 7611.5498 - mae: 7611.5498\n",
            "Epoch 49/100\n",
            "34/34 [==============================] - 0s 2ms/step - loss: 7532.0327 - mae: 7532.0327\n",
            "Epoch 50/100\n",
            "34/34 [==============================] - 0s 2ms/step - loss: 7485.7817 - mae: 7485.7817\n",
            "Epoch 51/100\n",
            "34/34 [==============================] - 0s 1ms/step - loss: 7370.2725 - mae: 7370.2725\n",
            "Epoch 52/100\n",
            "34/34 [==============================] - 0s 1ms/step - loss: 7504.3120 - mae: 7504.3120\n",
            "Epoch 53/100\n",
            "34/34 [==============================] - 0s 1ms/step - loss: 7450.9478 - mae: 7450.9478\n",
            "Epoch 54/100\n",
            "34/34 [==============================] - 0s 2ms/step - loss: 7239.4531 - mae: 7239.4531\n",
            "Epoch 55/100\n",
            "34/34 [==============================] - 0s 2ms/step - loss: 7378.0093 - mae: 7378.0093\n",
            "Epoch 56/100\n",
            "34/34 [==============================] - 0s 1ms/step - loss: 7370.9458 - mae: 7370.9458\n",
            "Epoch 57/100\n",
            "34/34 [==============================] - 0s 1ms/step - loss: 7524.3335 - mae: 7524.3335\n",
            "Epoch 58/100\n",
            "34/34 [==============================] - 0s 2ms/step - loss: 7443.2310 - mae: 7443.2310\n",
            "Epoch 59/100\n",
            "34/34 [==============================] - 0s 2ms/step - loss: 7666.8911 - mae: 7666.8911\n",
            "Epoch 60/100\n",
            "34/34 [==============================] - 0s 2ms/step - loss: 7325.8853 - mae: 7325.8853\n",
            "Epoch 61/100\n",
            "34/34 [==============================] - 0s 2ms/step - loss: 7355.8970 - mae: 7355.8970\n",
            "Epoch 62/100\n",
            "34/34 [==============================] - 0s 2ms/step - loss: 7252.5225 - mae: 7252.5225\n",
            "Epoch 63/100\n",
            "34/34 [==============================] - 0s 1ms/step - loss: 7286.9126 - mae: 7286.9126\n",
            "Epoch 64/100\n",
            "34/34 [==============================] - 0s 1ms/step - loss: 7239.7803 - mae: 7239.7803\n",
            "Epoch 65/100\n",
            "34/34 [==============================] - 0s 1ms/step - loss: 7338.5576 - mae: 7338.5576\n",
            "Epoch 66/100\n",
            "34/34 [==============================] - 0s 2ms/step - loss: 7478.5850 - mae: 7478.5850\n",
            "Epoch 67/100\n",
            "34/34 [==============================] - 0s 2ms/step - loss: 7430.8530 - mae: 7430.8530\n",
            "Epoch 68/100\n",
            "34/34 [==============================] - 0s 2ms/step - loss: 7492.9092 - mae: 7492.9092\n",
            "Epoch 69/100\n",
            "34/34 [==============================] - 0s 1ms/step - loss: 7648.2407 - mae: 7648.2407\n",
            "Epoch 70/100\n",
            "34/34 [==============================] - 0s 2ms/step - loss: 7504.5566 - mae: 7504.5566\n",
            "Epoch 71/100\n",
            "34/34 [==============================] - 0s 2ms/step - loss: 7383.6753 - mae: 7383.6753\n",
            "Epoch 72/100\n",
            "34/34 [==============================] - 0s 2ms/step - loss: 7357.2261 - mae: 7357.2261\n",
            "Epoch 73/100\n",
            "34/34 [==============================] - 0s 2ms/step - loss: 7437.4468 - mae: 7437.4468\n",
            "Epoch 74/100\n",
            "34/34 [==============================] - 0s 2ms/step - loss: 7380.7617 - mae: 7380.7617\n",
            "Epoch 75/100\n",
            "34/34 [==============================] - 0s 2ms/step - loss: 7279.1113 - mae: 7279.1113\n",
            "Epoch 76/100\n",
            "34/34 [==============================] - 0s 2ms/step - loss: 7076.8442 - mae: 7076.8442\n",
            "Epoch 77/100\n",
            "34/34 [==============================] - 0s 2ms/step - loss: 7295.0518 - mae: 7295.0518\n",
            "Epoch 78/100\n",
            "34/34 [==============================] - 0s 2ms/step - loss: 7342.6782 - mae: 7342.6782\n",
            "Epoch 79/100\n",
            "34/34 [==============================] - 0s 2ms/step - loss: 7564.9600 - mae: 7564.9600\n",
            "Epoch 80/100\n",
            "34/34 [==============================] - 0s 2ms/step - loss: 7246.3687 - mae: 7246.3687\n",
            "Epoch 81/100\n",
            "34/34 [==============================] - 0s 2ms/step - loss: 7289.8320 - mae: 7289.8320\n",
            "Epoch 82/100\n",
            "34/34 [==============================] - 0s 2ms/step - loss: 7342.2334 - mae: 7342.2334\n",
            "Epoch 83/100\n",
            "34/34 [==============================] - 0s 2ms/step - loss: 7363.6445 - mae: 7363.6445\n",
            "Epoch 84/100\n",
            "34/34 [==============================] - 0s 3ms/step - loss: 7392.8599 - mae: 7392.8599\n",
            "Epoch 85/100\n",
            "34/34 [==============================] - 0s 2ms/step - loss: 7524.7656 - mae: 7524.7656\n",
            "Epoch 86/100\n",
            "34/34 [==============================] - 0s 3ms/step - loss: 7446.4199 - mae: 7446.4199\n",
            "Epoch 87/100\n",
            "34/34 [==============================] - 0s 3ms/step - loss: 7269.8848 - mae: 7269.8848\n",
            "Epoch 88/100\n",
            "34/34 [==============================] - 0s 3ms/step - loss: 7228.1670 - mae: 7228.1670\n",
            "Epoch 89/100\n",
            "34/34 [==============================] - 0s 3ms/step - loss: 7416.0513 - mae: 7416.0513\n",
            "Epoch 90/100\n",
            "34/34 [==============================] - 0s 3ms/step - loss: 7291.1094 - mae: 7291.1094\n",
            "Epoch 91/100\n",
            "34/34 [==============================] - 0s 3ms/step - loss: 7235.5513 - mae: 7235.5513\n",
            "Epoch 92/100\n",
            "34/34 [==============================] - 0s 2ms/step - loss: 7287.5488 - mae: 7287.5488\n",
            "Epoch 93/100\n",
            "34/34 [==============================] - 0s 2ms/step - loss: 7461.2603 - mae: 7461.2603\n",
            "Epoch 94/100\n",
            "34/34 [==============================] - 0s 2ms/step - loss: 7300.1406 - mae: 7300.1406\n",
            "Epoch 95/100\n",
            "34/34 [==============================] - 0s 2ms/step - loss: 7524.6499 - mae: 7524.6499\n",
            "Epoch 96/100\n",
            "34/34 [==============================] - 0s 2ms/step - loss: 7265.2256 - mae: 7265.2256\n",
            "Epoch 97/100\n",
            "34/34 [==============================] - 0s 2ms/step - loss: 7138.7188 - mae: 7138.7188\n",
            "Epoch 98/100\n",
            "34/34 [==============================] - 0s 2ms/step - loss: 7332.3130 - mae: 7332.3130\n",
            "Epoch 99/100\n",
            "34/34 [==============================] - 0s 2ms/step - loss: 7340.4839 - mae: 7340.4839\n",
            "Epoch 100/100\n",
            "34/34 [==============================] - 0s 3ms/step - loss: 7111.5273 - mae: 7111.5273\n"
          ]
        },
        {
          "output_type": "execute_result",
          "data": {
            "text/plain": [
              "<keras.src.callbacks.History at 0x7f56e4ec9000>"
            ]
          },
          "metadata": {},
          "execution_count": 99
        }
      ]
    },
    {
      "cell_type": "code",
      "source": [],
      "metadata": {
        "id": "1rxwb4GuP9yA",
        "outputId": "bbc6d72c-abdf-44bb-83e5-dec72eed1e8e",
        "colab": {
          "base_uri": "https://localhost:8080/"
        }
      },
      "execution_count": 97,
      "outputs": [
        {
          "output_type": "stream",
          "name": "stdout",
          "text": [
            "Model: \"sequential_6\"\n",
            "_________________________________________________________________\n",
            " Layer (type)                Output Shape              Param #   \n",
            "=================================================================\n",
            " dense_7 (Dense)             (None, 10)                20        \n",
            "                                                                 \n",
            " dense_8 (Dense)             (None, 1)                 11        \n",
            "                                                                 \n",
            "=================================================================\n",
            "Total params: 31 (124.00 Byte)\n",
            "Trainable params: 31 (124.00 Byte)\n",
            "Non-trainable params: 0 (0.00 Byte)\n",
            "_________________________________________________________________\n"
          ]
        }
      ]
    },
    {
      "cell_type": "code",
      "source": [
        "# Check the results of the insurance model on the test data\n",
        "insurance_model.evaluate(X_test, y_test)"
      ],
      "metadata": {
        "id": "b6Z8nxptP_NI",
        "outputId": "c21da83d-3f0e-4490-a823-2c895dc313fb",
        "colab": {
          "base_uri": "https://localhost:8080/"
        }
      },
      "execution_count": 100,
      "outputs": [
        {
          "output_type": "stream",
          "name": "stdout",
          "text": [
            "9/9 [==============================] - 0s 3ms/step - loss: 7200.6304 - mae: 7200.6304\n"
          ]
        },
        {
          "output_type": "execute_result",
          "data": {
            "text/plain": [
              "[7200.63037109375, 7200.63037109375]"
            ]
          },
          "metadata": {},
          "execution_count": 100
        }
      ]
    },
    {
      "cell_type": "code",
      "source": [
        "y_train.median(), y_train.mean()"
      ],
      "metadata": {
        "id": "7pELPbglRYjz",
        "outputId": "713fd588-7d66-47a4-db03-bb5570cabb0c",
        "colab": {
          "base_uri": "https://localhost:8080/"
        }
      },
      "execution_count": 103,
      "outputs": [
        {
          "output_type": "execute_result",
          "data": {
            "text/plain": [
              "(9575.4421, 13346.089736364485)"
            ]
          },
          "metadata": {},
          "execution_count": 103
        }
      ]
    },
    {
      "cell_type": "markdown",
      "source": [
        "Right now it looks like our model isn't performing too well... let's try improve it!\n",
        "\n",
        "To try improve our model, we'll run 2 experiments:\n",
        "\n",
        "1. Add an extra layer with more hiddens units and use the Adam optimizer\n",
        "2. Train for longer (200 epochs)"
      ],
      "metadata": {
        "id": "XmlCvQMeRgU2"
      }
    },
    {
      "cell_type": "code",
      "source": [
        "# Set random seed\n",
        "tf.random.set_seed(42)\n",
        "\n",
        "# 1. Create the model\n",
        "insurance_model_2 = tf.keras.Sequential([\n",
        "    tf.keras.layers.Dense(100),\n",
        "    tf.keras.layers.Dense(10),\n",
        "    tf.keras.layers.Dense(1)\n",
        "])\n",
        "\n",
        "# 2. Compile the model\n",
        "insurance_model_2.compile(loss=tf.keras.losses.mae,\n",
        "                          optimizer=tf.keras.optimizers.Adam(),\n",
        "                          metrics=[\"mae\"])\n",
        "\n",
        "# 3. Fit the model\n",
        "insurance_model_2.fit(X_train, y_train, epochs=100, verbose=1)"
      ],
      "metadata": {
        "id": "M0ZDci1MRxuf",
        "outputId": "c32ba503-7d66-4489-d921-64263072a74a",
        "colab": {
          "base_uri": "https://localhost:8080/"
        }
      },
      "execution_count": 109,
      "outputs": [
        {
          "output_type": "stream",
          "name": "stdout",
          "text": [
            "Epoch 1/100\n",
            "34/34 [==============================] - 1s 2ms/step - loss: 13292.5732 - mae: 13292.5732\n",
            "Epoch 2/100\n",
            "34/34 [==============================] - 0s 2ms/step - loss: 13134.6514 - mae: 13134.6514\n",
            "Epoch 3/100\n",
            "34/34 [==============================] - 0s 2ms/step - loss: 12796.7500 - mae: 12796.7500\n",
            "Epoch 4/100\n",
            "34/34 [==============================] - 0s 2ms/step - loss: 12122.6641 - mae: 12122.6641\n",
            "Epoch 5/100\n",
            "34/34 [==============================] - 0s 2ms/step - loss: 10991.1309 - mae: 10991.1309\n",
            "Epoch 6/100\n",
            "34/34 [==============================] - 0s 2ms/step - loss: 9549.8418 - mae: 9549.8418\n",
            "Epoch 7/100\n",
            "34/34 [==============================] - 0s 2ms/step - loss: 8219.7705 - mae: 8219.7705\n",
            "Epoch 8/100\n",
            "34/34 [==============================] - 0s 2ms/step - loss: 7566.2798 - mae: 7566.2798\n",
            "Epoch 9/100\n",
            "34/34 [==============================] - 0s 2ms/step - loss: 7451.0161 - mae: 7451.0161\n",
            "Epoch 10/100\n",
            "34/34 [==============================] - 0s 2ms/step - loss: 7429.1924 - mae: 7429.1924\n",
            "Epoch 11/100\n",
            "34/34 [==============================] - 0s 2ms/step - loss: 7410.0366 - mae: 7410.0366\n",
            "Epoch 12/100\n",
            "34/34 [==============================] - 0s 2ms/step - loss: 7387.5601 - mae: 7387.5601\n",
            "Epoch 13/100\n",
            "34/34 [==============================] - 0s 2ms/step - loss: 7366.6719 - mae: 7366.6719\n",
            "Epoch 14/100\n",
            "34/34 [==============================] - 0s 2ms/step - loss: 7343.8965 - mae: 7343.8965\n",
            "Epoch 15/100\n",
            "34/34 [==============================] - 0s 2ms/step - loss: 7324.2627 - mae: 7324.2627\n",
            "Epoch 16/100\n",
            "34/34 [==============================] - 0s 2ms/step - loss: 7301.1245 - mae: 7301.1245\n",
            "Epoch 17/100\n",
            "34/34 [==============================] - 0s 2ms/step - loss: 7280.3574 - mae: 7280.3574\n",
            "Epoch 18/100\n",
            "34/34 [==============================] - 0s 3ms/step - loss: 7256.2295 - mae: 7256.2295\n",
            "Epoch 19/100\n",
            "34/34 [==============================] - 0s 4ms/step - loss: 7233.4048 - mae: 7233.4048\n",
            "Epoch 20/100\n",
            "34/34 [==============================] - 0s 3ms/step - loss: 7209.2373 - mae: 7209.2373\n",
            "Epoch 21/100\n",
            "34/34 [==============================] - 0s 3ms/step - loss: 7189.3794 - mae: 7189.3794\n",
            "Epoch 22/100\n",
            "34/34 [==============================] - 0s 3ms/step - loss: 7161.4434 - mae: 7161.4434\n",
            "Epoch 23/100\n",
            "34/34 [==============================] - 0s 3ms/step - loss: 7135.5654 - mae: 7135.5654\n",
            "Epoch 24/100\n",
            "34/34 [==============================] - 0s 3ms/step - loss: 7109.9688 - mae: 7109.9688\n",
            "Epoch 25/100\n",
            "34/34 [==============================] - 0s 3ms/step - loss: 7089.8486 - mae: 7089.8486\n",
            "Epoch 26/100\n",
            "34/34 [==============================] - 0s 3ms/step - loss: 7058.6094 - mae: 7058.6094\n",
            "Epoch 27/100\n",
            "34/34 [==============================] - 0s 3ms/step - loss: 7028.2227 - mae: 7028.2227\n",
            "Epoch 28/100\n",
            "34/34 [==============================] - 0s 3ms/step - loss: 6998.9058 - mae: 6998.9058\n",
            "Epoch 29/100\n",
            "34/34 [==============================] - 0s 3ms/step - loss: 6969.3354 - mae: 6969.3354\n",
            "Epoch 30/100\n",
            "34/34 [==============================] - 0s 4ms/step - loss: 6941.2578 - mae: 6941.2578\n",
            "Epoch 31/100\n",
            "34/34 [==============================] - 0s 3ms/step - loss: 6908.3535 - mae: 6908.3535\n",
            "Epoch 32/100\n",
            "34/34 [==============================] - 0s 3ms/step - loss: 6878.8574 - mae: 6878.8574\n",
            "Epoch 33/100\n",
            "34/34 [==============================] - 0s 3ms/step - loss: 6846.5840 - mae: 6846.5840\n",
            "Epoch 34/100\n",
            "34/34 [==============================] - 0s 3ms/step - loss: 6813.7495 - mae: 6813.7495\n",
            "Epoch 35/100\n",
            "34/34 [==============================] - 0s 3ms/step - loss: 6778.3682 - mae: 6778.3682\n",
            "Epoch 36/100\n",
            "34/34 [==============================] - 0s 3ms/step - loss: 6742.4023 - mae: 6742.4023\n",
            "Epoch 37/100\n",
            "34/34 [==============================] - 0s 3ms/step - loss: 6705.1724 - mae: 6705.1724\n",
            "Epoch 38/100\n",
            "34/34 [==============================] - 0s 3ms/step - loss: 6672.3638 - mae: 6672.3638\n",
            "Epoch 39/100\n",
            "34/34 [==============================] - 0s 3ms/step - loss: 6633.8042 - mae: 6633.8042\n",
            "Epoch 40/100\n",
            "34/34 [==============================] - 0s 3ms/step - loss: 6597.7612 - mae: 6597.7612\n",
            "Epoch 41/100\n",
            "34/34 [==============================] - 0s 2ms/step - loss: 6566.4150 - mae: 6566.4150\n",
            "Epoch 42/100\n",
            "34/34 [==============================] - 0s 3ms/step - loss: 6541.7090 - mae: 6541.7090\n",
            "Epoch 43/100\n",
            "34/34 [==============================] - 0s 3ms/step - loss: 6512.0469 - mae: 6512.0469\n",
            "Epoch 44/100\n",
            "34/34 [==============================] - 0s 3ms/step - loss: 6490.6011 - mae: 6490.6011\n",
            "Epoch 45/100\n",
            "34/34 [==============================] - 0s 3ms/step - loss: 6480.4263 - mae: 6480.4263\n",
            "Epoch 46/100\n",
            "34/34 [==============================] - 0s 3ms/step - loss: 6462.1611 - mae: 6462.1611\n",
            "Epoch 47/100\n",
            "34/34 [==============================] - 0s 3ms/step - loss: 6445.2192 - mae: 6445.2192\n",
            "Epoch 48/100\n",
            "34/34 [==============================] - 0s 3ms/step - loss: 6431.3354 - mae: 6431.3354\n",
            "Epoch 49/100\n",
            "34/34 [==============================] - 0s 4ms/step - loss: 6418.5625 - mae: 6418.5625\n",
            "Epoch 50/100\n",
            "34/34 [==============================] - 0s 3ms/step - loss: 6404.2603 - mae: 6404.2603\n",
            "Epoch 51/100\n",
            "34/34 [==============================] - 0s 3ms/step - loss: 6391.2368 - mae: 6391.2368\n",
            "Epoch 52/100\n",
            "34/34 [==============================] - 0s 3ms/step - loss: 6379.0225 - mae: 6379.0225\n",
            "Epoch 53/100\n",
            "34/34 [==============================] - 0s 4ms/step - loss: 6364.8809 - mae: 6364.8809\n",
            "Epoch 54/100\n",
            "34/34 [==============================] - 0s 3ms/step - loss: 6350.6641 - mae: 6350.6641\n",
            "Epoch 55/100\n",
            "34/34 [==============================] - 0s 2ms/step - loss: 6336.6860 - mae: 6336.6860\n",
            "Epoch 56/100\n",
            "34/34 [==============================] - 0s 2ms/step - loss: 6322.2363 - mae: 6322.2363\n",
            "Epoch 57/100\n",
            "34/34 [==============================] - 0s 2ms/step - loss: 6308.8057 - mae: 6308.8057\n",
            "Epoch 58/100\n",
            "34/34 [==============================] - 0s 2ms/step - loss: 6294.8608 - mae: 6294.8608\n",
            "Epoch 59/100\n",
            "34/34 [==============================] - 0s 2ms/step - loss: 6279.2661 - mae: 6279.2661\n",
            "Epoch 60/100\n",
            "34/34 [==============================] - 0s 2ms/step - loss: 6268.7349 - mae: 6268.7349\n",
            "Epoch 61/100\n",
            "34/34 [==============================] - 0s 2ms/step - loss: 6248.5435 - mae: 6248.5435\n",
            "Epoch 62/100\n",
            "34/34 [==============================] - 0s 2ms/step - loss: 6236.5581 - mae: 6236.5581\n",
            "Epoch 63/100\n",
            "34/34 [==============================] - 0s 2ms/step - loss: 6217.0044 - mae: 6217.0044\n",
            "Epoch 64/100\n",
            "34/34 [==============================] - 0s 2ms/step - loss: 6199.5864 - mae: 6199.5864\n",
            "Epoch 65/100\n",
            "34/34 [==============================] - 0s 2ms/step - loss: 6182.1758 - mae: 6182.1758\n",
            "Epoch 66/100\n",
            "34/34 [==============================] - 0s 2ms/step - loss: 6164.3530 - mae: 6164.3530\n",
            "Epoch 67/100\n",
            "34/34 [==============================] - 0s 2ms/step - loss: 6151.5859 - mae: 6151.5859\n",
            "Epoch 68/100\n",
            "34/34 [==============================] - 0s 2ms/step - loss: 6128.6958 - mae: 6128.6958\n",
            "Epoch 69/100\n",
            "34/34 [==============================] - 0s 2ms/step - loss: 6111.9878 - mae: 6111.9878\n",
            "Epoch 70/100\n",
            "34/34 [==============================] - 0s 2ms/step - loss: 6091.2080 - mae: 6091.2080\n",
            "Epoch 71/100\n",
            "34/34 [==============================] - 0s 2ms/step - loss: 6070.9482 - mae: 6070.9482\n",
            "Epoch 72/100\n",
            "34/34 [==============================] - 0s 2ms/step - loss: 6051.4102 - mae: 6051.4102\n",
            "Epoch 73/100\n",
            "34/34 [==============================] - 0s 2ms/step - loss: 6036.2847 - mae: 6036.2847\n",
            "Epoch 74/100\n",
            "34/34 [==============================] - 0s 2ms/step - loss: 6007.5088 - mae: 6007.5088\n",
            "Epoch 75/100\n",
            "34/34 [==============================] - 0s 2ms/step - loss: 5985.1709 - mae: 5985.1709\n",
            "Epoch 76/100\n",
            "34/34 [==============================] - 0s 2ms/step - loss: 5971.9414 - mae: 5971.9414\n",
            "Epoch 77/100\n",
            "34/34 [==============================] - 0s 2ms/step - loss: 5938.5396 - mae: 5938.5396\n",
            "Epoch 78/100\n",
            "34/34 [==============================] - 0s 2ms/step - loss: 5913.6538 - mae: 5913.6538\n",
            "Epoch 79/100\n",
            "34/34 [==============================] - 0s 2ms/step - loss: 5888.3530 - mae: 5888.3530\n",
            "Epoch 80/100\n",
            "34/34 [==============================] - 0s 2ms/step - loss: 5859.7881 - mae: 5859.7881\n",
            "Epoch 81/100\n",
            "34/34 [==============================] - 0s 2ms/step - loss: 5833.5308 - mae: 5833.5308\n",
            "Epoch 82/100\n",
            "34/34 [==============================] - 0s 2ms/step - loss: 5803.8936 - mae: 5803.8936\n",
            "Epoch 83/100\n",
            "34/34 [==============================] - 0s 2ms/step - loss: 5775.3394 - mae: 5775.3394\n",
            "Epoch 84/100\n",
            "34/34 [==============================] - 0s 2ms/step - loss: 5741.3804 - mae: 5741.3804\n",
            "Epoch 85/100\n",
            "34/34 [==============================] - 0s 2ms/step - loss: 5716.6455 - mae: 5716.6455\n",
            "Epoch 86/100\n",
            "34/34 [==============================] - 0s 2ms/step - loss: 5679.2969 - mae: 5679.2969\n",
            "Epoch 87/100\n",
            "34/34 [==============================] - 0s 2ms/step - loss: 5640.7725 - mae: 5640.7725\n",
            "Epoch 88/100\n",
            "34/34 [==============================] - 0s 2ms/step - loss: 5605.3120 - mae: 5605.3120\n",
            "Epoch 89/100\n",
            "34/34 [==============================] - 0s 2ms/step - loss: 5564.6958 - mae: 5564.6958\n",
            "Epoch 90/100\n",
            "34/34 [==============================] - 0s 2ms/step - loss: 5522.1685 - mae: 5522.1685\n",
            "Epoch 91/100\n",
            "34/34 [==============================] - 0s 2ms/step - loss: 5485.2256 - mae: 5485.2256\n",
            "Epoch 92/100\n",
            "34/34 [==============================] - 0s 2ms/step - loss: 5434.8486 - mae: 5434.8486\n",
            "Epoch 93/100\n",
            "34/34 [==============================] - 0s 2ms/step - loss: 5390.8208 - mae: 5390.8208\n",
            "Epoch 94/100\n",
            "34/34 [==============================] - 0s 2ms/step - loss: 5342.5513 - mae: 5342.5513\n",
            "Epoch 95/100\n",
            "34/34 [==============================] - 0s 2ms/step - loss: 5289.5630 - mae: 5289.5630\n",
            "Epoch 96/100\n",
            "34/34 [==============================] - 0s 2ms/step - loss: 5243.0537 - mae: 5243.0537\n",
            "Epoch 97/100\n",
            "34/34 [==============================] - 0s 2ms/step - loss: 5186.9165 - mae: 5186.9165\n",
            "Epoch 98/100\n",
            "34/34 [==============================] - 0s 2ms/step - loss: 5123.4785 - mae: 5123.4785\n",
            "Epoch 99/100\n",
            "34/34 [==============================] - 0s 2ms/step - loss: 5063.5225 - mae: 5063.5225\n",
            "Epoch 100/100\n",
            "34/34 [==============================] - 0s 2ms/step - loss: 5006.3120 - mae: 5006.3120\n"
          ]
        },
        {
          "output_type": "execute_result",
          "data": {
            "text/plain": [
              "<keras.src.callbacks.History at 0x7f56e4a3f070>"
            ]
          },
          "metadata": {},
          "execution_count": 109
        }
      ]
    },
    {
      "cell_type": "code",
      "source": [
        "# Evaluate the larger model\n",
        "insurance_model_2.evaluate(X_test, y_test)"
      ],
      "metadata": {
        "id": "vrWjtBwSSRka",
        "outputId": "e8d5c0da-8b0b-424a-a817-6291ec7c1788",
        "colab": {
          "base_uri": "https://localhost:8080/"
        }
      },
      "execution_count": 110,
      "outputs": [
        {
          "output_type": "stream",
          "name": "stdout",
          "text": [
            "9/9 [==============================] - 0s 2ms/step - loss: 4874.3589 - mae: 4874.3589\n"
          ]
        },
        {
          "output_type": "execute_result",
          "data": {
            "text/plain": [
              "[4874.35888671875, 4874.35888671875]"
            ]
          },
          "metadata": {},
          "execution_count": 110
        }
      ]
    },
    {
      "cell_type": "code",
      "source": [
        "insurance_model.evaluate(X_test, y_test)"
      ],
      "metadata": {
        "id": "dilR9v7UTAQc",
        "outputId": "4c408e68-e9e9-403c-b504-707cb73c8d3a",
        "colab": {
          "base_uri": "https://localhost:8080/"
        }
      },
      "execution_count": 111,
      "outputs": [
        {
          "output_type": "stream",
          "name": "stdout",
          "text": [
            "9/9 [==============================] - 0s 6ms/step - loss: 7200.6304 - mae: 7200.6304\n"
          ]
        },
        {
          "output_type": "execute_result",
          "data": {
            "text/plain": [
              "[7200.63037109375, 7200.63037109375]"
            ]
          },
          "metadata": {},
          "execution_count": 111
        }
      ]
    },
    {
      "cell_type": "code",
      "source": [
        "# Set random seed\n",
        "tf.random.set_seed(42)\n",
        "\n",
        "# Create our model\n",
        "insurance_model_3 = tf.keras.Sequential([\n",
        "    tf.keras.layers.Dense(100),\n",
        "    tf.keras.layers.Dense(10),\n",
        "    tf.keras.layers.Dense(1)\n",
        "])\n",
        "\n",
        "# Compile model\n",
        "insurance_model_3.compile(loss=tf.keras.losses.mae,\n",
        "                          optimizer=tf.keras.optimizers.Adam(),\n",
        "                          metrics=[\"mae\"]\n",
        "                          )\n",
        "\n",
        "# 3. Fit the model\n",
        "history = insurance_model_3.fit(X_train, y_train, epochs=200)"
      ],
      "metadata": {
        "id": "3pMUKJ7LTndO",
        "outputId": "5557e18d-7724-455c-b4b1-552997817813",
        "colab": {
          "base_uri": "https://localhost:8080/"
        }
      },
      "execution_count": 112,
      "outputs": [
        {
          "output_type": "stream",
          "name": "stdout",
          "text": [
            "Epoch 1/200\n",
            "34/34 [==============================] - 2s 4ms/step - loss: 13308.3945 - mae: 13308.3945\n",
            "Epoch 2/200\n",
            "34/34 [==============================] - 0s 4ms/step - loss: 13194.6846 - mae: 13194.6846\n",
            "Epoch 3/200\n",
            "34/34 [==============================] - 0s 3ms/step - loss: 12934.0547 - mae: 12934.0547\n",
            "Epoch 4/200\n",
            "34/34 [==============================] - 0s 2ms/step - loss: 12381.8652 - mae: 12381.8652\n",
            "Epoch 5/200\n",
            "34/34 [==============================] - 0s 2ms/step - loss: 11391.9492 - mae: 11391.9492\n",
            "Epoch 6/200\n",
            "34/34 [==============================] - 0s 2ms/step - loss: 9996.5723 - mae: 9996.5723\n",
            "Epoch 7/200\n",
            "34/34 [==============================] - 0s 2ms/step - loss: 8558.0303 - mae: 8558.0303\n",
            "Epoch 8/200\n",
            "34/34 [==============================] - 0s 2ms/step - loss: 7668.6562 - mae: 7668.6562\n",
            "Epoch 9/200\n",
            "34/34 [==============================] - 0s 2ms/step - loss: 7461.5894 - mae: 7461.5894\n",
            "Epoch 10/200\n",
            "34/34 [==============================] - 0s 2ms/step - loss: 7434.3428 - mae: 7434.3428\n",
            "Epoch 11/200\n",
            "34/34 [==============================] - 0s 2ms/step - loss: 7416.8110 - mae: 7416.8110\n",
            "Epoch 12/200\n",
            "34/34 [==============================] - 0s 2ms/step - loss: 7396.1777 - mae: 7396.1777\n",
            "Epoch 13/200\n",
            "34/34 [==============================] - 0s 2ms/step - loss: 7377.5161 - mae: 7377.5161\n",
            "Epoch 14/200\n",
            "34/34 [==============================] - 0s 2ms/step - loss: 7356.5474 - mae: 7356.5474\n",
            "Epoch 15/200\n",
            "34/34 [==============================] - 0s 3ms/step - loss: 7338.9492 - mae: 7338.9492\n",
            "Epoch 16/200\n",
            "34/34 [==============================] - 0s 2ms/step - loss: 7318.0273 - mae: 7318.0273\n",
            "Epoch 17/200\n",
            "34/34 [==============================] - 0s 2ms/step - loss: 7300.0811 - mae: 7300.0811\n",
            "Epoch 18/200\n",
            "34/34 [==============================] - 0s 2ms/step - loss: 7278.1108 - mae: 7278.1108\n",
            "Epoch 19/200\n",
            "34/34 [==============================] - 0s 2ms/step - loss: 7257.6113 - mae: 7257.6113\n",
            "Epoch 20/200\n",
            "34/34 [==============================] - 0s 3ms/step - loss: 7236.6919 - mae: 7236.6919\n",
            "Epoch 21/200\n",
            "34/34 [==============================] - 0s 2ms/step - loss: 7218.7251 - mae: 7218.7251\n",
            "Epoch 22/200\n",
            "34/34 [==============================] - 0s 2ms/step - loss: 7194.9463 - mae: 7194.9463\n",
            "Epoch 23/200\n",
            "34/34 [==============================] - 0s 2ms/step - loss: 7172.8120 - mae: 7172.8120\n",
            "Epoch 24/200\n",
            "34/34 [==============================] - 0s 2ms/step - loss: 7150.5151 - mae: 7150.5151\n",
            "Epoch 25/200\n",
            "34/34 [==============================] - 0s 2ms/step - loss: 7135.4351 - mae: 7135.4351\n",
            "Epoch 26/200\n",
            "34/34 [==============================] - 0s 2ms/step - loss: 7106.0801 - mae: 7106.0801\n",
            "Epoch 27/200\n",
            "34/34 [==============================] - 0s 3ms/step - loss: 7080.1758 - mae: 7080.1758\n",
            "Epoch 28/200\n",
            "34/34 [==============================] - 0s 2ms/step - loss: 7055.0391 - mae: 7055.0391\n",
            "Epoch 29/200\n",
            "34/34 [==============================] - 0s 2ms/step - loss: 7030.4448 - mae: 7030.4448\n",
            "Epoch 30/200\n",
            "34/34 [==============================] - 0s 2ms/step - loss: 7006.1553 - mae: 7006.1553\n",
            "Epoch 31/200\n",
            "34/34 [==============================] - 0s 2ms/step - loss: 6978.5513 - mae: 6978.5513\n",
            "Epoch 32/200\n",
            "34/34 [==============================] - 0s 2ms/step - loss: 6954.2349 - mae: 6954.2349\n",
            "Epoch 33/200\n",
            "34/34 [==============================] - 0s 2ms/step - loss: 6925.0024 - mae: 6925.0024\n",
            "Epoch 34/200\n",
            "34/34 [==============================] - 0s 2ms/step - loss: 6896.9712 - mae: 6896.9712\n",
            "Epoch 35/200\n",
            "34/34 [==============================] - 0s 2ms/step - loss: 6868.4131 - mae: 6868.4131\n",
            "Epoch 36/200\n",
            "34/34 [==============================] - 0s 2ms/step - loss: 6838.7432 - mae: 6838.7432\n",
            "Epoch 37/200\n",
            "34/34 [==============================] - 0s 2ms/step - loss: 6807.8916 - mae: 6807.8916\n",
            "Epoch 38/200\n",
            "34/34 [==============================] - 0s 2ms/step - loss: 6779.4629 - mae: 6779.4629\n",
            "Epoch 39/200\n",
            "34/34 [==============================] - 0s 2ms/step - loss: 6743.6602 - mae: 6743.6602\n",
            "Epoch 40/200\n",
            "34/34 [==============================] - 0s 2ms/step - loss: 6709.9390 - mae: 6709.9390\n",
            "Epoch 41/200\n",
            "34/34 [==============================] - 0s 2ms/step - loss: 6677.9043 - mae: 6677.9043\n",
            "Epoch 42/200\n",
            "34/34 [==============================] - 0s 2ms/step - loss: 6648.0459 - mae: 6648.0459\n",
            "Epoch 43/200\n",
            "34/34 [==============================] - 0s 2ms/step - loss: 6611.5259 - mae: 6611.5259\n",
            "Epoch 44/200\n",
            "34/34 [==============================] - 0s 2ms/step - loss: 6579.7720 - mae: 6579.7720\n",
            "Epoch 45/200\n",
            "34/34 [==============================] - 0s 2ms/step - loss: 6553.4541 - mae: 6553.4541\n",
            "Epoch 46/200\n",
            "34/34 [==============================] - 0s 2ms/step - loss: 6526.8853 - mae: 6526.8853\n",
            "Epoch 47/200\n",
            "34/34 [==============================] - 0s 3ms/step - loss: 6504.9717 - mae: 6504.9717\n",
            "Epoch 48/200\n",
            "34/34 [==============================] - 0s 2ms/step - loss: 6485.9614 - mae: 6485.9614\n",
            "Epoch 49/200\n",
            "34/34 [==============================] - 0s 2ms/step - loss: 6470.6851 - mae: 6470.6851\n",
            "Epoch 50/200\n",
            "34/34 [==============================] - 0s 2ms/step - loss: 6456.0869 - mae: 6456.0869\n",
            "Epoch 51/200\n",
            "34/34 [==============================] - 0s 2ms/step - loss: 6442.2808 - mae: 6442.2808\n",
            "Epoch 52/200\n",
            "34/34 [==============================] - 0s 2ms/step - loss: 6431.7891 - mae: 6431.7891\n",
            "Epoch 53/200\n",
            "34/34 [==============================] - 0s 2ms/step - loss: 6418.0532 - mae: 6418.0532\n",
            "Epoch 54/200\n",
            "34/34 [==============================] - 0s 2ms/step - loss: 6405.2192 - mae: 6405.2192\n",
            "Epoch 55/200\n",
            "34/34 [==============================] - 0s 2ms/step - loss: 6392.5986 - mae: 6392.5986\n",
            "Epoch 56/200\n",
            "34/34 [==============================] - 0s 2ms/step - loss: 6380.0029 - mae: 6380.0029\n",
            "Epoch 57/200\n",
            "34/34 [==============================] - 0s 2ms/step - loss: 6368.8340 - mae: 6368.8340\n",
            "Epoch 58/200\n",
            "34/34 [==============================] - 0s 2ms/step - loss: 6355.3115 - mae: 6355.3115\n",
            "Epoch 59/200\n",
            "34/34 [==============================] - 0s 2ms/step - loss: 6342.5303 - mae: 6342.5303\n",
            "Epoch 60/200\n",
            "34/34 [==============================] - 0s 2ms/step - loss: 6332.3984 - mae: 6332.3984\n",
            "Epoch 61/200\n",
            "34/34 [==============================] - 0s 2ms/step - loss: 6315.7729 - mae: 6315.7729\n",
            "Epoch 62/200\n",
            "34/34 [==============================] - 0s 2ms/step - loss: 6303.9595 - mae: 6303.9595\n",
            "Epoch 63/200\n",
            "34/34 [==============================] - 0s 2ms/step - loss: 6289.3306 - mae: 6289.3306\n",
            "Epoch 64/200\n",
            "34/34 [==============================] - 0s 2ms/step - loss: 6274.6899 - mae: 6274.6899\n",
            "Epoch 65/200\n",
            "34/34 [==============================] - 0s 2ms/step - loss: 6259.7686 - mae: 6259.7686\n",
            "Epoch 66/200\n",
            "34/34 [==============================] - 0s 2ms/step - loss: 6245.4727 - mae: 6245.4727\n",
            "Epoch 67/200\n",
            "34/34 [==============================] - 0s 2ms/step - loss: 6234.1118 - mae: 6234.1118\n",
            "Epoch 68/200\n",
            "34/34 [==============================] - 0s 2ms/step - loss: 6216.9897 - mae: 6216.9897\n",
            "Epoch 69/200\n",
            "34/34 [==============================] - 0s 2ms/step - loss: 6201.5840 - mae: 6201.5840\n",
            "Epoch 70/200\n",
            "34/34 [==============================] - 0s 2ms/step - loss: 6183.9624 - mae: 6183.9624\n",
            "Epoch 71/200\n",
            "34/34 [==============================] - 0s 2ms/step - loss: 6167.1235 - mae: 6167.1235\n",
            "Epoch 72/200\n",
            "34/34 [==============================] - 0s 2ms/step - loss: 6152.9585 - mae: 6152.9585\n",
            "Epoch 73/200\n",
            "34/34 [==============================] - 0s 2ms/step - loss: 6138.9077 - mae: 6138.9077\n",
            "Epoch 74/200\n",
            "34/34 [==============================] - 0s 2ms/step - loss: 6116.3926 - mae: 6116.3926\n",
            "Epoch 75/200\n",
            "34/34 [==============================] - 0s 2ms/step - loss: 6100.0078 - mae: 6100.0078\n",
            "Epoch 76/200\n",
            "34/34 [==============================] - 0s 2ms/step - loss: 6086.1816 - mae: 6086.1816\n",
            "Epoch 77/200\n",
            "34/34 [==============================] - 0s 2ms/step - loss: 6058.1792 - mae: 6058.1792\n",
            "Epoch 78/200\n",
            "34/34 [==============================] - 0s 2ms/step - loss: 6040.3809 - mae: 6040.3809\n",
            "Epoch 79/200\n",
            "34/34 [==============================] - 0s 2ms/step - loss: 6020.0386 - mae: 6020.0386\n",
            "Epoch 80/200\n",
            "34/34 [==============================] - 0s 2ms/step - loss: 5998.3193 - mae: 5998.3193\n",
            "Epoch 81/200\n",
            "34/34 [==============================] - 0s 2ms/step - loss: 5977.6279 - mae: 5977.6279\n",
            "Epoch 82/200\n",
            "34/34 [==============================] - 0s 2ms/step - loss: 5956.0835 - mae: 5956.0835\n",
            "Epoch 83/200\n",
            "34/34 [==============================] - 0s 2ms/step - loss: 5931.2886 - mae: 5931.2886\n",
            "Epoch 84/200\n",
            "34/34 [==============================] - 0s 2ms/step - loss: 5905.0234 - mae: 5905.0234\n",
            "Epoch 85/200\n",
            "34/34 [==============================] - 0s 2ms/step - loss: 5886.2227 - mae: 5886.2227\n",
            "Epoch 86/200\n",
            "34/34 [==============================] - 0s 2ms/step - loss: 5855.3872 - mae: 5855.3872\n",
            "Epoch 87/200\n",
            "34/34 [==============================] - 0s 2ms/step - loss: 5827.1255 - mae: 5827.1255\n",
            "Epoch 88/200\n",
            "34/34 [==============================] - 0s 2ms/step - loss: 5803.1367 - mae: 5803.1367\n",
            "Epoch 89/200\n",
            "34/34 [==============================] - 0s 2ms/step - loss: 5769.7007 - mae: 5769.7007\n",
            "Epoch 90/200\n",
            "34/34 [==============================] - 0s 2ms/step - loss: 5738.8726 - mae: 5738.8726\n",
            "Epoch 91/200\n",
            "34/34 [==============================] - 0s 2ms/step - loss: 5711.1641 - mae: 5711.1641\n",
            "Epoch 92/200\n",
            "34/34 [==============================] - 0s 2ms/step - loss: 5671.7788 - mae: 5671.7788\n",
            "Epoch 93/200\n",
            "34/34 [==============================] - 0s 2ms/step - loss: 5641.4067 - mae: 5641.4067\n",
            "Epoch 94/200\n",
            "34/34 [==============================] - 0s 2ms/step - loss: 5609.7988 - mae: 5609.7988\n",
            "Epoch 95/200\n",
            "34/34 [==============================] - 0s 2ms/step - loss: 5566.7544 - mae: 5566.7544\n",
            "Epoch 96/200\n",
            "34/34 [==============================] - 0s 2ms/step - loss: 5528.5645 - mae: 5528.5645\n",
            "Epoch 97/200\n",
            "34/34 [==============================] - 0s 2ms/step - loss: 5488.6362 - mae: 5488.6362\n",
            "Epoch 98/200\n",
            "34/34 [==============================] - 0s 2ms/step - loss: 5441.6094 - mae: 5441.6094\n",
            "Epoch 99/200\n",
            "34/34 [==============================] - 0s 2ms/step - loss: 5397.4214 - mae: 5397.4214\n",
            "Epoch 100/200\n",
            "34/34 [==============================] - 0s 2ms/step - loss: 5355.0225 - mae: 5355.0225\n",
            "Epoch 101/200\n",
            "34/34 [==============================] - 0s 2ms/step - loss: 5299.5352 - mae: 5299.5352\n",
            "Epoch 102/200\n",
            "34/34 [==============================] - 0s 2ms/step - loss: 5247.9805 - mae: 5247.9805\n",
            "Epoch 103/200\n",
            "34/34 [==============================] - 0s 2ms/step - loss: 5194.0493 - mae: 5194.0493\n",
            "Epoch 104/200\n",
            "34/34 [==============================] - 0s 2ms/step - loss: 5132.2476 - mae: 5132.2476\n",
            "Epoch 105/200\n",
            "34/34 [==============================] - 0s 3ms/step - loss: 5070.9326 - mae: 5070.9326\n",
            "Epoch 106/200\n",
            "34/34 [==============================] - 0s 2ms/step - loss: 5005.3511 - mae: 5005.3511\n",
            "Epoch 107/200\n",
            "34/34 [==============================] - 0s 2ms/step - loss: 4936.0190 - mae: 4936.0190\n",
            "Epoch 108/200\n",
            "34/34 [==============================] - 0s 2ms/step - loss: 4869.4419 - mae: 4869.4419\n",
            "Epoch 109/200\n",
            "34/34 [==============================] - 0s 2ms/step - loss: 4797.7764 - mae: 4797.7764\n",
            "Epoch 110/200\n",
            "34/34 [==============================] - 0s 2ms/step - loss: 4713.3438 - mae: 4713.3438\n",
            "Epoch 111/200\n",
            "34/34 [==============================] - 0s 2ms/step - loss: 4631.2695 - mae: 4631.2695\n",
            "Epoch 112/200\n",
            "34/34 [==============================] - 0s 2ms/step - loss: 4555.9702 - mae: 4555.9702\n",
            "Epoch 113/200\n",
            "34/34 [==============================] - 0s 2ms/step - loss: 4458.1792 - mae: 4458.1792\n",
            "Epoch 114/200\n",
            "34/34 [==============================] - 0s 3ms/step - loss: 4376.4033 - mae: 4376.4033\n",
            "Epoch 115/200\n",
            "34/34 [==============================] - 0s 4ms/step - loss: 4288.1240 - mae: 4288.1240\n",
            "Epoch 116/200\n",
            "34/34 [==============================] - 0s 3ms/step - loss: 4209.2861 - mae: 4209.2861\n",
            "Epoch 117/200\n",
            "34/34 [==============================] - 0s 4ms/step - loss: 4135.5859 - mae: 4135.5859\n",
            "Epoch 118/200\n",
            "34/34 [==============================] - 0s 3ms/step - loss: 4070.4868 - mae: 4070.4868\n",
            "Epoch 119/200\n",
            "34/34 [==============================] - 0s 3ms/step - loss: 4019.5244 - mae: 4019.5244\n",
            "Epoch 120/200\n",
            "34/34 [==============================] - 0s 4ms/step - loss: 3961.0874 - mae: 3961.0874\n",
            "Epoch 121/200\n",
            "34/34 [==============================] - 0s 3ms/step - loss: 3932.1819 - mae: 3932.1819\n",
            "Epoch 122/200\n",
            "34/34 [==============================] - 0s 3ms/step - loss: 3911.3020 - mae: 3911.3020\n",
            "Epoch 123/200\n",
            "34/34 [==============================] - 0s 3ms/step - loss: 3877.0715 - mae: 3877.0715\n",
            "Epoch 124/200\n",
            "34/34 [==============================] - 0s 3ms/step - loss: 3860.0654 - mae: 3860.0654\n",
            "Epoch 125/200\n",
            "34/34 [==============================] - 0s 3ms/step - loss: 3842.3389 - mae: 3842.3389\n",
            "Epoch 126/200\n",
            "34/34 [==============================] - 0s 3ms/step - loss: 3846.2976 - mae: 3846.2976\n",
            "Epoch 127/200\n",
            "34/34 [==============================] - 0s 3ms/step - loss: 3834.5222 - mae: 3834.5222\n",
            "Epoch 128/200\n",
            "34/34 [==============================] - 0s 4ms/step - loss: 3824.4524 - mae: 3824.4524\n",
            "Epoch 129/200\n",
            "34/34 [==============================] - 0s 3ms/step - loss: 3824.7285 - mae: 3824.7285\n",
            "Epoch 130/200\n",
            "34/34 [==============================] - 0s 3ms/step - loss: 3808.6880 - mae: 3808.6880\n",
            "Epoch 131/200\n",
            "34/34 [==============================] - 0s 3ms/step - loss: 3803.5452 - mae: 3803.5452\n",
            "Epoch 132/200\n",
            "34/34 [==============================] - 0s 3ms/step - loss: 3795.4343 - mae: 3795.4343\n",
            "Epoch 133/200\n",
            "34/34 [==============================] - 0s 3ms/step - loss: 3790.0789 - mae: 3790.0789\n",
            "Epoch 134/200\n",
            "34/34 [==============================] - 0s 3ms/step - loss: 3788.8093 - mae: 3788.8093\n",
            "Epoch 135/200\n",
            "34/34 [==============================] - 0s 3ms/step - loss: 3783.9666 - mae: 3783.9666\n",
            "Epoch 136/200\n",
            "34/34 [==============================] - 0s 4ms/step - loss: 3781.6074 - mae: 3781.6074\n",
            "Epoch 137/200\n",
            "34/34 [==============================] - 0s 4ms/step - loss: 3787.9463 - mae: 3787.9463\n",
            "Epoch 138/200\n",
            "34/34 [==============================] - 0s 3ms/step - loss: 3795.6077 - mae: 3795.6077\n",
            "Epoch 139/200\n",
            "34/34 [==============================] - 0s 3ms/step - loss: 3775.9673 - mae: 3775.9673\n",
            "Epoch 140/200\n",
            "34/34 [==============================] - 0s 3ms/step - loss: 3776.1406 - mae: 3776.1406\n",
            "Epoch 141/200\n",
            "34/34 [==============================] - 0s 2ms/step - loss: 3777.3760 - mae: 3777.3760\n",
            "Epoch 142/200\n",
            "34/34 [==============================] - 0s 2ms/step - loss: 3776.6362 - mae: 3776.6362\n",
            "Epoch 143/200\n",
            "34/34 [==============================] - 0s 3ms/step - loss: 3767.9243 - mae: 3767.9243\n",
            "Epoch 144/200\n",
            "34/34 [==============================] - 0s 4ms/step - loss: 3763.4048 - mae: 3763.4048\n",
            "Epoch 145/200\n",
            "34/34 [==============================] - 0s 4ms/step - loss: 3764.7612 - mae: 3764.7612\n",
            "Epoch 146/200\n",
            "34/34 [==============================] - 0s 4ms/step - loss: 3767.1575 - mae: 3767.1575\n",
            "Epoch 147/200\n",
            "34/34 [==============================] - 0s 4ms/step - loss: 3765.2092 - mae: 3765.2092\n",
            "Epoch 148/200\n",
            "34/34 [==============================] - 0s 4ms/step - loss: 3770.1509 - mae: 3770.1509\n",
            "Epoch 149/200\n",
            "34/34 [==============================] - 0s 4ms/step - loss: 3755.5593 - mae: 3755.5593\n",
            "Epoch 150/200\n",
            "34/34 [==============================] - 0s 3ms/step - loss: 3751.1335 - mae: 3751.1335\n",
            "Epoch 151/200\n",
            "34/34 [==============================] - 0s 4ms/step - loss: 3753.2383 - mae: 3753.2383\n",
            "Epoch 152/200\n",
            "34/34 [==============================] - 0s 2ms/step - loss: 3755.1511 - mae: 3755.1511\n",
            "Epoch 153/200\n",
            "34/34 [==============================] - 0s 2ms/step - loss: 3752.2983 - mae: 3752.2983\n",
            "Epoch 154/200\n",
            "34/34 [==============================] - 0s 2ms/step - loss: 3748.7607 - mae: 3748.7607\n",
            "Epoch 155/200\n",
            "34/34 [==============================] - 0s 3ms/step - loss: 3752.2112 - mae: 3752.2112\n",
            "Epoch 156/200\n",
            "34/34 [==============================] - 0s 2ms/step - loss: 3748.8420 - mae: 3748.8420\n",
            "Epoch 157/200\n",
            "34/34 [==============================] - 0s 2ms/step - loss: 3745.5283 - mae: 3745.5283\n",
            "Epoch 158/200\n",
            "34/34 [==============================] - 0s 2ms/step - loss: 3741.3943 - mae: 3741.3943\n",
            "Epoch 159/200\n",
            "34/34 [==============================] - 0s 2ms/step - loss: 3740.4556 - mae: 3740.4556\n",
            "Epoch 160/200\n",
            "34/34 [==============================] - 0s 2ms/step - loss: 3745.5613 - mae: 3745.5613\n",
            "Epoch 161/200\n",
            "34/34 [==============================] - 0s 2ms/step - loss: 3740.9382 - mae: 3740.9382\n",
            "Epoch 162/200\n",
            "34/34 [==============================] - 0s 2ms/step - loss: 3735.1484 - mae: 3735.1484\n",
            "Epoch 163/200\n",
            "34/34 [==============================] - 0s 2ms/step - loss: 3735.2942 - mae: 3735.2942\n",
            "Epoch 164/200\n",
            "34/34 [==============================] - 0s 2ms/step - loss: 3738.6387 - mae: 3738.6387\n",
            "Epoch 165/200\n",
            "34/34 [==============================] - 0s 2ms/step - loss: 3728.0176 - mae: 3728.0176\n",
            "Epoch 166/200\n",
            "34/34 [==============================] - 0s 2ms/step - loss: 3733.7019 - mae: 3733.7019\n",
            "Epoch 167/200\n",
            "34/34 [==============================] - 0s 3ms/step - loss: 3733.2073 - mae: 3733.2073\n",
            "Epoch 168/200\n",
            "34/34 [==============================] - 0s 2ms/step - loss: 3726.4727 - mae: 3726.4727\n",
            "Epoch 169/200\n",
            "34/34 [==============================] - 0s 2ms/step - loss: 3726.8435 - mae: 3726.8435\n",
            "Epoch 170/200\n",
            "34/34 [==============================] - 0s 2ms/step - loss: 3720.5417 - mae: 3720.5417\n",
            "Epoch 171/200\n",
            "34/34 [==============================] - 0s 2ms/step - loss: 3719.7891 - mae: 3719.7891\n",
            "Epoch 172/200\n",
            "34/34 [==============================] - 0s 2ms/step - loss: 3720.7761 - mae: 3720.7761\n",
            "Epoch 173/200\n",
            "34/34 [==============================] - 0s 2ms/step - loss: 3717.0063 - mae: 3717.0063\n",
            "Epoch 174/200\n",
            "34/34 [==============================] - 0s 2ms/step - loss: 3722.3020 - mae: 3722.3020\n",
            "Epoch 175/200\n",
            "34/34 [==============================] - 0s 2ms/step - loss: 3725.7109 - mae: 3725.7109\n",
            "Epoch 176/200\n",
            "34/34 [==============================] - 0s 2ms/step - loss: 3718.7334 - mae: 3718.7334\n",
            "Epoch 177/200\n",
            "34/34 [==============================] - 0s 2ms/step - loss: 3711.0088 - mae: 3711.0088\n",
            "Epoch 178/200\n",
            "34/34 [==============================] - 0s 2ms/step - loss: 3712.7498 - mae: 3712.7498\n",
            "Epoch 179/200\n",
            "34/34 [==============================] - 0s 2ms/step - loss: 3716.6479 - mae: 3716.6479\n",
            "Epoch 180/200\n",
            "34/34 [==============================] - 0s 2ms/step - loss: 3724.8928 - mae: 3724.8928\n",
            "Epoch 181/200\n",
            "34/34 [==============================] - 0s 2ms/step - loss: 3709.6375 - mae: 3709.6375\n",
            "Epoch 182/200\n",
            "34/34 [==============================] - 0s 2ms/step - loss: 3707.7705 - mae: 3707.7705\n",
            "Epoch 183/200\n",
            "34/34 [==============================] - 0s 2ms/step - loss: 3705.1274 - mae: 3705.1274\n",
            "Epoch 184/200\n",
            "34/34 [==============================] - 0s 2ms/step - loss: 3710.7368 - mae: 3710.7368\n",
            "Epoch 185/200\n",
            "34/34 [==============================] - 0s 2ms/step - loss: 3707.4292 - mae: 3707.4292\n",
            "Epoch 186/200\n",
            "34/34 [==============================] - 0s 2ms/step - loss: 3708.0232 - mae: 3708.0232\n",
            "Epoch 187/200\n",
            "34/34 [==============================] - 0s 2ms/step - loss: 3701.9810 - mae: 3701.9810\n",
            "Epoch 188/200\n",
            "34/34 [==============================] - 0s 2ms/step - loss: 3705.7268 - mae: 3705.7268\n",
            "Epoch 189/200\n",
            "34/34 [==============================] - 0s 2ms/step - loss: 3697.4697 - mae: 3697.4697\n",
            "Epoch 190/200\n",
            "34/34 [==============================] - 0s 2ms/step - loss: 3697.2659 - mae: 3697.2659\n",
            "Epoch 191/200\n",
            "34/34 [==============================] - 0s 2ms/step - loss: 3712.1917 - mae: 3712.1917\n",
            "Epoch 192/200\n",
            "34/34 [==============================] - 0s 2ms/step - loss: 3697.1050 - mae: 3697.1050\n",
            "Epoch 193/200\n",
            "34/34 [==============================] - 0s 2ms/step - loss: 3688.1179 - mae: 3688.1179\n",
            "Epoch 194/200\n",
            "34/34 [==============================] - 0s 2ms/step - loss: 3689.5315 - mae: 3689.5315\n",
            "Epoch 195/200\n",
            "34/34 [==============================] - 0s 2ms/step - loss: 3687.6812 - mae: 3687.6812\n",
            "Epoch 196/200\n",
            "34/34 [==============================] - 0s 2ms/step - loss: 3693.4863 - mae: 3693.4863\n",
            "Epoch 197/200\n",
            "34/34 [==============================] - 0s 2ms/step - loss: 3679.2502 - mae: 3679.2502\n",
            "Epoch 198/200\n",
            "34/34 [==============================] - 0s 2ms/step - loss: 3684.9639 - mae: 3684.9639\n",
            "Epoch 199/200\n",
            "34/34 [==============================] - 0s 2ms/step - loss: 3690.2893 - mae: 3690.2893\n",
            "Epoch 200/200\n",
            "34/34 [==============================] - 0s 2ms/step - loss: 3678.6611 - mae: 3678.6611\n"
          ]
        }
      ]
    },
    {
      "cell_type": "code",
      "source": [
        "# Evaluate our third model\n",
        "insurance_model_3.evaluate(X_test, y_test)"
      ],
      "metadata": {
        "id": "iiZW4Xo6UwWK",
        "outputId": "67098fdd-29aa-48d1-a18f-99a9cf7337b5",
        "colab": {
          "base_uri": "https://localhost:8080/"
        }
      },
      "execution_count": 113,
      "outputs": [
        {
          "output_type": "stream",
          "name": "stdout",
          "text": [
            "9/9 [==============================] - 0s 3ms/step - loss: 3514.6218 - mae: 3514.6218\n"
          ]
        },
        {
          "output_type": "execute_result",
          "data": {
            "text/plain": [
              "[3514.621826171875, 3514.621826171875]"
            ]
          },
          "metadata": {},
          "execution_count": 113
        }
      ]
    },
    {
      "cell_type": "code",
      "source": [
        "insurance_model.evaluate(X_test, y_test)"
      ],
      "metadata": {
        "id": "IUozw2f-U6m-",
        "outputId": "7374d6f6-c9c3-4030-e112-9ffa13fe18bc",
        "colab": {
          "base_uri": "https://localhost:8080/"
        }
      },
      "execution_count": 114,
      "outputs": [
        {
          "output_type": "stream",
          "name": "stdout",
          "text": [
            "9/9 [==============================] - 0s 3ms/step - loss: 7200.6304 - mae: 7200.6304\n"
          ]
        },
        {
          "output_type": "execute_result",
          "data": {
            "text/plain": [
              "[7200.63037109375, 7200.63037109375]"
            ]
          },
          "metadata": {},
          "execution_count": 114
        }
      ]
    },
    {
      "cell_type": "code",
      "source": [
        "# Plot history (also known as a loss curve or a training curve)\n",
        "pd.DataFrame(history.history).plot()\n",
        "plt.ylabel(\"loss\")\n",
        "plt.xlabel(\"epochs\")"
      ],
      "metadata": {
        "id": "VSchPxtxVBdJ",
        "outputId": "a0777c01-69eb-4091-df1e-b1e37e32d870",
        "colab": {
          "base_uri": "https://localhost:8080/",
          "height": 466
        }
      },
      "execution_count": 116,
      "outputs": [
        {
          "output_type": "execute_result",
          "data": {
            "text/plain": [
              "Text(0.5, 0, 'epochs')"
            ]
          },
          "metadata": {},
          "execution_count": 116
        },
        {
          "output_type": "display_data",
          "data": {
            "text/plain": [
              "<Figure size 640x480 with 1 Axes>"
            ],
            "image/png": "[encoded data removed]"
          },
          "metadata": {}
        }
      ]
    },
    {
      "cell_type": "markdown",
      "source": [
        "**Question:** How long should you train for?\n",
        "\n",
        "It depends. Really... it depends on the problem you're working on.\n",
        "However, many people have asked this question before... so TensorFlow has a solution!\n",
        "It's called the [EarlyStoppping Callback](https://www.tensorflow.org/api_docs/python/tf/keras/callbacks/EarlyStopping), which is a TensorFlow component you can add to your model to stop training once it stops improving a certain metric.\n"
      ],
      "metadata": {
        "id": "c_H9ILsFVUu6"
      }
    },
    {
      "cell_type": "markdown",
      "source": [
        "## Preprocessing data (normalization and standardization)\n",
        "\n",
        "In terms of scaling values, neural networks tend to prefer normalization.\n",
        "\n",
        "If you're not sure on which to use, you could try both and see which perform better."
      ],
      "metadata": {
        "id": "gzChmDRaWavD"
      }
    },
    {
      "cell_type": "code",
      "source": [
        "import pandas as pd\n",
        "import matplotlib.pyplot as plt\n",
        "import tensorflow as tf\n",
        "\n",
        "# Read in the insurance dataframe\n",
        "insurance = pd.read_csv(\"https://raw.githubusercontent.com/stedy/Machine-Learning-with-R-datasets/master/insurance.csv\")\n",
        "insurance"
      ],
      "metadata": {
        "id": "WHKdtBVeYhRT",
        "outputId": "5caa25c8-67f3-4f1d-b01d-bd55e675a83f",
        "colab": {
          "base_uri": "https://localhost:8080/",
          "height": 424
        }
      },
      "execution_count": 123,
      "outputs": [
        {
          "output_type": "execute_result",
          "data": {
            "text/plain": [
              "      age     sex     bmi  children smoker     region      charges\n",
              "0      19  female  27.900         0    yes  southwest  16884.92400\n",
              "1      18    male  33.770         1     no  southeast   1725.55230\n",
              "2      28    male  33.000         3     no  southeast   4449.46200\n",
              "3      33    male  22.705         0     no  northwest  21984.47061\n",
              "4      32    male  28.880         0     no  northwest   3866.85520\n",
              "...   ...     ...     ...       ...    ...        ...          ...\n",
              "1333   50    male  30.970         3     no  northwest  10600.54830\n",
              "1334   18  female  31.920         0     no  northeast   2205.98080\n",
              "1335   18  female  36.850         0     no  southeast   1629.83350\n",
              "1336   21  female  25.800         0     no  southwest   2007.94500\n",
              "1337   61  female  29.070         0    yes  northwest  29141.36030\n",
              "\n",
              "[1338 rows x 7 columns]"
            ],
            "text/html": [
              "\n",
              "  <div id=\"df-11dd28c0-0b47-4aae-a8d4-f5b6b0240e72\" class=\"colab-df-container\">\n",
              "    <div>\n",
              "<style scoped>\n",
              "    .dataframe tbody tr th:only-of-type {\n",
              "        vertical-align: middle;\n",
              "    }\n",
              "\n",
              "    .dataframe tbody tr th {\n",
              "        vertical-align: top;\n",
              "    }\n",
              "\n",
              "    .dataframe thead th {\n",
              "        text-align: right;\n",
              "    }\n",
              "</style>\n",
              "<table border=\"1\" class=\"dataframe\">\n",
              "  <thead>\n",
              "    <tr style=\"text-align: right;\">\n",
              "      <th></th>\n",
              "      <th>age</th>\n",
              "      <th>sex</th>\n",
              "      <th>bmi</th>\n",
              "      <th>children</th>\n",
              "      <th>smoker</th>\n",
              "      <th>region</th>\n",
              "      <th>charges</th>\n",
              "    </tr>\n",
              "  </thead>\n",
              "  <tbody>\n",
              "    <tr>\n",
              "      <th>0</th>\n",
              "      <td>19</td>\n",
              "      <td>female</td>\n",
              "      <td>27.900</td>\n",
              "      <td>0</td>\n",
              "      <td>yes</td>\n",
              "      <td>southwest</td>\n",
              "      <td>16884.92400</td>\n",
              "    </tr>\n",
              "    <tr>\n",
              "      <th>1</th>\n",
              "      <td>18</td>\n",
              "      <td>male</td>\n",
              "      <td>33.770</td>\n",
              "      <td>1</td>\n",
              "      <td>no</td>\n",
              "      <td>southeast</td>\n",
              "      <td>1725.55230</td>\n",
              "    </tr>\n",
              "    <tr>\n",
              "      <th>2</th>\n",
              "      <td>28</td>\n",
              "      <td>male</td>\n",
              "      <td>33.000</td>\n",
              "      <td>3</td>\n",
              "      <td>no</td>\n",
              "      <td>southeast</td>\n",
              "      <td>4449.46200</td>\n",
              "    </tr>\n",
              "    <tr>\n",
              "      <th>3</th>\n",
              "      <td>33</td>\n",
              "      <td>male</td>\n",
              "      <td>22.705</td>\n",
              "      <td>0</td>\n",
              "      <td>no</td>\n",
              "      <td>northwest</td>\n",
              "      <td>21984.47061</td>\n",
              "    </tr>\n",
              "    <tr>\n",
              "      <th>4</th>\n",
              "      <td>32</td>\n",
              "      <td>male</td>\n",
              "      <td>28.880</td>\n",
              "      <td>0</td>\n",
              "      <td>no</td>\n",
              "      <td>northwest</td>\n",
              "      <td>3866.85520</td>\n",
              "    </tr>\n",
              "    <tr>\n",
              "      <th>...</th>\n",
              "      <td>...</td>\n",
              "      <td>...</td>\n",
              "      <td>...</td>\n",
              "      <td>...</td>\n",
              "      <td>...</td>\n",
              "      <td>...</td>\n",
              "      <td>...</td>\n",
              "    </tr>\n",
              "    <tr>\n",
              "      <th>1333</th>\n",
              "      <td>50</td>\n",
              "      <td>male</td>\n",
              "      <td>30.970</td>\n",
              "      <td>3</td>\n",
              "      <td>no</td>\n",
              "      <td>northwest</td>\n",
              "      <td>10600.54830</td>\n",
              "    </tr>\n",
              "    <tr>\n",
              "      <th>1334</th>\n",
              "      <td>18</td>\n",
              "      <td>female</td>\n",
              "      <td>31.920</td>\n",
              "      <td>0</td>\n",
              "      <td>no</td>\n",
              "      <td>northeast</td>\n",
              "      <td>2205.98080</td>\n",
              "    </tr>\n",
              "    <tr>\n",
              "      <th>1335</th>\n",
              "      <td>18</td>\n",
              "      <td>female</td>\n",
              "      <td>36.850</td>\n",
              "      <td>0</td>\n",
              "      <td>no</td>\n",
              "      <td>southeast</td>\n",
              "      <td>1629.83350</td>\n",
              "    </tr>\n",
              "    <tr>\n",
              "      <th>1336</th>\n",
              "      <td>21</td>\n",
              "      <td>female</td>\n",
              "      <td>25.800</td>\n",
              "      <td>0</td>\n",
              "      <td>no</td>\n",
              "      <td>southwest</td>\n",
              "      <td>2007.94500</td>\n",
              "    </tr>\n",
              "    <tr>\n",
              "      <th>1337</th>\n",
              "      <td>61</td>\n",
              "      <td>female</td>\n",
              "      <td>29.070</td>\n",
              "      <td>0</td>\n",
              "      <td>yes</td>\n",
              "      <td>northwest</td>\n",
              "      <td>29141.36030</td>\n",
              "    </tr>\n",
              "  </tbody>\n",
              "</table>\n",
              "<p>1338 rows × 7 columns</p>\n",
              "</div>\n",
              "    <div class=\"colab-df-buttons\">\n",
              "\n",
              "  <div class=\"colab-df-container\">\n",
              "    <button class=\"colab-df-convert\" onclick=\"convertToInteractive('df-11dd28c0-0b47-4aae-a8d4-f5b6b0240e72')\"\n",
              "            title=\"Convert this dataframe to an interactive table.\"\n",
              "            style=\"display:none;\">\n",
              "\n",
              "  <svg xmlns=\"http://www.w3.org/2000/svg\" height=\"24px\" viewBox=\"0 -960 960 960\">\n",
              "    <path d=\"M120-120v-720h720v720H120Zm60-500h600v-160H180v160Zm220 220h160v-160H400v160Zm0 220h160v-160H400v160ZM180-400h160v-160H180v160Zm440 0h160v-160H620v160ZM180-180h160v-160H180v160Zm440 0h160v-160H620v160Z\"/>\n",
              "  </svg>\n",
              "    </button>\n",
              "\n",
              "  <style>\n",
              "    .colab-df-container {\n",
              "      display:flex;\n",
              "      gap: 12px;\n",
              "    }\n",
              "\n",
              "    .colab-df-convert {\n",
              "      background-color: #E8F0FE;\n",
              "      border: none;\n",
              "      border-radius: 50%;\n",
              "      cursor: pointer;\n",
              "      display: none;\n",
              "      fill: #1967D2;\n",
              "      height: 32px;\n",
              "      padding: 0 0 0 0;\n",
              "      width: 32px;\n",
              "    }\n",
              "\n",
              "    .colab-df-convert:hover {\n",
              "      background-color: #E2EBFA;\n",
              "      box-shadow: 0px 1px 2px rgba(60, 64, 67, 0.3), 0px 1px 3px 1px rgba(60, 64, 67, 0.15);\n",
              "      fill: #174EA6;\n",
              "    }\n",
              "\n",
              "    .colab-df-buttons div {\n",
              "      margin-bottom: 4px;\n",
              "    }\n",
              "\n",
              "    [theme=dark] .colab-df-convert {\n",
              "      background-color: #3B4455;\n",
              "      fill: #D2E3FC;\n",
              "    }\n",
              "\n",
              "    [theme=dark] .colab-df-convert:hover {\n",
              "      background-color: #434B5C;\n",
              "      box-shadow: 0px 1px 3px 1px rgba(0, 0, 0, 0.15);\n",
              "      filter: drop-shadow(0px 1px 2px rgba(0, 0, 0, 0.3));\n",
              "      fill: #FFFFFF;\n",
              "    }\n",
              "  </style>\n",
              "\n",
              "    <script>\n",
              "      const buttonEl =\n",
              "        document.querySelector('#df-11dd28c0-0b47-4aae-a8d4-f5b6b0240e72 button.colab-df-convert');\n",
              "      buttonEl.style.display =\n",
              "        google.colab.kernel.accessAllowed ? 'block' : 'none';\n",
              "\n",
              "      async function convertToInteractive(key) {\n",
              "        const element = document.querySelector('#df-11dd28c0-0b47-4aae-a8d4-f5b6b0240e72');\n",
              "        const dataTable =\n",
              "          await google.colab.kernel.invokeFunction('convertToInteractive',\n",
              "                                                    [key], {});\n",
              "        if (!dataTable) return;\n",
              "\n",
              "        const docLinkHtml = 'Like what you see? Visit the ' +\n",
              "          '<a target=\"_blank\" href=https://colab.research.google.com/notebooks/data_table.ipynb>data table notebook</a>'\n",
              "          + ' to learn more about interactive tables.';\n",
              "        element.innerHTML = '';\n",
              "        dataTable['output_type'] = 'display_data';\n",
              "        await google.colab.output.renderOutput(dataTable, element);\n",
              "        const docLink = document.createElement('div');\n",
              "        docLink.innerHTML = docLinkHtml;\n",
              "        element.appendChild(docLink);\n",
              "      }\n",
              "    </script>\n",
              "  </div>\n",
              "\n",
              "\n",
              "<div id=\"df-01e16edb-a740-47e3-8fc0-2aa332063dea\">\n",
              "  <button class=\"colab-df-quickchart\" onclick=\"quickchart('df-01e16edb-a740-47e3-8fc0-2aa332063dea')\"\n",
              "            title=\"Suggest charts\"\n",
              "            style=\"display:none;\">\n",
              "\n",
              "<svg xmlns=\"http://www.w3.org/2000/svg\" height=\"24px\"viewBox=\"0 0 24 24\"\n",
              "     width=\"24px\">\n",
              "    <g>\n",
              "        <path d=\"M19 3H5c-1.1 0-2 .9-2 2v14c0 1.1.9 2 2 2h14c1.1 0 2-.9 2-2V5c0-1.1-.9-2-2-2zM9 17H7v-7h2v7zm4 0h-2V7h2v10zm4 0h-2v-4h2v4z\"/>\n",
              "    </g>\n",
              "</svg>\n",
              "  </button>\n",
              "\n",
              "<style>\n",
              "  .colab-df-quickchart {\n",
              "      --bg-color: #E8F0FE;\n",
              "      --fill-color: #1967D2;\n",
              "      --hover-bg-color: #E2EBFA;\n",
              "      --hover-fill-color: #174EA6;\n",
              "      --disabled-fill-color: #AAA;\n",
              "      --disabled-bg-color: #DDD;\n",
              "  }\n",
              "\n",
              "  [theme=dark] .colab-df-quickchart {\n",
              "      --bg-color: #3B4455;\n",
              "      --fill-color: #D2E3FC;\n",
              "      --hover-bg-color: #434B5C;\n",
              "      --hover-fill-color: #FFFFFF;\n",
              "      --disabled-bg-color: #3B4455;\n",
              "      --disabled-fill-color: #666;\n",
              "  }\n",
              "\n",
              "  .colab-df-quickchart {\n",
              "    background-color: var(--bg-color);\n",
              "    border: none;\n",
              "    border-radius: 50%;\n",
              "    cursor: pointer;\n",
              "    display: none;\n",
              "    fill: var(--fill-color);\n",
              "    height: 32px;\n",
              "    padding: 0;\n",
              "    width: 32px;\n",
              "  }\n",
              "\n",
              "  .colab-df-quickchart:hover {\n",
              "    background-color: var(--hover-bg-color);\n",
              "    box-shadow: 0 1px 2px rgba(60, 64, 67, 0.3), 0 1px 3px 1px rgba(60, 64, 67, 0.15);\n",
              "    fill: var(--button-hover-fill-color);\n",
              "  }\n",
              "\n",
              "  .colab-df-quickchart-complete:disabled,\n",
              "  .colab-df-quickchart-complete:disabled:hover {\n",
              "    background-color: var(--disabled-bg-color);\n",
              "    fill: var(--disabled-fill-color);\n",
              "    box-shadow: none;\n",
              "  }\n",
              "\n",
              "  .colab-df-spinner {\n",
              "    border: 2px solid var(--fill-color);\n",
              "    border-color: transparent;\n",
              "    border-bottom-color: var(--fill-color);\n",
              "    animation:\n",
              "      spin 1s steps(1) infinite;\n",
              "  }\n",
              "\n",
              "  @keyframes spin {\n",
              "    0% {\n",
              "      border-color: transparent;\n",
              "      border-bottom-color: var(--fill-color);\n",
              "      border-left-color: var(--fill-color);\n",
              "    }\n",
              "    20% {\n",
              "      border-color: transparent;\n",
              "      border-left-color: var(--fill-color);\n",
              "      border-top-color: var(--fill-color);\n",
              "    }\n",
              "    30% {\n",
              "      border-color: transparent;\n",
              "      border-left-color: var(--fill-color);\n",
              "      border-top-color: var(--fill-color);\n",
              "      border-right-color: var(--fill-color);\n",
              "    }\n",
              "    40% {\n",
              "      border-color: transparent;\n",
              "      border-right-color: var(--fill-color);\n",
              "      border-top-color: var(--fill-color);\n",
              "    }\n",
              "    60% {\n",
              "      border-color: transparent;\n",
              "      border-right-color: var(--fill-color);\n",
              "    }\n",
              "    80% {\n",
              "      border-color: transparent;\n",
              "      border-right-color: var(--fill-color);\n",
              "      border-bottom-color: var(--fill-color);\n",
              "    }\n",
              "    90% {\n",
              "      border-color: transparent;\n",
              "      border-bottom-color: var(--fill-color);\n",
              "    }\n",
              "  }\n",
              "</style>\n",
              "\n",
              "  <script>\n",
              "    async function quickchart(key) {\n",
              "      const quickchartButtonEl =\n",
              "        document.querySelector('#' + key + ' button');\n",
              "      quickchartButtonEl.disabled = true;  // To prevent multiple clicks.\n",
              "      quickchartButtonEl.classList.add('colab-df-spinner');\n",
              "      try {\n",
              "        const charts = await google.colab.kernel.invokeFunction(\n",
              "            'suggestCharts', [key], {});\n",
              "      } catch (error) {\n",
              "        console.error('Error during call to suggestCharts:', error);\n",
              "      }\n",
              "      quickchartButtonEl.classList.remove('colab-df-spinner');\n",
              "      quickchartButtonEl.classList.add('colab-df-quickchart-complete');\n",
              "    }\n",
              "    (() => {\n",
              "      let quickchartButtonEl =\n",
              "        document.querySelector('#df-01e16edb-a740-47e3-8fc0-2aa332063dea button');\n",
              "      quickchartButtonEl.style.display =\n",
              "        google.colab.kernel.accessAllowed ? 'block' : 'none';\n",
              "    })();\n",
              "  </script>\n",
              "</div>\n",
              "    </div>\n",
              "  </div>\n"
            ],
            "application/vnd.google.colaboratory.intrinsic+json": {
              "type": "dataframe",
              "variable_name": "insurance",
              "summary": "{\n  \"name\": \"insurance\",\n  \"rows\": 1338,\n  \"fields\": [\n    {\n      \"column\": \"age\",\n      \"properties\": {\n        \"dtype\": \"number\",\n        \"std\": 14,\n        \"min\": 18,\n        \"max\": 64,\n        \"num_unique_values\": 47,\n        \"samples\": [\n          21,\n          45,\n          36\n        ],\n        \"semantic_type\": \"\",\n        \"description\": \"\"\n      }\n    },\n    {\n      \"column\": \"sex\",\n      \"properties\": {\n        \"dtype\": \"category\",\n        \"num_unique_values\": 2,\n        \"samples\": [\n          \"male\",\n          \"female\"\n        ],\n        \"semantic_type\": \"\",\n        \"description\": \"\"\n      }\n    },\n    {\n      \"column\": \"bmi\",\n      \"properties\": {\n        \"dtype\": \"number\",\n        \"std\": 6.098186911679014,\n        \"min\": 15.96,\n        \"max\": 53.13,\n        \"num_unique_values\": 548,\n        \"samples\": [\n          23.18,\n          26.885\n        ],\n        \"semantic_type\": \"\",\n        \"description\": \"\"\n      }\n    },\n    {\n      \"column\": \"children\",\n      \"properties\": {\n        \"dtype\": \"number\",\n        \"std\": 1,\n        \"min\": 0,\n        \"max\": 5,\n        \"num_unique_values\": 6,\n        \"samples\": [\n          0,\n          1\n        ],\n        \"semantic_type\": \"\",\n        \"description\": \"\"\n      }\n    },\n    {\n      \"column\": \"smoker\",\n      \"properties\": {\n        \"dtype\": \"category\",\n        \"num_unique_values\": 2,\n        \"samples\": [\n          \"no\",\n          \"yes\"\n        ],\n        \"semantic_type\": \"\",\n        \"description\": \"\"\n      }\n    },\n    {\n      \"column\": \"region\",\n      \"properties\": {\n        \"dtype\": \"category\",\n        \"num_unique_values\": 4,\n        \"samples\": [\n          \"southeast\",\n          \"northeast\"\n        ],\n        \"semantic_type\": \"\",\n        \"description\": \"\"\n      }\n    },\n    {\n      \"column\": \"charges\",\n      \"properties\": {\n        \"dtype\": \"number\",\n        \"std\": 12110.011236694001,\n        \"min\": 1121.8739,\n        \"max\": 63770.42801,\n        \"num_unique_values\": 1337,\n        \"samples\": [\n          8688.85885,\n          5708.867\n        ],\n        \"semantic_type\": \"\",\n        \"description\": \"\"\n      }\n    }\n  ]\n}"
            }
          },
          "metadata": {},
          "execution_count": 123
        }
      ]
    },
    {
      "cell_type": "markdown",
      "source": [
        "To prepare our data, we can borrow a few classes from Scikit-Learn."
      ],
      "metadata": {
        "id": "De_PEetKW3aR"
      }
    },
    {
      "cell_type": "code",
      "source": [
        "from sklearn.compose import make_column_transformer\n",
        "from sklearn.preprocessing import MinMaxScaler, OneHotEncoder\n",
        "\n",
        "# Create a column transformer\n",
        "ct = make_column_transformer(\n",
        "    (MinMaxScaler(), [\"age\",\"bmi\",\"children\"]), # Turn all values from these columns between 0 and 1\n",
        "    (OneHotEncoder(handle_unknown=\"ignore\"),[\"sex\", \"smoker\",\"region\"])\n",
        ")\n",
        "\n",
        "# Create X & y\n",
        "X = insurance.drop(\"charges\", axis=1)\n",
        "y = insurance[\"charges\"]\n",
        "\n",
        "# Build our train and test sets\n",
        "X_train, X_test, y_train, y_test = train_test_split(X, y, test_size=0.2, random_state=42)\n",
        "\n",
        "# Fit the column transformer to our training data\n",
        "\n",
        "ct.fit(X_train)\n",
        "\n",
        "# Transform training and test data with normalization (MinMaxScaler) and OneHotEncoder\n",
        "X_train_normal = ct.transform(X_train)\n",
        "X_test_normal = ct.transform(X_test)"
      ],
      "metadata": {
        "id": "LKioYP0PZnOd"
      },
      "execution_count": 124,
      "outputs": []
    },
    {
      "cell_type": "code",
      "source": [
        "# What does our data look like now?\n",
        "X_train.loc[0]"
      ],
      "metadata": {
        "id": "mqJVGCGRcLYL",
        "outputId": "d12d0fab-7960-4d4c-d79f-8743a3765ae1",
        "colab": {
          "base_uri": "https://localhost:8080/"
        }
      },
      "execution_count": 125,
      "outputs": [
        {
          "output_type": "execute_result",
          "data": {
            "text/plain": [
              "age                19\n",
              "sex            female\n",
              "bmi              27.9\n",
              "children            0\n",
              "smoker            yes\n",
              "region      southwest\n",
              "Name: 0, dtype: object"
            ]
          },
          "metadata": {},
          "execution_count": 125
        }
      ]
    },
    {
      "cell_type": "code",
      "source": [
        "X_train_normal[0]"
      ],
      "metadata": {
        "id": "kmN4MXjLcR5W",
        "outputId": "c24311f1-c544-4b6e-c07d-e5a41c3a0dc4",
        "colab": {
          "base_uri": "https://localhost:8080/"
        }
      },
      "execution_count": 127,
      "outputs": [
        {
          "output_type": "execute_result",
          "data": {
            "text/plain": [
              "array([0.60869565, 0.10734463, 0.4       , 1.        , 0.        ,\n",
              "       1.        , 0.        , 0.        , 1.        , 0.        ,\n",
              "       0.        ])"
            ]
          },
          "metadata": {},
          "execution_count": 127
        }
      ]
    },
    {
      "cell_type": "code",
      "source": [
        "X_train.shape, X_train_normal.shape"
      ],
      "metadata": {
        "id": "FFeSwS80cdTF",
        "outputId": "e7da4e6f-98a2-4445-edb8-2fc31f29bb02",
        "colab": {
          "base_uri": "https://localhost:8080/"
        }
      },
      "execution_count": 128,
      "outputs": [
        {
          "output_type": "execute_result",
          "data": {
            "text/plain": [
              "((1070, 6), (1070, 11))"
            ]
          },
          "metadata": {},
          "execution_count": 128
        }
      ]
    },
    {
      "cell_type": "code",
      "source": [
        "# Beautiful! Our data has been normalized and one hot encoded. Now let's build a neural network model on it and see how it goes.\n",
        "\n",
        "# set seed\n",
        "tf.random.set_seed(42)\n",
        "\n",
        "# Create model\n",
        "insurance_model_4 = tf.keras.Sequential([\n",
        "    tf.keras.layers.Dense(100),\n",
        "    tf.keras.layers.Dense(10),\n",
        "    tf.keras.layers.Dense(1)\n",
        "])\n",
        "\n",
        "# Compile the model 4\n",
        "insurance_model_4.compile(loss=tf.keras.losses.mae,\n",
        "                          optimizer=tf.keras.optimizers.Adam(),\n",
        "                          metrics=[\"mae\"])\n",
        "\n",
        "# 3. fit the model\n",
        "\n",
        "insurance_model_4.fit(X_train_normal, y_train, epochs=100)\n",
        "\n"
      ],
      "metadata": {
        "id": "E72ZZ9OAc2TH",
        "outputId": "d7a63e53-812c-47af-a061-9fac3e5ea266",
        "colab": {
          "base_uri": "https://localhost:8080/"
        }
      },
      "execution_count": 129,
      "outputs": [
        {
          "output_type": "stream",
          "name": "stdout",
          "text": [
            "Epoch 1/100\n",
            "34/34 [==============================] - 2s 7ms/step - loss: 13344.0449 - mae: 13344.0449\n",
            "Epoch 2/100\n",
            "34/34 [==============================] - 0s 6ms/step - loss: 13335.5879 - mae: 13335.5879\n",
            "Epoch 3/100\n",
            "34/34 [==============================] - 0s 3ms/step - loss: 13314.6973 - mae: 13314.6973\n",
            "Epoch 4/100\n",
            "34/34 [==============================] - 0s 3ms/step - loss: 13270.6445 - mae: 13270.6445\n",
            "Epoch 5/100\n",
            "34/34 [==============================] - 0s 4ms/step - loss: 13192.0674 - mae: 13192.0674\n",
            "Epoch 6/100\n",
            "34/34 [==============================] - 0s 3ms/step - loss: 13067.7314 - mae: 13067.7314\n",
            "Epoch 7/100\n",
            "34/34 [==============================] - 0s 4ms/step - loss: 12887.3018 - mae: 12887.3018\n",
            "Epoch 8/100\n",
            "34/34 [==============================] - 0s 4ms/step - loss: 12640.6816 - mae: 12640.6816\n",
            "Epoch 9/100\n",
            "34/34 [==============================] - 0s 3ms/step - loss: 12317.6465 - mae: 12317.6465\n",
            "Epoch 10/100\n",
            "34/34 [==============================] - 0s 4ms/step - loss: 11913.4697 - mae: 11913.4697\n",
            "Epoch 11/100\n",
            "34/34 [==============================] - 0s 4ms/step - loss: 11437.8809 - mae: 11437.8809\n",
            "Epoch 12/100\n",
            "34/34 [==============================] - 0s 4ms/step - loss: 10931.2412 - mae: 10931.2412\n",
            "Epoch 13/100\n",
            "34/34 [==============================] - 0s 3ms/step - loss: 10429.1045 - mae: 10429.1045\n",
            "Epoch 14/100\n",
            "34/34 [==============================] - 0s 4ms/step - loss: 9934.4580 - mae: 9934.4580\n",
            "Epoch 15/100\n",
            "34/34 [==============================] - 0s 3ms/step - loss: 9468.3389 - mae: 9468.3389\n",
            "Epoch 16/100\n",
            "34/34 [==============================] - 0s 3ms/step - loss: 9053.4893 - mae: 9053.4893\n",
            "Epoch 17/100\n",
            "34/34 [==============================] - 0s 3ms/step - loss: 8711.0039 - mae: 8711.0039\n",
            "Epoch 18/100\n",
            "34/34 [==============================] - 0s 4ms/step - loss: 8431.0117 - mae: 8431.0117\n",
            "Epoch 19/100\n",
            "34/34 [==============================] - 0s 3ms/step - loss: 8219.9736 - mae: 8219.9736\n",
            "Epoch 20/100\n",
            "34/34 [==============================] - 0s 3ms/step - loss: 8076.1450 - mae: 8076.1450\n",
            "Epoch 21/100\n",
            "34/34 [==============================] - 0s 3ms/step - loss: 7968.7554 - mae: 7968.7554\n",
            "Epoch 22/100\n",
            "34/34 [==============================] - 0s 4ms/step - loss: 7894.4243 - mae: 7894.4243\n",
            "Epoch 23/100\n",
            "34/34 [==============================] - 0s 4ms/step - loss: 7836.0972 - mae: 7836.0972\n",
            "Epoch 24/100\n",
            "34/34 [==============================] - 0s 3ms/step - loss: 7783.7329 - mae: 7783.7329\n",
            "Epoch 25/100\n",
            "34/34 [==============================] - 0s 3ms/step - loss: 7744.6123 - mae: 7744.6123\n",
            "Epoch 26/100\n",
            "34/34 [==============================] - 0s 4ms/step - loss: 7693.7749 - mae: 7693.7749\n",
            "Epoch 27/100\n",
            "34/34 [==============================] - 0s 3ms/step - loss: 7651.8145 - mae: 7651.8145\n",
            "Epoch 28/100\n",
            "34/34 [==============================] - 0s 3ms/step - loss: 7609.3716 - mae: 7609.3716\n",
            "Epoch 29/100\n",
            "34/34 [==============================] - 0s 4ms/step - loss: 7566.7476 - mae: 7566.7476\n",
            "Epoch 30/100\n",
            "34/34 [==============================] - 0s 3ms/step - loss: 7523.1074 - mae: 7523.1074\n",
            "Epoch 31/100\n",
            "34/34 [==============================] - 0s 3ms/step - loss: 7478.9902 - mae: 7478.9902\n",
            "Epoch 32/100\n",
            "34/34 [==============================] - 0s 4ms/step - loss: 7434.7383 - mae: 7434.7383\n",
            "Epoch 33/100\n",
            "34/34 [==============================] - 0s 4ms/step - loss: 7390.1455 - mae: 7390.1455\n",
            "Epoch 34/100\n",
            "34/34 [==============================] - 0s 4ms/step - loss: 7341.5415 - mae: 7341.5415\n",
            "Epoch 35/100\n",
            "34/34 [==============================] - 0s 3ms/step - loss: 7294.3188 - mae: 7294.3188\n",
            "Epoch 36/100\n",
            "34/34 [==============================] - 0s 4ms/step - loss: 7243.8159 - mae: 7243.8159\n",
            "Epoch 37/100\n",
            "34/34 [==============================] - 0s 3ms/step - loss: 7193.0972 - mae: 7193.0972\n",
            "Epoch 38/100\n",
            "34/34 [==============================] - 0s 4ms/step - loss: 7141.4624 - mae: 7141.4624\n",
            "Epoch 39/100\n",
            "34/34 [==============================] - 0s 4ms/step - loss: 7086.1353 - mae: 7086.1353\n",
            "Epoch 40/100\n",
            "34/34 [==============================] - 0s 4ms/step - loss: 7030.3032 - mae: 7030.3032\n",
            "Epoch 41/100\n",
            "34/34 [==============================] - 0s 3ms/step - loss: 6973.2578 - mae: 6973.2578\n",
            "Epoch 42/100\n",
            "34/34 [==============================] - 0s 4ms/step - loss: 6913.8315 - mae: 6913.8315\n",
            "Epoch 43/100\n",
            "34/34 [==============================] - 0s 3ms/step - loss: 6850.7334 - mae: 6850.7334\n",
            "Epoch 44/100\n",
            "34/34 [==============================] - 0s 3ms/step - loss: 6783.7734 - mae: 6783.7734\n",
            "Epoch 45/100\n",
            "34/34 [==============================] - 0s 3ms/step - loss: 6715.9741 - mae: 6715.9741\n",
            "Epoch 46/100\n",
            "34/34 [==============================] - 0s 3ms/step - loss: 6645.7485 - mae: 6645.7485\n",
            "Epoch 47/100\n",
            "34/34 [==============================] - 0s 3ms/step - loss: 6573.6963 - mae: 6573.6963\n",
            "Epoch 48/100\n",
            "34/34 [==============================] - 0s 3ms/step - loss: 6494.0513 - mae: 6494.0513\n",
            "Epoch 49/100\n",
            "34/34 [==============================] - 0s 3ms/step - loss: 6414.2305 - mae: 6414.2305\n",
            "Epoch 50/100\n",
            "34/34 [==============================] - 0s 3ms/step - loss: 6327.1631 - mae: 6327.1631\n",
            "Epoch 51/100\n",
            "34/34 [==============================] - 0s 4ms/step - loss: 6241.1987 - mae: 6241.1987\n",
            "Epoch 52/100\n",
            "34/34 [==============================] - 0s 3ms/step - loss: 6147.6611 - mae: 6147.6611\n",
            "Epoch 53/100\n",
            "34/34 [==============================] - 0s 3ms/step - loss: 6050.4893 - mae: 6050.4893\n",
            "Epoch 54/100\n",
            "34/34 [==============================] - 0s 4ms/step - loss: 5950.2881 - mae: 5950.2881\n",
            "Epoch 55/100\n",
            "34/34 [==============================] - 0s 3ms/step - loss: 5841.9707 - mae: 5841.9707\n",
            "Epoch 56/100\n",
            "34/34 [==============================] - 0s 3ms/step - loss: 5732.4800 - mae: 5732.4800\n",
            "Epoch 57/100\n",
            "34/34 [==============================] - 0s 3ms/step - loss: 5615.6191 - mae: 5615.6191\n",
            "Epoch 58/100\n",
            "34/34 [==============================] - 0s 3ms/step - loss: 5497.9966 - mae: 5497.9966\n",
            "Epoch 59/100\n",
            "34/34 [==============================] - 0s 4ms/step - loss: 5378.0171 - mae: 5378.0171\n",
            "Epoch 60/100\n",
            "34/34 [==============================] - 0s 3ms/step - loss: 5254.0410 - mae: 5254.0410\n",
            "Epoch 61/100\n",
            "34/34 [==============================] - 0s 4ms/step - loss: 5127.6396 - mae: 5127.6396\n",
            "Epoch 62/100\n",
            "34/34 [==============================] - 0s 4ms/step - loss: 4997.0464 - mae: 4997.0464\n",
            "Epoch 63/100\n",
            "34/34 [==============================] - 0s 4ms/step - loss: 4868.8721 - mae: 4868.8721\n",
            "Epoch 64/100\n",
            "34/34 [==============================] - 0s 4ms/step - loss: 4736.1577 - mae: 4736.1577\n",
            "Epoch 65/100\n",
            "34/34 [==============================] - 0s 3ms/step - loss: 4609.7476 - mae: 4609.7476\n",
            "Epoch 66/100\n",
            "34/34 [==============================] - 0s 3ms/step - loss: 4487.0391 - mae: 4487.0391\n",
            "Epoch 67/100\n",
            "34/34 [==============================] - 0s 4ms/step - loss: 4379.1797 - mae: 4379.1797\n",
            "Epoch 68/100\n",
            "34/34 [==============================] - 0s 4ms/step - loss: 4272.7339 - mae: 4272.7339\n",
            "Epoch 69/100\n",
            "34/34 [==============================] - 0s 4ms/step - loss: 4172.2046 - mae: 4172.2046\n",
            "Epoch 70/100\n",
            "34/34 [==============================] - 0s 4ms/step - loss: 4080.9387 - mae: 4080.9387\n",
            "Epoch 71/100\n",
            "34/34 [==============================] - 0s 4ms/step - loss: 3997.0552 - mae: 3997.0552\n",
            "Epoch 72/100\n",
            "34/34 [==============================] - 0s 3ms/step - loss: 3924.4734 - mae: 3924.4734\n",
            "Epoch 73/100\n",
            "34/34 [==============================] - 0s 4ms/step - loss: 3863.1008 - mae: 3863.1008\n",
            "Epoch 74/100\n",
            "34/34 [==============================] - 0s 4ms/step - loss: 3811.1733 - mae: 3811.1733\n",
            "Epoch 75/100\n",
            "34/34 [==============================] - 0s 4ms/step - loss: 3771.5747 - mae: 3771.5747\n",
            "Epoch 76/100\n",
            "34/34 [==============================] - 0s 3ms/step - loss: 3742.6357 - mae: 3742.6357\n",
            "Epoch 77/100\n",
            "34/34 [==============================] - 0s 3ms/step - loss: 3718.3318 - mae: 3718.3318\n",
            "Epoch 78/100\n",
            "34/34 [==============================] - 0s 3ms/step - loss: 3702.2092 - mae: 3702.2092\n",
            "Epoch 79/100\n",
            "34/34 [==============================] - 0s 3ms/step - loss: 3690.2961 - mae: 3690.2961\n",
            "Epoch 80/100\n",
            "34/34 [==============================] - 0s 4ms/step - loss: 3681.5588 - mae: 3681.5588\n",
            "Epoch 81/100\n",
            "34/34 [==============================] - 0s 5ms/step - loss: 3675.3298 - mae: 3675.3298\n",
            "Epoch 82/100\n",
            "34/34 [==============================] - 0s 4ms/step - loss: 3672.3457 - mae: 3672.3457\n",
            "Epoch 83/100\n",
            "34/34 [==============================] - 0s 5ms/step - loss: 3666.2051 - mae: 3666.2051\n",
            "Epoch 84/100\n",
            "34/34 [==============================] - 0s 10ms/step - loss: 3663.4453 - mae: 3663.4453\n",
            "Epoch 85/100\n",
            "34/34 [==============================] - 1s 18ms/step - loss: 3661.0132 - mae: 3661.0132\n",
            "Epoch 86/100\n",
            "34/34 [==============================] - 1s 15ms/step - loss: 3659.4797 - mae: 3659.4797\n",
            "Epoch 87/100\n",
            "34/34 [==============================] - 0s 9ms/step - loss: 3656.5149 - mae: 3656.5149\n",
            "Epoch 88/100\n",
            "34/34 [==============================] - 0s 5ms/step - loss: 3654.0674 - mae: 3654.0674\n",
            "Epoch 89/100\n",
            "34/34 [==============================] - 0s 5ms/step - loss: 3652.5752 - mae: 3652.5752\n",
            "Epoch 90/100\n",
            "34/34 [==============================] - 0s 3ms/step - loss: 3650.9016 - mae: 3650.9016\n",
            "Epoch 91/100\n",
            "34/34 [==============================] - 0s 5ms/step - loss: 3647.7422 - mae: 3647.7422\n",
            "Epoch 92/100\n",
            "34/34 [==============================] - 0s 6ms/step - loss: 3647.1602 - mae: 3647.1602\n",
            "Epoch 93/100\n",
            "34/34 [==============================] - 0s 6ms/step - loss: 3644.8337 - mae: 3644.8337\n",
            "Epoch 94/100\n",
            "34/34 [==============================] - 0s 5ms/step - loss: 3643.2542 - mae: 3643.2542\n",
            "Epoch 95/100\n",
            "34/34 [==============================] - 0s 6ms/step - loss: 3644.1865 - mae: 3644.1865\n",
            "Epoch 96/100\n",
            "34/34 [==============================] - 0s 5ms/step - loss: 3641.1169 - mae: 3641.1169\n",
            "Epoch 97/100\n",
            "34/34 [==============================] - 0s 5ms/step - loss: 3638.6970 - mae: 3638.6970\n",
            "Epoch 98/100\n",
            "34/34 [==============================] - 0s 6ms/step - loss: 3636.5549 - mae: 3636.5549\n",
            "Epoch 99/100\n",
            "34/34 [==============================] - 0s 6ms/step - loss: 3636.3003 - mae: 3636.3003\n",
            "Epoch 100/100\n",
            "34/34 [==============================] - 0s 5ms/step - loss: 3634.4714 - mae: 3634.4714\n"
          ]
        },
        {
          "output_type": "execute_result",
          "data": {
            "text/plain": [
              "<keras.src.callbacks.History at 0x7f56e26cb550>"
            ]
          },
          "metadata": {},
          "execution_count": 129
        }
      ]
    },
    {
      "cell_type": "code",
      "source": [
        "# Evaluate our insurance model trained on normalized data\n",
        "insurance_model_4.evaluate(X_test_normal, y_test)"
      ],
      "metadata": {
        "id": "8oxw18aydmCQ",
        "outputId": "2d47c958-91d2-477d-ec01-f8705335a433",
        "colab": {
          "base_uri": "https://localhost:8080/"
        }
      },
      "execution_count": 130,
      "outputs": [
        {
          "output_type": "stream",
          "name": "stdout",
          "text": [
            "9/9 [==============================] - 0s 3ms/step - loss: 3436.9424 - mae: 3436.9424\n"
          ]
        },
        {
          "output_type": "execute_result",
          "data": {
            "text/plain": [
              "[3436.9423828125, 3436.9423828125]"
            ]
          },
          "metadata": {},
          "execution_count": 130
        }
      ]
    },
    {
      "cell_type": "code",
      "source": [
        "X[\"age\"].plot()"
      ],
      "metadata": {
        "id": "DiMOOZSuXbHT",
        "outputId": "eb87dbc0-e779-4af5-acfc-a7412265641a",
        "colab": {
          "base_uri": "https://localhost:8080/",
          "height": 447
        }
      },
      "execution_count": 118,
      "outputs": [
        {
          "output_type": "execute_result",
          "data": {
            "text/plain": [
              "<Axes: >"
            ]
          },
          "metadata": {},
          "execution_count": 118
        },
        {
          "output_type": "display_data",
          "data": {
            "text/plain": [
              "<Figure size 640x480 with 1 Axes>"
            ],
            "image/png": "[encoded data removed]"
          },
          "metadata": {}
        }
      ]
    },
    {
      "cell_type": "code",
      "source": [
        "X[\"age\"].plot(kind=\"hist\")"
      ],
      "metadata": {
        "id": "pBTXsJ8yXh8e",
        "outputId": "69db1722-7039-4e4d-a12c-04d324abaf25",
        "colab": {
          "base_uri": "https://localhost:8080/",
          "height": 447
        }
      },
      "execution_count": 119,
      "outputs": [
        {
          "output_type": "execute_result",
          "data": {
            "text/plain": [
              "<Axes: ylabel='Frequency'>"
            ]
          },
          "metadata": {},
          "execution_count": 119
        },
        {
          "output_type": "display_data",
          "data": {
            "text/plain": [
              "<Figure size 640x480 with 1 Axes>"
            ],
            "image/png": "[encoded data removed]"
          },
          "metadata": {}
        }
      ]
    },
    {
      "cell_type": "code",
      "source": [
        "X[\"bmi\"].plot(kind=\"hist\")"
      ],
      "metadata": {
        "id": "eEPz1bjuXojY",
        "outputId": "cdb84c45-ca37-40a9-e463-f726bc863978",
        "colab": {
          "base_uri": "https://localhost:8080/",
          "height": 447
        }
      },
      "execution_count": 121,
      "outputs": [
        {
          "output_type": "execute_result",
          "data": {
            "text/plain": [
              "<Axes: ylabel='Frequency'>"
            ]
          },
          "metadata": {},
          "execution_count": 121
        },
        {
          "output_type": "display_data",
          "data": {
            "text/plain": [
              "<Figure size 640x480 with 1 Axes>"
            ],
            "image/png": "[encoded data removed]"
          },
          "metadata": {}
        }
      ]
    },
    {
      "cell_type": "code",
      "source": [
        "X[\"children\"].value_counts()"
      ],
      "metadata": {
        "id": "lZSj4vsrXrry",
        "outputId": "1df21634-8ecd-403a-9ae6-cb39721e4fc0",
        "colab": {
          "base_uri": "https://localhost:8080/"
        }
      },
      "execution_count": 122,
      "outputs": [
        {
          "output_type": "execute_result",
          "data": {
            "text/plain": [
              "0    574\n",
              "1    324\n",
              "2    240\n",
              "3    157\n",
              "4     25\n",
              "5     18\n",
              "Name: children, dtype: int64"
            ]
          },
          "metadata": {},
          "execution_count": 122
        }
      ]
    },
    {
      "cell_type": "code",
      "source": [],
      "metadata": {
        "id": "lTrpQBHfX_UM"
      },
      "execution_count": null,
      "outputs": []
    }
  ]
}