{
  "nbformat": 4,
  "nbformat_minor": 0,
  "metadata": {
    "colab": {
      "provenance": [],
      "authorship_tag": "ABX9TyNxIywC21WAuBj820sy2WGw"
    },
    "kernelspec": {
      "name": "python3",
      "display_name": "Python 3"
    },
    "language_info": {
      "name": "python"
    }
  },
  "cells": [
    {
      "cell_type": "markdown",
      "source": [
        "# Introduction to Regression with Neural Network in TensorFlow\n",
        "There are many definitions for a regression problem but in our case, we're going to simplify it: predicting numerical variable based on some other combination of variables, even shorted...predicting a number."
      ],
      "metadata": {
        "id": "T4sq1SmW5wiv"
      }
    },
    {
      "cell_type": "code",
      "source": [
        "# Import TensorFlow\n",
        "import tensorflow as tf\n",
        "print(tf.__version__)"
      ],
      "metadata": {
        "colab": {
          "base_uri": "https://localhost:8080/"
        },
        "id": "6g9eeOyN6cHz",
        "outputId": "acc4da47-a368-4a50-cb93-a4f7fda1bd10"
      },
      "execution_count": 1,
      "outputs": [
        {
          "output_type": "stream",
          "name": "stdout",
          "text": [
            "2.15.0\n"
          ]
        }
      ]
    },
    {
      "cell_type": "markdown",
      "source": [
        "### Creating some data to view and fit"
      ],
      "metadata": {
        "id": "l0lgo4rF6k1O"
      }
    },
    {
      "cell_type": "code",
      "source": [
        "import numpy as np\n",
        "import matplotlib.pyplot as plt\n",
        "\n",
        "# Create features\n",
        "X = np.array([-7.0, -4.0, -1.0, 2.0, 5.0, 8.0, 11.0, 14.0])\n",
        "\n",
        "# Create labels\n",
        "y = np.array([3.0, 6.0, 9.0, 12.0, 15.0, 18.0, 21.0, 24.0])\n",
        "\n",
        "# Visulize it\n",
        "plt.scatter(X, y)"
      ],
      "metadata": {
        "colab": {
          "base_uri": "https://localhost:8080/",
          "height": 452
        },
        "id": "U9mD2lUo65cr",
        "outputId": "286c2a3b-4f8d-4d20-e5b6-494a5b252b48"
      },
      "execution_count": 2,
      "outputs": [
        {
          "output_type": "execute_result",
          "data": {
            "text/plain": [
              "<matplotlib.collections.PathCollection at 0x7caa81e95660>"
            ]
          },
          "metadata": {},
          "execution_count": 2
        },
        {
          "output_type": "display_data",
          "data": {
            "text/plain": [
              "<Figure size 640x480 with 1 Axes>"
            ],
            "image/png": "[encoded data removed]"
          },
          "metadata": {}
        }
      ]
    },
    {
      "cell_type": "code",
      "source": [
        "y == X + 10"
      ],
      "metadata": {
        "colab": {
          "base_uri": "https://localhost:8080/"
        },
        "id": "6Ko5VR4l7u_U",
        "outputId": "5e609f24-a114-4158-daf2-21b4e66eac5a"
      },
      "execution_count": 3,
      "outputs": [
        {
          "output_type": "execute_result",
          "data": {
            "text/plain": [
              "array([ True,  True,  True,  True,  True,  True,  True,  True])"
            ]
          },
          "metadata": {},
          "execution_count": 3
        }
      ]
    },
    {
      "cell_type": "markdown",
      "source": [
        "## Input and output shapes"
      ],
      "metadata": {
        "id": "ngvEVaE278BM"
      }
    },
    {
      "cell_type": "code",
      "source": [
        "# Create a demo tensor for our housing price prediction problem\n",
        "house_info = tf.constant([\"bedroom\",\"bathroom\",\"garage\"])\n",
        "house_price = tf.constant([939700])\n",
        "house_info, house_price"
      ],
      "metadata": {
        "colab": {
          "base_uri": "https://localhost:8080/"
        },
        "id": "HLxK19gp8DnE",
        "outputId": "8cff22f6-4cc6-4197-f085-6752358d34e8"
      },
      "execution_count": 4,
      "outputs": [
        {
          "output_type": "execute_result",
          "data": {
            "text/plain": [
              "(<tf.Tensor: shape=(3,), dtype=string, numpy=array([b'bedroom', b'bathroom', b'garage'], dtype=object)>,\n",
              " <tf.Tensor: shape=(1,), dtype=int32, numpy=array([939700], dtype=int32)>)"
            ]
          },
          "metadata": {},
          "execution_count": 4
        }
      ]
    },
    {
      "cell_type": "code",
      "source": [
        "X[0], y[0]"
      ],
      "metadata": {
        "colab": {
          "base_uri": "https://localhost:8080/"
        },
        "id": "U5szC2v_9ffC",
        "outputId": "e6b73357-fdb4-4f6c-91f2-5da975d9c42d"
      },
      "execution_count": 5,
      "outputs": [
        {
          "output_type": "execute_result",
          "data": {
            "text/plain": [
              "(-7.0, 3.0)"
            ]
          },
          "metadata": {},
          "execution_count": 5
        }
      ]
    },
    {
      "cell_type": "code",
      "source": [
        "X[1], y[1]"
      ],
      "metadata": {
        "colab": {
          "base_uri": "https://localhost:8080/"
        },
        "id": "-wixDPgX9mU_",
        "outputId": "f710e467-1511-46ec-d9a3-b6a9ce01c6e5"
      },
      "execution_count": 6,
      "outputs": [
        {
          "output_type": "execute_result",
          "data": {
            "text/plain": [
              "(-4.0, 6.0)"
            ]
          },
          "metadata": {},
          "execution_count": 6
        }
      ]
    },
    {
      "cell_type": "code",
      "source": [
        "input_shape = X[0].shape\n",
        "output_shape = y[0].shape\n",
        "input_shape, output_shape"
      ],
      "metadata": {
        "colab": {
          "base_uri": "https://localhost:8080/"
        },
        "id": "t7RfbklQ9CTZ",
        "outputId": "892dadf2-4f13-4df5-ae1a-1c9d1438ffe5"
      },
      "execution_count": 7,
      "outputs": [
        {
          "output_type": "execute_result",
          "data": {
            "text/plain": [
              "((), ())"
            ]
          },
          "metadata": {},
          "execution_count": 7
        }
      ]
    },
    {
      "cell_type": "code",
      "source": [
        "X[0].ndim"
      ],
      "metadata": {
        "colab": {
          "base_uri": "https://localhost:8080/"
        },
        "id": "apa_sNR29Uc3",
        "outputId": "898ced42-ec1c-4047-bfb0-14485052b5ed"
      },
      "execution_count": 8,
      "outputs": [
        {
          "output_type": "execute_result",
          "data": {
            "text/plain": [
              "0"
            ]
          },
          "metadata": {},
          "execution_count": 8
        }
      ]
    },
    {
      "cell_type": "code",
      "source": [
        "X[0],y[0]"
      ],
      "metadata": {
        "colab": {
          "base_uri": "https://localhost:8080/"
        },
        "id": "vsXl_LVP9_H0",
        "outputId": "dbd5e638-86bd-440c-d30d-9e17e29d6cfe"
      },
      "execution_count": 9,
      "outputs": [
        {
          "output_type": "execute_result",
          "data": {
            "text/plain": [
              "(-7.0, 3.0)"
            ]
          },
          "metadata": {},
          "execution_count": 9
        }
      ]
    },
    {
      "cell_type": "code",
      "source": [
        "# Turn our NumPy array into tensors\n",
        "X = tf.cast(tf.constant(X), dtype=tf.float32)\n",
        "y = tf.cast(tf.constant(y), dtype=tf.float32)\n",
        "X, y"
      ],
      "metadata": {
        "colab": {
          "base_uri": "https://localhost:8080/"
        },
        "id": "i-kUwX_w-CbM",
        "outputId": "0538cf96-e7f9-4384-fbb4-e6e9ae2206c9"
      },
      "execution_count": 10,
      "outputs": [
        {
          "output_type": "execute_result",
          "data": {
            "text/plain": [
              "(<tf.Tensor: shape=(8,), dtype=float32, numpy=array([-7., -4., -1.,  2.,  5.,  8., 11., 14.], dtype=float32)>,\n",
              " <tf.Tensor: shape=(8,), dtype=float32, numpy=array([ 3.,  6.,  9., 12., 15., 18., 21., 24.], dtype=float32)>)"
            ]
          },
          "metadata": {},
          "execution_count": 10
        }
      ]
    },
    {
      "cell_type": "code",
      "source": [
        "input_shape = X[0].shape\n",
        "output_shape = y[0].shape\n",
        "input_shape, output_shape"
      ],
      "metadata": {
        "colab": {
          "base_uri": "https://localhost:8080/"
        },
        "id": "DDT7FnQv_6A9",
        "outputId": "34500d22-275f-40c5-fccb-97f60dfab880"
      },
      "execution_count": 11,
      "outputs": [
        {
          "output_type": "execute_result",
          "data": {
            "text/plain": [
              "(TensorShape([]), TensorShape([]))"
            ]
          },
          "metadata": {},
          "execution_count": 11
        }
      ]
    },
    {
      "cell_type": "code",
      "source": [
        "plt.scatter(X, y)"
      ],
      "metadata": {
        "colab": {
          "base_uri": "https://localhost:8080/",
          "height": 452
        },
        "id": "LJsyb6LLAGSk",
        "outputId": "c138412e-fcb3-42eb-84b8-640966866fac"
      },
      "execution_count": 12,
      "outputs": [
        {
          "output_type": "execute_result",
          "data": {
            "text/plain": [
              "<matplotlib.collections.PathCollection at 0x7cab063e7c70>"
            ]
          },
          "metadata": {},
          "execution_count": 12
        },
        {
          "output_type": "display_data",
          "data": {
            "text/plain": [
              "<Figure size 640x480 with 1 Axes>"
            ],
            "image/png": "[encoded data removed]"
          },
          "metadata": {}
        }
      ]
    },
    {
      "cell_type": "markdown",
      "source": [
        "## Steps in modelling with TensorFlow\n",
        "1. **Creating a model** - define the input and output layers, as well as the hidden layers of a deep learning model.\n",
        "2. **Compiling a model** - define the loss function ( in other words, the function which tells our model how wrong it is) and the optimizer (tells our model how to improve the patterns its learning) and evalution metric (what we can use to iterpret the performance of our model).\n",
        "3. **Fitting a model** - letting the model try to find patterns between X & y (features and labels).\n"
      ],
      "metadata": {
        "id": "8d7TbwHpAYXo"
      }
    },
    {
      "cell_type": "code",
      "source": [
        "# Set random seed\n",
        "tf.random.set_seed(42)\n",
        "\n",
        "# 1. Create a model using the Sequential API\n",
        "model = tf.keras.Sequential([\n",
        "    tf.keras.layers.Dense(1)\n",
        "])\n",
        "\n",
        "# 2. Compile the model\n",
        "model.compile(loss=tf.keras.losses.mae, #mae is short for mean absolute error\n",
        "              optimizer=tf.keras.optimizers.SGD(), # sgd is short for stochastic gradient descent\n",
        "              metrics=[\"mae\"]\n",
        "              )\n",
        "\n",
        "# 3. Fit the model\n",
        "model.fit(tf.expand_dims(X, axis=1), y, epochs=5) # expand X dimension by 1: from one dimension from two dimension"
      ],
      "metadata": {
        "colab": {
          "base_uri": "https://localhost:8080/"
        },
        "id": "f5LdDMj_AkY9",
        "outputId": "05ea7d01-d8df-4439-c402-8600c26120d3"
      },
      "execution_count": 13,
      "outputs": [
        {
          "output_type": "stream",
          "name": "stdout",
          "text": [
            "Epoch 1/5\n",
            "1/1 [==============================] - 0s 498ms/step - loss: 19.4500 - mae: 19.4500\n",
            "Epoch 2/5\n",
            "1/1 [==============================] - 0s 15ms/step - loss: 19.1688 - mae: 19.1688\n",
            "Epoch 3/5\n",
            "1/1 [==============================] - 0s 10ms/step - loss: 18.8875 - mae: 18.8875\n",
            "Epoch 4/5\n",
            "1/1 [==============================] - 0s 9ms/step - loss: 18.6063 - mae: 18.6063\n",
            "Epoch 5/5\n",
            "1/1 [==============================] - 0s 15ms/step - loss: 18.3250 - mae: 18.3250\n"
          ]
        },
        {
          "output_type": "execute_result",
          "data": {
            "text/plain": [
              "<keras.src.callbacks.History at 0x7caa7cb22230>"
            ]
          },
          "metadata": {},
          "execution_count": 13
        }
      ]
    },
    {
      "cell_type": "code",
      "source": [
        "# Check out X and y\n",
        "X, y"
      ],
      "metadata": {
        "colab": {
          "base_uri": "https://localhost:8080/"
        },
        "id": "FmcSXUmoCtOo",
        "outputId": "351e6961-2ff1-4c5f-fd14-56592606154c"
      },
      "execution_count": 14,
      "outputs": [
        {
          "output_type": "execute_result",
          "data": {
            "text/plain": [
              "(<tf.Tensor: shape=(8,), dtype=float32, numpy=array([-7., -4., -1.,  2.,  5.,  8., 11., 14.], dtype=float32)>,\n",
              " <tf.Tensor: shape=(8,), dtype=float32, numpy=array([ 3.,  6.,  9., 12., 15., 18., 21., 24.], dtype=float32)>)"
            ]
          },
          "metadata": {},
          "execution_count": 14
        }
      ]
    },
    {
      "cell_type": "code",
      "source": [
        "# Try and make a prediction using our model\n",
        "y_pred = model.predict([17.0])\n",
        "y_pred"
      ],
      "metadata": {
        "colab": {
          "base_uri": "https://localhost:8080/"
        },
        "id": "S1pzNPMMXADd",
        "outputId": "2bcd108b-de80-4942-8b3a-9afb0ce1a990"
      },
      "execution_count": 15,
      "outputs": [
        {
          "output_type": "stream",
          "name": "stdout",
          "text": [
            "1/1 [==============================] - 0s 90ms/step\n"
          ]
        },
        {
          "output_type": "execute_result",
          "data": {
            "text/plain": [
              "array([[-17.195253]], dtype=float32)"
            ]
          },
          "metadata": {},
          "execution_count": 15
        }
      ]
    },
    {
      "cell_type": "code",
      "source": [
        "y_pred + 16"
      ],
      "metadata": {
        "colab": {
          "base_uri": "https://localhost:8080/"
        },
        "id": "k1B_8r3wXK2s",
        "outputId": "7a54ac75-ac66-45cd-a532-d72f9de2ab9e"
      },
      "execution_count": 16,
      "outputs": [
        {
          "output_type": "execute_result",
          "data": {
            "text/plain": [
              "array([[-1.1952534]], dtype=float32)"
            ]
          },
          "metadata": {},
          "execution_count": 16
        }
      ]
    },
    {
      "cell_type": "markdown",
      "source": [
        "## Improving our model\n",
        "\n",
        "We can improve our model by altering the steps we took to create a model.\n",
        "\n",
        "1. **Creating a model** - here we might add more layers,\n",
        "increase the number of hidden units (all called neurons)\n",
        "within each of the hidden layers, change the activation function of each layer.\n",
        "2. **Compiling a model** - here we might change the optimization function or perhaps the **learning rate** of the optimization function.\n",
        "3. **Fittin a model** - here we might fit a model for more **epochs** (leave it training for longer) or on more data (give the model more examples to learn from).\n",
        "\n"
      ],
      "metadata": {
        "id": "nKk4f-nLXeLI"
      }
    },
    {
      "cell_type": "code",
      "source": [
        "# Let's rebuild our model\n",
        "\n",
        "# 1. Create the model\n",
        "model = tf.keras.Sequential([\n",
        "    tf.keras.layers.Dense(1)\n",
        "])\n",
        "\n",
        "# 2. Compile the model\n",
        "model.compile(loss=tf.keras.losses.mae,\n",
        "              optimizer=tf.keras.optimizers.SGD(),\n",
        "              metrics=[\"mae\"]\n",
        "              )\n",
        "\n",
        "# 3. Fit the model (this time we'll train for longer)\n",
        "model.fit(tf.expand_dims(X, axis=1), y, epochs=100)"
      ],
      "metadata": {
        "colab": {
          "base_uri": "https://localhost:8080/"
        },
        "id": "hnGNg0vrbEzb",
        "outputId": "cc469e44-99cc-4fc0-9fbc-bcd9d1af18ea"
      },
      "execution_count": 17,
      "outputs": [
        {
          "output_type": "stream",
          "name": "stdout",
          "text": [
            "Epoch 1/100\n",
            "1/1 [==============================] - 0s 319ms/step - loss: 14.7526 - mae: 14.7526\n",
            "Epoch 2/100\n",
            "1/1 [==============================] - 0s 12ms/step - loss: 14.6201 - mae: 14.6201\n",
            "Epoch 3/100\n",
            "1/1 [==============================] - 0s 11ms/step - loss: 14.4876 - mae: 14.4876\n",
            "Epoch 4/100\n",
            "1/1 [==============================] - 0s 12ms/step - loss: 14.3551 - mae: 14.3551\n",
            "Epoch 5/100\n",
            "1/1 [==============================] - 0s 10ms/step - loss: 14.2226 - mae: 14.2226\n",
            "Epoch 6/100\n",
            "1/1 [==============================] - 0s 12ms/step - loss: 14.0901 - mae: 14.0901\n",
            "Epoch 7/100\n",
            "1/1 [==============================] - 0s 9ms/step - loss: 13.9576 - mae: 13.9576\n",
            "Epoch 8/100\n",
            "1/1 [==============================] - 0s 10ms/step - loss: 13.8251 - mae: 13.8251\n",
            "Epoch 9/100\n",
            "1/1 [==============================] - 0s 10ms/step - loss: 13.6926 - mae: 13.6926\n",
            "Epoch 10/100\n",
            "1/1 [==============================] - 0s 9ms/step - loss: 13.5601 - mae: 13.5601\n",
            "Epoch 11/100\n",
            "1/1 [==============================] - 0s 10ms/step - loss: 13.4276 - mae: 13.4276\n",
            "Epoch 12/100\n",
            "1/1 [==============================] - 0s 10ms/step - loss: 13.2951 - mae: 13.2951\n",
            "Epoch 13/100\n",
            "1/1 [==============================] - 0s 9ms/step - loss: 13.1626 - mae: 13.1626\n",
            "Epoch 14/100\n",
            "1/1 [==============================] - 0s 10ms/step - loss: 13.0301 - mae: 13.0301\n",
            "Epoch 15/100\n",
            "1/1 [==============================] - 0s 12ms/step - loss: 12.8976 - mae: 12.8976\n",
            "Epoch 16/100\n",
            "1/1 [==============================] - 0s 15ms/step - loss: 12.7651 - mae: 12.7651\n",
            "Epoch 17/100\n",
            "1/1 [==============================] - 0s 9ms/step - loss: 12.6326 - mae: 12.6326\n",
            "Epoch 18/100\n",
            "1/1 [==============================] - 0s 9ms/step - loss: 12.5001 - mae: 12.5001\n",
            "Epoch 19/100\n",
            "1/1 [==============================] - 0s 10ms/step - loss: 12.3676 - mae: 12.3676\n",
            "Epoch 20/100\n",
            "1/1 [==============================] - 0s 11ms/step - loss: 12.2351 - mae: 12.2351\n",
            "Epoch 21/100\n",
            "1/1 [==============================] - 0s 13ms/step - loss: 12.1026 - mae: 12.1026\n",
            "Epoch 22/100\n",
            "1/1 [==============================] - 0s 10ms/step - loss: 11.9701 - mae: 11.9701\n",
            "Epoch 23/100\n",
            "1/1 [==============================] - 0s 16ms/step - loss: 11.8376 - mae: 11.8376\n",
            "Epoch 24/100\n",
            "1/1 [==============================] - 0s 12ms/step - loss: 11.7051 - mae: 11.7051\n",
            "Epoch 25/100\n",
            "1/1 [==============================] - 0s 11ms/step - loss: 11.5726 - mae: 11.5726\n",
            "Epoch 26/100\n",
            "1/1 [==============================] - 0s 11ms/step - loss: 11.4401 - mae: 11.4401\n",
            "Epoch 27/100\n",
            "1/1 [==============================] - 0s 11ms/step - loss: 11.3076 - mae: 11.3076\n",
            "Epoch 28/100\n",
            "1/1 [==============================] - 0s 12ms/step - loss: 11.1751 - mae: 11.1751\n",
            "Epoch 29/100\n",
            "1/1 [==============================] - 0s 10ms/step - loss: 11.0426 - mae: 11.0426\n",
            "Epoch 30/100\n",
            "1/1 [==============================] - 0s 10ms/step - loss: 10.9101 - mae: 10.9101\n",
            "Epoch 31/100\n",
            "1/1 [==============================] - 0s 10ms/step - loss: 10.7776 - mae: 10.7776\n",
            "Epoch 32/100\n",
            "1/1 [==============================] - 0s 9ms/step - loss: 10.6451 - mae: 10.6451\n",
            "Epoch 33/100\n",
            "1/1 [==============================] - 0s 11ms/step - loss: 10.5126 - mae: 10.5126\n",
            "Epoch 34/100\n",
            "1/1 [==============================] - 0s 12ms/step - loss: 10.3801 - mae: 10.3801\n",
            "Epoch 35/100\n",
            "1/1 [==============================] - 0s 10ms/step - loss: 10.2476 - mae: 10.2476\n",
            "Epoch 36/100\n",
            "1/1 [==============================] - 0s 10ms/step - loss: 10.1151 - mae: 10.1151\n",
            "Epoch 37/100\n",
            "1/1 [==============================] - 0s 11ms/step - loss: 9.9826 - mae: 9.9826\n",
            "Epoch 38/100\n",
            "1/1 [==============================] - 0s 9ms/step - loss: 9.8501 - mae: 9.8501\n",
            "Epoch 39/100\n",
            "1/1 [==============================] - 0s 13ms/step - loss: 9.7176 - mae: 9.7176\n",
            "Epoch 40/100\n",
            "1/1 [==============================] - 0s 12ms/step - loss: 9.5851 - mae: 9.5851\n",
            "Epoch 41/100\n",
            "1/1 [==============================] - 0s 12ms/step - loss: 9.4526 - mae: 9.4526\n",
            "Epoch 42/100\n",
            "1/1 [==============================] - 0s 12ms/step - loss: 9.3201 - mae: 9.3201\n",
            "Epoch 43/100\n",
            "1/1 [==============================] - 0s 10ms/step - loss: 9.1876 - mae: 9.1876\n",
            "Epoch 44/100\n",
            "1/1 [==============================] - 0s 9ms/step - loss: 9.0551 - mae: 9.0551\n",
            "Epoch 45/100\n",
            "1/1 [==============================] - 0s 9ms/step - loss: 8.9226 - mae: 8.9226\n",
            "Epoch 46/100\n",
            "1/1 [==============================] - 0s 10ms/step - loss: 8.7901 - mae: 8.7901\n",
            "Epoch 47/100\n",
            "1/1 [==============================] - 0s 13ms/step - loss: 8.6576 - mae: 8.6576\n",
            "Epoch 48/100\n",
            "1/1 [==============================] - 0s 12ms/step - loss: 8.5251 - mae: 8.5251\n",
            "Epoch 49/100\n",
            "1/1 [==============================] - 0s 7ms/step - loss: 8.3926 - mae: 8.3926\n",
            "Epoch 50/100\n",
            "1/1 [==============================] - 0s 11ms/step - loss: 8.2601 - mae: 8.2601\n",
            "Epoch 51/100\n",
            "1/1 [==============================] - 0s 9ms/step - loss: 8.1276 - mae: 8.1276\n",
            "Epoch 52/100\n",
            "1/1 [==============================] - 0s 9ms/step - loss: 7.9951 - mae: 7.9951\n",
            "Epoch 53/100\n",
            "1/1 [==============================] - 0s 11ms/step - loss: 7.8626 - mae: 7.8626\n",
            "Epoch 54/100\n",
            "1/1 [==============================] - 0s 9ms/step - loss: 7.7301 - mae: 7.7301\n",
            "Epoch 55/100\n",
            "1/1 [==============================] - 0s 9ms/step - loss: 7.5976 - mae: 7.5976\n",
            "Epoch 56/100\n",
            "1/1 [==============================] - 0s 9ms/step - loss: 7.4651 - mae: 7.4651\n",
            "Epoch 57/100\n",
            "1/1 [==============================] - 0s 9ms/step - loss: 7.3326 - mae: 7.3326\n",
            "Epoch 58/100\n",
            "1/1 [==============================] - 0s 9ms/step - loss: 7.2001 - mae: 7.2001\n",
            "Epoch 59/100\n",
            "1/1 [==============================] - 0s 13ms/step - loss: 7.0676 - mae: 7.0676\n",
            "Epoch 60/100\n",
            "1/1 [==============================] - 0s 9ms/step - loss: 7.0575 - mae: 7.0575\n",
            "Epoch 61/100\n",
            "1/1 [==============================] - 0s 9ms/step - loss: 7.0519 - mae: 7.0519\n",
            "Epoch 62/100\n",
            "1/1 [==============================] - 0s 9ms/step - loss: 7.0463 - mae: 7.0463\n",
            "Epoch 63/100\n",
            "1/1 [==============================] - 0s 14ms/step - loss: 7.0406 - mae: 7.0406\n",
            "Epoch 64/100\n",
            "1/1 [==============================] - 0s 10ms/step - loss: 7.0350 - mae: 7.0350\n",
            "Epoch 65/100\n",
            "1/1 [==============================] - 0s 9ms/step - loss: 7.0294 - mae: 7.0294\n",
            "Epoch 66/100\n",
            "1/1 [==============================] - 0s 8ms/step - loss: 7.0238 - mae: 7.0238\n",
            "Epoch 67/100\n",
            "1/1 [==============================] - 0s 10ms/step - loss: 7.0181 - mae: 7.0181\n",
            "Epoch 68/100\n",
            "1/1 [==============================] - 0s 9ms/step - loss: 7.0125 - mae: 7.0125\n",
            "Epoch 69/100\n",
            "1/1 [==============================] - 0s 9ms/step - loss: 7.0069 - mae: 7.0069\n",
            "Epoch 70/100\n",
            "1/1 [==============================] - 0s 9ms/step - loss: 7.0013 - mae: 7.0013\n",
            "Epoch 71/100\n",
            "1/1 [==============================] - 0s 10ms/step - loss: 6.9956 - mae: 6.9956\n",
            "Epoch 72/100\n",
            "1/1 [==============================] - 0s 18ms/step - loss: 6.9900 - mae: 6.9900\n",
            "Epoch 73/100\n",
            "1/1 [==============================] - 0s 12ms/step - loss: 6.9844 - mae: 6.9844\n",
            "Epoch 74/100\n",
            "1/1 [==============================] - 0s 11ms/step - loss: 6.9788 - mae: 6.9788\n",
            "Epoch 75/100\n",
            "1/1 [==============================] - 0s 10ms/step - loss: 6.9731 - mae: 6.9731\n",
            "Epoch 76/100\n",
            "1/1 [==============================] - 0s 11ms/step - loss: 6.9675 - mae: 6.9675\n",
            "Epoch 77/100\n",
            "1/1 [==============================] - 0s 10ms/step - loss: 6.9619 - mae: 6.9619\n",
            "Epoch 78/100\n",
            "1/1 [==============================] - 0s 9ms/step - loss: 6.9563 - mae: 6.9563\n",
            "Epoch 79/100\n",
            "1/1 [==============================] - 0s 8ms/step - loss: 6.9506 - mae: 6.9506\n",
            "Epoch 80/100\n",
            "1/1 [==============================] - 0s 13ms/step - loss: 6.9450 - mae: 6.9450\n",
            "Epoch 81/100\n",
            "1/1 [==============================] - 0s 11ms/step - loss: 6.9394 - mae: 6.9394\n",
            "Epoch 82/100\n",
            "1/1 [==============================] - 0s 9ms/step - loss: 6.9338 - mae: 6.9338\n",
            "Epoch 83/100\n",
            "1/1 [==============================] - 0s 9ms/step - loss: 6.9281 - mae: 6.9281\n",
            "Epoch 84/100\n",
            "1/1 [==============================] - 0s 10ms/step - loss: 6.9225 - mae: 6.9225\n",
            "Epoch 85/100\n",
            "1/1 [==============================] - 0s 15ms/step - loss: 6.9169 - mae: 6.9169\n",
            "Epoch 86/100\n",
            "1/1 [==============================] - 0s 13ms/step - loss: 6.9113 - mae: 6.9113\n",
            "Epoch 87/100\n",
            "1/1 [==============================] - 0s 9ms/step - loss: 6.9056 - mae: 6.9056\n",
            "Epoch 88/100\n",
            "1/1 [==============================] - 0s 9ms/step - loss: 6.9000 - mae: 6.9000\n",
            "Epoch 89/100\n",
            "1/1 [==============================] - 0s 9ms/step - loss: 6.8944 - mae: 6.8944\n",
            "Epoch 90/100\n",
            "1/1 [==============================] - 0s 9ms/step - loss: 6.8888 - mae: 6.8888\n",
            "Epoch 91/100\n",
            "1/1 [==============================] - 0s 9ms/step - loss: 6.8831 - mae: 6.8831\n",
            "Epoch 92/100\n",
            "1/1 [==============================] - 0s 9ms/step - loss: 6.8775 - mae: 6.8775\n",
            "Epoch 93/100\n",
            "1/1 [==============================] - 0s 13ms/step - loss: 6.8719 - mae: 6.8719\n",
            "Epoch 94/100\n",
            "1/1 [==============================] - 0s 12ms/step - loss: 6.8663 - mae: 6.8663\n",
            "Epoch 95/100\n",
            "1/1 [==============================] - 0s 11ms/step - loss: 6.8606 - mae: 6.8606\n",
            "Epoch 96/100\n",
            "1/1 [==============================] - 0s 10ms/step - loss: 6.8550 - mae: 6.8550\n",
            "Epoch 97/100\n",
            "1/1 [==============================] - 0s 14ms/step - loss: 6.8494 - mae: 6.8494\n",
            "Epoch 98/100\n",
            "1/1 [==============================] - 0s 11ms/step - loss: 6.8438 - mae: 6.8438\n",
            "Epoch 99/100\n",
            "1/1 [==============================] - 0s 9ms/step - loss: 6.8381 - mae: 6.8381\n",
            "Epoch 100/100\n",
            "1/1 [==============================] - 0s 12ms/step - loss: 6.8325 - mae: 6.8325\n"
          ]
        },
        {
          "output_type": "execute_result",
          "data": {
            "text/plain": [
              "<keras.src.callbacks.History at 0x7caa7d38c160>"
            ]
          },
          "metadata": {},
          "execution_count": 17
        }
      ]
    },
    {
      "cell_type": "code",
      "source": [
        "# Remind ourselves of the data\n",
        "X, y"
      ],
      "metadata": {
        "colab": {
          "base_uri": "https://localhost:8080/"
        },
        "id": "_F6bdsh0c2Kc",
        "outputId": "d7ca8b40-018e-4732-df16-6647527712ac"
      },
      "execution_count": 18,
      "outputs": [
        {
          "output_type": "execute_result",
          "data": {
            "text/plain": [
              "(<tf.Tensor: shape=(8,), dtype=float32, numpy=array([-7., -4., -1.,  2.,  5.,  8., 11., 14.], dtype=float32)>,\n",
              " <tf.Tensor: shape=(8,), dtype=float32, numpy=array([ 3.,  6.,  9., 12., 15., 18., 21., 24.], dtype=float32)>)"
            ]
          },
          "metadata": {},
          "execution_count": 18
        }
      ]
    },
    {
      "cell_type": "code",
      "source": [
        "# Let's see if our model's prediction has improved...\n",
        "model.predict([17.0])"
      ],
      "metadata": {
        "colab": {
          "base_uri": "https://localhost:8080/"
        },
        "id": "LjX3CCzhddVq",
        "outputId": "2008f968-66bf-43e7-d159-20060aa628df"
      },
      "execution_count": 19,
      "outputs": [
        {
          "output_type": "stream",
          "name": "stdout",
          "text": [
            "1/1 [==============================] - 0s 64ms/step\n"
          ]
        },
        {
          "output_type": "execute_result",
          "data": {
            "text/plain": [
              "array([[29.91821]], dtype=float32)"
            ]
          },
          "metadata": {},
          "execution_count": 19
        }
      ]
    },
    {
      "cell_type": "code",
      "source": [
        "# Let's rebuild our model\n",
        "\n",
        "# 1. Create the model\n",
        "model = tf.keras.Sequential([\n",
        "    tf.keras.layers.Dense(1),\n",
        "    tf.keras.layers.Dense(1)\n",
        "])\n",
        "\n",
        "# 2. Compile the model\n",
        "model.compile(loss=tf.keras.losses.mae,\n",
        "              optimizer=tf.keras.optimizers.SGD(),\n",
        "              metrics=[\"mae\"]\n",
        "              )\n",
        "\n",
        "# 3. Fit the model (this time we'll train for longer)\n",
        "model.fit(tf.expand_dims(X, axis=1), y, epochs=100)"
      ],
      "metadata": {
        "colab": {
          "base_uri": "https://localhost:8080/"
        },
        "id": "iE1C8D4Sdnwu",
        "outputId": "18cee671-b42c-4c14-b6ae-f3c7e507306a"
      },
      "execution_count": 20,
      "outputs": [
        {
          "output_type": "stream",
          "name": "stdout",
          "text": [
            "Epoch 1/100\n",
            "1/1 [==============================] - 0s 406ms/step - loss: 13.2074 - mae: 13.2074\n",
            "Epoch 2/100\n",
            "1/1 [==============================] - 0s 10ms/step - loss: 13.1565 - mae: 13.1565\n",
            "Epoch 3/100\n",
            "1/1 [==============================] - 0s 9ms/step - loss: 13.1041 - mae: 13.1041\n",
            "Epoch 4/100\n",
            "1/1 [==============================] - 0s 10ms/step - loss: 13.0497 - mae: 13.0497\n",
            "Epoch 5/100\n",
            "1/1 [==============================] - 0s 10ms/step - loss: 12.9932 - mae: 12.9932\n",
            "Epoch 6/100\n",
            "1/1 [==============================] - 0s 9ms/step - loss: 12.9344 - mae: 12.9344\n",
            "Epoch 7/100\n",
            "1/1 [==============================] - 0s 9ms/step - loss: 12.8730 - mae: 12.8730\n",
            "Epoch 8/100\n",
            "1/1 [==============================] - 0s 9ms/step - loss: 12.8087 - mae: 12.8087\n",
            "Epoch 9/100\n",
            "1/1 [==============================] - 0s 14ms/step - loss: 12.7413 - mae: 12.7413\n",
            "Epoch 10/100\n",
            "1/1 [==============================] - 0s 10ms/step - loss: 12.6704 - mae: 12.6704\n",
            "Epoch 11/100\n",
            "1/1 [==============================] - 0s 10ms/step - loss: 12.5958 - mae: 12.5958\n",
            "Epoch 12/100\n",
            "1/1 [==============================] - 0s 9ms/step - loss: 12.5171 - mae: 12.5171\n",
            "Epoch 13/100\n",
            "1/1 [==============================] - 0s 9ms/step - loss: 12.4339 - mae: 12.4339\n",
            "Epoch 14/100\n",
            "1/1 [==============================] - 0s 9ms/step - loss: 12.3459 - mae: 12.3459\n",
            "Epoch 15/100\n",
            "1/1 [==============================] - 0s 9ms/step - loss: 12.2527 - mae: 12.2527\n",
            "Epoch 16/100\n",
            "1/1 [==============================] - 0s 10ms/step - loss: 12.1538 - mae: 12.1538\n",
            "Epoch 17/100\n",
            "1/1 [==============================] - 0s 9ms/step - loss: 12.0489 - mae: 12.0489\n",
            "Epoch 18/100\n",
            "1/1 [==============================] - 0s 9ms/step - loss: 11.9373 - mae: 11.9373\n",
            "Epoch 19/100\n",
            "1/1 [==============================] - 0s 9ms/step - loss: 11.8187 - mae: 11.8187\n",
            "Epoch 20/100\n",
            "1/1 [==============================] - 0s 9ms/step - loss: 11.6924 - mae: 11.6924\n",
            "Epoch 21/100\n",
            "1/1 [==============================] - 0s 9ms/step - loss: 11.5578 - mae: 11.5578\n",
            "Epoch 22/100\n",
            "1/1 [==============================] - 0s 10ms/step - loss: 11.4143 - mae: 11.4143\n",
            "Epoch 23/100\n",
            "1/1 [==============================] - 0s 9ms/step - loss: 11.2612 - mae: 11.2612\n",
            "Epoch 24/100\n",
            "1/1 [==============================] - 0s 10ms/step - loss: 11.0979 - mae: 11.0979\n",
            "Epoch 25/100\n",
            "1/1 [==============================] - 0s 10ms/step - loss: 10.9234 - mae: 10.9234\n",
            "Epoch 26/100\n",
            "1/1 [==============================] - 0s 9ms/step - loss: 10.7369 - mae: 10.7369\n",
            "Epoch 27/100\n",
            "1/1 [==============================] - 0s 10ms/step - loss: 10.5377 - mae: 10.5377\n",
            "Epoch 28/100\n",
            "1/1 [==============================] - 0s 11ms/step - loss: 10.3246 - mae: 10.3246\n",
            "Epoch 29/100\n",
            "1/1 [==============================] - 0s 10ms/step - loss: 10.0966 - mae: 10.0966\n",
            "Epoch 30/100\n",
            "1/1 [==============================] - 0s 14ms/step - loss: 9.8527 - mae: 9.8527\n",
            "Epoch 31/100\n",
            "1/1 [==============================] - 0s 11ms/step - loss: 9.5916 - mae: 9.5916\n",
            "Epoch 32/100\n",
            "1/1 [==============================] - 0s 12ms/step - loss: 9.3121 - mae: 9.3121\n",
            "Epoch 33/100\n",
            "1/1 [==============================] - 0s 10ms/step - loss: 9.0127 - mae: 9.0127\n",
            "Epoch 34/100\n",
            "1/1 [==============================] - 0s 14ms/step - loss: 8.6920 - mae: 8.6920\n",
            "Epoch 35/100\n",
            "1/1 [==============================] - 0s 9ms/step - loss: 8.3484 - mae: 8.3484\n",
            "Epoch 36/100\n",
            "1/1 [==============================] - 0s 9ms/step - loss: 7.9802 - mae: 7.9802\n",
            "Epoch 37/100\n",
            "1/1 [==============================] - 0s 9ms/step - loss: 7.5855 - mae: 7.5855\n",
            "Epoch 38/100\n",
            "1/1 [==============================] - 0s 9ms/step - loss: 7.1625 - mae: 7.1625\n",
            "Epoch 39/100\n",
            "1/1 [==============================] - 0s 9ms/step - loss: 6.8950 - mae: 6.8950\n",
            "Epoch 40/100\n",
            "1/1 [==============================] - 0s 9ms/step - loss: 6.8782 - mae: 6.8782\n",
            "Epoch 41/100\n",
            "1/1 [==============================] - 0s 10ms/step - loss: 6.8613 - mae: 6.8613\n",
            "Epoch 42/100\n",
            "1/1 [==============================] - 0s 10ms/step - loss: 6.8443 - mae: 6.8443\n",
            "Epoch 43/100\n",
            "1/1 [==============================] - 0s 13ms/step - loss: 6.8273 - mae: 6.8273\n",
            "Epoch 44/100\n",
            "1/1 [==============================] - 0s 9ms/step - loss: 6.8102 - mae: 6.8102\n",
            "Epoch 45/100\n",
            "1/1 [==============================] - 0s 9ms/step - loss: 6.7930 - mae: 6.7930\n",
            "Epoch 46/100\n",
            "1/1 [==============================] - 0s 9ms/step - loss: 6.7757 - mae: 6.7757\n",
            "Epoch 47/100\n",
            "1/1 [==============================] - 0s 12ms/step - loss: 6.7583 - mae: 6.7583\n",
            "Epoch 48/100\n",
            "1/1 [==============================] - 0s 9ms/step - loss: 6.7408 - mae: 6.7408\n",
            "Epoch 49/100\n",
            "1/1 [==============================] - 0s 10ms/step - loss: 6.7233 - mae: 6.7233\n",
            "Epoch 50/100\n",
            "1/1 [==============================] - 0s 10ms/step - loss: 6.7056 - mae: 6.7056\n",
            "Epoch 51/100\n",
            "1/1 [==============================] - 0s 10ms/step - loss: 6.6878 - mae: 6.6878\n",
            "Epoch 52/100\n",
            "1/1 [==============================] - 0s 9ms/step - loss: 6.6700 - mae: 6.6700\n",
            "Epoch 53/100\n",
            "1/1 [==============================] - 0s 12ms/step - loss: 6.6520 - mae: 6.6520\n",
            "Epoch 54/100\n",
            "1/1 [==============================] - 0s 10ms/step - loss: 6.6339 - mae: 6.6339\n",
            "Epoch 55/100\n",
            "1/1 [==============================] - 0s 10ms/step - loss: 6.6158 - mae: 6.6158\n",
            "Epoch 56/100\n",
            "1/1 [==============================] - 0s 10ms/step - loss: 6.5975 - mae: 6.5975\n",
            "Epoch 57/100\n",
            "1/1 [==============================] - 0s 10ms/step - loss: 6.5791 - mae: 6.5791\n",
            "Epoch 58/100\n",
            "1/1 [==============================] - 0s 10ms/step - loss: 6.5605 - mae: 6.5605\n",
            "Epoch 59/100\n",
            "1/1 [==============================] - 0s 9ms/step - loss: 6.5419 - mae: 6.5419\n",
            "Epoch 60/100\n",
            "1/1 [==============================] - 0s 9ms/step - loss: 6.5243 - mae: 6.5243\n",
            "Epoch 61/100\n",
            "1/1 [==============================] - 0s 15ms/step - loss: 6.5243 - mae: 6.5243\n",
            "Epoch 62/100\n",
            "1/1 [==============================] - 0s 9ms/step - loss: 6.5059 - mae: 6.5059\n",
            "Epoch 63/100\n",
            "1/1 [==============================] - 0s 13ms/step - loss: 6.4873 - mae: 6.4873\n",
            "Epoch 64/100\n",
            "1/1 [==============================] - 0s 15ms/step - loss: 6.4686 - mae: 6.4686\n",
            "Epoch 65/100\n",
            "1/1 [==============================] - 0s 11ms/step - loss: 6.4498 - mae: 6.4498\n",
            "Epoch 66/100\n",
            "1/1 [==============================] - 0s 14ms/step - loss: 6.4308 - mae: 6.4308\n",
            "Epoch 67/100\n",
            "1/1 [==============================] - 0s 13ms/step - loss: 6.4117 - mae: 6.4117\n",
            "Epoch 68/100\n",
            "1/1 [==============================] - 0s 13ms/step - loss: 6.3924 - mae: 6.3924\n",
            "Epoch 69/100\n",
            "1/1 [==============================] - 0s 16ms/step - loss: 6.3730 - mae: 6.3730\n",
            "Epoch 70/100\n",
            "1/1 [==============================] - 0s 12ms/step - loss: 6.3534 - mae: 6.3534\n",
            "Epoch 71/100\n",
            "1/1 [==============================] - 0s 11ms/step - loss: 6.3337 - mae: 6.3337\n",
            "Epoch 72/100\n",
            "1/1 [==============================] - 0s 11ms/step - loss: 6.3138 - mae: 6.3138\n",
            "Epoch 73/100\n",
            "1/1 [==============================] - 0s 13ms/step - loss: 6.2938 - mae: 6.2938\n",
            "Epoch 74/100\n",
            "1/1 [==============================] - 0s 10ms/step - loss: 6.2913 - mae: 6.2913\n",
            "Epoch 75/100\n",
            "1/1 [==============================] - 0s 10ms/step - loss: 6.2771 - mae: 6.2771\n",
            "Epoch 76/100\n",
            "1/1 [==============================] - 0s 10ms/step - loss: 6.2572 - mae: 6.2572\n",
            "Epoch 77/100\n",
            "1/1 [==============================] - 0s 10ms/step - loss: 6.2371 - mae: 6.2371\n",
            "Epoch 78/100\n",
            "1/1 [==============================] - 0s 9ms/step - loss: 6.2168 - mae: 6.2168\n",
            "Epoch 79/100\n",
            "1/1 [==============================] - 0s 15ms/step - loss: 6.1964 - mae: 6.1964\n",
            "Epoch 80/100\n",
            "1/1 [==============================] - 0s 10ms/step - loss: 6.1757 - mae: 6.1757\n",
            "Epoch 81/100\n",
            "1/1 [==============================] - 0s 10ms/step - loss: 6.1549 - mae: 6.1549\n",
            "Epoch 82/100\n",
            "1/1 [==============================] - 0s 10ms/step - loss: 6.1339 - mae: 6.1339\n",
            "Epoch 83/100\n",
            "1/1 [==============================] - 0s 10ms/step - loss: 6.1128 - mae: 6.1128\n",
            "Epoch 84/100\n",
            "1/1 [==============================] - 0s 10ms/step - loss: 6.0914 - mae: 6.0914\n",
            "Epoch 85/100\n",
            "1/1 [==============================] - 0s 16ms/step - loss: 6.0740 - mae: 6.0740\n",
            "Epoch 86/100\n",
            "1/1 [==============================] - 0s 13ms/step - loss: 6.0746 - mae: 6.0746\n",
            "Epoch 87/100\n",
            "1/1 [==============================] - 0s 17ms/step - loss: 6.0533 - mae: 6.0533\n",
            "Epoch 88/100\n",
            "1/1 [==============================] - 0s 10ms/step - loss: 6.0317 - mae: 6.0317\n",
            "Epoch 89/100\n",
            "1/1 [==============================] - 0s 9ms/step - loss: 6.0099 - mae: 6.0099\n",
            "Epoch 90/100\n",
            "1/1 [==============================] - 0s 9ms/step - loss: 5.9880 - mae: 5.9880\n",
            "Epoch 91/100\n",
            "1/1 [==============================] - 0s 11ms/step - loss: 5.9658 - mae: 5.9658\n",
            "Epoch 92/100\n",
            "1/1 [==============================] - 0s 13ms/step - loss: 5.9434 - mae: 5.9434\n",
            "Epoch 93/100\n",
            "1/1 [==============================] - 0s 12ms/step - loss: 5.9208 - mae: 5.9208\n",
            "Epoch 94/100\n",
            "1/1 [==============================] - 0s 13ms/step - loss: 5.8979 - mae: 5.8979\n",
            "Epoch 95/100\n",
            "1/1 [==============================] - 0s 14ms/step - loss: 5.8749 - mae: 5.8749\n",
            "Epoch 96/100\n",
            "1/1 [==============================] - 0s 13ms/step - loss: 5.8710 - mae: 5.8710\n",
            "Epoch 97/100\n",
            "1/1 [==============================] - 0s 12ms/step - loss: 5.8573 - mae: 5.8573\n",
            "Epoch 98/100\n",
            "1/1 [==============================] - 0s 11ms/step - loss: 5.8341 - mae: 5.8341\n",
            "Epoch 99/100\n",
            "1/1 [==============================] - 0s 9ms/step - loss: 5.8107 - mae: 5.8107\n",
            "Epoch 100/100\n",
            "1/1 [==============================] - 0s 11ms/step - loss: 5.7871 - mae: 5.7871\n"
          ]
        },
        {
          "output_type": "execute_result",
          "data": {
            "text/plain": [
              "<keras.src.callbacks.History at 0x7caa7d43f0d0>"
            ]
          },
          "metadata": {},
          "execution_count": 20
        }
      ]
    },
    {
      "cell_type": "code",
      "source": [
        "model.predict([17.0])"
      ],
      "metadata": {
        "colab": {
          "base_uri": "https://localhost:8080/"
        },
        "id": "kvW8PW39eCmT",
        "outputId": "f5ef2bb8-dece-46e8-e1c0-252e97fc2da7"
      },
      "execution_count": 21,
      "outputs": [
        {
          "output_type": "stream",
          "name": "stdout",
          "text": [
            "1/1 [==============================] - 0s 109ms/step\n"
          ]
        },
        {
          "output_type": "execute_result",
          "data": {
            "text/plain": [
              "array([[30.436016]], dtype=float32)"
            ]
          },
          "metadata": {},
          "execution_count": 21
        }
      ]
    },
    {
      "cell_type": "code",
      "source": [
        "# Let's rebuild our model\n",
        "\n",
        "# 1. Create the model\n",
        "model = tf.keras.Sequential([\n",
        "    tf.keras.layers.Dense(50, activation=None),\n",
        "    tf.keras.layers.Dense(1)\n",
        "])\n",
        "\n",
        "# 2. Compile the model\n",
        "model.compile(loss=tf.keras.losses.mae,\n",
        "              optimizer=tf.keras.optimizers.Adam(learning_rate=0.01),\n",
        "              metrics=[\"mae\"]\n",
        "              )\n",
        "\n",
        "# 3. Fit the model (this time we'll train for longer)\n",
        "model.fit(tf.expand_dims(X, axis=1), y, epochs=100)"
      ],
      "metadata": {
        "colab": {
          "base_uri": "https://localhost:8080/"
        },
        "id": "IM36QafxeHn9",
        "outputId": "40e5988e-9a12-4c2b-f7c1-9189612f2407"
      },
      "execution_count": 22,
      "outputs": [
        {
          "output_type": "stream",
          "name": "stdout",
          "text": [
            "Epoch 1/100\n",
            "1/1 [==============================] - 1s 664ms/step - loss: 14.3593 - mae: 14.3593\n",
            "Epoch 2/100\n",
            "1/1 [==============================] - 0s 13ms/step - loss: 13.6496 - mae: 13.6496\n",
            "Epoch 3/100\n",
            "1/1 [==============================] - 0s 10ms/step - loss: 12.9408 - mae: 12.9408\n",
            "Epoch 4/100\n",
            "1/1 [==============================] - 0s 10ms/step - loss: 12.2319 - mae: 12.2319\n",
            "Epoch 5/100\n",
            "1/1 [==============================] - 0s 10ms/step - loss: 11.5216 - mae: 11.5216\n",
            "Epoch 6/100\n",
            "1/1 [==============================] - 0s 9ms/step - loss: 10.8083 - mae: 10.8083\n",
            "Epoch 7/100\n",
            "1/1 [==============================] - 0s 9ms/step - loss: 10.0899 - mae: 10.0899\n",
            "Epoch 8/100\n",
            "1/1 [==============================] - 0s 9ms/step - loss: 9.3642 - mae: 9.3642\n",
            "Epoch 9/100\n",
            "1/1 [==============================] - 0s 10ms/step - loss: 8.6288 - mae: 8.6288\n",
            "Epoch 10/100\n",
            "1/1 [==============================] - 0s 11ms/step - loss: 7.8810 - mae: 7.8810\n",
            "Epoch 11/100\n",
            "1/1 [==============================] - 0s 11ms/step - loss: 7.1179 - mae: 7.1179\n",
            "Epoch 12/100\n",
            "1/1 [==============================] - 0s 11ms/step - loss: 6.6291 - mae: 6.6291\n",
            "Epoch 13/100\n",
            "1/1 [==============================] - 0s 9ms/step - loss: 6.8011 - mae: 6.8011\n",
            "Epoch 14/100\n",
            "1/1 [==============================] - 0s 9ms/step - loss: 7.0959 - mae: 7.0959\n",
            "Epoch 15/100\n",
            "1/1 [==============================] - 0s 11ms/step - loss: 7.3737 - mae: 7.3737\n",
            "Epoch 16/100\n",
            "1/1 [==============================] - 0s 10ms/step - loss: 7.5076 - mae: 7.5076\n",
            "Epoch 17/100\n",
            "1/1 [==============================] - 0s 13ms/step - loss: 7.4449 - mae: 7.4449\n",
            "Epoch 18/100\n",
            "1/1 [==============================] - 0s 10ms/step - loss: 7.2320 - mae: 7.2320\n",
            "Epoch 19/100\n",
            "1/1 [==============================] - 0s 10ms/step - loss: 6.9043 - mae: 6.9043\n",
            "Epoch 20/100\n",
            "1/1 [==============================] - 0s 10ms/step - loss: 6.6405 - mae: 6.6405\n",
            "Epoch 21/100\n",
            "1/1 [==============================] - 0s 11ms/step - loss: 6.3680 - mae: 6.3680\n",
            "Epoch 22/100\n",
            "1/1 [==============================] - 0s 10ms/step - loss: 6.0857 - mae: 6.0857\n",
            "Epoch 23/100\n",
            "1/1 [==============================] - 0s 10ms/step - loss: 5.9760 - mae: 5.9760\n",
            "Epoch 24/100\n",
            "1/1 [==============================] - 0s 9ms/step - loss: 5.9349 - mae: 5.9349\n",
            "Epoch 25/100\n",
            "1/1 [==============================] - 0s 11ms/step - loss: 6.1030 - mae: 6.1030\n",
            "Epoch 26/100\n",
            "1/1 [==============================] - 0s 10ms/step - loss: 6.1877 - mae: 6.1877\n",
            "Epoch 27/100\n",
            "1/1 [==============================] - 0s 11ms/step - loss: 6.1738 - mae: 6.1738\n",
            "Epoch 28/100\n",
            "1/1 [==============================] - 0s 13ms/step - loss: 6.0734 - mae: 6.0734\n",
            "Epoch 29/100\n",
            "1/1 [==============================] - 0s 10ms/step - loss: 5.8952 - mae: 5.8952\n",
            "Epoch 30/100\n",
            "1/1 [==============================] - 0s 10ms/step - loss: 5.6458 - mae: 5.6458\n",
            "Epoch 31/100\n",
            "1/1 [==============================] - 0s 10ms/step - loss: 5.3830 - mae: 5.3830\n",
            "Epoch 32/100\n",
            "1/1 [==============================] - 0s 9ms/step - loss: 5.2707 - mae: 5.2707\n",
            "Epoch 33/100\n",
            "1/1 [==============================] - 0s 9ms/step - loss: 5.1553 - mae: 5.1553\n",
            "Epoch 34/100\n",
            "1/1 [==============================] - 0s 10ms/step - loss: 5.1745 - mae: 5.1745\n",
            "Epoch 35/100\n",
            "1/1 [==============================] - 0s 10ms/step - loss: 5.1658 - mae: 5.1658\n",
            "Epoch 36/100\n",
            "1/1 [==============================] - 0s 10ms/step - loss: 5.1142 - mae: 5.1142\n",
            "Epoch 37/100\n",
            "1/1 [==============================] - 0s 9ms/step - loss: 5.0227 - mae: 5.0227\n",
            "Epoch 38/100\n",
            "1/1 [==============================] - 0s 11ms/step - loss: 4.8942 - mae: 4.8942\n",
            "Epoch 39/100\n",
            "1/1 [==============================] - 0s 10ms/step - loss: 4.7315 - mae: 4.7315\n",
            "Epoch 40/100\n",
            "1/1 [==============================] - 0s 10ms/step - loss: 4.5374 - mae: 4.5374\n",
            "Epoch 41/100\n",
            "1/1 [==============================] - 0s 10ms/step - loss: 4.3141 - mae: 4.3141\n",
            "Epoch 42/100\n",
            "1/1 [==============================] - 0s 9ms/step - loss: 4.2113 - mae: 4.2113\n",
            "Epoch 43/100\n",
            "1/1 [==============================] - 0s 11ms/step - loss: 4.0999 - mae: 4.0999\n",
            "Epoch 44/100\n",
            "1/1 [==============================] - 0s 10ms/step - loss: 3.9800 - mae: 3.9800\n",
            "Epoch 45/100\n",
            "1/1 [==============================] - 0s 10ms/step - loss: 3.9247 - mae: 3.9247\n",
            "Epoch 46/100\n",
            "1/1 [==============================] - 0s 10ms/step - loss: 3.7593 - mae: 3.7593\n",
            "Epoch 47/100\n",
            "1/1 [==============================] - 0s 10ms/step - loss: 3.5384 - mae: 3.5384\n",
            "Epoch 48/100\n",
            "1/1 [==============================] - 0s 10ms/step - loss: 3.3652 - mae: 3.3652\n",
            "Epoch 49/100\n",
            "1/1 [==============================] - 0s 10ms/step - loss: 3.1906 - mae: 3.1906\n",
            "Epoch 50/100\n",
            "1/1 [==============================] - 0s 11ms/step - loss: 3.0625 - mae: 3.0625\n",
            "Epoch 51/100\n",
            "1/1 [==============================] - 0s 15ms/step - loss: 2.8814 - mae: 2.8814\n",
            "Epoch 52/100\n",
            "1/1 [==============================] - 0s 10ms/step - loss: 2.6569 - mae: 2.6569\n",
            "Epoch 53/100\n",
            "1/1 [==============================] - 0s 10ms/step - loss: 2.4719 - mae: 2.4719\n",
            "Epoch 54/100\n",
            "1/1 [==============================] - 0s 11ms/step - loss: 2.2755 - mae: 2.2755\n",
            "Epoch 55/100\n",
            "1/1 [==============================] - 0s 10ms/step - loss: 2.0677 - mae: 2.0677\n",
            "Epoch 56/100\n",
            "1/1 [==============================] - 0s 10ms/step - loss: 1.8484 - mae: 1.8484\n",
            "Epoch 57/100\n",
            "1/1 [==============================] - 0s 9ms/step - loss: 1.6173 - mae: 1.6173\n",
            "Epoch 58/100\n",
            "1/1 [==============================] - 0s 9ms/step - loss: 1.3742 - mae: 1.3742\n",
            "Epoch 59/100\n",
            "1/1 [==============================] - 0s 9ms/step - loss: 1.1191 - mae: 1.1191\n",
            "Epoch 60/100\n",
            "1/1 [==============================] - 0s 10ms/step - loss: 0.8516 - mae: 0.8516\n",
            "Epoch 61/100\n",
            "1/1 [==============================] - 0s 10ms/step - loss: 0.6136 - mae: 0.6136\n",
            "Epoch 62/100\n",
            "1/1 [==============================] - 0s 11ms/step - loss: 0.2977 - mae: 0.2977\n",
            "Epoch 63/100\n",
            "1/1 [==============================] - 0s 10ms/step - loss: 0.2566 - mae: 0.2566\n",
            "Epoch 64/100\n",
            "1/1 [==============================] - 0s 11ms/step - loss: 0.2612 - mae: 0.2612\n",
            "Epoch 65/100\n",
            "1/1 [==============================] - 0s 9ms/step - loss: 0.5567 - mae: 0.5567\n",
            "Epoch 66/100\n",
            "1/1 [==============================] - 0s 10ms/step - loss: 0.6068 - mae: 0.6068\n",
            "Epoch 67/100\n",
            "1/1 [==============================] - 0s 15ms/step - loss: 0.7990 - mae: 0.7990\n",
            "Epoch 68/100\n",
            "1/1 [==============================] - 0s 14ms/step - loss: 0.8544 - mae: 0.8544\n",
            "Epoch 69/100\n",
            "1/1 [==============================] - 0s 10ms/step - loss: 0.7169 - mae: 0.7169\n",
            "Epoch 70/100\n",
            "1/1 [==============================] - 0s 11ms/step - loss: 0.8442 - mae: 0.8442\n",
            "Epoch 71/100\n",
            "1/1 [==============================] - 0s 15ms/step - loss: 0.8334 - mae: 0.8334\n",
            "Epoch 72/100\n",
            "1/1 [==============================] - 0s 15ms/step - loss: 0.6235 - mae: 0.6235\n",
            "Epoch 73/100\n",
            "1/1 [==============================] - 0s 10ms/step - loss: 0.4602 - mae: 0.4602\n",
            "Epoch 74/100\n",
            "1/1 [==============================] - 0s 10ms/step - loss: 0.4232 - mae: 0.4232\n",
            "Epoch 75/100\n",
            "1/1 [==============================] - 0s 9ms/step - loss: 0.1181 - mae: 0.1181\n",
            "Epoch 76/100\n",
            "1/1 [==============================] - 0s 10ms/step - loss: 0.4354 - mae: 0.4354\n",
            "Epoch 77/100\n",
            "1/1 [==============================] - 0s 10ms/step - loss: 0.5302 - mae: 0.5302\n",
            "Epoch 78/100\n",
            "1/1 [==============================] - 0s 12ms/step - loss: 0.3696 - mae: 0.3696\n",
            "Epoch 79/100\n",
            "1/1 [==============================] - 0s 10ms/step - loss: 0.4831 - mae: 0.4831\n",
            "Epoch 80/100\n",
            "1/1 [==============================] - 0s 16ms/step - loss: 0.6295 - mae: 0.6295\n",
            "Epoch 81/100\n",
            "1/1 [==============================] - 0s 10ms/step - loss: 0.6031 - mae: 0.6031\n",
            "Epoch 82/100\n",
            "1/1 [==============================] - 0s 9ms/step - loss: 0.4234 - mae: 0.4234\n",
            "Epoch 83/100\n",
            "1/1 [==============================] - 0s 10ms/step - loss: 0.3525 - mae: 0.3525\n",
            "Epoch 84/100\n",
            "1/1 [==============================] - 0s 13ms/step - loss: 0.4288 - mae: 0.4288\n",
            "Epoch 85/100\n",
            "1/1 [==============================] - 0s 9ms/step - loss: 0.2383 - mae: 0.2383\n",
            "Epoch 86/100\n",
            "1/1 [==============================] - 0s 10ms/step - loss: 0.2353 - mae: 0.2353\n",
            "Epoch 87/100\n",
            "1/1 [==============================] - 0s 9ms/step - loss: 0.3469 - mae: 0.3469\n",
            "Epoch 88/100\n",
            "1/1 [==============================] - 0s 9ms/step - loss: 0.1879 - mae: 0.1879\n",
            "Epoch 89/100\n",
            "1/1 [==============================] - 0s 10ms/step - loss: 0.3778 - mae: 0.3778\n",
            "Epoch 90/100\n",
            "1/1 [==============================] - 0s 9ms/step - loss: 0.5028 - mae: 0.5028\n",
            "Epoch 91/100\n",
            "1/1 [==============================] - 0s 9ms/step - loss: 0.3951 - mae: 0.3951\n",
            "Epoch 92/100\n",
            "1/1 [==============================] - 0s 9ms/step - loss: 0.1166 - mae: 0.1166\n",
            "Epoch 93/100\n",
            "1/1 [==============================] - 0s 9ms/step - loss: 0.4900 - mae: 0.4900\n",
            "Epoch 94/100\n",
            "1/1 [==============================] - 0s 9ms/step - loss: 0.6322 - mae: 0.6322\n",
            "Epoch 95/100\n",
            "1/1 [==============================] - 0s 10ms/step - loss: 0.5038 - mae: 0.5038\n",
            "Epoch 96/100\n",
            "1/1 [==============================] - 0s 10ms/step - loss: 0.2207 - mae: 0.2207\n",
            "Epoch 97/100\n",
            "1/1 [==============================] - 0s 12ms/step - loss: 0.4553 - mae: 0.4553\n",
            "Epoch 98/100\n",
            "1/1 [==============================] - 0s 11ms/step - loss: 0.6730 - mae: 0.6730\n",
            "Epoch 99/100\n",
            "1/1 [==============================] - 0s 12ms/step - loss: 0.6030 - mae: 0.6030\n",
            "Epoch 100/100\n",
            "1/1 [==============================] - 0s 13ms/step - loss: 0.2919 - mae: 0.2919\n"
          ]
        },
        {
          "output_type": "execute_result",
          "data": {
            "text/plain": [
              "<keras.src.callbacks.History at 0x7caa7d316530>"
            ]
          },
          "metadata": {},
          "execution_count": 22
        }
      ]
    },
    {
      "cell_type": "code",
      "source": [
        "X, y"
      ],
      "metadata": {
        "colab": {
          "base_uri": "https://localhost:8080/"
        },
        "id": "ZIqYOGJ6g2xu",
        "outputId": "c8299b93-cece-469c-c5c8-1027f29039a4"
      },
      "execution_count": 23,
      "outputs": [
        {
          "output_type": "execute_result",
          "data": {
            "text/plain": [
              "(<tf.Tensor: shape=(8,), dtype=float32, numpy=array([-7., -4., -1.,  2.,  5.,  8., 11., 14.], dtype=float32)>,\n",
              " <tf.Tensor: shape=(8,), dtype=float32, numpy=array([ 3.,  6.,  9., 12., 15., 18., 21., 24.], dtype=float32)>)"
            ]
          },
          "metadata": {},
          "execution_count": 23
        }
      ]
    },
    {
      "cell_type": "code",
      "source": [
        "model.predict([17.0])"
      ],
      "metadata": {
        "colab": {
          "base_uri": "https://localhost:8080/"
        },
        "id": "Cm28xS9fevdU",
        "outputId": "9e9cd6d7-b1b5-43e8-8c21-a450b8ae04e9"
      },
      "execution_count": 24,
      "outputs": [
        {
          "output_type": "stream",
          "name": "stdout",
          "text": [
            "1/1 [==============================] - 0s 74ms/step\n"
          ]
        },
        {
          "output_type": "execute_result",
          "data": {
            "text/plain": [
              "array([[26.281958]], dtype=float32)"
            ]
          },
          "metadata": {},
          "execution_count": 24
        }
      ]
    },
    {
      "cell_type": "markdown",
      "source": [
        "## Evaluating a model\n",
        "\n",
        "In practice, a typical workflow you'll go through when building neural networks is:\n",
        "\n",
        "Build a model -> fit it -> evaluate it -> tweak a model -> fit it -> evaluate it ...\n"
      ],
      "metadata": {
        "id": "6Cy1pC2oe3Xw"
      }
    },
    {
      "cell_type": "markdown",
      "source": [
        "When it comes to evaluation... there are 3 words you should memorize:\n",
        "> \"Visualize, visualize, visualize:\"\n",
        "* The data - what data are we working with? what does it look like?\n",
        "* The model itself - what does our model look like?\n",
        "* The training of a model - how does a model perform while it learns?\n",
        "* The predictions of the model - how do the predictions of a model line up against the ground thruth?"
      ],
      "metadata": {
        "id": "Ols0r_9PbYC7"
      }
    },
    {
      "cell_type": "code",
      "source": [
        "# Make a bigger dataset\n",
        "X = tf.range(-100, 100, 4)\n",
        "X"
      ],
      "metadata": {
        "id": "RPMP8MEicAsn",
        "outputId": "c041f5a3-d3ac-429c-f266-db6d5b6345d2",
        "colab": {
          "base_uri": "https://localhost:8080/"
        }
      },
      "execution_count": 25,
      "outputs": [
        {
          "output_type": "execute_result",
          "data": {
            "text/plain": [
              "<tf.Tensor: shape=(50,), dtype=int32, numpy=\n",
              "array([-100,  -96,  -92,  -88,  -84,  -80,  -76,  -72,  -68,  -64,  -60,\n",
              "        -56,  -52,  -48,  -44,  -40,  -36,  -32,  -28,  -24,  -20,  -16,\n",
              "        -12,   -8,   -4,    0,    4,    8,   12,   16,   20,   24,   28,\n",
              "         32,   36,   40,   44,   48,   52,   56,   60,   64,   68,   72,\n",
              "         76,   80,   84,   88,   92,   96], dtype=int32)>"
            ]
          },
          "metadata": {},
          "execution_count": 25
        }
      ]
    },
    {
      "cell_type": "code",
      "source": [
        "# Make a labels for the dataset\n",
        "y = X +10\n",
        "y"
      ],
      "metadata": {
        "id": "ra3GT-SVcND7",
        "outputId": "f24c62c6-c3c7-41e1-a340-6c0d8219116e",
        "colab": {
          "base_uri": "https://localhost:8080/"
        }
      },
      "execution_count": 26,
      "outputs": [
        {
          "output_type": "execute_result",
          "data": {
            "text/plain": [
              "<tf.Tensor: shape=(50,), dtype=int32, numpy=\n",
              "array([-90, -86, -82, -78, -74, -70, -66, -62, -58, -54, -50, -46, -42,\n",
              "       -38, -34, -30, -26, -22, -18, -14, -10,  -6,  -2,   2,   6,  10,\n",
              "        14,  18,  22,  26,  30,  34,  38,  42,  46,  50,  54,  58,  62,\n",
              "        66,  70,  74,  78,  82,  86,  90,  94,  98, 102, 106], dtype=int32)>"
            ]
          },
          "metadata": {},
          "execution_count": 26
        }
      ]
    },
    {
      "cell_type": "code",
      "source": [
        "# Visualize the data\n",
        "import matplotlib.pyplot as plt\n",
        "plt.scatter(X, y)"
      ],
      "metadata": {
        "id": "2SThNmzncuJ8",
        "outputId": "50441313-ef1b-43eb-ef70-fb85142689a9",
        "colab": {
          "base_uri": "https://localhost:8080/",
          "height": 447
        }
      },
      "execution_count": 27,
      "outputs": [
        {
          "output_type": "execute_result",
          "data": {
            "text/plain": [
              "<matplotlib.collections.PathCollection at 0x7caa7d2533d0>"
            ]
          },
          "metadata": {},
          "execution_count": 27
        },
        {
          "output_type": "display_data",
          "data": {
            "text/plain": [
              "<Figure size 640x480 with 1 Axes>"
            ],
            "image/png": "[encoded data removed]"
          },
          "metadata": {}
        }
      ]
    },
    {
      "cell_type": "markdown",
      "source": [
        "### The 3 sets ...\n",
        "\n",
        "* **Training set** - the model learns from this data, which is typically 70-80% of the total data you have available.\n",
        "* **Validation set** - the model gets tuned on this data, which is typically 10-15% of the data available.\n",
        "* **Test set** - the model gets evaluated on this data to test what is has learned, this set is typically 10-15% of the total data available."
      ],
      "metadata": {
        "id": "DoiOoVZYc6UB"
      }
    },
    {
      "cell_type": "code",
      "source": [
        "# Check the length of how many sample we have\n",
        "len(X)"
      ],
      "metadata": {
        "id": "t2r6rZ2TdYKY",
        "outputId": "13c79c4b-e496-430c-d7c9-4710ffd55590",
        "colab": {
          "base_uri": "https://localhost:8080/"
        }
      },
      "execution_count": 28,
      "outputs": [
        {
          "output_type": "execute_result",
          "data": {
            "text/plain": [
              "50"
            ]
          },
          "metadata": {},
          "execution_count": 28
        }
      ]
    },
    {
      "cell_type": "code",
      "source": [
        "# Split the data into train and test sets\n",
        "X_train = X[:40] # first 40 are training samples (80% of the data)\n",
        "y_train = y[:40]\n",
        "\n",
        "X_test = X[40:] # last 10 are testing samples (20% of the data)\n",
        "y_test = y[40:]\n",
        "\n",
        "len(X_train), len(X_test), len(y_train), len(y_test)"
      ],
      "metadata": {
        "id": "Sn40Cd8MekRT",
        "outputId": "a6c3e5fc-43d5-43dd-e23d-8d4581f5ce9a",
        "colab": {
          "base_uri": "https://localhost:8080/"
        }
      },
      "execution_count": 29,
      "outputs": [
        {
          "output_type": "execute_result",
          "data": {
            "text/plain": [
              "(40, 10, 40, 10)"
            ]
          },
          "metadata": {},
          "execution_count": 29
        }
      ]
    },
    {
      "cell_type": "markdown",
      "source": [
        "### Visualizing the data\n",
        "\n",
        "Now we've got our data in training and test sets...let's visualize it again!"
      ],
      "metadata": {
        "id": "rZAPNwd2fZGt"
      }
    },
    {
      "cell_type": "code",
      "source": [
        "plt.figure(figsize=(10,7))\n",
        "# Plot training data in blue\n",
        "plt.scatter(X_train, y_train, c=\"b\", label=\"Training data\")\n",
        "plt.scatter(X_test, y_test, c=\"g\", label=\"Testing data\")\n",
        "plt.legend();"
      ],
      "metadata": {
        "id": "_VWL7dGDfrUu",
        "outputId": "b4690fee-37f7-4739-d007-d0c144d3976c",
        "colab": {
          "base_uri": "https://localhost:8080/",
          "height": 599
        }
      },
      "execution_count": 30,
      "outputs": [
        {
          "output_type": "display_data",
          "data": {
            "text/plain": [
              "<Figure size 1000x700 with 1 Axes>"
            ],
            "image/png": "[encoded data removed]"
          },
          "metadata": {}
        }
      ]
    },
    {
      "cell_type": "code",
      "source": [
        "# Let's have a look at how to build a neural network for our data\n",
        "\n",
        "# 1. Create a model\n",
        "model = tf.keras.Sequential([\n",
        "    tf.keras.layers.Dense(1)\n",
        "])\n",
        "\n",
        "# 2. Compile the model\n",
        "model.compile(loss=tf.keras.losses.mae,\n",
        "              optimizer=tf.keras.optimizers.SGD(),\n",
        "              metrics=[\"mae\"]\n",
        "              )\n",
        "\n",
        "# 3. Fit the model\n",
        "# model.fit(X_train, y_train, epochs=100)"
      ],
      "metadata": {
        "id": "ODe2r9vWgEzC"
      },
      "execution_count": 31,
      "outputs": []
    },
    {
      "cell_type": "markdown",
      "source": [
        "# Vizualizing the model"
      ],
      "metadata": {
        "id": "WXM5LZjphqAT"
      }
    },
    {
      "cell_type": "code",
      "source": [
        "model.summary()"
      ],
      "metadata": {
        "id": "ux18eEj7hvQW",
        "outputId": "68c6fb07-f05c-47ed-de8f-34a26883b54c",
        "colab": {
          "base_uri": "https://localhost:8080/",
          "height": 263
        }
      },
      "execution_count": 35,
      "outputs": [
        {
          "output_type": "error",
          "ename": "ValueError",
          "evalue": "This model has not yet been built. Build the model first by calling `build()` or by calling the model on a batch of data.",
          "traceback": [
            "\u001b[0;31m---------------------------------------------------------------------------\u001b[0m",
            "\u001b[0;31mValueError\u001b[0m                                Traceback (most recent call last)",
            "\u001b[0;32m<ipython-input-35-5f15418b3570>\u001b[0m in \u001b[0;36m<cell line: 1>\u001b[0;34m()\u001b[0m\n\u001b[0;32m----> 1\u001b[0;31m \u001b[0mmodel\u001b[0m\u001b[0;34m.\u001b[0m\u001b[0msummary\u001b[0m\u001b[0;34m(\u001b[0m\u001b[0;34m)\u001b[0m\u001b[0;34m\u001b[0m\u001b[0;34m\u001b[0m\u001b[0m\n\u001b[0m",
            "\u001b[0;32m/usr/local/lib/python3.10/dist-packages/keras/src/engine/training.py\u001b[0m in \u001b[0;36msummary\u001b[0;34m(self, line_length, positions, print_fn, expand_nested, show_trainable, layer_range)\u001b[0m\n\u001b[1;32m   3504\u001b[0m         \"\"\"\n\u001b[1;32m   3505\u001b[0m         \u001b[0;32mif\u001b[0m \u001b[0;32mnot\u001b[0m \u001b[0mself\u001b[0m\u001b[0;34m.\u001b[0m\u001b[0mbuilt\u001b[0m\u001b[0;34m:\u001b[0m\u001b[0;34m\u001b[0m\u001b[0;34m\u001b[0m\u001b[0m\n\u001b[0;32m-> 3506\u001b[0;31m             raise ValueError(\n\u001b[0m\u001b[1;32m   3507\u001b[0m                 \u001b[0;34m\"This model has not yet been built. \"\u001b[0m\u001b[0;34m\u001b[0m\u001b[0;34m\u001b[0m\u001b[0m\n\u001b[1;32m   3508\u001b[0m                 \u001b[0;34m\"Build the model first by calling `build()` or by calling \"\u001b[0m\u001b[0;34m\u001b[0m\u001b[0;34m\u001b[0m\u001b[0m\n",
            "\u001b[0;31mValueError\u001b[0m: This model has not yet been built. Build the model first by calling `build()` or by calling the model on a batch of data."
          ]
        }
      ]
    },
    {
      "cell_type": "code",
      "source": [
        "model.build()"
      ],
      "metadata": {
        "id": "8Aeoj04oh6Xy",
        "outputId": "4165e493-6813-4ed9-9242-41a0f9adba06",
        "colab": {
          "base_uri": "https://localhost:8080/",
          "height": 263
        }
      },
      "execution_count": 36,
      "outputs": [
        {
          "output_type": "error",
          "ename": "ValueError",
          "evalue": "You must provide an `input_shape` argument.",
          "traceback": [
            "\u001b[0;31m---------------------------------------------------------------------------\u001b[0m",
            "\u001b[0;31mValueError\u001b[0m                                Traceback (most recent call last)",
            "\u001b[0;32m<ipython-input-36-2f52417d930d>\u001b[0m in \u001b[0;36m<cell line: 1>\u001b[0;34m()\u001b[0m\n\u001b[0;32m----> 1\u001b[0;31m \u001b[0mmodel\u001b[0m\u001b[0;34m.\u001b[0m\u001b[0mbuild\u001b[0m\u001b[0;34m(\u001b[0m\u001b[0;34m)\u001b[0m\u001b[0;34m\u001b[0m\u001b[0;34m\u001b[0m\u001b[0m\n\u001b[0m",
            "\u001b[0;32m/usr/local/lib/python3.10/dist-packages/keras/src/engine/sequential.py\u001b[0m in \u001b[0;36mbuild\u001b[0;34m(self, input_shape)\u001b[0m\n\u001b[1;32m    369\u001b[0m         \u001b[0;32melse\u001b[0m\u001b[0;34m:\u001b[0m\u001b[0;34m\u001b[0m\u001b[0;34m\u001b[0m\u001b[0m\n\u001b[1;32m    370\u001b[0m             \u001b[0;32mif\u001b[0m \u001b[0minput_shape\u001b[0m \u001b[0;32mis\u001b[0m \u001b[0;32mNone\u001b[0m\u001b[0;34m:\u001b[0m\u001b[0;34m\u001b[0m\u001b[0;34m\u001b[0m\u001b[0m\n\u001b[0;32m--> 371\u001b[0;31m                 \u001b[0;32mraise\u001b[0m \u001b[0mValueError\u001b[0m\u001b[0;34m(\u001b[0m\u001b[0;34m\"You must provide an `input_shape` argument.\"\u001b[0m\u001b[0;34m)\u001b[0m\u001b[0;34m\u001b[0m\u001b[0;34m\u001b[0m\u001b[0m\n\u001b[0m\u001b[1;32m    372\u001b[0m             \u001b[0mself\u001b[0m\u001b[0;34m.\u001b[0m\u001b[0m_build_graph_network_for_inferred_shape\u001b[0m\u001b[0;34m(\u001b[0m\u001b[0minput_shape\u001b[0m\u001b[0;34m)\u001b[0m\u001b[0;34m\u001b[0m\u001b[0;34m\u001b[0m\u001b[0m\n\u001b[1;32m    373\u001b[0m             \u001b[0;32mif\u001b[0m \u001b[0;32mnot\u001b[0m \u001b[0mself\u001b[0m\u001b[0;34m.\u001b[0m\u001b[0mbuilt\u001b[0m\u001b[0;34m:\u001b[0m\u001b[0;34m\u001b[0m\u001b[0;34m\u001b[0m\u001b[0m\n",
            "\u001b[0;31mValueError\u001b[0m: You must provide an `input_shape` argument."
          ]
        }
      ]
    },
    {
      "cell_type": "code",
      "source": [
        "# Let's create a model which builds automatically by defining the input_shape argument in the first layer\n",
        "tf.random.set_seed(42)\n",
        "\n",
        "# 1.Create a model (same as above)\n",
        "model = tf.keras.Sequential([\n",
        "    tf.keras.layers.Dense(1, input_shape=[1])\n",
        "])\n",
        "\n",
        "\n",
        "# 2. Compile the model\n",
        "model.compile(loss=tf.keras.losses.mae,\n",
        "              optimizer=tf.keras.optimizers.SGD(),\n",
        "              metrics=[\"mae\"]\n",
        "              )\n",
        "\n",
        "# 3.Fit the model"
      ],
      "metadata": {
        "id": "8uYW2V9aiI2Z"
      },
      "execution_count": 42,
      "outputs": []
    },
    {
      "cell_type": "code",
      "source": [
        "model.summary()"
      ],
      "metadata": {
        "id": "BCmB82hDjecb",
        "outputId": "6cb92f1e-0fdc-4bbc-b66f-e26f8bf95846",
        "colab": {
          "base_uri": "https://localhost:8080/"
        }
      },
      "execution_count": 38,
      "outputs": [
        {
          "output_type": "stream",
          "name": "stdout",
          "text": [
            "Model: \"sequential_5\"\n",
            "_________________________________________________________________\n",
            " Layer (type)                Output Shape              Param #   \n",
            "=================================================================\n",
            " dense_7 (Dense)             (None, 1)                 2         \n",
            "                                                                 \n",
            "=================================================================\n",
            "Total params: 2 (8.00 Byte)\n",
            "Trainable params: 2 (8.00 Byte)\n",
            "Non-trainable params: 0 (0.00 Byte)\n",
            "_________________________________________________________________\n"
          ]
        }
      ]
    },
    {
      "cell_type": "markdown",
      "source": [
        "* Total params - total number of parameters in the model.\n",
        "* Trainable parameters - these are the parameters (patterns) the model can update as it trains.\n",
        "* Non-trainable params -  these parameters aren't updated during training (this is typical when you bring in already learnt patterns or parameters from another model during **transfer learning**)."
      ],
      "metadata": {
        "id": "QIHczXygjsMY"
      }
    },
    {
      "cell_type": "markdown",
      "source": [
        "** Resource: ** For a more in-depth overview of the trainable parameters within a layer, check out MIT's introduction to Deep learning."
      ],
      "metadata": {
        "id": "0LkoyAMjkJm8"
      }
    },
    {
      "cell_type": "markdown",
      "source": [
        "** Exercice:** Try playing around with the number of hiddden units in the dense layer, see how that effects the number of parameters (total and trainable) by calling model.summary()"
      ],
      "metadata": {
        "id": "fshRdUdRl3_b"
      }
    },
    {
      "cell_type": "code",
      "source": [
        "# Let's fit our model to the training data\n",
        "model.fit(X_train, y_train, epochs=100, verbose=0)"
      ],
      "metadata": {
        "id": "IeN5Jp8tmdAU",
        "outputId": "b4969cc5-8167-42ef-a18f-5e8baf5e7c1e",
        "colab": {
          "base_uri": "https://localhost:8080/"
        }
      },
      "execution_count": 43,
      "outputs": [
        {
          "output_type": "execute_result",
          "data": {
            "text/plain": [
              "<keras.src.callbacks.History at 0x7caa6b7a2860>"
            ]
          },
          "metadata": {},
          "execution_count": 43
        }
      ]
    },
    {
      "cell_type": "code",
      "source": [],
      "metadata": {
        "id": "JwoTXIUqmvZM"
      },
      "execution_count": null,
      "outputs": []
    }
  ]
}