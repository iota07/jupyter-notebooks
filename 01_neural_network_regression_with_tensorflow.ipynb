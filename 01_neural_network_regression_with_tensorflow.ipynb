{
  "nbformat": 4,
  "nbformat_minor": 0,
  "metadata": {
    "colab": {
      "provenance": [],
      "authorship_tag": "ABX9TyNpDz4bMbqztNftH5k9Oi3L"
    },
    "kernelspec": {
      "name": "python3",
      "display_name": "Python 3"
    },
    "language_info": {
      "name": "python"
    }
  },
  "cells": [
    {
      "cell_type": "markdown",
      "source": [
        "# Introduction to Regression with Neural Network in TensorFlow\n",
        "There are many definitions for a regression problem but in our case, we're going to simplify it: predicting numerical variable based on some other combination of variables, even shorted...predicting a number."
      ],
      "metadata": {
        "id": "T4sq1SmW5wiv"
      }
    },
    {
      "cell_type": "code",
      "source": [
        "# Import TensorFlow\n",
        "import tensorflow as tf\n",
        "print(tf.__version__)"
      ],
      "metadata": {
        "colab": {
          "base_uri": "https://localhost:8080/"
        },
        "id": "6g9eeOyN6cHz",
        "outputId": "ae95b44a-1962-4bcb-c7f5-493ef87a3e94"
      },
      "execution_count": 1,
      "outputs": [
        {
          "output_type": "stream",
          "name": "stdout",
          "text": [
            "2.15.0\n"
          ]
        }
      ]
    },
    {
      "cell_type": "markdown",
      "source": [
        "### Creating some data to view and fit"
      ],
      "metadata": {
        "id": "l0lgo4rF6k1O"
      }
    },
    {
      "cell_type": "code",
      "source": [
        "import numpy as np\n",
        "import matplotlib.pyplot as plt\n",
        "\n",
        "# Create features\n",
        "X = np.array([-7.0, -4.0, -1.0, 2.0, 5.0, 8.0, 11.0, 14.0])\n",
        "\n",
        "# Create labels\n",
        "y = np.array([3.0, 6.0, 9.0, 12.0, 15.0, 18.0, 21.0, 24.0])\n",
        "\n",
        "# Visulize it\n",
        "plt.scatter(X, y)"
      ],
      "metadata": {
        "colab": {
          "base_uri": "https://localhost:8080/",
          "height": 452
        },
        "id": "U9mD2lUo65cr",
        "outputId": "f0027e45-b54a-4c03-ee67-89cb0fd613b5"
      },
      "execution_count": 2,
      "outputs": [
        {
          "output_type": "execute_result",
          "data": {
            "text/plain": [
              "<matplotlib.collections.PathCollection at 0x79c02364c1f0>"
            ]
          },
          "metadata": {},
          "execution_count": 2
        },
        {
          "output_type": "display_data",
          "data": {
            "text/plain": [
              "<Figure size 640x480 with 1 Axes>"
            ],
            "image/png": "[encoded data removed]"
          },
          "metadata": {}
        }
      ]
    },
    {
      "cell_type": "code",
      "source": [
        "y == X + 10"
      ],
      "metadata": {
        "colab": {
          "base_uri": "https://localhost:8080/"
        },
        "id": "6Ko5VR4l7u_U",
        "outputId": "93549eb7-a985-4e3e-de46-166264f9908b"
      },
      "execution_count": 3,
      "outputs": [
        {
          "output_type": "execute_result",
          "data": {
            "text/plain": [
              "array([ True,  True,  True,  True,  True,  True,  True,  True])"
            ]
          },
          "metadata": {},
          "execution_count": 3
        }
      ]
    },
    {
      "cell_type": "markdown",
      "source": [
        "## Input and output shapes"
      ],
      "metadata": {
        "id": "ngvEVaE278BM"
      }
    },
    {
      "cell_type": "code",
      "source": [
        "# Create a demo tensor for our housing price prediction problem\n",
        "house_info = tf.constant([\"bedroom\",\"bathroom\",\"garage\"])\n",
        "house_price = tf.constant([939700])\n",
        "house_info, house_price"
      ],
      "metadata": {
        "colab": {
          "base_uri": "https://localhost:8080/"
        },
        "id": "HLxK19gp8DnE",
        "outputId": "4e1837a1-ca55-43a2-96e3-d0d782bf4535"
      },
      "execution_count": 4,
      "outputs": [
        {
          "output_type": "execute_result",
          "data": {
            "text/plain": [
              "(<tf.Tensor: shape=(3,), dtype=string, numpy=array([b'bedroom', b'bathroom', b'garage'], dtype=object)>,\n",
              " <tf.Tensor: shape=(1,), dtype=int32, numpy=array([939700], dtype=int32)>)"
            ]
          },
          "metadata": {},
          "execution_count": 4
        }
      ]
    },
    {
      "cell_type": "code",
      "source": [
        "X[0], y[0]"
      ],
      "metadata": {
        "colab": {
          "base_uri": "https://localhost:8080/"
        },
        "id": "U5szC2v_9ffC",
        "outputId": "3332782c-593c-4d3b-c155-dbff03071636"
      },
      "execution_count": 5,
      "outputs": [
        {
          "output_type": "execute_result",
          "data": {
            "text/plain": [
              "(-7.0, 3.0)"
            ]
          },
          "metadata": {},
          "execution_count": 5
        }
      ]
    },
    {
      "cell_type": "code",
      "source": [
        "X[1], y[1]"
      ],
      "metadata": {
        "colab": {
          "base_uri": "https://localhost:8080/"
        },
        "id": "-wixDPgX9mU_",
        "outputId": "a1517965-11dd-4211-e1a3-37cd110f62ea"
      },
      "execution_count": 6,
      "outputs": [
        {
          "output_type": "execute_result",
          "data": {
            "text/plain": [
              "(-4.0, 6.0)"
            ]
          },
          "metadata": {},
          "execution_count": 6
        }
      ]
    },
    {
      "cell_type": "code",
      "source": [
        "input_shape = X[0].shape\n",
        "output_shape = y[0].shape\n",
        "input_shape, output_shape"
      ],
      "metadata": {
        "colab": {
          "base_uri": "https://localhost:8080/"
        },
        "id": "t7RfbklQ9CTZ",
        "outputId": "b8553a2e-a6be-496b-e0a0-c5564a63a55d"
      },
      "execution_count": 7,
      "outputs": [
        {
          "output_type": "execute_result",
          "data": {
            "text/plain": [
              "((), ())"
            ]
          },
          "metadata": {},
          "execution_count": 7
        }
      ]
    },
    {
      "cell_type": "code",
      "source": [
        "X[0].ndim"
      ],
      "metadata": {
        "colab": {
          "base_uri": "https://localhost:8080/"
        },
        "id": "apa_sNR29Uc3",
        "outputId": "3d5473cd-92aa-40c3-9528-c7271565511b"
      },
      "execution_count": 8,
      "outputs": [
        {
          "output_type": "execute_result",
          "data": {
            "text/plain": [
              "0"
            ]
          },
          "metadata": {},
          "execution_count": 8
        }
      ]
    },
    {
      "cell_type": "code",
      "source": [
        "X[0],y[0]"
      ],
      "metadata": {
        "colab": {
          "base_uri": "https://localhost:8080/"
        },
        "id": "vsXl_LVP9_H0",
        "outputId": "69e4ad04-022c-430c-a327-c46a07d32a8c"
      },
      "execution_count": 9,
      "outputs": [
        {
          "output_type": "execute_result",
          "data": {
            "text/plain": [
              "(-7.0, 3.0)"
            ]
          },
          "metadata": {},
          "execution_count": 9
        }
      ]
    },
    {
      "cell_type": "code",
      "source": [
        "# Turn our NumPy array into tensors\n",
        "X = tf.cast(tf.constant(X), dtype=tf.float32)\n",
        "y = tf.cast(tf.constant(y), dtype=tf.float32)\n",
        "X, y"
      ],
      "metadata": {
        "colab": {
          "base_uri": "https://localhost:8080/"
        },
        "id": "i-kUwX_w-CbM",
        "outputId": "d1703767-aef7-4160-c6ea-aae88677b108"
      },
      "execution_count": 10,
      "outputs": [
        {
          "output_type": "execute_result",
          "data": {
            "text/plain": [
              "(<tf.Tensor: shape=(8,), dtype=float32, numpy=array([-7., -4., -1.,  2.,  5.,  8., 11., 14.], dtype=float32)>,\n",
              " <tf.Tensor: shape=(8,), dtype=float32, numpy=array([ 3.,  6.,  9., 12., 15., 18., 21., 24.], dtype=float32)>)"
            ]
          },
          "metadata": {},
          "execution_count": 10
        }
      ]
    },
    {
      "cell_type": "code",
      "source": [
        "input_shape = X[0].shape\n",
        "output_shape = y[0].shape\n",
        "input_shape, output_shape"
      ],
      "metadata": {
        "colab": {
          "base_uri": "https://localhost:8080/"
        },
        "id": "DDT7FnQv_6A9",
        "outputId": "76c26c01-f71f-4848-c8bc-f2b1d6788ea5"
      },
      "execution_count": 11,
      "outputs": [
        {
          "output_type": "execute_result",
          "data": {
            "text/plain": [
              "(TensorShape([]), TensorShape([]))"
            ]
          },
          "metadata": {},
          "execution_count": 11
        }
      ]
    },
    {
      "cell_type": "code",
      "source": [
        "plt.scatter(X, y)"
      ],
      "metadata": {
        "colab": {
          "base_uri": "https://localhost:8080/",
          "height": 452
        },
        "id": "LJsyb6LLAGSk",
        "outputId": "ea4010f8-88f8-4e67-8e09-439e5d27fdeb"
      },
      "execution_count": 12,
      "outputs": [
        {
          "output_type": "execute_result",
          "data": {
            "text/plain": [
              "<matplotlib.collections.PathCollection at 0x79c0215737c0>"
            ]
          },
          "metadata": {},
          "execution_count": 12
        },
        {
          "output_type": "display_data",
          "data": {
            "text/plain": [
              "<Figure size 640x480 with 1 Axes>"
            ],
            "image/png": "[encoded data removed]"
          },
          "metadata": {}
        }
      ]
    },
    {
      "cell_type": "markdown",
      "source": [
        "## Steps in modelling with TensorFlow\n",
        "1. **Creating a model** - define the input and output layers, as well as the hidden layers of a deep learning model.\n",
        "2. **Compiling a model** - define the loss function ( in other words, the function which tells our model how wrong it is) and the optimizer (tells our model how to improve the patterns its learning) and evalution metric (what we can use to iterpret the performance of our model).\n",
        "3. **Fitting a model** - letting the model try to find patterns between X & y (features and labels).\n"
      ],
      "metadata": {
        "id": "8d7TbwHpAYXo"
      }
    },
    {
      "cell_type": "code",
      "source": [
        "# Set random seed\n",
        "tf.random.set_seed(42)\n",
        "\n",
        "# 1. Create a model using the Sequential API\n",
        "model = tf.keras.Sequential([\n",
        "    tf.keras.layers.Dense(1)\n",
        "])\n",
        "\n",
        "# 2. Compile the model\n",
        "model.compile(loss=tf.keras.losses.mae, #mae is short for mean absolute error\n",
        "              optimizer=tf.keras.optimizers.SGD(), # sgd is short for stochastic gradient descent\n",
        "              metrics=[\"mae\"]\n",
        "              )\n",
        "\n",
        "# 3. Fit the model\n",
        "model.fit(tf.expand_dims(X, axis=1), y, epochs=5) # expand X dimension by 1: from one dimension from two dimension"
      ],
      "metadata": {
        "colab": {
          "base_uri": "https://localhost:8080/"
        },
        "id": "f5LdDMj_AkY9",
        "outputId": "206ffef4-71c3-4c4f-b8ad-5902745cd3b4"
      },
      "execution_count": 13,
      "outputs": [
        {
          "output_type": "stream",
          "name": "stdout",
          "text": [
            "Epoch 1/5\n",
            "1/1 [==============================] - 1s 982ms/step - loss: 11.6551 - mae: 11.6551\n",
            "Epoch 2/5\n",
            "1/1 [==============================] - 0s 32ms/step - loss: 11.5226 - mae: 11.5226\n",
            "Epoch 3/5\n",
            "1/1 [==============================] - 0s 14ms/step - loss: 11.3901 - mae: 11.3901\n",
            "Epoch 4/5\n",
            "1/1 [==============================] - 0s 15ms/step - loss: 11.2576 - mae: 11.2576\n",
            "Epoch 5/5\n",
            "1/1 [==============================] - 0s 14ms/step - loss: 11.1251 - mae: 11.1251\n"
          ]
        },
        {
          "output_type": "execute_result",
          "data": {
            "text/plain": [
              "<keras.src.callbacks.History at 0x79c0202c78e0>"
            ]
          },
          "metadata": {},
          "execution_count": 13
        }
      ]
    },
    {
      "cell_type": "code",
      "source": [
        "# Check out X and y\n",
        "X, y"
      ],
      "metadata": {
        "colab": {
          "base_uri": "https://localhost:8080/"
        },
        "id": "FmcSXUmoCtOo",
        "outputId": "4fc1892a-826a-4271-85fd-e1b0c6034c6d"
      },
      "execution_count": 14,
      "outputs": [
        {
          "output_type": "execute_result",
          "data": {
            "text/plain": [
              "(<tf.Tensor: shape=(8,), dtype=float32, numpy=array([-7., -4., -1.,  2.,  5.,  8., 11., 14.], dtype=float32)>,\n",
              " <tf.Tensor: shape=(8,), dtype=float32, numpy=array([ 3.,  6.,  9., 12., 15., 18., 21., 24.], dtype=float32)>)"
            ]
          },
          "metadata": {},
          "execution_count": 14
        }
      ]
    },
    {
      "cell_type": "code",
      "source": [
        "# Try and make a prediction using our model\n",
        "y_pred = model.predict([17.0])\n",
        "y_pred"
      ],
      "metadata": {
        "colab": {
          "base_uri": "https://localhost:8080/"
        },
        "id": "S1pzNPMMXADd",
        "outputId": "93eb6d1d-be98-4f9a-f001-08b06a548e91"
      },
      "execution_count": 15,
      "outputs": [
        {
          "output_type": "stream",
          "name": "stdout",
          "text": [
            "1/1 [==============================] - 0s 147ms/step\n"
          ]
        },
        {
          "output_type": "execute_result",
          "data": {
            "text/plain": [
              "array([[11.985885]], dtype=float32)"
            ]
          },
          "metadata": {},
          "execution_count": 15
        }
      ]
    },
    {
      "cell_type": "code",
      "source": [
        "y_pred + 16"
      ],
      "metadata": {
        "colab": {
          "base_uri": "https://localhost:8080/"
        },
        "id": "k1B_8r3wXK2s",
        "outputId": "5668758c-a018-4cbf-ffa4-a39867f4c6a6"
      },
      "execution_count": 16,
      "outputs": [
        {
          "output_type": "execute_result",
          "data": {
            "text/plain": [
              "array([[27.985886]], dtype=float32)"
            ]
          },
          "metadata": {},
          "execution_count": 16
        }
      ]
    },
    {
      "cell_type": "markdown",
      "source": [
        "## Improving our model\n",
        "\n",
        "We can improve our model by altering the steps we took to create a model.\n",
        "\n",
        "1. **Creating a model** - here we might add more layers,\n",
        "increase the number of hidden units (all called neurons)\n",
        "within each of the hidden layers, change the activation function of each layer.\n",
        "2. **Compiling a model** - here we might change the optimization function or perhaps the **learning rate** of the optimization function.\n",
        "3. **Fittin a model** - here we might fit a model for more **epochs** (leave it training for longer) or on more data (give the model more examples to learn from).\n",
        "\n"
      ],
      "metadata": {
        "id": "nKk4f-nLXeLI"
      }
    },
    {
      "cell_type": "code",
      "source": [
        "# Let's rebuild our model\n",
        "\n",
        "# 1. Create the model\n",
        "model = tf.keras.Sequential([\n",
        "    tf.keras.layers.Dense(1)\n",
        "])\n",
        "\n",
        "# 2. Compile the model\n",
        "model.compile(loss=tf.keras.losses.mae,\n",
        "              optimizer=tf.keras.optimizers.SGD(),\n",
        "              metrics=[\"mae\"]\n",
        "              )\n",
        "\n",
        "# 3. Fit the model (this time we'll train for longer)\n",
        "model.fit(tf.expand_dims(X, axis=1), y, epochs=100)"
      ],
      "metadata": {
        "colab": {
          "base_uri": "https://localhost:8080/"
        },
        "id": "hnGNg0vrbEzb",
        "outputId": "4021fd9d-13fd-42a5-a4de-28ac0b84de97"
      },
      "execution_count": 17,
      "outputs": [
        {
          "output_type": "stream",
          "name": "stdout",
          "text": [
            "Epoch 1/100\n",
            "1/1 [==============================] - 1s 678ms/step - loss: 11.7341 - mae: 11.7341\n",
            "Epoch 2/100\n",
            "1/1 [==============================] - 0s 26ms/step - loss: 11.6016 - mae: 11.6016\n",
            "Epoch 3/100\n",
            "1/1 [==============================] - 0s 26ms/step - loss: 11.4691 - mae: 11.4691\n",
            "Epoch 4/100\n",
            "1/1 [==============================] - 0s 30ms/step - loss: 11.3366 - mae: 11.3366\n",
            "Epoch 5/100\n",
            "1/1 [==============================] - 0s 19ms/step - loss: 11.2041 - mae: 11.2041\n",
            "Epoch 6/100\n",
            "1/1 [==============================] - 0s 19ms/step - loss: 11.0716 - mae: 11.0716\n",
            "Epoch 7/100\n",
            "1/1 [==============================] - 0s 19ms/step - loss: 10.9391 - mae: 10.9391\n",
            "Epoch 8/100\n",
            "1/1 [==============================] - 0s 16ms/step - loss: 10.8066 - mae: 10.8066\n",
            "Epoch 9/100\n",
            "1/1 [==============================] - 0s 15ms/step - loss: 10.6741 - mae: 10.6741\n",
            "Epoch 10/100\n",
            "1/1 [==============================] - 0s 16ms/step - loss: 10.5416 - mae: 10.5416\n",
            "Epoch 11/100\n",
            "1/1 [==============================] - 0s 31ms/step - loss: 10.4091 - mae: 10.4091\n",
            "Epoch 12/100\n",
            "1/1 [==============================] - 0s 22ms/step - loss: 10.2766 - mae: 10.2766\n",
            "Epoch 13/100\n",
            "1/1 [==============================] - 0s 19ms/step - loss: 10.1441 - mae: 10.1441\n",
            "Epoch 14/100\n",
            "1/1 [==============================] - 0s 24ms/step - loss: 10.0116 - mae: 10.0116\n",
            "Epoch 15/100\n",
            "1/1 [==============================] - 0s 19ms/step - loss: 9.8791 - mae: 9.8791\n",
            "Epoch 16/100\n",
            "1/1 [==============================] - 0s 19ms/step - loss: 9.7466 - mae: 9.7466\n",
            "Epoch 17/100\n",
            "1/1 [==============================] - 0s 16ms/step - loss: 9.6141 - mae: 9.6141\n",
            "Epoch 18/100\n",
            "1/1 [==============================] - 0s 11ms/step - loss: 9.4816 - mae: 9.4816\n",
            "Epoch 19/100\n",
            "1/1 [==============================] - 0s 12ms/step - loss: 9.3491 - mae: 9.3491\n",
            "Epoch 20/100\n",
            "1/1 [==============================] - 0s 25ms/step - loss: 9.2166 - mae: 9.2166\n",
            "Epoch 21/100\n",
            "1/1 [==============================] - 0s 15ms/step - loss: 9.0841 - mae: 9.0841\n",
            "Epoch 22/100\n",
            "1/1 [==============================] - 0s 27ms/step - loss: 8.9516 - mae: 8.9516\n",
            "Epoch 23/100\n",
            "1/1 [==============================] - 0s 19ms/step - loss: 8.8191 - mae: 8.8191\n",
            "Epoch 24/100\n",
            "1/1 [==============================] - 0s 23ms/step - loss: 8.6866 - mae: 8.6866\n",
            "Epoch 25/100\n",
            "1/1 [==============================] - 0s 13ms/step - loss: 8.5541 - mae: 8.5541\n",
            "Epoch 26/100\n",
            "1/1 [==============================] - 0s 20ms/step - loss: 8.4216 - mae: 8.4216\n",
            "Epoch 27/100\n",
            "1/1 [==============================] - 0s 17ms/step - loss: 8.2891 - mae: 8.2891\n",
            "Epoch 28/100\n",
            "1/1 [==============================] - 0s 26ms/step - loss: 8.1566 - mae: 8.1566\n",
            "Epoch 29/100\n",
            "1/1 [==============================] - 0s 15ms/step - loss: 8.0241 - mae: 8.0241\n",
            "Epoch 30/100\n",
            "1/1 [==============================] - 0s 13ms/step - loss: 7.8916 - mae: 7.8916\n",
            "Epoch 31/100\n",
            "1/1 [==============================] - 0s 13ms/step - loss: 7.7591 - mae: 7.7591\n",
            "Epoch 32/100\n",
            "1/1 [==============================] - 0s 17ms/step - loss: 7.6266 - mae: 7.6266\n",
            "Epoch 33/100\n",
            "1/1 [==============================] - 0s 20ms/step - loss: 7.4941 - mae: 7.4941\n",
            "Epoch 34/100\n",
            "1/1 [==============================] - 0s 19ms/step - loss: 7.3616 - mae: 7.3616\n",
            "Epoch 35/100\n",
            "1/1 [==============================] - 0s 21ms/step - loss: 7.2450 - mae: 7.2450\n",
            "Epoch 36/100\n",
            "1/1 [==============================] - 0s 29ms/step - loss: 7.2394 - mae: 7.2394\n",
            "Epoch 37/100\n",
            "1/1 [==============================] - 0s 26ms/step - loss: 7.2338 - mae: 7.2338\n",
            "Epoch 38/100\n",
            "1/1 [==============================] - 0s 12ms/step - loss: 7.2281 - mae: 7.2281\n",
            "Epoch 39/100\n",
            "1/1 [==============================] - 0s 10ms/step - loss: 7.2225 - mae: 7.2225\n",
            "Epoch 40/100\n",
            "1/1 [==============================] - 0s 16ms/step - loss: 7.2169 - mae: 7.2169\n",
            "Epoch 41/100\n",
            "1/1 [==============================] - 0s 19ms/step - loss: 7.2113 - mae: 7.2113\n",
            "Epoch 42/100\n",
            "1/1 [==============================] - 0s 10ms/step - loss: 7.2056 - mae: 7.2056\n",
            "Epoch 43/100\n",
            "1/1 [==============================] - 0s 15ms/step - loss: 7.2000 - mae: 7.2000\n",
            "Epoch 44/100\n",
            "1/1 [==============================] - 0s 11ms/step - loss: 7.1944 - mae: 7.1944\n",
            "Epoch 45/100\n",
            "1/1 [==============================] - 0s 15ms/step - loss: 7.1888 - mae: 7.1888\n",
            "Epoch 46/100\n",
            "1/1 [==============================] - 0s 13ms/step - loss: 7.1831 - mae: 7.1831\n",
            "Epoch 47/100\n",
            "1/1 [==============================] - 0s 28ms/step - loss: 7.1775 - mae: 7.1775\n",
            "Epoch 48/100\n",
            "1/1 [==============================] - 0s 23ms/step - loss: 7.1719 - mae: 7.1719\n",
            "Epoch 49/100\n",
            "1/1 [==============================] - 0s 15ms/step - loss: 7.1663 - mae: 7.1663\n",
            "Epoch 50/100\n",
            "1/1 [==============================] - 0s 21ms/step - loss: 7.1606 - mae: 7.1606\n",
            "Epoch 51/100\n",
            "1/1 [==============================] - 0s 18ms/step - loss: 7.1550 - mae: 7.1550\n",
            "Epoch 52/100\n",
            "1/1 [==============================] - 0s 15ms/step - loss: 7.1494 - mae: 7.1494\n",
            "Epoch 53/100\n",
            "1/1 [==============================] - 0s 15ms/step - loss: 7.1438 - mae: 7.1438\n",
            "Epoch 54/100\n",
            "1/1 [==============================] - 0s 13ms/step - loss: 7.1381 - mae: 7.1381\n",
            "Epoch 55/100\n",
            "1/1 [==============================] - 0s 23ms/step - loss: 7.1325 - mae: 7.1325\n",
            "Epoch 56/100\n",
            "1/1 [==============================] - 0s 21ms/step - loss: 7.1269 - mae: 7.1269\n",
            "Epoch 57/100\n",
            "1/1 [==============================] - 0s 27ms/step - loss: 7.1212 - mae: 7.1212\n",
            "Epoch 58/100\n",
            "1/1 [==============================] - 0s 18ms/step - loss: 7.1156 - mae: 7.1156\n",
            "Epoch 59/100\n",
            "1/1 [==============================] - 0s 21ms/step - loss: 7.1100 - mae: 7.1100\n",
            "Epoch 60/100\n",
            "1/1 [==============================] - 0s 45ms/step - loss: 7.1044 - mae: 7.1044\n",
            "Epoch 61/100\n",
            "1/1 [==============================] - 0s 33ms/step - loss: 7.0988 - mae: 7.0988\n",
            "Epoch 62/100\n",
            "1/1 [==============================] - 0s 27ms/step - loss: 7.0931 - mae: 7.0931\n",
            "Epoch 63/100\n",
            "1/1 [==============================] - 0s 29ms/step - loss: 7.0875 - mae: 7.0875\n",
            "Epoch 64/100\n",
            "1/1 [==============================] - 0s 27ms/step - loss: 7.0819 - mae: 7.0819\n",
            "Epoch 65/100\n",
            "1/1 [==============================] - 0s 23ms/step - loss: 7.0763 - mae: 7.0763\n",
            "Epoch 66/100\n",
            "1/1 [==============================] - 0s 26ms/step - loss: 7.0706 - mae: 7.0706\n",
            "Epoch 67/100\n",
            "1/1 [==============================] - 0s 27ms/step - loss: 7.0650 - mae: 7.0650\n",
            "Epoch 68/100\n",
            "1/1 [==============================] - 0s 14ms/step - loss: 7.0594 - mae: 7.0594\n",
            "Epoch 69/100\n",
            "1/1 [==============================] - 0s 25ms/step - loss: 7.0538 - mae: 7.0538\n",
            "Epoch 70/100\n",
            "1/1 [==============================] - 0s 16ms/step - loss: 7.0481 - mae: 7.0481\n",
            "Epoch 71/100\n",
            "1/1 [==============================] - 0s 25ms/step - loss: 7.0425 - mae: 7.0425\n",
            "Epoch 72/100\n",
            "1/1 [==============================] - 0s 30ms/step - loss: 7.0369 - mae: 7.0369\n",
            "Epoch 73/100\n",
            "1/1 [==============================] - 0s 25ms/step - loss: 7.0312 - mae: 7.0312\n",
            "Epoch 74/100\n",
            "1/1 [==============================] - 0s 28ms/step - loss: 7.0256 - mae: 7.0256\n",
            "Epoch 75/100\n",
            "1/1 [==============================] - 0s 22ms/step - loss: 7.0200 - mae: 7.0200\n",
            "Epoch 76/100\n",
            "1/1 [==============================] - 0s 19ms/step - loss: 7.0144 - mae: 7.0144\n",
            "Epoch 77/100\n",
            "1/1 [==============================] - 0s 14ms/step - loss: 7.0087 - mae: 7.0087\n",
            "Epoch 78/100\n",
            "1/1 [==============================] - 0s 18ms/step - loss: 7.0031 - mae: 7.0031\n",
            "Epoch 79/100\n",
            "1/1 [==============================] - 0s 22ms/step - loss: 6.9975 - mae: 6.9975\n",
            "Epoch 80/100\n",
            "1/1 [==============================] - 0s 17ms/step - loss: 6.9919 - mae: 6.9919\n",
            "Epoch 81/100\n",
            "1/1 [==============================] - 0s 18ms/step - loss: 6.9863 - mae: 6.9863\n",
            "Epoch 82/100\n",
            "1/1 [==============================] - 0s 16ms/step - loss: 6.9806 - mae: 6.9806\n",
            "Epoch 83/100\n",
            "1/1 [==============================] - 0s 18ms/step - loss: 6.9750 - mae: 6.9750\n",
            "Epoch 84/100\n",
            "1/1 [==============================] - 0s 16ms/step - loss: 6.9694 - mae: 6.9694\n",
            "Epoch 85/100\n",
            "1/1 [==============================] - 0s 20ms/step - loss: 6.9638 - mae: 6.9638\n",
            "Epoch 86/100\n",
            "1/1 [==============================] - 0s 17ms/step - loss: 6.9581 - mae: 6.9581\n",
            "Epoch 87/100\n",
            "1/1 [==============================] - 0s 27ms/step - loss: 6.9525 - mae: 6.9525\n",
            "Epoch 88/100\n",
            "1/1 [==============================] - 0s 20ms/step - loss: 6.9469 - mae: 6.9469\n",
            "Epoch 89/100\n",
            "1/1 [==============================] - 0s 16ms/step - loss: 6.9412 - mae: 6.9412\n",
            "Epoch 90/100\n",
            "1/1 [==============================] - 0s 18ms/step - loss: 6.9356 - mae: 6.9356\n",
            "Epoch 91/100\n",
            "1/1 [==============================] - 0s 29ms/step - loss: 6.9300 - mae: 6.9300\n",
            "Epoch 92/100\n",
            "1/1 [==============================] - 0s 26ms/step - loss: 6.9244 - mae: 6.9244\n",
            "Epoch 93/100\n",
            "1/1 [==============================] - 0s 21ms/step - loss: 6.9187 - mae: 6.9187\n",
            "Epoch 94/100\n",
            "1/1 [==============================] - 0s 15ms/step - loss: 6.9131 - mae: 6.9131\n",
            "Epoch 95/100\n",
            "1/1 [==============================] - 0s 17ms/step - loss: 6.9075 - mae: 6.9075\n",
            "Epoch 96/100\n",
            "1/1 [==============================] - 0s 26ms/step - loss: 6.9019 - mae: 6.9019\n",
            "Epoch 97/100\n",
            "1/1 [==============================] - 0s 21ms/step - loss: 6.8963 - mae: 6.8963\n",
            "Epoch 98/100\n",
            "1/1 [==============================] - 0s 15ms/step - loss: 6.8906 - mae: 6.8906\n",
            "Epoch 99/100\n",
            "1/1 [==============================] - 0s 15ms/step - loss: 6.8850 - mae: 6.8850\n",
            "Epoch 100/100\n",
            "1/1 [==============================] - 0s 15ms/step - loss: 6.8794 - mae: 6.8794\n"
          ]
        },
        {
          "output_type": "execute_result",
          "data": {
            "text/plain": [
              "<keras.src.callbacks.History at 0x79c0202c42e0>"
            ]
          },
          "metadata": {},
          "execution_count": 17
        }
      ]
    },
    {
      "cell_type": "code",
      "source": [
        "# Remind ourselves of the data\n",
        "X, y"
      ],
      "metadata": {
        "colab": {
          "base_uri": "https://localhost:8080/"
        },
        "id": "_F6bdsh0c2Kc",
        "outputId": "f8a14470-860d-4b72-dd65-1974b05751ff"
      },
      "execution_count": 18,
      "outputs": [
        {
          "output_type": "execute_result",
          "data": {
            "text/plain": [
              "(<tf.Tensor: shape=(8,), dtype=float32, numpy=array([-7., -4., -1.,  2.,  5.,  8., 11., 14.], dtype=float32)>,\n",
              " <tf.Tensor: shape=(8,), dtype=float32, numpy=array([ 3.,  6.,  9., 12., 15., 18., 21., 24.], dtype=float32)>)"
            ]
          },
          "metadata": {},
          "execution_count": 18
        }
      ]
    },
    {
      "cell_type": "code",
      "source": [
        "# Let's see if our model's prediction has improved...\n",
        "model.predict([17.0])"
      ],
      "metadata": {
        "colab": {
          "base_uri": "https://localhost:8080/"
        },
        "id": "LjX3CCzhddVq",
        "outputId": "a521bedb-26ab-449d-c615-4ba69a2c0a15"
      },
      "execution_count": 19,
      "outputs": [
        {
          "output_type": "stream",
          "name": "stdout",
          "text": [
            "1/1 [==============================] - 0s 221ms/step\n"
          ]
        },
        {
          "output_type": "execute_result",
          "data": {
            "text/plain": [
              "array([[29.642292]], dtype=float32)"
            ]
          },
          "metadata": {},
          "execution_count": 19
        }
      ]
    },
    {
      "cell_type": "code",
      "source": [
        "# Let's rebuild our model\n",
        "\n",
        "# 1. Create the model\n",
        "model = tf.keras.Sequential([\n",
        "    tf.keras.layers.Dense(1),\n",
        "    tf.keras.layers.Dense(1)\n",
        "])\n",
        "\n",
        "# 2. Compile the model\n",
        "model.compile(loss=tf.keras.losses.mae,\n",
        "              optimizer=tf.keras.optimizers.SGD(),\n",
        "              metrics=[\"mae\"]\n",
        "              )\n",
        "\n",
        "# 3. Fit the model (this time we'll train for longer)\n",
        "model.fit(tf.expand_dims(X, axis=1), y, epochs=100)"
      ],
      "metadata": {
        "colab": {
          "base_uri": "https://localhost:8080/"
        },
        "id": "iE1C8D4Sdnwu",
        "outputId": "204c66c8-8423-4c9d-b41a-3c695ec86598"
      },
      "execution_count": 20,
      "outputs": [
        {
          "output_type": "stream",
          "name": "stdout",
          "text": [
            "Epoch 1/100\n",
            "1/1 [==============================] - 1s 950ms/step - loss: 7.5000 - mae: 7.5000\n",
            "Epoch 2/100\n",
            "1/1 [==============================] - 0s 48ms/step - loss: 7.4844 - mae: 7.4844\n",
            "Epoch 3/100\n",
            "1/1 [==============================] - 0s 46ms/step - loss: 7.4688 - mae: 7.4688\n",
            "Epoch 4/100\n",
            "1/1 [==============================] - 0s 30ms/step - loss: 7.4532 - mae: 7.4532\n",
            "Epoch 5/100\n",
            "1/1 [==============================] - 0s 23ms/step - loss: 7.4375 - mae: 7.4375\n",
            "Epoch 6/100\n",
            "1/1 [==============================] - 0s 15ms/step - loss: 7.4219 - mae: 7.4219\n",
            "Epoch 7/100\n",
            "1/1 [==============================] - 0s 16ms/step - loss: 7.4063 - mae: 7.4063\n",
            "Epoch 8/100\n",
            "1/1 [==============================] - 0s 17ms/step - loss: 7.3906 - mae: 7.3906\n",
            "Epoch 9/100\n",
            "1/1 [==============================] - 0s 15ms/step - loss: 7.3749 - mae: 7.3749\n",
            "Epoch 10/100\n",
            "1/1 [==============================] - 0s 17ms/step - loss: 7.3592 - mae: 7.3592\n",
            "Epoch 11/100\n",
            "1/1 [==============================] - 0s 19ms/step - loss: 7.3435 - mae: 7.3435\n",
            "Epoch 12/100\n",
            "1/1 [==============================] - 0s 18ms/step - loss: 7.3278 - mae: 7.3278\n",
            "Epoch 13/100\n",
            "1/1 [==============================] - 0s 17ms/step - loss: 7.3121 - mae: 7.3121\n",
            "Epoch 14/100\n",
            "1/1 [==============================] - 0s 21ms/step - loss: 7.2963 - mae: 7.2963\n",
            "Epoch 15/100\n",
            "1/1 [==============================] - 0s 18ms/step - loss: 7.2805 - mae: 7.2805\n",
            "Epoch 16/100\n",
            "1/1 [==============================] - 0s 12ms/step - loss: 7.2647 - mae: 7.2647\n",
            "Epoch 17/100\n",
            "1/1 [==============================] - 0s 12ms/step - loss: 7.2488 - mae: 7.2488\n",
            "Epoch 18/100\n",
            "1/1 [==============================] - 0s 13ms/step - loss: 7.2329 - mae: 7.2329\n",
            "Epoch 19/100\n",
            "1/1 [==============================] - 0s 15ms/step - loss: 7.2169 - mae: 7.2169\n",
            "Epoch 20/100\n",
            "1/1 [==============================] - 0s 13ms/step - loss: 7.2010 - mae: 7.2010\n",
            "Epoch 21/100\n",
            "1/1 [==============================] - 0s 27ms/step - loss: 7.1849 - mae: 7.1849\n",
            "Epoch 22/100\n",
            "1/1 [==============================] - 0s 13ms/step - loss: 7.1689 - mae: 7.1689\n",
            "Epoch 23/100\n",
            "1/1 [==============================] - 0s 19ms/step - loss: 7.1629 - mae: 7.1629\n",
            "Epoch 24/100\n",
            "1/1 [==============================] - 0s 13ms/step - loss: 7.1485 - mae: 7.1485\n",
            "Epoch 25/100\n",
            "1/1 [==============================] - 0s 11ms/step - loss: 7.1329 - mae: 7.1329\n",
            "Epoch 26/100\n",
            "1/1 [==============================] - 0s 11ms/step - loss: 7.1172 - mae: 7.1172\n",
            "Epoch 27/100\n",
            "1/1 [==============================] - 0s 10ms/step - loss: 7.1015 - mae: 7.1015\n",
            "Epoch 28/100\n",
            "1/1 [==============================] - 0s 11ms/step - loss: 7.0857 - mae: 7.0857\n",
            "Epoch 29/100\n",
            "1/1 [==============================] - 0s 10ms/step - loss: 7.0698 - mae: 7.0698\n",
            "Epoch 30/100\n",
            "1/1 [==============================] - 0s 17ms/step - loss: 7.0539 - mae: 7.0539\n",
            "Epoch 31/100\n",
            "1/1 [==============================] - 0s 10ms/step - loss: 7.0380 - mae: 7.0380\n",
            "Epoch 32/100\n",
            "1/1 [==============================] - 0s 10ms/step - loss: 7.0219 - mae: 7.0219\n",
            "Epoch 33/100\n",
            "1/1 [==============================] - 0s 10ms/step - loss: 7.0058 - mae: 7.0058\n",
            "Epoch 34/100\n",
            "1/1 [==============================] - 0s 10ms/step - loss: 6.9896 - mae: 6.9896\n",
            "Epoch 35/100\n",
            "1/1 [==============================] - 0s 10ms/step - loss: 6.9734 - mae: 6.9734\n",
            "Epoch 36/100\n",
            "1/1 [==============================] - 0s 10ms/step - loss: 6.9571 - mae: 6.9571\n",
            "Epoch 37/100\n",
            "1/1 [==============================] - 0s 10ms/step - loss: 6.9407 - mae: 6.9407\n",
            "Epoch 38/100\n",
            "1/1 [==============================] - 0s 23ms/step - loss: 6.9242 - mae: 6.9242\n",
            "Epoch 39/100\n",
            "1/1 [==============================] - 0s 15ms/step - loss: 6.9077 - mae: 6.9077\n",
            "Epoch 40/100\n",
            "1/1 [==============================] - 0s 16ms/step - loss: 6.8910 - mae: 6.8910\n",
            "Epoch 41/100\n",
            "1/1 [==============================] - 0s 16ms/step - loss: 6.8743 - mae: 6.8743\n",
            "Epoch 42/100\n",
            "1/1 [==============================] - 0s 17ms/step - loss: 6.8575 - mae: 6.8575\n",
            "Epoch 43/100\n",
            "1/1 [==============================] - 0s 16ms/step - loss: 6.8472 - mae: 6.8472\n",
            "Epoch 44/100\n",
            "1/1 [==============================] - 0s 21ms/step - loss: 6.8410 - mae: 6.8410\n",
            "Epoch 45/100\n",
            "1/1 [==============================] - 0s 18ms/step - loss: 6.8245 - mae: 6.8245\n",
            "Epoch 46/100\n",
            "1/1 [==============================] - 0s 17ms/step - loss: 6.8079 - mae: 6.8079\n",
            "Epoch 47/100\n",
            "1/1 [==============================] - 0s 17ms/step - loss: 6.7912 - mae: 6.7912\n",
            "Epoch 48/100\n",
            "1/1 [==============================] - 0s 17ms/step - loss: 6.7744 - mae: 6.7744\n",
            "Epoch 49/100\n",
            "1/1 [==============================] - 0s 18ms/step - loss: 6.7575 - mae: 6.7575\n",
            "Epoch 50/100\n",
            "1/1 [==============================] - 0s 18ms/step - loss: 6.7405 - mae: 6.7405\n",
            "Epoch 51/100\n",
            "1/1 [==============================] - 0s 19ms/step - loss: 6.7234 - mae: 6.7234\n",
            "Epoch 52/100\n",
            "1/1 [==============================] - 0s 18ms/step - loss: 6.7062 - mae: 6.7062\n",
            "Epoch 53/100\n",
            "1/1 [==============================] - 0s 23ms/step - loss: 6.6888 - mae: 6.6888\n",
            "Epoch 54/100\n",
            "1/1 [==============================] - 0s 19ms/step - loss: 6.6713 - mae: 6.6713\n",
            "Epoch 55/100\n",
            "1/1 [==============================] - 0s 19ms/step - loss: 6.6538 - mae: 6.6538\n",
            "Epoch 56/100\n",
            "1/1 [==============================] - 0s 20ms/step - loss: 6.6361 - mae: 6.6361\n",
            "Epoch 57/100\n",
            "1/1 [==============================] - 0s 23ms/step - loss: 6.6182 - mae: 6.6182\n",
            "Epoch 58/100\n",
            "1/1 [==============================] - 0s 22ms/step - loss: 6.6066 - mae: 6.6066\n",
            "Epoch 59/100\n",
            "1/1 [==============================] - 0s 34ms/step - loss: 6.6037 - mae: 6.6037\n",
            "Epoch 60/100\n",
            "1/1 [==============================] - 0s 19ms/step - loss: 6.5861 - mae: 6.5861\n",
            "Epoch 61/100\n",
            "1/1 [==============================] - 0s 21ms/step - loss: 6.5683 - mae: 6.5683\n",
            "Epoch 62/100\n",
            "1/1 [==============================] - 0s 19ms/step - loss: 6.5505 - mae: 6.5505\n",
            "Epoch 63/100\n",
            "1/1 [==============================] - 0s 25ms/step - loss: 6.5324 - mae: 6.5324\n",
            "Epoch 64/100\n",
            "1/1 [==============================] - 0s 26ms/step - loss: 6.5143 - mae: 6.5143\n",
            "Epoch 65/100\n",
            "1/1 [==============================] - 0s 29ms/step - loss: 6.4960 - mae: 6.4960\n",
            "Epoch 66/100\n",
            "1/1 [==============================] - 0s 16ms/step - loss: 6.4775 - mae: 6.4775\n",
            "Epoch 67/100\n",
            "1/1 [==============================] - 0s 25ms/step - loss: 6.4590 - mae: 6.4590\n",
            "Epoch 68/100\n",
            "1/1 [==============================] - 0s 29ms/step - loss: 6.4402 - mae: 6.4402\n",
            "Epoch 69/100\n",
            "1/1 [==============================] - 0s 26ms/step - loss: 6.4213 - mae: 6.4213\n",
            "Epoch 70/100\n",
            "1/1 [==============================] - 0s 26ms/step - loss: 6.4023 - mae: 6.4023\n",
            "Epoch 71/100\n",
            "1/1 [==============================] - 0s 26ms/step - loss: 6.4005 - mae: 6.4005\n",
            "Epoch 72/100\n",
            "1/1 [==============================] - 0s 29ms/step - loss: 6.3886 - mae: 6.3886\n",
            "Epoch 73/100\n",
            "1/1 [==============================] - 0s 31ms/step - loss: 6.3696 - mae: 6.3696\n",
            "Epoch 74/100\n",
            "1/1 [==============================] - 0s 16ms/step - loss: 6.3505 - mae: 6.3505\n",
            "Epoch 75/100\n",
            "1/1 [==============================] - 0s 15ms/step - loss: 6.3313 - mae: 6.3313\n",
            "Epoch 76/100\n",
            "1/1 [==============================] - 0s 25ms/step - loss: 6.3118 - mae: 6.3118\n",
            "Epoch 77/100\n",
            "1/1 [==============================] - 0s 36ms/step - loss: 6.2922 - mae: 6.2922\n",
            "Epoch 78/100\n",
            "1/1 [==============================] - 0s 27ms/step - loss: 6.2724 - mae: 6.2724\n",
            "Epoch 79/100\n",
            "1/1 [==============================] - 0s 19ms/step - loss: 6.2525 - mae: 6.2525\n",
            "Epoch 80/100\n",
            "1/1 [==============================] - 0s 23ms/step - loss: 6.2323 - mae: 6.2323\n",
            "Epoch 81/100\n",
            "1/1 [==============================] - 0s 30ms/step - loss: 6.2120 - mae: 6.2120\n",
            "Epoch 82/100\n",
            "1/1 [==============================] - 0s 15ms/step - loss: 6.2087 - mae: 6.2087\n",
            "Epoch 83/100\n",
            "1/1 [==============================] - 0s 10ms/step - loss: 6.1984 - mae: 6.1984\n",
            "Epoch 84/100\n",
            "1/1 [==============================] - 0s 24ms/step - loss: 6.1781 - mae: 6.1781\n",
            "Epoch 85/100\n",
            "1/1 [==============================] - 0s 18ms/step - loss: 6.1576 - mae: 6.1576\n",
            "Epoch 86/100\n",
            "1/1 [==============================] - 0s 20ms/step - loss: 6.1369 - mae: 6.1369\n",
            "Epoch 87/100\n",
            "1/1 [==============================] - 0s 14ms/step - loss: 6.1160 - mae: 6.1160\n",
            "Epoch 88/100\n",
            "1/1 [==============================] - 0s 24ms/step - loss: 6.0949 - mae: 6.0949\n",
            "Epoch 89/100\n",
            "1/1 [==============================] - 0s 14ms/step - loss: 6.0736 - mae: 6.0736\n",
            "Epoch 90/100\n",
            "1/1 [==============================] - 0s 15ms/step - loss: 6.0521 - mae: 6.0521\n",
            "Epoch 91/100\n",
            "1/1 [==============================] - 0s 14ms/step - loss: 6.0304 - mae: 6.0304\n",
            "Epoch 92/100\n",
            "1/1 [==============================] - 0s 32ms/step - loss: 6.0252 - mae: 6.0252\n",
            "Epoch 93/100\n",
            "1/1 [==============================] - 0s 17ms/step - loss: 6.0163 - mae: 6.0163\n",
            "Epoch 94/100\n",
            "1/1 [==============================] - 0s 23ms/step - loss: 5.9945 - mae: 5.9945\n",
            "Epoch 95/100\n",
            "1/1 [==============================] - 0s 20ms/step - loss: 5.9725 - mae: 5.9725\n",
            "Epoch 96/100\n",
            "1/1 [==============================] - 0s 20ms/step - loss: 5.9503 - mae: 5.9503\n",
            "Epoch 97/100\n",
            "1/1 [==============================] - 0s 40ms/step - loss: 5.9278 - mae: 5.9278\n",
            "Epoch 98/100\n",
            "1/1 [==============================] - 0s 26ms/step - loss: 5.9052 - mae: 5.9052\n",
            "Epoch 99/100\n",
            "1/1 [==============================] - 0s 22ms/step - loss: 5.8822 - mae: 5.8822\n",
            "Epoch 100/100\n",
            "1/1 [==============================] - 0s 35ms/step - loss: 5.8591 - mae: 5.8591\n"
          ]
        },
        {
          "output_type": "execute_result",
          "data": {
            "text/plain": [
              "<keras.src.callbacks.History at 0x79c01a7abaf0>"
            ]
          },
          "metadata": {},
          "execution_count": 20
        }
      ]
    },
    {
      "cell_type": "code",
      "source": [
        "model.predict([17.0])"
      ],
      "metadata": {
        "colab": {
          "base_uri": "https://localhost:8080/"
        },
        "id": "kvW8PW39eCmT",
        "outputId": "d092246a-fc9f-421c-8697-b0381327c1ff"
      },
      "execution_count": 21,
      "outputs": [
        {
          "output_type": "stream",
          "name": "stdout",
          "text": [
            "1/1 [==============================] - 0s 409ms/step\n"
          ]
        },
        {
          "output_type": "execute_result",
          "data": {
            "text/plain": [
              "array([[31.28876]], dtype=float32)"
            ]
          },
          "metadata": {},
          "execution_count": 21
        }
      ]
    },
    {
      "cell_type": "code",
      "source": [
        "# Let's rebuild our model\n",
        "\n",
        "# 1. Create the model\n",
        "model = tf.keras.Sequential([\n",
        "    tf.keras.layers.Dense(50, activation=None),\n",
        "    tf.keras.layers.Dense(1)\n",
        "])\n",
        "\n",
        "# 2. Compile the model\n",
        "model.compile(loss=tf.keras.losses.mae,\n",
        "              optimizer=tf.keras.optimizers.Adam(learning_rate=0.01),\n",
        "              metrics=[\"mae\"]\n",
        "              )\n",
        "\n",
        "# 3. Fit the model (this time we'll train for longer)\n",
        "model.fit(tf.expand_dims(X, axis=1), y, epochs=100)"
      ],
      "metadata": {
        "colab": {
          "base_uri": "https://localhost:8080/"
        },
        "id": "IM36QafxeHn9",
        "outputId": "8b95d1e2-8cd7-4b98-ae0b-6c0dd61143cc"
      },
      "execution_count": 22,
      "outputs": [
        {
          "output_type": "stream",
          "name": "stdout",
          "text": [
            "Epoch 1/100\n",
            "1/1 [==============================] - 2s 2s/step - loss: 14.3647 - mae: 14.3647\n",
            "Epoch 2/100\n",
            "1/1 [==============================] - 0s 32ms/step - loss: 13.7235 - mae: 13.7235\n",
            "Epoch 3/100\n",
            "1/1 [==============================] - 0s 26ms/step - loss: 13.0834 - mae: 13.0834\n",
            "Epoch 4/100\n",
            "1/1 [==============================] - 0s 19ms/step - loss: 12.4428 - mae: 12.4428\n",
            "Epoch 5/100\n",
            "1/1 [==============================] - 0s 24ms/step - loss: 11.7992 - mae: 11.7992\n",
            "Epoch 6/100\n",
            "1/1 [==============================] - 0s 15ms/step - loss: 11.1498 - mae: 11.1498\n",
            "Epoch 7/100\n",
            "1/1 [==============================] - 0s 17ms/step - loss: 10.4914 - mae: 10.4914\n",
            "Epoch 8/100\n",
            "1/1 [==============================] - 0s 16ms/step - loss: 9.8208 - mae: 9.8208\n",
            "Epoch 9/100\n",
            "1/1 [==============================] - 0s 14ms/step - loss: 9.1348 - mae: 9.1348\n",
            "Epoch 10/100\n",
            "1/1 [==============================] - 0s 28ms/step - loss: 8.4303 - mae: 8.4303\n",
            "Epoch 11/100\n",
            "1/1 [==============================] - 0s 17ms/step - loss: 7.7045 - mae: 7.7045\n",
            "Epoch 12/100\n",
            "1/1 [==============================] - 0s 33ms/step - loss: 6.9547 - mae: 6.9547\n",
            "Epoch 13/100\n",
            "1/1 [==============================] - 0s 28ms/step - loss: 6.6195 - mae: 6.6195\n",
            "Epoch 14/100\n",
            "1/1 [==============================] - 0s 30ms/step - loss: 6.9076 - mae: 6.9076\n",
            "Epoch 15/100\n",
            "1/1 [==============================] - 0s 22ms/step - loss: 7.2053 - mae: 7.2053\n",
            "Epoch 16/100\n",
            "1/1 [==============================] - 0s 14ms/step - loss: 7.5829 - mae: 7.5829\n",
            "Epoch 17/100\n",
            "1/1 [==============================] - 0s 49ms/step - loss: 7.7232 - mae: 7.7232\n",
            "Epoch 18/100\n",
            "1/1 [==============================] - 0s 23ms/step - loss: 7.6639 - mae: 7.6639\n",
            "Epoch 19/100\n",
            "1/1 [==============================] - 0s 22ms/step - loss: 7.4518 - mae: 7.4518\n",
            "Epoch 20/100\n",
            "1/1 [==============================] - 0s 26ms/step - loss: 7.1229 - mae: 7.1229\n",
            "Epoch 21/100\n",
            "1/1 [==============================] - 0s 16ms/step - loss: 6.7643 - mae: 6.7643\n",
            "Epoch 22/100\n",
            "1/1 [==============================] - 0s 25ms/step - loss: 6.4930 - mae: 6.4930\n",
            "Epoch 23/100\n",
            "1/1 [==============================] - 0s 21ms/step - loss: 6.2126 - mae: 6.2126\n",
            "Epoch 24/100\n",
            "1/1 [==============================] - 0s 21ms/step - loss: 5.9900 - mae: 5.9900\n",
            "Epoch 25/100\n",
            "1/1 [==============================] - 0s 15ms/step - loss: 5.9551 - mae: 5.9551\n",
            "Epoch 26/100\n",
            "1/1 [==============================] - 0s 14ms/step - loss: 5.9836 - mae: 5.9836\n",
            "Epoch 27/100\n",
            "1/1 [==============================] - 0s 32ms/step - loss: 6.0718 - mae: 6.0718\n",
            "Epoch 28/100\n",
            "1/1 [==============================] - 0s 15ms/step - loss: 6.0589 - mae: 6.0589\n",
            "Epoch 29/100\n",
            "1/1 [==============================] - 0s 22ms/step - loss: 5.9573 - mae: 5.9573\n",
            "Epoch 30/100\n",
            "1/1 [==============================] - 0s 16ms/step - loss: 5.7763 - mae: 5.7763\n",
            "Epoch 31/100\n",
            "1/1 [==============================] - 0s 23ms/step - loss: 5.5330 - mae: 5.5330\n",
            "Epoch 32/100\n",
            "1/1 [==============================] - 0s 14ms/step - loss: 5.4315 - mae: 5.4315\n",
            "Epoch 33/100\n",
            "1/1 [==============================] - 0s 14ms/step - loss: 5.3268 - mae: 5.3268\n",
            "Epoch 34/100\n",
            "1/1 [==============================] - 0s 49ms/step - loss: 5.2186 - mae: 5.2186\n",
            "Epoch 35/100\n",
            "1/1 [==============================] - 0s 21ms/step - loss: 5.2165 - mae: 5.2165\n",
            "Epoch 36/100\n",
            "1/1 [==============================] - 0s 38ms/step - loss: 5.1843 - mae: 5.1843\n",
            "Epoch 37/100\n",
            "1/1 [==============================] - 0s 22ms/step - loss: 5.1124 - mae: 5.1124\n",
            "Epoch 38/100\n",
            "1/1 [==============================] - 0s 23ms/step - loss: 5.0037 - mae: 5.0037\n",
            "Epoch 39/100\n",
            "1/1 [==============================] - 0s 18ms/step - loss: 4.8611 - mae: 4.8611\n",
            "Epoch 40/100\n",
            "1/1 [==============================] - 0s 18ms/step - loss: 4.6875 - mae: 4.6875\n",
            "Epoch 41/100\n",
            "1/1 [==============================] - 0s 12ms/step - loss: 4.5308 - mae: 4.5308\n",
            "Epoch 42/100\n",
            "1/1 [==============================] - 0s 13ms/step - loss: 4.4356 - mae: 4.4356\n",
            "Epoch 43/100\n",
            "1/1 [==============================] - 0s 19ms/step - loss: 4.3322 - mae: 4.3322\n",
            "Epoch 44/100\n",
            "1/1 [==============================] - 0s 21ms/step - loss: 4.2205 - mae: 4.2205\n",
            "Epoch 45/100\n",
            "1/1 [==============================] - 0s 21ms/step - loss: 4.1450 - mae: 4.1450\n",
            "Epoch 46/100\n",
            "1/1 [==============================] - 0s 16ms/step - loss: 3.9736 - mae: 3.9736\n",
            "Epoch 47/100\n",
            "1/1 [==============================] - 0s 22ms/step - loss: 3.8022 - mae: 3.8022\n",
            "Epoch 48/100\n",
            "1/1 [==============================] - 0s 19ms/step - loss: 3.6364 - mae: 3.6364\n",
            "Epoch 49/100\n",
            "1/1 [==============================] - 0s 60ms/step - loss: 3.5096 - mae: 3.5096\n",
            "Epoch 50/100\n",
            "1/1 [==============================] - 0s 28ms/step - loss: 3.3995 - mae: 3.3995\n",
            "Epoch 51/100\n",
            "1/1 [==============================] - 0s 23ms/step - loss: 3.2384 - mae: 3.2384\n",
            "Epoch 52/100\n",
            "1/1 [==============================] - 0s 18ms/step - loss: 3.0289 - mae: 3.0289\n",
            "Epoch 53/100\n",
            "1/1 [==============================] - 0s 29ms/step - loss: 2.8035 - mae: 2.8035\n",
            "Epoch 54/100\n",
            "1/1 [==============================] - 0s 19ms/step - loss: 2.6301 - mae: 2.6301\n",
            "Epoch 55/100\n",
            "1/1 [==============================] - 0s 18ms/step - loss: 2.4445 - mae: 2.4445\n",
            "Epoch 56/100\n",
            "1/1 [==============================] - 0s 17ms/step - loss: 2.3107 - mae: 2.3107\n",
            "Epoch 57/100\n",
            "1/1 [==============================] - 0s 19ms/step - loss: 2.0272 - mae: 2.0272\n",
            "Epoch 58/100\n",
            "1/1 [==============================] - 0s 16ms/step - loss: 1.7942 - mae: 1.7942\n",
            "Epoch 59/100\n",
            "1/1 [==============================] - 0s 50ms/step - loss: 1.6401 - mae: 1.6401\n",
            "Epoch 60/100\n",
            "1/1 [==============================] - 0s 36ms/step - loss: 1.4182 - mae: 1.4182\n",
            "Epoch 61/100\n",
            "1/1 [==============================] - 0s 11ms/step - loss: 1.1314 - mae: 1.1314\n",
            "Epoch 62/100\n",
            "1/1 [==============================] - 0s 13ms/step - loss: 0.8141 - mae: 0.8141\n",
            "Epoch 63/100\n",
            "1/1 [==============================] - 0s 11ms/step - loss: 0.6625 - mae: 0.6625\n",
            "Epoch 64/100\n",
            "1/1 [==============================] - 0s 11ms/step - loss: 0.3539 - mae: 0.3539\n",
            "Epoch 65/100\n",
            "1/1 [==============================] - 0s 10ms/step - loss: 0.1722 - mae: 0.1722\n",
            "Epoch 66/100\n",
            "1/1 [==============================] - 0s 11ms/step - loss: 0.3010 - mae: 0.3010\n",
            "Epoch 67/100\n",
            "1/1 [==============================] - 0s 14ms/step - loss: 0.6381 - mae: 0.6381\n",
            "Epoch 68/100\n",
            "1/1 [==============================] - 0s 40ms/step - loss: 0.7927 - mae: 0.7927\n",
            "Epoch 69/100\n",
            "1/1 [==============================] - 0s 22ms/step - loss: 0.7453 - mae: 0.7453\n",
            "Epoch 70/100\n",
            "1/1 [==============================] - 0s 22ms/step - loss: 0.8856 - mae: 0.8856\n",
            "Epoch 71/100\n",
            "1/1 [==============================] - 0s 26ms/step - loss: 0.9339 - mae: 0.9339\n",
            "Epoch 72/100\n",
            "1/1 [==============================] - 0s 19ms/step - loss: 0.7779 - mae: 0.7779\n",
            "Epoch 73/100\n",
            "1/1 [==============================] - 0s 19ms/step - loss: 0.7911 - mae: 0.7911\n",
            "Epoch 74/100\n",
            "1/1 [==============================] - 0s 37ms/step - loss: 0.7898 - mae: 0.7898\n",
            "Epoch 75/100\n",
            "1/1 [==============================] - 0s 19ms/step - loss: 0.5895 - mae: 0.5895\n",
            "Epoch 76/100\n",
            "1/1 [==============================] - 0s 18ms/step - loss: 0.4024 - mae: 0.4024\n",
            "Epoch 77/100\n",
            "1/1 [==============================] - 0s 16ms/step - loss: 0.3293 - mae: 0.3293\n",
            "Epoch 78/100\n",
            "1/1 [==============================] - 0s 17ms/step - loss: 0.0923 - mae: 0.0923\n",
            "Epoch 79/100\n",
            "1/1 [==============================] - 0s 18ms/step - loss: 0.2829 - mae: 0.2829\n",
            "Epoch 80/100\n",
            "1/1 [==============================] - 0s 17ms/step - loss: 0.4511 - mae: 0.4511\n",
            "Epoch 81/100\n",
            "1/1 [==============================] - 0s 17ms/step - loss: 0.4417 - mae: 0.4417\n",
            "Epoch 82/100\n",
            "1/1 [==============================] - 0s 16ms/step - loss: 0.4104 - mae: 0.4104\n",
            "Epoch 83/100\n",
            "1/1 [==============================] - 0s 18ms/step - loss: 0.5387 - mae: 0.5387\n",
            "Epoch 84/100\n",
            "1/1 [==============================] - 0s 28ms/step - loss: 0.4897 - mae: 0.4897\n",
            "Epoch 85/100\n",
            "1/1 [==============================] - 0s 17ms/step - loss: 0.3353 - mae: 0.3353\n",
            "Epoch 86/100\n",
            "1/1 [==============================] - 0s 18ms/step - loss: 0.3910 - mae: 0.3910\n",
            "Epoch 87/100\n",
            "1/1 [==============================] - 0s 17ms/step - loss: 0.2986 - mae: 0.2986\n",
            "Epoch 88/100\n",
            "1/1 [==============================] - 0s 18ms/step - loss: 0.0860 - mae: 0.0860\n",
            "Epoch 89/100\n",
            "1/1 [==============================] - 0s 18ms/step - loss: 0.1178 - mae: 0.1178\n",
            "Epoch 90/100\n",
            "1/1 [==============================] - 0s 24ms/step - loss: 0.1857 - mae: 0.1857\n",
            "Epoch 91/100\n",
            "1/1 [==============================] - 0s 21ms/step - loss: 0.2225 - mae: 0.2225\n",
            "Epoch 92/100\n",
            "1/1 [==============================] - 0s 17ms/step - loss: 0.2821 - mae: 0.2821\n",
            "Epoch 93/100\n",
            "1/1 [==============================] - 0s 24ms/step - loss: 0.2322 - mae: 0.2322\n",
            "Epoch 94/100\n",
            "1/1 [==============================] - 0s 16ms/step - loss: 0.2271 - mae: 0.2271\n",
            "Epoch 95/100\n",
            "1/1 [==============================] - 0s 16ms/step - loss: 0.1508 - mae: 0.1508\n",
            "Epoch 96/100\n",
            "1/1 [==============================] - 0s 23ms/step - loss: 0.0858 - mae: 0.0858\n",
            "Epoch 97/100\n",
            "1/1 [==============================] - 0s 18ms/step - loss: 0.1477 - mae: 0.1477\n",
            "Epoch 98/100\n",
            "1/1 [==============================] - 0s 22ms/step - loss: 0.1119 - mae: 0.1119\n",
            "Epoch 99/100\n",
            "1/1 [==============================] - 0s 19ms/step - loss: 0.1965 - mae: 0.1965\n",
            "Epoch 100/100\n",
            "1/1 [==============================] - 0s 15ms/step - loss: 0.1545 - mae: 0.1545\n"
          ]
        },
        {
          "output_type": "execute_result",
          "data": {
            "text/plain": [
              "<keras.src.callbacks.History at 0x79c019e89d80>"
            ]
          },
          "metadata": {},
          "execution_count": 22
        }
      ]
    },
    {
      "cell_type": "code",
      "source": [
        "X, y"
      ],
      "metadata": {
        "colab": {
          "base_uri": "https://localhost:8080/"
        },
        "id": "ZIqYOGJ6g2xu",
        "outputId": "ed3284ea-602d-44d6-a766-97e0b218917a"
      },
      "execution_count": 23,
      "outputs": [
        {
          "output_type": "execute_result",
          "data": {
            "text/plain": [
              "(<tf.Tensor: shape=(8,), dtype=float32, numpy=array([-7., -4., -1.,  2.,  5.,  8., 11., 14.], dtype=float32)>,\n",
              " <tf.Tensor: shape=(8,), dtype=float32, numpy=array([ 3.,  6.,  9., 12., 15., 18., 21., 24.], dtype=float32)>)"
            ]
          },
          "metadata": {},
          "execution_count": 23
        }
      ]
    },
    {
      "cell_type": "code",
      "source": [
        "model.predict([17.0])"
      ],
      "metadata": {
        "colab": {
          "base_uri": "https://localhost:8080/"
        },
        "id": "Cm28xS9fevdU",
        "outputId": "ceb67cb3-ff4b-4f4b-cb72-19a30920f2e0"
      },
      "execution_count": 24,
      "outputs": [
        {
          "output_type": "stream",
          "name": "stdout",
          "text": [
            "1/1 [==============================] - 0s 100ms/step\n"
          ]
        },
        {
          "output_type": "execute_result",
          "data": {
            "text/plain": [
              "array([[27.127108]], dtype=float32)"
            ]
          },
          "metadata": {},
          "execution_count": 24
        }
      ]
    },
    {
      "cell_type": "markdown",
      "source": [
        "## Evaluating a model\n",
        "\n",
        "In practice, a typical workflow you'll go through when building neural networks is:\n",
        "\n",
        "Build a model -> fit it -> evaluate it -> tweak a model -> fit it -> evaluate it ...\n"
      ],
      "metadata": {
        "id": "6Cy1pC2oe3Xw"
      }
    },
    {
      "cell_type": "markdown",
      "source": [
        "When it comes to evaluation... there are 3 words you should memorize:\n",
        "> \"Visualize, visualize, visualize:\"\n",
        "* The data - what data are we working with? what does it look like?\n",
        "* The model itself - what does our model look like?\n",
        "* The training of a model - how does a model perform while it learns?\n",
        "* The predictions of the model - how do the predictions of a model line up against the ground thruth?"
      ],
      "metadata": {
        "id": "Ols0r_9PbYC7"
      }
    },
    {
      "cell_type": "code",
      "source": [
        "# Make a bigger dataset\n",
        "X = tf.range(-100, 100, 4)\n",
        "X"
      ],
      "metadata": {
        "id": "RPMP8MEicAsn",
        "outputId": "81e87611-007a-45cc-ee02-4698de451c96",
        "colab": {
          "base_uri": "https://localhost:8080/"
        }
      },
      "execution_count": 25,
      "outputs": [
        {
          "output_type": "execute_result",
          "data": {
            "text/plain": [
              "<tf.Tensor: shape=(50,), dtype=int32, numpy=\n",
              "array([-100,  -96,  -92,  -88,  -84,  -80,  -76,  -72,  -68,  -64,  -60,\n",
              "        -56,  -52,  -48,  -44,  -40,  -36,  -32,  -28,  -24,  -20,  -16,\n",
              "        -12,   -8,   -4,    0,    4,    8,   12,   16,   20,   24,   28,\n",
              "         32,   36,   40,   44,   48,   52,   56,   60,   64,   68,   72,\n",
              "         76,   80,   84,   88,   92,   96], dtype=int32)>"
            ]
          },
          "metadata": {},
          "execution_count": 25
        }
      ]
    },
    {
      "cell_type": "code",
      "source": [
        "# Make a labels for the dataset\n",
        "y = X +10\n",
        "y"
      ],
      "metadata": {
        "id": "ra3GT-SVcND7",
        "outputId": "50cbb2b8-207f-40e8-b8d2-b7410f461c15",
        "colab": {
          "base_uri": "https://localhost:8080/"
        }
      },
      "execution_count": 26,
      "outputs": [
        {
          "output_type": "execute_result",
          "data": {
            "text/plain": [
              "<tf.Tensor: shape=(50,), dtype=int32, numpy=\n",
              "array([-90, -86, -82, -78, -74, -70, -66, -62, -58, -54, -50, -46, -42,\n",
              "       -38, -34, -30, -26, -22, -18, -14, -10,  -6,  -2,   2,   6,  10,\n",
              "        14,  18,  22,  26,  30,  34,  38,  42,  46,  50,  54,  58,  62,\n",
              "        66,  70,  74,  78,  82,  86,  90,  94,  98, 102, 106], dtype=int32)>"
            ]
          },
          "metadata": {},
          "execution_count": 26
        }
      ]
    },
    {
      "cell_type": "code",
      "source": [
        "# Visualize the data\n",
        "import matplotlib.pyplot as plt\n",
        "plt.scatter(X, y)"
      ],
      "metadata": {
        "id": "2SThNmzncuJ8",
        "outputId": "aa7d692e-b1bc-4504-a1ce-ed8523cb6772",
        "colab": {
          "base_uri": "https://localhost:8080/",
          "height": 447
        }
      },
      "execution_count": 27,
      "outputs": [
        {
          "output_type": "execute_result",
          "data": {
            "text/plain": [
              "<matplotlib.collections.PathCollection at 0x79c019dced70>"
            ]
          },
          "metadata": {},
          "execution_count": 27
        },
        {
          "output_type": "display_data",
          "data": {
            "text/plain": [
              "<Figure size 640x480 with 1 Axes>"
            ],
            "image/png": "[encoded data removed]"
          },
          "metadata": {}
        }
      ]
    },
    {
      "cell_type": "markdown",
      "source": [
        "### The 3 sets ...\n",
        "\n",
        "* **Training set** - the model learns from this data, which is typically 70-80% of the total data you have available.\n",
        "* **Validation set** - the model gets tuned on this data, which is typically 10-15% of the data available.\n",
        "* **Test set** - the model gets evaluated on this data to test what is has learned, this set is typically 10-15% of the total data available."
      ],
      "metadata": {
        "id": "DoiOoVZYc6UB"
      }
    },
    {
      "cell_type": "code",
      "source": [
        "# Check the length of how many sample we have\n",
        "len(X)"
      ],
      "metadata": {
        "id": "t2r6rZ2TdYKY",
        "outputId": "64321673-58ea-4203-8915-85e8c2b41739",
        "colab": {
          "base_uri": "https://localhost:8080/"
        }
      },
      "execution_count": 28,
      "outputs": [
        {
          "output_type": "execute_result",
          "data": {
            "text/plain": [
              "50"
            ]
          },
          "metadata": {},
          "execution_count": 28
        }
      ]
    },
    {
      "cell_type": "code",
      "source": [
        "# Split the data into train and test sets\n",
        "X_train = X[:40] # first 40 are training samples (80% of the data)\n",
        "y_train = y[:40]\n",
        "\n",
        "X_test = X[40:] # last 10 are testing samples (20% of the data)\n",
        "y_test = y[40:]\n",
        "\n",
        "len(X_train), len(X_test), len(y_train), len(y_test)"
      ],
      "metadata": {
        "id": "Sn40Cd8MekRT",
        "outputId": "3520f822-035f-4639-8e96-6f35ff2c7df0",
        "colab": {
          "base_uri": "https://localhost:8080/"
        }
      },
      "execution_count": 29,
      "outputs": [
        {
          "output_type": "execute_result",
          "data": {
            "text/plain": [
              "(40, 10, 40, 10)"
            ]
          },
          "metadata": {},
          "execution_count": 29
        }
      ]
    },
    {
      "cell_type": "markdown",
      "source": [
        "### Visualizing the data\n",
        "\n",
        "Now we've got our data in training and test sets...let's visualize it again!"
      ],
      "metadata": {
        "id": "rZAPNwd2fZGt"
      }
    },
    {
      "cell_type": "code",
      "source": [
        "plt.figure(figsize=(10,7))\n",
        "# Plot training data in blue\n",
        "plt.scatter(X_train, y_train, c=\"b\", label=\"Training data\")\n",
        "plt.scatter(X_test, y_test, c=\"g\", label=\"Testing data\")\n",
        "plt.legend();"
      ],
      "metadata": {
        "id": "_VWL7dGDfrUu",
        "outputId": "cba0b485-4f68-4d5d-f302-33dc29223be8",
        "colab": {
          "base_uri": "https://localhost:8080/",
          "height": 599
        }
      },
      "execution_count": 30,
      "outputs": [
        {
          "output_type": "display_data",
          "data": {
            "text/plain": [
              "<Figure size 1000x700 with 1 Axes>"
            ],
            "image/png": "[encoded data removed]"
          },
          "metadata": {}
        }
      ]
    },
    {
      "cell_type": "code",
      "source": [
        "# Let's have a look at how to build a neural network for our data\n",
        "\n",
        "# 1. Create a model\n",
        "model = tf.keras.Sequential([\n",
        "    tf.keras.layers.Dense(1)\n",
        "])\n",
        "\n",
        "# 2. Compile the model\n",
        "model.compile(loss=tf.keras.losses.mae,\n",
        "              optimizer=tf.keras.optimizers.SGD(),\n",
        "              metrics=[\"mae\"]\n",
        "              )\n",
        "\n",
        "# 3. Fit the model\n",
        "# model.fit(X_train, y_train, epochs=100)"
      ],
      "metadata": {
        "id": "ODe2r9vWgEzC"
      },
      "execution_count": 31,
      "outputs": []
    },
    {
      "cell_type": "markdown",
      "source": [
        "# Vizualizing the model"
      ],
      "metadata": {
        "id": "WXM5LZjphqAT"
      }
    },
    {
      "cell_type": "code",
      "source": [
        "model.summary()"
      ],
      "metadata": {
        "id": "ux18eEj7hvQW",
        "outputId": "e5974f64-ad6a-4424-a7a6-a61866b657a4",
        "colab": {
          "base_uri": "https://localhost:8080/",
          "height": 263
        }
      },
      "execution_count": 33,
      "outputs": [
        {
          "output_type": "error",
          "ename": "ValueError",
          "evalue": "This model has not yet been built. Build the model first by calling `build()` or by calling the model on a batch of data.",
          "traceback": [
            "\u001b[0;31m---------------------------------------------------------------------------\u001b[0m",
            "\u001b[0;31mValueError\u001b[0m                                Traceback (most recent call last)",
            "\u001b[0;32m<ipython-input-33-5f15418b3570>\u001b[0m in \u001b[0;36m<cell line: 1>\u001b[0;34m()\u001b[0m\n\u001b[0;32m----> 1\u001b[0;31m \u001b[0mmodel\u001b[0m\u001b[0;34m.\u001b[0m\u001b[0msummary\u001b[0m\u001b[0;34m(\u001b[0m\u001b[0;34m)\u001b[0m\u001b[0;34m\u001b[0m\u001b[0;34m\u001b[0m\u001b[0m\n\u001b[0m",
            "\u001b[0;32m/usr/local/lib/python3.10/dist-packages/keras/src/engine/training.py\u001b[0m in \u001b[0;36msummary\u001b[0;34m(self, line_length, positions, print_fn, expand_nested, show_trainable, layer_range)\u001b[0m\n\u001b[1;32m   3504\u001b[0m         \"\"\"\n\u001b[1;32m   3505\u001b[0m         \u001b[0;32mif\u001b[0m \u001b[0;32mnot\u001b[0m \u001b[0mself\u001b[0m\u001b[0;34m.\u001b[0m\u001b[0mbuilt\u001b[0m\u001b[0;34m:\u001b[0m\u001b[0;34m\u001b[0m\u001b[0;34m\u001b[0m\u001b[0m\n\u001b[0;32m-> 3506\u001b[0;31m             raise ValueError(\n\u001b[0m\u001b[1;32m   3507\u001b[0m                 \u001b[0;34m\"This model has not yet been built. \"\u001b[0m\u001b[0;34m\u001b[0m\u001b[0;34m\u001b[0m\u001b[0m\n\u001b[1;32m   3508\u001b[0m                 \u001b[0;34m\"Build the model first by calling `build()` or by calling \"\u001b[0m\u001b[0;34m\u001b[0m\u001b[0;34m\u001b[0m\u001b[0m\n",
            "\u001b[0;31mValueError\u001b[0m: This model has not yet been built. Build the model first by calling `build()` or by calling the model on a batch of data."
          ]
        }
      ]
    },
    {
      "cell_type": "code",
      "source": [
        "model.build()"
      ],
      "metadata": {
        "id": "8Aeoj04oh6Xy",
        "outputId": "c34222f7-7d6b-4e9c-c9c0-79091c9127a2",
        "colab": {
          "base_uri": "https://localhost:8080/",
          "height": 263
        }
      },
      "execution_count": 34,
      "outputs": [
        {
          "output_type": "error",
          "ename": "ValueError",
          "evalue": "You must provide an `input_shape` argument.",
          "traceback": [
            "\u001b[0;31m---------------------------------------------------------------------------\u001b[0m",
            "\u001b[0;31mValueError\u001b[0m                                Traceback (most recent call last)",
            "\u001b[0;32m<ipython-input-34-2f52417d930d>\u001b[0m in \u001b[0;36m<cell line: 1>\u001b[0;34m()\u001b[0m\n\u001b[0;32m----> 1\u001b[0;31m \u001b[0mmodel\u001b[0m\u001b[0;34m.\u001b[0m\u001b[0mbuild\u001b[0m\u001b[0;34m(\u001b[0m\u001b[0;34m)\u001b[0m\u001b[0;34m\u001b[0m\u001b[0;34m\u001b[0m\u001b[0m\n\u001b[0m",
            "\u001b[0;32m/usr/local/lib/python3.10/dist-packages/keras/src/engine/sequential.py\u001b[0m in \u001b[0;36mbuild\u001b[0;34m(self, input_shape)\u001b[0m\n\u001b[1;32m    369\u001b[0m         \u001b[0;32melse\u001b[0m\u001b[0;34m:\u001b[0m\u001b[0;34m\u001b[0m\u001b[0;34m\u001b[0m\u001b[0m\n\u001b[1;32m    370\u001b[0m             \u001b[0;32mif\u001b[0m \u001b[0minput_shape\u001b[0m \u001b[0;32mis\u001b[0m \u001b[0;32mNone\u001b[0m\u001b[0;34m:\u001b[0m\u001b[0;34m\u001b[0m\u001b[0;34m\u001b[0m\u001b[0m\n\u001b[0;32m--> 371\u001b[0;31m                 \u001b[0;32mraise\u001b[0m \u001b[0mValueError\u001b[0m\u001b[0;34m(\u001b[0m\u001b[0;34m\"You must provide an `input_shape` argument.\"\u001b[0m\u001b[0;34m)\u001b[0m\u001b[0;34m\u001b[0m\u001b[0;34m\u001b[0m\u001b[0m\n\u001b[0m\u001b[1;32m    372\u001b[0m             \u001b[0mself\u001b[0m\u001b[0;34m.\u001b[0m\u001b[0m_build_graph_network_for_inferred_shape\u001b[0m\u001b[0;34m(\u001b[0m\u001b[0minput_shape\u001b[0m\u001b[0;34m)\u001b[0m\u001b[0;34m\u001b[0m\u001b[0;34m\u001b[0m\u001b[0m\n\u001b[1;32m    373\u001b[0m             \u001b[0;32mif\u001b[0m \u001b[0;32mnot\u001b[0m \u001b[0mself\u001b[0m\u001b[0;34m.\u001b[0m\u001b[0mbuilt\u001b[0m\u001b[0;34m:\u001b[0m\u001b[0;34m\u001b[0m\u001b[0;34m\u001b[0m\u001b[0m\n",
            "\u001b[0;31mValueError\u001b[0m: You must provide an `input_shape` argument."
          ]
        }
      ]
    },
    {
      "cell_type": "code",
      "source": [
        "# Let's create a model which builds automatically by defining the input_shape argument in the first layer\n",
        "tf.random.set_seed(42)\n",
        "\n",
        "# 1.Create a model (same as above)\n",
        "model = tf.keras.Sequential([\n",
        "        tf.keras.layers.Dense(100, input_shape=[1], name=\"input_layer\"),\n",
        "        tf.keras.layers.Dense(1, name=\"output_layer\")\n",
        "], name=\"model_1\")\n",
        "\n",
        "\n",
        "# 2. Compile the model\n",
        "model.compile(loss=tf.keras.losses.mae,\n",
        "              optimizer=tf.keras.optimizers.Adam(learning_rate=0.001),\n",
        "              metrics=[\"mae\"]\n",
        "              )\n",
        "\n",
        "# 3.Fit the model"
      ],
      "metadata": {
        "id": "8uYW2V9aiI2Z"
      },
      "execution_count": 35,
      "outputs": []
    },
    {
      "cell_type": "code",
      "source": [
        "model.summary()"
      ],
      "metadata": {
        "id": "BCmB82hDjecb",
        "outputId": "a2df4320-9e77-4ab2-f25c-045df3fd1641",
        "colab": {
          "base_uri": "https://localhost:8080/"
        }
      },
      "execution_count": 36,
      "outputs": [
        {
          "output_type": "stream",
          "name": "stdout",
          "text": [
            "Model: \"model_1\"\n",
            "_________________________________________________________________\n",
            " Layer (type)                Output Shape              Param #   \n",
            "=================================================================\n",
            " input_layer (Dense)         (None, 100)               200       \n",
            "                                                                 \n",
            " output_layer (Dense)        (None, 1)                 101       \n",
            "                                                                 \n",
            "=================================================================\n",
            "Total params: 301 (1.18 KB)\n",
            "Trainable params: 301 (1.18 KB)\n",
            "Non-trainable params: 0 (0.00 Byte)\n",
            "_________________________________________________________________\n"
          ]
        }
      ]
    },
    {
      "cell_type": "markdown",
      "source": [
        "* Total params - total number of parameters in the model.\n",
        "* Trainable parameters - these are the parameters (patterns) the model can update as it trains.\n",
        "* Non-trainable params -  these parameters aren't updated during training (this is typical when you bring in already learnt patterns or parameters from another model during **transfer learning**)."
      ],
      "metadata": {
        "id": "QIHczXygjsMY"
      }
    },
    {
      "cell_type": "markdown",
      "source": [
        "** Resource: ** For a more in-depth overview of the trainable parameters within a layer, check out MIT's introduction to Deep learning."
      ],
      "metadata": {
        "id": "0LkoyAMjkJm8"
      }
    },
    {
      "cell_type": "markdown",
      "source": [
        "** Exercice:** Try playing around with the number of hiddden units in the dense layer, see how that effects the number of parameters (total and trainable) by calling model.summary()"
      ],
      "metadata": {
        "id": "fshRdUdRl3_b"
      }
    },
    {
      "cell_type": "code",
      "source": [
        "# Let's fit our model to the training data\n",
        "model.fit(X_train, y_train, epochs=500, verbose=0)"
      ],
      "metadata": {
        "id": "IeN5Jp8tmdAU",
        "outputId": "9196bde3-5ebc-4658-a29e-19a3ae3a73b1",
        "colab": {
          "base_uri": "https://localhost:8080/"
        }
      },
      "execution_count": 37,
      "outputs": [
        {
          "output_type": "execute_result",
          "data": {
            "text/plain": [
              "<keras.src.callbacks.History at 0x79c0196fd060>"
            ]
          },
          "metadata": {},
          "execution_count": 37
        }
      ]
    },
    {
      "cell_type": "code",
      "source": [
        "# Get a summary of our model\n",
        "model.summary()"
      ],
      "metadata": {
        "id": "JwoTXIUqmvZM",
        "outputId": "43b68cc1-a002-4003-bf6c-7d50701f374d",
        "colab": {
          "base_uri": "https://localhost:8080/"
        }
      },
      "execution_count": 38,
      "outputs": [
        {
          "output_type": "stream",
          "name": "stdout",
          "text": [
            "Model: \"model_1\"\n",
            "_________________________________________________________________\n",
            " Layer (type)                Output Shape              Param #   \n",
            "=================================================================\n",
            " input_layer (Dense)         (None, 100)               200       \n",
            "                                                                 \n",
            " output_layer (Dense)        (None, 1)                 101       \n",
            "                                                                 \n",
            "=================================================================\n",
            "Total params: 301 (1.18 KB)\n",
            "Trainable params: 301 (1.18 KB)\n",
            "Non-trainable params: 0 (0.00 Byte)\n",
            "_________________________________________________________________\n"
          ]
        }
      ]
    },
    {
      "cell_type": "code",
      "source": [
        "from tensorflow.keras.utils import plot_model\n",
        "\n",
        "plot_model(model=model,show_shapes=True)"
      ],
      "metadata": {
        "id": "QySB4jhmz2Xs",
        "outputId": "c723ac37-87ec-4214-cf06-cc95b0fede5f",
        "colab": {
          "base_uri": "https://localhost:8080/",
          "height": 312
        }
      },
      "execution_count": 39,
      "outputs": [
        {
          "output_type": "execute_result",
          "data": {
            "image/png": "[encoded data removed]",
            "text/plain": [
              "<IPython.core.display.Image object>"
            ]
          },
          "metadata": {},
          "execution_count": 39
        }
      ]
    },
    {
      "cell_type": "markdown",
      "source": [
        "### Vizualizing our model's prediction\n",
        "\n",
        "To vizualize predictions, it's a good idea to plot them against the ground truth labels.\n",
        "\n",
        "Often you'll see this in the form of y_test or y_true versus y_pred (ground truth versus your model's preductions)."
      ],
      "metadata": {
        "id": "FGsLAlfl0chm"
      }
    },
    {
      "cell_type": "code",
      "source": [
        "# Make some predictions\n",
        "\n",
        "y_pred = model.predict(X_test)\n",
        "y_pred"
      ],
      "metadata": {
        "id": "yLezlH5T3bDw",
        "outputId": "fa4a7dfe-c906-4e8a-8bf1-73bd83f2a9a5",
        "colab": {
          "base_uri": "https://localhost:8080/"
        }
      },
      "execution_count": 40,
      "outputs": [
        {
          "output_type": "stream",
          "name": "stderr",
          "text": [
            "WARNING:tensorflow:5 out of the last 5 calls to <function Model.make_predict_function.<locals>.predict_function at 0x79c01962bb50> triggered tf.function retracing. Tracing is expensive and the excessive number of tracings could be due to (1) creating @tf.function repeatedly in a loop, (2) passing tensors with different shapes, (3) passing Python objects instead of tensors. For (1), please define your @tf.function outside of the loop. For (2), @tf.function has reduce_retracing=True option that can avoid unnecessary retracing. For (3), please refer to https://www.tensorflow.org/guide/function#controlling_retracing and https://www.tensorflow.org/api_docs/python/tf/function for  more details.\n"
          ]
        },
        {
          "output_type": "stream",
          "name": "stdout",
          "text": [
            "1/1 [==============================] - 0s 55ms/step\n"
          ]
        },
        {
          "output_type": "execute_result",
          "data": {
            "text/plain": [
              "array([[ 70.220406],\n",
              "       [ 74.234146],\n",
              "       [ 78.24787 ],\n",
              "       [ 82.2616  ],\n",
              "       [ 86.27533 ],\n",
              "       [ 90.28906 ],\n",
              "       [ 94.302795],\n",
              "       [ 98.31652 ],\n",
              "       [102.33026 ],\n",
              "       [106.343994]], dtype=float32)"
            ]
          },
          "metadata": {},
          "execution_count": 40
        }
      ]
    },
    {
      "cell_type": "code",
      "source": [
        "y_test"
      ],
      "metadata": {
        "id": "GFQT3C-33nXO",
        "outputId": "fc495af1-9ce5-4b1f-aea5-6aa525f0ea99",
        "colab": {
          "base_uri": "https://localhost:8080/"
        }
      },
      "execution_count": 41,
      "outputs": [
        {
          "output_type": "execute_result",
          "data": {
            "text/plain": [
              "<tf.Tensor: shape=(10,), dtype=int32, numpy=array([ 70,  74,  78,  82,  86,  90,  94,  98, 102, 106], dtype=int32)>"
            ]
          },
          "metadata": {},
          "execution_count": 41
        }
      ]
    },
    {
      "cell_type": "markdown",
      "source": [
        "**Note:** If you feel like you're going to reuse some kind of functionality in the future, it's a good idea to turn it into a function."
      ],
      "metadata": {
        "id": "GZIFMJRz3zTj"
      }
    },
    {
      "cell_type": "code",
      "source": [
        "# Let's create a plotting function\n",
        "def plot_predictions(train_data=X_train,\n",
        "                     train_labels=y_train,\n",
        "                     test_data=X_test,\n",
        "                     test_labels=y_test,\n",
        "                     predictions=y_pred):\n",
        "\n",
        "  \"\"\"\n",
        "  Plots training data, test data and compares predictions to ground truth labels.\n",
        "  \"\"\"\n",
        "  plt.figure(figsize=(10,7))\n",
        "  # Plot training data in blue\n",
        "  plt.scatter(train_data, train_labels, c=\"b\", label=\"Training data\")\n",
        "  # Plot testing data in green\n",
        "  plt.scatter(test_data, test_labels, c=\"g\", label=\"Testing data\")\n",
        "  # Plot model's predictions in red\n",
        "  plt.scatter(test_data, predictions, c=\"r\", label=\"Predictions\")\n",
        "  # Show the legend\n",
        "  plt.legend();\n"
      ],
      "metadata": {
        "id": "8wJ-6t0t4rfu"
      },
      "execution_count": 42,
      "outputs": []
    },
    {
      "cell_type": "code",
      "source": [
        "plot_predictions(train_data=X_train,\n",
        "                 train_labels=y_train,\n",
        "                 test_data=X_test,\n",
        "                 test_labels=y_test,\n",
        "                 predictions=y_pred)"
      ],
      "metadata": {
        "id": "mQqRrzVf6CWw",
        "outputId": "db4b9437-eac1-4108-ac2a-752c9f2e5a73",
        "colab": {
          "base_uri": "https://localhost:8080/",
          "height": 599
        }
      },
      "execution_count": 43,
      "outputs": [
        {
          "output_type": "display_data",
          "data": {
            "text/plain": [
              "<Figure size 1000x700 with 1 Axes>"
            ],
            "image/png": "[encoded data removed]"
          },
          "metadata": {}
        }
      ]
    },
    {
      "cell_type": "markdown",
      "source": [
        "### Evaluating our model's predictions with regression evaluation metrics\n",
        "\n",
        "Depending on the problem you're working on, there will be different evaluation metrics to evaluate your model's performance.\n",
        "\n",
        "Since we're working on a regression, two of the main metrics:\n",
        "* MAE - mean absolute error, \"on average, how wrong is each of my model's predictions\"\n",
        "* MSE - mean square error, \"square the average errors\""
      ],
      "metadata": {
        "id": "0o953hex6RCm"
      }
    },
    {
      "cell_type": "code",
      "source": [
        "# Evaluate the model on the test\n",
        "model.evaluate(X_test, y_test)"
      ],
      "metadata": {
        "id": "x9Fgw-E67Qtc",
        "outputId": "e8f854c0-a449-496e-979b-8d6570f7e975",
        "colab": {
          "base_uri": "https://localhost:8080/"
        }
      },
      "execution_count": 44,
      "outputs": [
        {
          "output_type": "stream",
          "name": "stdout",
          "text": [
            "1/1 [==============================] - 0s 137ms/step - loss: 0.2822 - mae: 0.2822\n"
          ]
        },
        {
          "output_type": "execute_result",
          "data": {
            "text/plain": [
              "[0.28219833970069885, 0.28219833970069885]"
            ]
          },
          "metadata": {},
          "execution_count": 44
        }
      ]
    },
    {
      "cell_type": "code",
      "source": [
        "# Calculate the mean absolute error\n",
        "mae = tf.metrics.mean_absolute_error(y_true = y_test,\n",
        "                               y_pred = tf.constant(y_pred))\n",
        "mae"
      ],
      "metadata": {
        "id": "ngoJB_clmwg_",
        "outputId": "c673c6f6-5d11-4757-e659-921c24180a4e",
        "colab": {
          "base_uri": "https://localhost:8080/"
        }
      },
      "execution_count": 58,
      "outputs": [
        {
          "output_type": "execute_result",
          "data": {
            "text/plain": [
              "<tf.Tensor: shape=(10,), dtype=float32, numpy=\n",
              "array([17.823675 , 14.6595125, 12.300852 , 10.747681 , 10.       ,\n",
              "       10.057813 , 10.921118 , 12.589912 , 15.064209 , 18.343994 ],\n",
              "      dtype=float32)>"
            ]
          },
          "metadata": {},
          "execution_count": 58
        }
      ]
    },
    {
      "cell_type": "code",
      "source": [
        "tf.constant(y_pred)"
      ],
      "metadata": {
        "id": "uf1W9j3F-45r",
        "outputId": "86997732-5283-4dda-cb7a-2466ed0d403e",
        "colab": {
          "base_uri": "https://localhost:8080/"
        }
      },
      "execution_count": 59,
      "outputs": [
        {
          "output_type": "execute_result",
          "data": {
            "text/plain": [
              "<tf.Tensor: shape=(10, 1), dtype=float32, numpy=\n",
              "array([[ 70.220406],\n",
              "       [ 74.234146],\n",
              "       [ 78.24787 ],\n",
              "       [ 82.2616  ],\n",
              "       [ 86.27533 ],\n",
              "       [ 90.28906 ],\n",
              "       [ 94.302795],\n",
              "       [ 98.31652 ],\n",
              "       [102.33026 ],\n",
              "       [106.343994]], dtype=float32)>"
            ]
          },
          "metadata": {},
          "execution_count": 59
        }
      ]
    },
    {
      "cell_type": "code",
      "source": [
        "y_test"
      ],
      "metadata": {
        "id": "I12sxUlg-6YM",
        "outputId": "92f24e8c-8a3d-49dc-de77-4182c1120344",
        "colab": {
          "base_uri": "https://localhost:8080/"
        }
      },
      "execution_count": 60,
      "outputs": [
        {
          "output_type": "execute_result",
          "data": {
            "text/plain": [
              "<tf.Tensor: shape=(10,), dtype=int32, numpy=array([ 70,  74,  78,  82,  86,  90,  94,  98, 102, 106], dtype=int32)>"
            ]
          },
          "metadata": {},
          "execution_count": 60
        }
      ]
    },
    {
      "cell_type": "code",
      "source": [
        "tf.squeeze(y_pred)"
      ],
      "metadata": {
        "id": "AnFskpm_obqx",
        "outputId": "d2f010e9-0b1a-493c-ce28-6275dce199d2",
        "colab": {
          "base_uri": "https://localhost:8080/"
        }
      },
      "execution_count": 61,
      "outputs": [
        {
          "output_type": "execute_result",
          "data": {
            "text/plain": [
              "<tf.Tensor: shape=(10,), dtype=float32, numpy=\n",
              "array([ 70.220406,  74.234146,  78.24787 ,  82.2616  ,  86.27533 ,\n",
              "        90.28906 ,  94.302795,  98.31652 , 102.33026 , 106.343994],\n",
              "      dtype=float32)>"
            ]
          },
          "metadata": {},
          "execution_count": 61
        }
      ]
    },
    {
      "cell_type": "code",
      "source": [
        "# Calculate the mean absolute error\n",
        "mae = tf.metrics.mean_absolute_error(y_true=y_test,\n",
        "                                     y_pred=tf.squeeze(y_pred))\n",
        "mae"
      ],
      "metadata": {
        "id": "OGj5biFl-7XE",
        "outputId": "3e54d5c9-f45d-46a5-89be-185b9c38a0fb",
        "colab": {
          "base_uri": "https://localhost:8080/"
        }
      },
      "execution_count": 63,
      "outputs": [
        {
          "output_type": "execute_result",
          "data": {
            "text/plain": [
              "<tf.Tensor: shape=(), dtype=float32, numpy=0.28219834>"
            ]
          },
          "metadata": {},
          "execution_count": 63
        }
      ]
    },
    {
      "cell_type": "code",
      "source": [
        "# Calculat ethe mean square error\n",
        "mse = tf.keras.losses.MSE(y_true=y_test,\n",
        "                                   y_pred=tf.squeeze(y_pred))\n",
        "mse"
      ],
      "metadata": {
        "id": "w1WU4lJ_oZBu",
        "outputId": "829d2b71-45c1-46c7-e1ec-e88e902cbbee",
        "colab": {
          "base_uri": "https://localhost:8080/"
        }
      },
      "execution_count": 67,
      "outputs": [
        {
          "output_type": "execute_result",
          "data": {
            "text/plain": [
              "<tf.Tensor: shape=(), dtype=float32, numpy=0.08119144>"
            ]
          },
          "metadata": {},
          "execution_count": 67
        }
      ]
    },
    {
      "cell_type": "code",
      "source": [
        "# Make some fundtions to reuse MAE and MSE\n",
        "def mae(y_true, y_pred):\n",
        "  return tf.metrics.mean_absolute_error(y_true=y_test,\n",
        "                                        y_pred=tf.squeeze(y_pred))\n",
        "\n",
        "def mse(y_true, y_pred):\n",
        "  return tf.metrics.mean_squared_error(y_true=y_test,\n",
        "                                       y_pred=tf.squeeze(y_pred))"
      ],
      "metadata": {
        "id": "-_HEkR0MpndM"
      },
      "execution_count": 91,
      "outputs": []
    },
    {
      "cell_type": "markdown",
      "source": [
        "### Running experiments to improve our model\n",
        "\n",
        "```\n",
        "Build a model -> fit it -> evaluate it -> tweak it -> fit it -> evaluate it -> tweak it -> fit it -> evaluate it ...\n",
        "```\n",
        "\n",
        "1. Get more data - get more examples for our model to train on (more opportunities to learn patterns or relationships between features and labels).\n",
        "2. Make your model larger ( using a more complex model) - this might come in the form of more layers or more hidden units in each layer.\n",
        "3. Train for longer - give your model more of a chance to find patterns in the data.\n",
        "\n",
        "\n",
        "Let's do 3 modelling experiements:\n",
        "\n",
        "1. `model_1` - same as the original model, 1 layer, trained for 100 epochs.\n",
        "2. `model_2` - 2 layers, trained for 100 epochs\n",
        "3. `model_3` - 2 layers, trained for 500 epochs\n",
        "\n",
        "**Build model_1**"
      ],
      "metadata": {
        "id": "PvEdwDJEq-2m"
      }
    },
    {
      "cell_type": "code",
      "source": [
        "#Set random seed\n",
        "tf.random.set_seed(42)\n",
        "\n",
        "# 1. Create the model\n",
        "model_1 = tf.keras.Sequential([\n",
        "        tf.keras.layers.Dense(1, input_shape=[1], name=\"input_layer\"),\n",
        "\n",
        "])\n",
        "\n",
        "# 2. Compile the model\n",
        "model_1.compile(loss=tf.keras.losses.mae,\n",
        "                optimizer=tf.keras.optimizers.SGD(),\n",
        "                metrics=[\"mae\"])\n",
        "\n",
        "# 3. Fit the model\n",
        "model_1.fit(X_train, y_train, epochs=100)"
      ],
      "metadata": {
        "id": "_kd3vBHEsDNf",
        "outputId": "d4fb4877-b180-40f0-bf51-04f70dd97c77",
        "colab": {
          "base_uri": "https://localhost:8080/"
        }
      },
      "execution_count": 104,
      "outputs": [
        {
          "output_type": "stream",
          "name": "stdout",
          "text": [
            "Epoch 1/100\n",
            "2/2 [==============================] - 0s 13ms/step - loss: 9.5920 - mae: 9.5920\n",
            "Epoch 2/100\n",
            "2/2 [==============================] - 0s 7ms/step - loss: 9.4840 - mae: 9.4840\n",
            "Epoch 3/100\n",
            "2/2 [==============================] - 0s 8ms/step - loss: 12.0609 - mae: 12.0609\n",
            "Epoch 4/100\n",
            "2/2 [==============================] - 0s 8ms/step - loss: 8.7451 - mae: 8.7451\n",
            "Epoch 5/100\n",
            "2/2 [==============================] - 0s 8ms/step - loss: 10.9574 - mae: 10.9574\n",
            "Epoch 6/100\n",
            "2/2 [==============================] - 0s 7ms/step - loss: 10.1243 - mae: 10.1243\n",
            "Epoch 7/100\n",
            "2/2 [==============================] - 0s 9ms/step - loss: 9.1498 - mae: 9.1498\n",
            "Epoch 8/100\n",
            "2/2 [==============================] - 0s 7ms/step - loss: 9.1083 - mae: 9.1083\n",
            "Epoch 9/100\n",
            "2/2 [==============================] - 0s 7ms/step - loss: 15.1629 - mae: 15.1629\n",
            "Epoch 10/100\n",
            "2/2 [==============================] - 0s 7ms/step - loss: 7.8250 - mae: 7.8250\n",
            "Epoch 11/100\n",
            "2/2 [==============================] - 0s 7ms/step - loss: 10.3824 - mae: 10.3824\n",
            "Epoch 12/100\n",
            "2/2 [==============================] - 0s 6ms/step - loss: 18.4282 - mae: 18.4282\n",
            "Epoch 13/100\n",
            "2/2 [==============================] - 0s 7ms/step - loss: 9.7411 - mae: 9.7411\n",
            "Epoch 14/100\n",
            "2/2 [==============================] - 0s 8ms/step - loss: 15.6913 - mae: 15.6913\n",
            "Epoch 15/100\n",
            "2/2 [==============================] - 0s 7ms/step - loss: 11.6523 - mae: 11.6523\n",
            "Epoch 16/100\n",
            "2/2 [==============================] - 0s 9ms/step - loss: 8.4617 - mae: 8.4617\n",
            "Epoch 17/100\n",
            "2/2 [==============================] - 0s 8ms/step - loss: 13.4595 - mae: 13.4595\n",
            "Epoch 18/100\n",
            "2/2 [==============================] - 0s 9ms/step - loss: 11.2449 - mae: 11.2449\n",
            "Epoch 19/100\n",
            "2/2 [==============================] - 0s 9ms/step - loss: 18.2664 - mae: 18.2664\n",
            "Epoch 20/100\n",
            "2/2 [==============================] - 0s 9ms/step - loss: 14.9733 - mae: 14.9733\n",
            "Epoch 21/100\n",
            "2/2 [==============================] - 0s 8ms/step - loss: 10.8504 - mae: 10.8504\n",
            "Epoch 22/100\n",
            "2/2 [==============================] - 0s 7ms/step - loss: 8.6022 - mae: 8.6022\n",
            "Epoch 23/100\n",
            "2/2 [==============================] - 0s 7ms/step - loss: 9.6971 - mae: 9.6971\n",
            "Epoch 24/100\n",
            "2/2 [==============================] - 0s 7ms/step - loss: 10.9648 - mae: 10.9648\n",
            "Epoch 25/100\n",
            "2/2 [==============================] - 0s 7ms/step - loss: 9.1606 - mae: 9.1606\n",
            "Epoch 26/100\n",
            "2/2 [==============================] - 0s 6ms/step - loss: 13.2039 - mae: 13.2039\n",
            "Epoch 27/100\n",
            "2/2 [==============================] - 0s 7ms/step - loss: 10.6700 - mae: 10.6700\n",
            "Epoch 28/100\n",
            "2/2 [==============================] - 0s 7ms/step - loss: 12.8959 - mae: 12.8959\n",
            "Epoch 29/100\n",
            "2/2 [==============================] - 0s 7ms/step - loss: 9.5076 - mae: 9.5076\n",
            "Epoch 30/100\n",
            "2/2 [==============================] - 0s 7ms/step - loss: 16.4298 - mae: 16.4298\n",
            "Epoch 31/100\n",
            "2/2 [==============================] - 0s 8ms/step - loss: 23.5582 - mae: 23.5582\n",
            "Epoch 32/100\n",
            "2/2 [==============================] - 0s 7ms/step - loss: 7.6014 - mae: 7.6014\n",
            "Epoch 33/100\n",
            "2/2 [==============================] - 0s 7ms/step - loss: 9.2977 - mae: 9.2977\n",
            "Epoch 34/100\n",
            "2/2 [==============================] - 0s 7ms/step - loss: 13.6636 - mae: 13.6636\n",
            "Epoch 35/100\n",
            "2/2 [==============================] - 0s 7ms/step - loss: 11.1580 - mae: 11.1580\n",
            "Epoch 36/100\n",
            "2/2 [==============================] - 0s 7ms/step - loss: 13.3897 - mae: 13.3897\n",
            "Epoch 37/100\n",
            "2/2 [==============================] - 0s 7ms/step - loss: 9.4419 - mae: 9.4419\n",
            "Epoch 38/100\n",
            "2/2 [==============================] - 0s 7ms/step - loss: 10.0920 - mae: 10.0920\n",
            "Epoch 39/100\n",
            "2/2 [==============================] - 0s 8ms/step - loss: 8.9687 - mae: 8.9687\n",
            "Epoch 40/100\n",
            "2/2 [==============================] - 0s 7ms/step - loss: 9.5967 - mae: 9.5967\n",
            "Epoch 41/100\n",
            "2/2 [==============================] - 0s 7ms/step - loss: 10.5583 - mae: 10.5583\n",
            "Epoch 42/100\n",
            "2/2 [==============================] - 0s 7ms/step - loss: 10.6118 - mae: 10.6118\n",
            "Epoch 43/100\n",
            "2/2 [==============================] - 0s 7ms/step - loss: 7.2019 - mae: 7.2019\n",
            "Epoch 44/100\n",
            "2/2 [==============================] - 0s 7ms/step - loss: 8.0106 - mae: 8.0106\n",
            "Epoch 45/100\n",
            "2/2 [==============================] - 0s 8ms/step - loss: 9.8128 - mae: 9.8128\n",
            "Epoch 46/100\n",
            "2/2 [==============================] - 0s 9ms/step - loss: 8.8934 - mae: 8.8934\n",
            "Epoch 47/100\n",
            "2/2 [==============================] - 0s 7ms/step - loss: 7.5566 - mae: 7.5566\n",
            "Epoch 48/100\n",
            "2/2 [==============================] - 0s 7ms/step - loss: 8.5213 - mae: 8.5213\n",
            "Epoch 49/100\n",
            "2/2 [==============================] - 0s 7ms/step - loss: 10.0246 - mae: 10.0246\n",
            "Epoch 50/100\n",
            "2/2 [==============================] - 0s 7ms/step - loss: 8.9674 - mae: 8.9674\n",
            "Epoch 51/100\n",
            "2/2 [==============================] - 0s 7ms/step - loss: 10.7019 - mae: 10.7019\n",
            "Epoch 52/100\n",
            "2/2 [==============================] - 0s 7ms/step - loss: 15.2493 - mae: 15.2493\n",
            "Epoch 53/100\n",
            "2/2 [==============================] - 0s 7ms/step - loss: 14.2814 - mae: 14.2814\n",
            "Epoch 54/100\n",
            "2/2 [==============================] - 0s 7ms/step - loss: 21.5308 - mae: 21.5308\n",
            "Epoch 55/100\n",
            "2/2 [==============================] - 0s 10ms/step - loss: 16.0510 - mae: 16.0510\n",
            "Epoch 56/100\n",
            "2/2 [==============================] - 0s 8ms/step - loss: 10.2331 - mae: 10.2331\n",
            "Epoch 57/100\n",
            "2/2 [==============================] - 0s 7ms/step - loss: 9.7894 - mae: 9.7894\n",
            "Epoch 58/100\n",
            "2/2 [==============================] - 0s 7ms/step - loss: 9.0709 - mae: 9.0709\n",
            "Epoch 59/100\n",
            "2/2 [==============================] - 0s 7ms/step - loss: 8.2765 - mae: 8.2765\n",
            "Epoch 60/100\n",
            "2/2 [==============================] - 0s 7ms/step - loss: 9.3672 - mae: 9.3672\n",
            "Epoch 61/100\n",
            "2/2 [==============================] - 0s 9ms/step - loss: 11.1980 - mae: 11.1980\n",
            "Epoch 62/100\n",
            "2/2 [==============================] - 0s 8ms/step - loss: 12.0194 - mae: 12.0194\n",
            "Epoch 63/100\n",
            "2/2 [==============================] - 0s 7ms/step - loss: 7.2645 - mae: 7.2645\n",
            "Epoch 64/100\n",
            "2/2 [==============================] - 0s 8ms/step - loss: 12.4632 - mae: 12.4632\n",
            "Epoch 65/100\n",
            "2/2 [==============================] - 0s 7ms/step - loss: 10.5339 - mae: 10.5339\n",
            "Epoch 66/100\n",
            "2/2 [==============================] - 0s 7ms/step - loss: 15.5523 - mae: 15.5523\n",
            "Epoch 67/100\n",
            "2/2 [==============================] - 0s 7ms/step - loss: 9.9666 - mae: 9.9666\n",
            "Epoch 68/100\n",
            "2/2 [==============================] - 0s 10ms/step - loss: 8.6973 - mae: 8.6973\n",
            "Epoch 69/100\n",
            "2/2 [==============================] - 0s 7ms/step - loss: 13.4275 - mae: 13.4275\n",
            "Epoch 70/100\n",
            "2/2 [==============================] - 0s 8ms/step - loss: 7.4596 - mae: 7.4596\n",
            "Epoch 71/100\n",
            "2/2 [==============================] - 0s 7ms/step - loss: 12.2608 - mae: 12.2608\n",
            "Epoch 72/100\n",
            "2/2 [==============================] - 0s 7ms/step - loss: 8.4956 - mae: 8.4956\n",
            "Epoch 73/100\n",
            "2/2 [==============================] - 0s 7ms/step - loss: 7.0264 - mae: 7.0264\n",
            "Epoch 74/100\n",
            "2/2 [==============================] - 0s 7ms/step - loss: 9.8712 - mae: 9.8712\n",
            "Epoch 75/100\n",
            "2/2 [==============================] - 0s 7ms/step - loss: 9.9576 - mae: 9.9576\n",
            "Epoch 76/100\n",
            "2/2 [==============================] - 0s 8ms/step - loss: 10.1166 - mae: 10.1166\n",
            "Epoch 77/100\n",
            "2/2 [==============================] - 0s 7ms/step - loss: 12.9969 - mae: 12.9969\n",
            "Epoch 78/100\n",
            "2/2 [==============================] - 0s 7ms/step - loss: 10.8799 - mae: 10.8799\n",
            "Epoch 79/100\n",
            "2/2 [==============================] - 0s 7ms/step - loss: 15.3515 - mae: 15.3515\n",
            "Epoch 80/100\n",
            "2/2 [==============================] - 0s 7ms/step - loss: 11.7324 - mae: 11.7324\n",
            "Epoch 81/100\n",
            "2/2 [==============================] - 0s 8ms/step - loss: 9.2241 - mae: 9.2241\n",
            "Epoch 82/100\n",
            "2/2 [==============================] - 0s 9ms/step - loss: 12.8274 - mae: 12.8274\n",
            "Epoch 83/100\n",
            "2/2 [==============================] - 0s 9ms/step - loss: 10.2800 - mae: 10.2800\n",
            "Epoch 84/100\n",
            "2/2 [==============================] - 0s 8ms/step - loss: 10.5983 - mae: 10.5983\n",
            "Epoch 85/100\n",
            "2/2 [==============================] - 0s 6ms/step - loss: 9.3081 - mae: 9.3081\n",
            "Epoch 86/100\n",
            "2/2 [==============================] - 0s 8ms/step - loss: 9.1576 - mae: 9.1576\n",
            "Epoch 87/100\n",
            "2/2 [==============================] - 0s 7ms/step - loss: 11.8909 - mae: 11.8909\n",
            "Epoch 88/100\n",
            "2/2 [==============================] - 0s 7ms/step - loss: 10.5008 - mae: 10.5008\n",
            "Epoch 89/100\n",
            "2/2 [==============================] - 0s 7ms/step - loss: 7.2300 - mae: 7.2300\n",
            "Epoch 90/100\n",
            "2/2 [==============================] - 0s 7ms/step - loss: 12.6272 - mae: 12.6272\n",
            "Epoch 91/100\n",
            "2/2 [==============================] - 0s 7ms/step - loss: 7.2741 - mae: 7.2741\n",
            "Epoch 92/100\n",
            "2/2 [==============================] - 0s 8ms/step - loss: 7.6328 - mae: 7.6328\n",
            "Epoch 93/100\n",
            "2/2 [==============================] - 0s 8ms/step - loss: 7.0998 - mae: 7.0998\n",
            "Epoch 94/100\n",
            "2/2 [==============================] - 0s 9ms/step - loss: 12.4799 - mae: 12.4799\n",
            "Epoch 95/100\n",
            "2/2 [==============================] - 0s 7ms/step - loss: 9.8552 - mae: 9.8552\n",
            "Epoch 96/100\n",
            "2/2 [==============================] - 0s 7ms/step - loss: 9.1428 - mae: 9.1428\n",
            "Epoch 97/100\n",
            "2/2 [==============================] - 0s 7ms/step - loss: 12.1222 - mae: 12.1222\n",
            "Epoch 98/100\n",
            "2/2 [==============================] - 0s 7ms/step - loss: 9.0025 - mae: 9.0025\n",
            "Epoch 99/100\n",
            "2/2 [==============================] - 0s 7ms/step - loss: 8.4937 - mae: 8.4937\n",
            "Epoch 100/100\n",
            "2/2 [==============================] - 0s 7ms/step - loss: 14.5211 - mae: 14.5211\n"
          ]
        },
        {
          "output_type": "execute_result",
          "data": {
            "text/plain": [
              "<keras.src.callbacks.History at 0x79c00ae6da50>"
            ]
          },
          "metadata": {},
          "execution_count": 104
        }
      ]
    },
    {
      "cell_type": "code",
      "source": [
        "# Make and plot predictions for model_1\n",
        "y_preds_1 = model_1.predict(X_test)\n",
        "plot_predictions(predictions=y_preds_1)"
      ],
      "metadata": {
        "id": "YAg8Oo_ExuxT",
        "outputId": "25a2415a-406a-4d6b-a00c-1c75c6ad4d40",
        "colab": {
          "base_uri": "https://localhost:8080/",
          "height": 616
        }
      },
      "execution_count": 105,
      "outputs": [
        {
          "output_type": "stream",
          "name": "stdout",
          "text": [
            "1/1 [==============================] - 0s 45ms/step\n"
          ]
        },
        {
          "output_type": "display_data",
          "data": {
            "text/plain": [
              "<Figure size 1000x700 with 1 Axes>"
            ],
            "image/png": "[encoded data removed]"
          },
          "metadata": {}
        }
      ]
    },
    {
      "cell_type": "code",
      "source": [
        "# Calculate model_1 evaluation metrics\n",
        "mae_1 = mae(y_test, y_preds_1)\n",
        "mse_1 = mse(y_test, y_preds_1)\n",
        "mae_1, mse_1"
      ],
      "metadata": {
        "id": "yJPlXXNUyMHR",
        "outputId": "b479d294-a263-48b1-83ba-9b648a97b71a",
        "colab": {
          "base_uri": "https://localhost:8080/"
        }
      },
      "execution_count": 106,
      "outputs": [
        {
          "output_type": "execute_result",
          "data": {
            "text/plain": [
              "(<tf.Tensor: shape=(), dtype=float32, numpy=30.388428>,\n",
              " <tf.Tensor: shape=(), dtype=float32, numpy=933.6834>)"
            ]
          },
          "metadata": {},
          "execution_count": 106
        }
      ]
    },
    {
      "cell_type": "code",
      "source": [
        "X_train, y_train"
      ],
      "metadata": {
        "id": "HVz-m3LJsGYw",
        "outputId": "cd7cfe15-a8de-4f5c-d8dc-eb2920425e34",
        "colab": {
          "base_uri": "https://localhost:8080/"
        }
      },
      "execution_count": 78,
      "outputs": [
        {
          "output_type": "execute_result",
          "data": {
            "text/plain": [
              "(<tf.Tensor: shape=(40,), dtype=int32, numpy=\n",
              " array([-100,  -96,  -92,  -88,  -84,  -80,  -76,  -72,  -68,  -64,  -60,\n",
              "         -56,  -52,  -48,  -44,  -40,  -36,  -32,  -28,  -24,  -20,  -16,\n",
              "         -12,   -8,   -4,    0,    4,    8,   12,   16,   20,   24,   28,\n",
              "          32,   36,   40,   44,   48,   52,   56], dtype=int32)>,\n",
              " <tf.Tensor: shape=(40,), dtype=int32, numpy=\n",
              " array([-90, -86, -82, -78, -74, -70, -66, -62, -58, -54, -50, -46, -42,\n",
              "        -38, -34, -30, -26, -22, -18, -14, -10,  -6,  -2,   2,   6,  10,\n",
              "         14,  18,  22,  26,  30,  34,  38,  42,  46,  50,  54,  58,  62,\n",
              "         66], dtype=int32)>)"
            ]
          },
          "metadata": {},
          "execution_count": 78
        }
      ]
    },
    {
      "cell_type": "markdown",
      "source": [
        "**Build `model_2`**\n",
        "\n",
        "* 2 dense layers, trained for 100 epochs"
      ],
      "metadata": {
        "id": "9il9PiUlwShX"
      }
    },
    {
      "cell_type": "code",
      "source": [
        "#set the random seed\n",
        "tf.random.set_seed(42)\n",
        "\n",
        "# 1. Create model\n",
        "model_2 = tf.keras.Sequential([\n",
        "    tf.keras.layers.Dense(10, input_shape=[1]),\n",
        "    tf.keras.layers.Dense(1)\n",
        "])\n",
        "\n",
        "# 2. Compile model\n",
        "model_2.compile(loss=tf.keras.losses.mae,\n",
        "                optimizer=tf.keras.optimizers.SGD(),\n",
        "                metrics=[\"mse\"]\n",
        "                )\n",
        "\n",
        "# 3. Fit the model\n",
        "model_2.fit(X_train, y_train, epochs=100)"
      ],
      "metadata": {
        "id": "boop3-Jbz4yN",
        "outputId": "eb078573-f9f5-40a8-cab9-f16389ed402c",
        "colab": {
          "base_uri": "https://localhost:8080/"
        }
      },
      "execution_count": 120,
      "outputs": [
        {
          "output_type": "stream",
          "name": "stdout",
          "text": [
            "Epoch 1/100\n",
            "2/2 [==============================] - 0s 11ms/step - loss: 39.1766 - mse: 2365.7905\n",
            "Epoch 2/100\n",
            "2/2 [==============================] - 0s 6ms/step - loss: 18.3678 - mse: 530.6217\n",
            "Epoch 3/100\n",
            "2/2 [==============================] - 0s 6ms/step - loss: 15.3382 - mse: 322.6179\n",
            "Epoch 4/100\n",
            "2/2 [==============================] - 0s 8ms/step - loss: 15.4664 - mse: 322.0489\n",
            "Epoch 5/100\n",
            "2/2 [==============================] - 0s 7ms/step - loss: 15.0887 - mse: 287.8434\n",
            "Epoch 6/100\n",
            "2/2 [==============================] - 0s 7ms/step - loss: 11.9954 - mse: 174.2482\n",
            "Epoch 7/100\n",
            "2/2 [==============================] - 0s 6ms/step - loss: 11.3190 - mse: 155.3714\n",
            "Epoch 8/100\n",
            "2/2 [==============================] - 0s 6ms/step - loss: 11.1462 - mse: 167.1717\n",
            "Epoch 9/100\n",
            "2/2 [==============================] - 0s 7ms/step - loss: 41.2460 - mse: 2700.0339\n",
            "Epoch 10/100\n",
            "2/2 [==============================] - 0s 7ms/step - loss: 28.5430 - mse: 1149.9773\n",
            "Epoch 11/100\n",
            "2/2 [==============================] - 0s 6ms/step - loss: 9.3839 - mse: 118.1002\n",
            "Epoch 12/100\n",
            "2/2 [==============================] - 0s 6ms/step - loss: 26.3054 - mse: 957.3098\n",
            "Epoch 13/100\n",
            "2/2 [==============================] - 0s 6ms/step - loss: 14.4454 - mse: 279.2438\n",
            "Epoch 14/100\n",
            "2/2 [==============================] - 0s 7ms/step - loss: 29.8828 - mse: 1426.4744\n",
            "Epoch 15/100\n",
            "2/2 [==============================] - 0s 6ms/step - loss: 19.7297 - mse: 544.8005\n",
            "Epoch 16/100\n",
            "2/2 [==============================] - 0s 6ms/step - loss: 9.8337 - mse: 126.0234\n",
            "Epoch 17/100\n",
            "2/2 [==============================] - 0s 6ms/step - loss: 17.6550 - mse: 411.6852\n",
            "Epoch 18/100\n",
            "2/2 [==============================] - 0s 6ms/step - loss: 14.1394 - mse: 315.3028\n",
            "Epoch 19/100\n",
            "2/2 [==============================] - 0s 7ms/step - loss: 13.9783 - mse: 304.7722\n",
            "Epoch 20/100\n",
            "2/2 [==============================] - 0s 7ms/step - loss: 11.2091 - mse: 146.2834\n",
            "Epoch 21/100\n",
            "2/2 [==============================] - 0s 7ms/step - loss: 17.3063 - mse: 424.5815\n",
            "Epoch 22/100\n",
            "2/2 [==============================] - 0s 7ms/step - loss: 15.5422 - mse: 333.0921\n",
            "Epoch 23/100\n",
            "2/2 [==============================] - 0s 8ms/step - loss: 9.2243 - mse: 118.3785\n",
            "Epoch 24/100\n",
            "2/2 [==============================] - 0s 7ms/step - loss: 17.2429 - mse: 407.2498\n",
            "Epoch 25/100\n",
            "2/2 [==============================] - 0s 6ms/step - loss: 15.9187 - mse: 332.8607\n",
            "Epoch 26/100\n",
            "2/2 [==============================] - 0s 7ms/step - loss: 20.8945 - mse: 647.5668\n",
            "Epoch 27/100\n",
            "2/2 [==============================] - 0s 7ms/step - loss: 26.0407 - mse: 1058.7234\n",
            "Epoch 28/100\n",
            "2/2 [==============================] - 0s 7ms/step - loss: 18.5270 - mse: 543.3990\n",
            "Epoch 29/100\n",
            "2/2 [==============================] - 0s 7ms/step - loss: 9.2324 - mse: 97.0631\n",
            "Epoch 30/100\n",
            "2/2 [==============================] - 0s 7ms/step - loss: 29.1567 - mse: 1520.6115\n",
            "Epoch 31/100\n",
            "2/2 [==============================] - 0s 8ms/step - loss: 52.8147 - mse: 4988.8657\n",
            "Epoch 32/100\n",
            "2/2 [==============================] - 0s 7ms/step - loss: 11.9420 - mse: 208.6165\n",
            "Epoch 33/100\n",
            "2/2 [==============================] - 0s 7ms/step - loss: 15.5601 - mse: 333.9049\n",
            "Epoch 34/100\n",
            "2/2 [==============================] - 0s 7ms/step - loss: 12.6345 - mse: 211.6331\n",
            "Epoch 35/100\n",
            "2/2 [==============================] - 0s 9ms/step - loss: 9.2085 - mse: 92.0704\n",
            "Epoch 36/100\n",
            "2/2 [==============================] - 0s 6ms/step - loss: 16.5669 - mse: 399.4236\n",
            "Epoch 37/100\n",
            "2/2 [==============================] - 0s 7ms/step - loss: 11.0515 - mse: 192.1124\n",
            "Epoch 38/100\n",
            "2/2 [==============================] - 0s 7ms/step - loss: 18.1789 - mse: 434.8787\n",
            "Epoch 39/100\n",
            "2/2 [==============================] - 0s 7ms/step - loss: 19.1137 - mse: 531.0834\n",
            "Epoch 40/100\n",
            "2/2 [==============================] - 0s 7ms/step - loss: 20.4577 - mse: 611.6168\n",
            "Epoch 41/100\n",
            "2/2 [==============================] - 0s 7ms/step - loss: 14.8624 - mse: 277.4824\n",
            "Epoch 42/100\n",
            "2/2 [==============================] - 0s 8ms/step - loss: 12.2442 - mse: 184.9752\n",
            "Epoch 43/100\n",
            "2/2 [==============================] - 0s 6ms/step - loss: 10.7081 - mse: 165.7189\n",
            "Epoch 44/100\n",
            "2/2 [==============================] - 0s 7ms/step - loss: 22.9686 - mse: 825.9103\n",
            "Epoch 45/100\n",
            "2/2 [==============================] - 0s 6ms/step - loss: 10.3615 - mse: 128.5635\n",
            "Epoch 46/100\n",
            "2/2 [==============================] - 0s 7ms/step - loss: 11.7556 - mse: 180.4716\n",
            "Epoch 47/100\n",
            "2/2 [==============================] - 0s 7ms/step - loss: 9.6442 - mse: 153.5607\n",
            "Epoch 48/100\n",
            "2/2 [==============================] - 0s 6ms/step - loss: 17.2439 - mse: 403.4916\n",
            "Epoch 49/100\n",
            "2/2 [==============================] - 0s 7ms/step - loss: 9.5523 - mse: 99.4067\n",
            "Epoch 50/100\n",
            "2/2 [==============================] - 0s 7ms/step - loss: 13.7917 - mse: 259.2424\n",
            "Epoch 51/100\n",
            "2/2 [==============================] - 0s 9ms/step - loss: 11.5788 - mse: 154.3349\n",
            "Epoch 52/100\n",
            "2/2 [==============================] - 0s 7ms/step - loss: 30.5321 - mse: 1610.3094\n",
            "Epoch 53/100\n",
            "2/2 [==============================] - 0s 7ms/step - loss: 14.3390 - mse: 301.8462\n",
            "Epoch 54/100\n",
            "2/2 [==============================] - 0s 6ms/step - loss: 23.9534 - mse: 857.8411\n",
            "Epoch 55/100\n",
            "2/2 [==============================] - 0s 6ms/step - loss: 23.1719 - mse: 803.9125\n",
            "Epoch 56/100\n",
            "2/2 [==============================] - 0s 7ms/step - loss: 10.8659 - mse: 170.7268\n",
            "Epoch 57/100\n",
            "2/2 [==============================] - 0s 7ms/step - loss: 12.7270 - mse: 198.2330\n",
            "Epoch 58/100\n",
            "2/2 [==============================] - 0s 14ms/step - loss: 9.5865 - mse: 102.3520\n",
            "Epoch 59/100\n",
            "2/2 [==============================] - 0s 7ms/step - loss: 12.5058 - mse: 216.1090\n",
            "Epoch 60/100\n",
            "2/2 [==============================] - 0s 7ms/step - loss: 12.3111 - mse: 208.5206\n",
            "Epoch 61/100\n",
            "2/2 [==============================] - 0s 7ms/step - loss: 17.4621 - mse: 428.8044\n",
            "Epoch 62/100\n",
            "2/2 [==============================] - 0s 7ms/step - loss: 10.5978 - mse: 136.8690\n",
            "Epoch 63/100\n",
            "2/2 [==============================] - 0s 7ms/step - loss: 10.4811 - mse: 152.6165\n",
            "Epoch 64/100\n",
            "2/2 [==============================] - 0s 8ms/step - loss: 24.8653 - mse: 913.3377\n",
            "Epoch 65/100\n",
            "2/2 [==============================] - 0s 8ms/step - loss: 10.6689 - mse: 142.8717\n",
            "Epoch 66/100\n",
            "2/2 [==============================] - 0s 8ms/step - loss: 21.9847 - mse: 715.0292\n",
            "Epoch 67/100\n",
            "2/2 [==============================] - 0s 9ms/step - loss: 10.1862 - mse: 119.3338\n",
            "Epoch 68/100\n",
            "2/2 [==============================] - 0s 8ms/step - loss: 13.3466 - mse: 263.8624\n",
            "Epoch 69/100\n",
            "2/2 [==============================] - 0s 7ms/step - loss: 11.3409 - mse: 159.3437\n",
            "Epoch 70/100\n",
            "2/2 [==============================] - 0s 7ms/step - loss: 13.5180 - mse: 241.5240\n",
            "Epoch 71/100\n",
            "2/2 [==============================] - 0s 7ms/step - loss: 15.5086 - mse: 341.8029\n",
            "Epoch 72/100\n",
            "2/2 [==============================] - 0s 7ms/step - loss: 11.7742 - mse: 165.7247\n",
            "Epoch 73/100\n",
            "2/2 [==============================] - 0s 9ms/step - loss: 16.5356 - mse: 368.4493\n",
            "Epoch 74/100\n",
            "2/2 [==============================] - 0s 8ms/step - loss: 24.0062 - mse: 906.1289\n",
            "Epoch 75/100\n",
            "2/2 [==============================] - 0s 7ms/step - loss: 9.5691 - mse: 149.2207\n",
            "Epoch 76/100\n",
            "2/2 [==============================] - 0s 7ms/step - loss: 12.4158 - mse: 187.7612\n",
            "Epoch 77/100\n",
            "2/2 [==============================] - 0s 10ms/step - loss: 16.6327 - mse: 428.4279\n",
            "Epoch 78/100\n",
            "2/2 [==============================] - 0s 7ms/step - loss: 9.0461 - mse: 95.1623\n",
            "Epoch 79/100\n",
            "2/2 [==============================] - 0s 7ms/step - loss: 23.9608 - mse: 863.4652\n",
            "Epoch 80/100\n",
            "2/2 [==============================] - 0s 7ms/step - loss: 26.7376 - mse: 1103.6116\n",
            "Epoch 81/100\n",
            "2/2 [==============================] - 0s 7ms/step - loss: 11.6554 - mse: 170.3549\n",
            "Epoch 82/100\n",
            "2/2 [==============================] - 0s 7ms/step - loss: 12.0172 - mse: 211.7139\n",
            "Epoch 83/100\n",
            "2/2 [==============================] - 0s 7ms/step - loss: 17.4128 - mse: 395.2195\n",
            "Epoch 84/100\n",
            "2/2 [==============================] - 0s 7ms/step - loss: 7.2498 - mse: 72.8785\n",
            "Epoch 85/100\n",
            "2/2 [==============================] - 0s 6ms/step - loss: 14.9532 - mse: 312.4200\n",
            "Epoch 86/100\n",
            "2/2 [==============================] - 0s 7ms/step - loss: 15.2749 - mse: 314.9983\n",
            "Epoch 87/100\n",
            "2/2 [==============================] - 0s 7ms/step - loss: 19.0908 - mse: 520.4622\n",
            "Epoch 88/100\n",
            "2/2 [==============================] - 0s 7ms/step - loss: 29.8639 - mse: 1290.9923\n",
            "Epoch 89/100\n",
            "2/2 [==============================] - 0s 8ms/step - loss: 10.1680 - mse: 123.9150\n",
            "Epoch 90/100\n",
            "2/2 [==============================] - 0s 7ms/step - loss: 21.5646 - mse: 666.3909\n",
            "Epoch 91/100\n",
            "2/2 [==============================] - 0s 7ms/step - loss: 10.5704 - mse: 161.3154\n",
            "Epoch 92/100\n",
            "2/2 [==============================] - 0s 8ms/step - loss: 18.4387 - mse: 466.3728\n",
            "Epoch 93/100\n",
            "2/2 [==============================] - 0s 8ms/step - loss: 7.4069 - mse: 81.4400\n",
            "Epoch 94/100\n",
            "2/2 [==============================] - 0s 6ms/step - loss: 17.7803 - mse: 447.9737\n",
            "Epoch 95/100\n",
            "2/2 [==============================] - 0s 8ms/step - loss: 11.1225 - mse: 165.0714\n",
            "Epoch 96/100\n",
            "2/2 [==============================] - 0s 7ms/step - loss: 19.4800 - mse: 512.9978\n",
            "Epoch 97/100\n",
            "2/2 [==============================] - 0s 7ms/step - loss: 12.5055 - mse: 224.9585\n",
            "Epoch 98/100\n",
            "2/2 [==============================] - 0s 8ms/step - loss: 10.2943 - mse: 137.0772\n",
            "Epoch 99/100\n",
            "2/2 [==============================] - 0s 7ms/step - loss: 13.8463 - mse: 263.9066\n",
            "Epoch 100/100\n",
            "2/2 [==============================] - 0s 7ms/step - loss: 20.1739 - mse: 605.4702\n"
          ]
        },
        {
          "output_type": "execute_result",
          "data": {
            "text/plain": [
              "<keras.src.callbacks.History at 0x79c00a7a52a0>"
            ]
          },
          "metadata": {},
          "execution_count": 120
        }
      ]
    },
    {
      "cell_type": "code",
      "source": [
        "# Make and plot predictions for model_2\n",
        "y_preds_2 = model_2.predict(X_test)\n",
        "plot_predictions(predictions=y_preds_2)"
      ],
      "metadata": {
        "id": "iXRagaEZ3DyW",
        "outputId": "8e63057b-c948-4c9e-9c40-e2216a6c3bfc",
        "colab": {
          "base_uri": "https://localhost:8080/",
          "height": 616
        }
      },
      "execution_count": 122,
      "outputs": [
        {
          "output_type": "stream",
          "name": "stdout",
          "text": [
            "1/1 [==============================] - 0s 33ms/step\n"
          ]
        },
        {
          "output_type": "display_data",
          "data": {
            "text/plain": [
              "<Figure size 1000x700 with 1 Axes>"
            ],
            "image/png": "[encoded data removed]"
          },
          "metadata": {}
        }
      ]
    },
    {
      "cell_type": "code",
      "source": [
        "# Calculate model_1 evaluation metrics\n",
        "mae_2 = mae(y_test, y_preds_2)\n",
        "mse_2 = mse(y_test, y_preds_2)\n",
        "mae_2, mse_2"
      ],
      "metadata": {
        "id": "wFOr8GgB00xa",
        "outputId": "b02b77e3-e503-41e6-9d46-0fd8d79ff043",
        "colab": {
          "base_uri": "https://localhost:8080/"
        }
      },
      "execution_count": 123,
      "outputs": [
        {
          "output_type": "execute_result",
          "data": {
            "text/plain": [
              "(<tf.Tensor: shape=(), dtype=float32, numpy=3.1006217>,\n",
              " <tf.Tensor: shape=(), dtype=float32, numpy=12.410212>)"
            ]
          },
          "metadata": {},
          "execution_count": 123
        }
      ]
    },
    {
      "cell_type": "markdown",
      "source": [
        "**Build `model_3`**\n",
        "\n",
        "* 2 layers, trained for 500 epochs"
      ],
      "metadata": {
        "id": "0KiAFOjd3Idv"
      }
    },
    {
      "cell_type": "code",
      "source": [
        "# set the random seed\n",
        "tf.random.set_seed(42)\n",
        "\n",
        "# 1. create the model\n",
        "model_3 = tf.keras.Sequential([\n",
        "    tf.keras.layers.Dense(10, input_shape=[1]),\n",
        "    tf.keras.layers.Dense(1)\n",
        "])\n",
        "\n",
        "# 2. Compile the model\n",
        "model_3.compile(loss=tf.keras.losses.mae,\n",
        "                optimizer=tf.keras.optimizers.SGD(),\n",
        "                metrics=[\"mae\"])\n",
        "\n",
        "# 3. fit our model\n",
        "model_3.fit(X_train, y_train, epochs=500)"
      ],
      "metadata": {
        "id": "DCu2sNLt4Ln4",
        "outputId": "2fee0ecf-655c-4f6a-e622-3d52fb7d2d69",
        "colab": {
          "base_uri": "https://localhost:8080/"
        }
      },
      "execution_count": 128,
      "outputs": [
        {
          "output_type": "stream",
          "name": "stdout",
          "text": [
            "Epoch 1/500\n",
            "2/2 [==============================] - 0s 11ms/step - loss: 54.0829 - mae: 54.0829\n",
            "Epoch 2/500\n",
            "2/2 [==============================] - 0s 7ms/step - loss: 29.0494 - mae: 29.0494\n",
            "Epoch 3/500\n",
            "2/2 [==============================] - 0s 8ms/step - loss: 19.9421 - mae: 19.9421\n",
            "Epoch 4/500\n",
            "2/2 [==============================] - 0s 7ms/step - loss: 12.9221 - mae: 12.9221\n",
            "Epoch 5/500\n",
            "2/2 [==============================] - 0s 7ms/step - loss: 14.2286 - mae: 14.2286\n",
            "Epoch 6/500\n",
            "2/2 [==============================] - 0s 7ms/step - loss: 11.3862 - mae: 11.3862\n",
            "Epoch 7/500\n",
            "2/2 [==============================] - 0s 9ms/step - loss: 12.4200 - mae: 12.4200\n",
            "Epoch 8/500\n",
            "2/2 [==============================] - 0s 7ms/step - loss: 10.9771 - mae: 10.9771\n",
            "Epoch 9/500\n",
            "2/2 [==============================] - 0s 8ms/step - loss: 38.8603 - mae: 38.8603\n",
            "Epoch 10/500\n",
            "2/2 [==============================] - 0s 8ms/step - loss: 26.4593 - mae: 26.4593\n",
            "Epoch 11/500\n",
            "2/2 [==============================] - 0s 7ms/step - loss: 11.8158 - mae: 11.8158\n",
            "Epoch 12/500\n",
            "2/2 [==============================] - 0s 6ms/step - loss: 23.6295 - mae: 23.6295\n",
            "Epoch 13/500\n",
            "2/2 [==============================] - 0s 6ms/step - loss: 21.0989 - mae: 21.0989\n",
            "Epoch 14/500\n",
            "2/2 [==============================] - 0s 10ms/step - loss: 23.5393 - mae: 23.5393\n",
            "Epoch 15/500\n",
            "2/2 [==============================] - 0s 10ms/step - loss: 15.3090 - mae: 15.3090\n",
            "Epoch 16/500\n",
            "2/2 [==============================] - 0s 9ms/step - loss: 11.3835 - mae: 11.3835\n",
            "Epoch 17/500\n",
            "2/2 [==============================] - 0s 8ms/step - loss: 23.2607 - mae: 23.2607\n",
            "Epoch 18/500\n",
            "2/2 [==============================] - 0s 6ms/step - loss: 11.8130 - mae: 11.8130\n",
            "Epoch 19/500\n",
            "2/2 [==============================] - 0s 7ms/step - loss: 16.5395 - mae: 16.5395\n",
            "Epoch 20/500\n",
            "2/2 [==============================] - 0s 11ms/step - loss: 8.2447 - mae: 8.2447\n",
            "Epoch 21/500\n",
            "2/2 [==============================] - 0s 7ms/step - loss: 14.4067 - mae: 14.4067\n",
            "Epoch 22/500\n",
            "2/2 [==============================] - 0s 7ms/step - loss: 12.8175 - mae: 12.8175\n",
            "Epoch 23/500\n",
            "2/2 [==============================] - 0s 8ms/step - loss: 15.4597 - mae: 15.4597\n",
            "Epoch 24/500\n",
            "2/2 [==============================] - 0s 8ms/step - loss: 15.2480 - mae: 15.2480\n",
            "Epoch 25/500\n",
            "2/2 [==============================] - 0s 7ms/step - loss: 14.3313 - mae: 14.3313\n",
            "Epoch 26/500\n",
            "2/2 [==============================] - 0s 7ms/step - loss: 19.3226 - mae: 19.3226\n",
            "Epoch 27/500\n",
            "2/2 [==============================] - 0s 7ms/step - loss: 11.4734 - mae: 11.4734\n",
            "Epoch 28/500\n",
            "2/2 [==============================] - 0s 7ms/step - loss: 29.1726 - mae: 29.1726\n",
            "Epoch 29/500\n",
            "2/2 [==============================] - 0s 7ms/step - loss: 9.2596 - mae: 9.2596\n",
            "Epoch 30/500\n",
            "2/2 [==============================] - 0s 7ms/step - loss: 29.8879 - mae: 29.8879\n",
            "Epoch 31/500\n",
            "2/2 [==============================] - 0s 7ms/step - loss: 54.2423 - mae: 54.2423\n",
            "Epoch 32/500\n",
            "2/2 [==============================] - 0s 7ms/step - loss: 9.5909 - mae: 9.5909\n",
            "Epoch 33/500\n",
            "2/2 [==============================] - 0s 9ms/step - loss: 12.1841 - mae: 12.1841\n",
            "Epoch 34/500\n",
            "2/2 [==============================] - 0s 8ms/step - loss: 23.9516 - mae: 23.9516\n",
            "Epoch 35/500\n",
            "2/2 [==============================] - 0s 7ms/step - loss: 12.6226 - mae: 12.6226\n",
            "Epoch 36/500\n",
            "2/2 [==============================] - 0s 7ms/step - loss: 21.5216 - mae: 21.5216\n",
            "Epoch 37/500\n",
            "2/2 [==============================] - 0s 7ms/step - loss: 11.3947 - mae: 11.3947\n",
            "Epoch 38/500\n",
            "2/2 [==============================] - 0s 7ms/step - loss: 13.4802 - mae: 13.4802\n",
            "Epoch 39/500\n",
            "2/2 [==============================] - 0s 9ms/step - loss: 10.8031 - mae: 10.8031\n",
            "Epoch 40/500\n",
            "2/2 [==============================] - 0s 7ms/step - loss: 16.6132 - mae: 16.6132\n",
            "Epoch 41/500\n",
            "2/2 [==============================] - 0s 6ms/step - loss: 10.9867 - mae: 10.9867\n",
            "Epoch 42/500\n",
            "2/2 [==============================] - 0s 7ms/step - loss: 9.3114 - mae: 9.3114\n",
            "Epoch 43/500\n",
            "2/2 [==============================] - 0s 7ms/step - loss: 9.6012 - mae: 9.6012\n",
            "Epoch 44/500\n",
            "2/2 [==============================] - 0s 7ms/step - loss: 28.0000 - mae: 28.0000\n",
            "Epoch 45/500\n",
            "2/2 [==============================] - 0s 9ms/step - loss: 11.2944 - mae: 11.2944\n",
            "Epoch 46/500\n",
            "2/2 [==============================] - 0s 8ms/step - loss: 14.0761 - mae: 14.0761\n",
            "Epoch 47/500\n",
            "2/2 [==============================] - 0s 7ms/step - loss: 13.5047 - mae: 13.5047\n",
            "Epoch 48/500\n",
            "2/2 [==============================] - 0s 7ms/step - loss: 17.3426 - mae: 17.3426\n",
            "Epoch 49/500\n",
            "2/2 [==============================] - 0s 7ms/step - loss: 9.5225 - mae: 9.5225\n",
            "Epoch 50/500\n",
            "2/2 [==============================] - 0s 8ms/step - loss: 13.7116 - mae: 13.7116\n",
            "Epoch 51/500\n",
            "2/2 [==============================] - 0s 9ms/step - loss: 11.5667 - mae: 11.5667\n",
            "Epoch 52/500\n",
            "2/2 [==============================] - 0s 7ms/step - loss: 30.2093 - mae: 30.2093\n",
            "Epoch 53/500\n",
            "2/2 [==============================] - 0s 7ms/step - loss: 13.7299 - mae: 13.7299\n",
            "Epoch 54/500\n",
            "2/2 [==============================] - 0s 9ms/step - loss: 26.4323 - mae: 26.4323\n",
            "Epoch 55/500\n",
            "2/2 [==============================] - 0s 7ms/step - loss: 26.0220 - mae: 26.0220\n",
            "Epoch 56/500\n",
            "2/2 [==============================] - 0s 8ms/step - loss: 11.2436 - mae: 11.2436\n",
            "Epoch 57/500\n",
            "2/2 [==============================] - 0s 8ms/step - loss: 13.2207 - mae: 13.2207\n",
            "Epoch 58/500\n",
            "2/2 [==============================] - 0s 7ms/step - loss: 9.8737 - mae: 9.8737\n",
            "Epoch 59/500\n",
            "2/2 [==============================] - 0s 7ms/step - loss: 13.4090 - mae: 13.4090\n",
            "Epoch 60/500\n",
            "2/2 [==============================] - 0s 7ms/step - loss: 10.9380 - mae: 10.9380\n",
            "Epoch 61/500\n",
            "2/2 [==============================] - 0s 8ms/step - loss: 13.5579 - mae: 13.5579\n",
            "Epoch 62/500\n",
            "2/2 [==============================] - 0s 8ms/step - loss: 17.6395 - mae: 17.6395\n",
            "Epoch 63/500\n",
            "2/2 [==============================] - 0s 10ms/step - loss: 9.2036 - mae: 9.2036\n",
            "Epoch 64/500\n",
            "2/2 [==============================] - 0s 7ms/step - loss: 18.5050 - mae: 18.5050\n",
            "Epoch 65/500\n",
            "2/2 [==============================] - 0s 8ms/step - loss: 10.1585 - mae: 10.1585\n",
            "Epoch 66/500\n",
            "2/2 [==============================] - 0s 7ms/step - loss: 24.3886 - mae: 24.3886\n",
            "Epoch 67/500\n",
            "2/2 [==============================] - 0s 8ms/step - loss: 10.9440 - mae: 10.9440\n",
            "Epoch 68/500\n",
            "2/2 [==============================] - 0s 8ms/step - loss: 10.8141 - mae: 10.8141\n",
            "Epoch 69/500\n",
            "2/2 [==============================] - 0s 8ms/step - loss: 23.3722 - mae: 23.3722\n",
            "Epoch 70/500\n",
            "2/2 [==============================] - 0s 7ms/step - loss: 8.8036 - mae: 8.8036\n",
            "Epoch 71/500\n",
            "2/2 [==============================] - 0s 7ms/step - loss: 15.9512 - mae: 15.9512\n",
            "Epoch 72/500\n",
            "2/2 [==============================] - 0s 7ms/step - loss: 8.1363 - mae: 8.1363\n",
            "Epoch 73/500\n",
            "2/2 [==============================] - 0s 7ms/step - loss: 9.4653 - mae: 9.4653\n",
            "Epoch 74/500\n",
            "2/2 [==============================] - 0s 7ms/step - loss: 28.1303 - mae: 28.1303\n",
            "Epoch 75/500\n",
            "2/2 [==============================] - 0s 7ms/step - loss: 10.2393 - mae: 10.2393\n",
            "Epoch 76/500\n",
            "2/2 [==============================] - 0s 7ms/step - loss: 13.1938 - mae: 13.1938\n",
            "Epoch 77/500\n",
            "2/2 [==============================] - 0s 8ms/step - loss: 18.4578 - mae: 18.4578\n",
            "Epoch 78/500\n",
            "2/2 [==============================] - 0s 7ms/step - loss: 9.0395 - mae: 9.0395\n",
            "Epoch 79/500\n",
            "2/2 [==============================] - 0s 8ms/step - loss: 23.5033 - mae: 23.5033\n",
            "Epoch 80/500\n",
            "2/2 [==============================] - 0s 12ms/step - loss: 26.1883 - mae: 26.1883\n",
            "Epoch 81/500\n",
            "2/2 [==============================] - 0s 10ms/step - loss: 11.4393 - mae: 11.4393\n",
            "Epoch 82/500\n",
            "2/2 [==============================] - 0s 7ms/step - loss: 12.4802 - mae: 12.4802\n",
            "Epoch 83/500\n",
            "2/2 [==============================] - 0s 8ms/step - loss: 17.1651 - mae: 17.1651\n",
            "Epoch 84/500\n",
            "2/2 [==============================] - 0s 7ms/step - loss: 6.6023 - mae: 6.6023\n",
            "Epoch 85/500\n",
            "2/2 [==============================] - 0s 7ms/step - loss: 20.3427 - mae: 20.3427\n",
            "Epoch 86/500\n",
            "2/2 [==============================] - 0s 8ms/step - loss: 10.1916 - mae: 10.1916\n",
            "Epoch 87/500\n",
            "2/2 [==============================] - 0s 8ms/step - loss: 24.3812 - mae: 24.3812\n",
            "Epoch 88/500\n",
            "2/2 [==============================] - 0s 7ms/step - loss: 19.0443 - mae: 19.0443\n",
            "Epoch 89/500\n",
            "2/2 [==============================] - 0s 7ms/step - loss: 7.1784 - mae: 7.1784\n",
            "Epoch 90/500\n",
            "2/2 [==============================] - 0s 7ms/step - loss: 18.2548 - mae: 18.2548\n",
            "Epoch 91/500\n",
            "2/2 [==============================] - 0s 9ms/step - loss: 13.3057 - mae: 13.3057\n",
            "Epoch 92/500\n",
            "2/2 [==============================] - 0s 6ms/step - loss: 14.8568 - mae: 14.8568\n",
            "Epoch 93/500\n",
            "2/2 [==============================] - 0s 10ms/step - loss: 11.6546 - mae: 11.6546\n",
            "Epoch 94/500\n",
            "2/2 [==============================] - 0s 6ms/step - loss: 16.2092 - mae: 16.2092\n",
            "Epoch 95/500\n",
            "2/2 [==============================] - 0s 7ms/step - loss: 15.5528 - mae: 15.5528\n",
            "Epoch 96/500\n",
            "2/2 [==============================] - 0s 9ms/step - loss: 15.0871 - mae: 15.0871\n",
            "Epoch 97/500\n",
            "2/2 [==============================] - 0s 7ms/step - loss: 10.9193 - mae: 10.9193\n",
            "Epoch 98/500\n",
            "2/2 [==============================] - 0s 7ms/step - loss: 14.3794 - mae: 14.3794\n",
            "Epoch 99/500\n",
            "2/2 [==============================] - 0s 8ms/step - loss: 13.3958 - mae: 13.3958\n",
            "Epoch 100/500\n",
            "2/2 [==============================] - 0s 7ms/step - loss: 20.0210 - mae: 20.0210\n",
            "Epoch 101/500\n",
            "2/2 [==============================] - 0s 7ms/step - loss: 22.4725 - mae: 22.4725\n",
            "Epoch 102/500\n",
            "2/2 [==============================] - 0s 7ms/step - loss: 11.2731 - mae: 11.2731\n",
            "Epoch 103/500\n",
            "2/2 [==============================] - 0s 7ms/step - loss: 9.3673 - mae: 9.3673\n",
            "Epoch 104/500\n",
            "2/2 [==============================] - 0s 7ms/step - loss: 25.0820 - mae: 25.0820\n",
            "Epoch 105/500\n",
            "2/2 [==============================] - 0s 8ms/step - loss: 12.0575 - mae: 12.0575\n",
            "Epoch 106/500\n",
            "2/2 [==============================] - 0s 7ms/step - loss: 10.1327 - mae: 10.1327\n",
            "Epoch 107/500\n",
            "2/2 [==============================] - 0s 7ms/step - loss: 22.6227 - mae: 22.6227\n",
            "Epoch 108/500\n",
            "2/2 [==============================] - 0s 7ms/step - loss: 8.1718 - mae: 8.1718\n",
            "Epoch 109/500\n",
            "2/2 [==============================] - 0s 7ms/step - loss: 13.4114 - mae: 13.4114\n",
            "Epoch 110/500\n",
            "2/2 [==============================] - 0s 7ms/step - loss: 7.9916 - mae: 7.9916\n",
            "Epoch 111/500\n",
            "2/2 [==============================] - 0s 8ms/step - loss: 15.7379 - mae: 15.7379\n",
            "Epoch 112/500\n",
            "2/2 [==============================] - 0s 8ms/step - loss: 8.7846 - mae: 8.7846\n",
            "Epoch 113/500\n",
            "2/2 [==============================] - 0s 9ms/step - loss: 22.7277 - mae: 22.7277\n",
            "Epoch 114/500\n",
            "2/2 [==============================] - 0s 8ms/step - loss: 19.0807 - mae: 19.0807\n",
            "Epoch 115/500\n",
            "2/2 [==============================] - 0s 7ms/step - loss: 11.1325 - mae: 11.1325\n",
            "Epoch 116/500\n",
            "2/2 [==============================] - 0s 7ms/step - loss: 23.1770 - mae: 23.1770\n",
            "Epoch 117/500\n",
            "2/2 [==============================] - 0s 8ms/step - loss: 9.6130 - mae: 9.6130\n",
            "Epoch 118/500\n",
            "2/2 [==============================] - 0s 7ms/step - loss: 10.6733 - mae: 10.6733\n",
            "Epoch 119/500\n",
            "2/2 [==============================] - 0s 9ms/step - loss: 8.0731 - mae: 8.0731\n",
            "Epoch 120/500\n",
            "2/2 [==============================] - 0s 7ms/step - loss: 29.4396 - mae: 29.4396\n",
            "Epoch 121/500\n",
            "2/2 [==============================] - 0s 7ms/step - loss: 8.1070 - mae: 8.1070\n",
            "Epoch 122/500\n",
            "2/2 [==============================] - 0s 8ms/step - loss: 28.0875 - mae: 28.0875\n",
            "Epoch 123/500\n",
            "2/2 [==============================] - 0s 8ms/step - loss: 32.6250 - mae: 32.6250\n",
            "Epoch 124/500\n",
            "2/2 [==============================] - 0s 8ms/step - loss: 19.4331 - mae: 19.4331\n",
            "Epoch 125/500\n",
            "2/2 [==============================] - 0s 7ms/step - loss: 6.4327 - mae: 6.4327\n",
            "Epoch 126/500\n",
            "2/2 [==============================] - 0s 7ms/step - loss: 26.6868 - mae: 26.6868\n",
            "Epoch 127/500\n",
            "2/2 [==============================] - 0s 11ms/step - loss: 8.5879 - mae: 8.5879\n",
            "Epoch 128/500\n",
            "2/2 [==============================] - 0s 8ms/step - loss: 13.7799 - mae: 13.7799\n",
            "Epoch 129/500\n",
            "2/2 [==============================] - 0s 8ms/step - loss: 10.9048 - mae: 10.9048\n",
            "Epoch 130/500\n",
            "2/2 [==============================] - 0s 13ms/step - loss: 15.4300 - mae: 15.4300\n",
            "Epoch 131/500\n",
            "2/2 [==============================] - 0s 8ms/step - loss: 8.8731 - mae: 8.8731\n",
            "Epoch 132/500\n",
            "2/2 [==============================] - 0s 9ms/step - loss: 14.9379 - mae: 14.9379\n",
            "Epoch 133/500\n",
            "2/2 [==============================] - 0s 8ms/step - loss: 7.9413 - mae: 7.9413\n",
            "Epoch 134/500\n",
            "2/2 [==============================] - 0s 7ms/step - loss: 22.3982 - mae: 22.3982\n",
            "Epoch 135/500\n",
            "2/2 [==============================] - 0s 7ms/step - loss: 20.0884 - mae: 20.0884\n",
            "Epoch 136/500\n",
            "2/2 [==============================] - 0s 10ms/step - loss: 14.4053 - mae: 14.4053\n",
            "Epoch 137/500\n",
            "2/2 [==============================] - 0s 7ms/step - loss: 22.2931 - mae: 22.2931\n",
            "Epoch 138/500\n",
            "2/2 [==============================] - 0s 9ms/step - loss: 8.8185 - mae: 8.8185\n",
            "Epoch 139/500\n",
            "2/2 [==============================] - 0s 12ms/step - loss: 6.3995 - mae: 6.3995\n",
            "Epoch 140/500\n",
            "2/2 [==============================] - 0s 13ms/step - loss: 26.4936 - mae: 26.4936\n",
            "Epoch 141/500\n",
            "2/2 [==============================] - 0s 9ms/step - loss: 12.4879 - mae: 12.4879\n",
            "Epoch 142/500\n",
            "2/2 [==============================] - 0s 8ms/step - loss: 21.6462 - mae: 21.6462\n",
            "Epoch 143/500\n",
            "2/2 [==============================] - 0s 12ms/step - loss: 14.5665 - mae: 14.5665\n",
            "Epoch 144/500\n",
            "2/2 [==============================] - 0s 8ms/step - loss: 11.4267 - mae: 11.4267\n",
            "Epoch 145/500\n",
            "2/2 [==============================] - 0s 11ms/step - loss: 25.3090 - mae: 25.3090\n",
            "Epoch 146/500\n",
            "2/2 [==============================] - 0s 10ms/step - loss: 10.7463 - mae: 10.7463\n",
            "Epoch 147/500\n",
            "2/2 [==============================] - 0s 10ms/step - loss: 14.3048 - mae: 14.3048\n",
            "Epoch 148/500\n",
            "2/2 [==============================] - 0s 10ms/step - loss: 17.2423 - mae: 17.2423\n",
            "Epoch 149/500\n",
            "2/2 [==============================] - 0s 8ms/step - loss: 8.9839 - mae: 8.9839\n",
            "Epoch 150/500\n",
            "2/2 [==============================] - 0s 10ms/step - loss: 7.8264 - mae: 7.8264\n",
            "Epoch 151/500\n",
            "2/2 [==============================] - 0s 11ms/step - loss: 20.4123 - mae: 20.4123\n",
            "Epoch 152/500\n",
            "2/2 [==============================] - 0s 8ms/step - loss: 10.3816 - mae: 10.3816\n",
            "Epoch 153/500\n",
            "2/2 [==============================] - 0s 7ms/step - loss: 29.9926 - mae: 29.9926\n",
            "Epoch 154/500\n",
            "2/2 [==============================] - 0s 9ms/step - loss: 10.5091 - mae: 10.5091\n",
            "Epoch 155/500\n",
            "2/2 [==============================] - 0s 8ms/step - loss: 15.4094 - mae: 15.4094\n",
            "Epoch 156/500\n",
            "2/2 [==============================] - 0s 8ms/step - loss: 16.9034 - mae: 16.9034\n",
            "Epoch 157/500\n",
            "2/2 [==============================] - 0s 7ms/step - loss: 33.1350 - mae: 33.1350\n",
            "Epoch 158/500\n",
            "2/2 [==============================] - 0s 8ms/step - loss: 10.8333 - mae: 10.8333\n",
            "Epoch 159/500\n",
            "2/2 [==============================] - 0s 10ms/step - loss: 8.9781 - mae: 8.9781\n",
            "Epoch 160/500\n",
            "2/2 [==============================] - 0s 8ms/step - loss: 22.3403 - mae: 22.3403\n",
            "Epoch 161/500\n",
            "2/2 [==============================] - 0s 7ms/step - loss: 11.8152 - mae: 11.8152\n",
            "Epoch 162/500\n",
            "2/2 [==============================] - 0s 9ms/step - loss: 21.7553 - mae: 21.7553\n",
            "Epoch 163/500\n",
            "2/2 [==============================] - 0s 7ms/step - loss: 19.4260 - mae: 19.4260\n",
            "Epoch 164/500\n",
            "2/2 [==============================] - 0s 7ms/step - loss: 11.1479 - mae: 11.1479\n",
            "Epoch 165/500\n",
            "2/2 [==============================] - 0s 7ms/step - loss: 9.6036 - mae: 9.6036\n",
            "Epoch 166/500\n",
            "2/2 [==============================] - 0s 8ms/step - loss: 21.5154 - mae: 21.5154\n",
            "Epoch 167/500\n",
            "2/2 [==============================] - 0s 7ms/step - loss: 26.4856 - mae: 26.4856\n",
            "Epoch 168/500\n",
            "2/2 [==============================] - 0s 7ms/step - loss: 9.9220 - mae: 9.9220\n",
            "Epoch 169/500\n",
            "2/2 [==============================] - 0s 7ms/step - loss: 22.7428 - mae: 22.7428\n",
            "Epoch 170/500\n",
            "2/2 [==============================] - 0s 7ms/step - loss: 10.1373 - mae: 10.1373\n",
            "Epoch 171/500\n",
            "2/2 [==============================] - 0s 9ms/step - loss: 17.9774 - mae: 17.9774\n",
            "Epoch 172/500\n",
            "2/2 [==============================] - 0s 7ms/step - loss: 29.0075 - mae: 29.0075\n",
            "Epoch 173/500\n",
            "2/2 [==============================] - 0s 7ms/step - loss: 16.6720 - mae: 16.6720\n",
            "Epoch 174/500\n",
            "2/2 [==============================] - 0s 7ms/step - loss: 11.2113 - mae: 11.2113\n",
            "Epoch 175/500\n",
            "2/2 [==============================] - 0s 7ms/step - loss: 27.5423 - mae: 27.5423\n",
            "Epoch 176/500\n",
            "2/2 [==============================] - 0s 9ms/step - loss: 8.3425 - mae: 8.3425\n",
            "Epoch 177/500\n",
            "2/2 [==============================] - 0s 7ms/step - loss: 9.3227 - mae: 9.3227\n",
            "Epoch 178/500\n",
            "2/2 [==============================] - 0s 7ms/step - loss: 18.2731 - mae: 18.2731\n",
            "Epoch 179/500\n",
            "2/2 [==============================] - 0s 8ms/step - loss: 10.5495 - mae: 10.5495\n",
            "Epoch 180/500\n",
            "2/2 [==============================] - 0s 8ms/step - loss: 7.9486 - mae: 7.9486\n",
            "Epoch 181/500\n",
            "2/2 [==============================] - 0s 7ms/step - loss: 17.4981 - mae: 17.4981\n",
            "Epoch 182/500\n",
            "2/2 [==============================] - 0s 7ms/step - loss: 11.0801 - mae: 11.0801\n",
            "Epoch 183/500\n",
            "2/2 [==============================] - 0s 7ms/step - loss: 11.7540 - mae: 11.7540\n",
            "Epoch 184/500\n",
            "2/2 [==============================] - 0s 7ms/step - loss: 30.5272 - mae: 30.5272\n",
            "Epoch 185/500\n",
            "2/2 [==============================] - 0s 8ms/step - loss: 7.5736 - mae: 7.5736\n",
            "Epoch 186/500\n",
            "2/2 [==============================] - 0s 12ms/step - loss: 15.9683 - mae: 15.9683\n",
            "Epoch 187/500\n",
            "2/2 [==============================] - 0s 8ms/step - loss: 8.5970 - mae: 8.5970\n",
            "Epoch 188/500\n",
            "2/2 [==============================] - 0s 7ms/step - loss: 28.8185 - mae: 28.8185\n",
            "Epoch 189/500\n",
            "2/2 [==============================] - 0s 7ms/step - loss: 13.1627 - mae: 13.1627\n",
            "Epoch 190/500\n",
            "2/2 [==============================] - 0s 8ms/step - loss: 18.3042 - mae: 18.3042\n",
            "Epoch 191/500\n",
            "2/2 [==============================] - 0s 8ms/step - loss: 13.7306 - mae: 13.7306\n",
            "Epoch 192/500\n",
            "2/2 [==============================] - 0s 7ms/step - loss: 13.7187 - mae: 13.7187\n",
            "Epoch 193/500\n",
            "2/2 [==============================] - 0s 7ms/step - loss: 28.5754 - mae: 28.5754\n",
            "Epoch 194/500\n",
            "2/2 [==============================] - 0s 8ms/step - loss: 7.1066 - mae: 7.1066\n",
            "Epoch 195/500\n",
            "2/2 [==============================] - 0s 7ms/step - loss: 7.0795 - mae: 7.0795\n",
            "Epoch 196/500\n",
            "2/2 [==============================] - 0s 10ms/step - loss: 22.0065 - mae: 22.0065\n",
            "Epoch 197/500\n",
            "2/2 [==============================] - 0s 7ms/step - loss: 20.8506 - mae: 20.8506\n",
            "Epoch 198/500\n",
            "2/2 [==============================] - 0s 8ms/step - loss: 12.4837 - mae: 12.4837\n",
            "Epoch 199/500\n",
            "2/2 [==============================] - 0s 9ms/step - loss: 17.9143 - mae: 17.9143\n",
            "Epoch 200/500\n",
            "2/2 [==============================] - 0s 7ms/step - loss: 13.7557 - mae: 13.7557\n",
            "Epoch 201/500\n",
            "2/2 [==============================] - 0s 7ms/step - loss: 5.4986 - mae: 5.4986\n",
            "Epoch 202/500\n",
            "2/2 [==============================] - 0s 8ms/step - loss: 13.7032 - mae: 13.7032\n",
            "Epoch 203/500\n",
            "2/2 [==============================] - 0s 7ms/step - loss: 9.4375 - mae: 9.4375\n",
            "Epoch 204/500\n",
            "2/2 [==============================] - 0s 7ms/step - loss: 20.9474 - mae: 20.9474\n",
            "Epoch 205/500\n",
            "2/2 [==============================] - 0s 8ms/step - loss: 9.5628 - mae: 9.5628\n",
            "Epoch 206/500\n",
            "2/2 [==============================] - 0s 11ms/step - loss: 11.7262 - mae: 11.7262\n",
            "Epoch 207/500\n",
            "2/2 [==============================] - 0s 9ms/step - loss: 14.3460 - mae: 14.3460\n",
            "Epoch 208/500\n",
            "2/2 [==============================] - 0s 8ms/step - loss: 14.8399 - mae: 14.8399\n",
            "Epoch 209/500\n",
            "2/2 [==============================] - 0s 7ms/step - loss: 14.6255 - mae: 14.6255\n",
            "Epoch 210/500\n",
            "2/2 [==============================] - 0s 8ms/step - loss: 17.8693 - mae: 17.8693\n",
            "Epoch 211/500\n",
            "2/2 [==============================] - 0s 7ms/step - loss: 9.8455 - mae: 9.8455\n",
            "Epoch 212/500\n",
            "2/2 [==============================] - 0s 7ms/step - loss: 18.2860 - mae: 18.2860\n",
            "Epoch 213/500\n",
            "2/2 [==============================] - 0s 7ms/step - loss: 15.0650 - mae: 15.0650\n",
            "Epoch 214/500\n",
            "2/2 [==============================] - 0s 7ms/step - loss: 14.6070 - mae: 14.6070\n",
            "Epoch 215/500\n",
            "2/2 [==============================] - 0s 7ms/step - loss: 23.3303 - mae: 23.3303\n",
            "Epoch 216/500\n",
            "2/2 [==============================] - 0s 7ms/step - loss: 13.3250 - mae: 13.3250\n",
            "Epoch 217/500\n",
            "2/2 [==============================] - 0s 8ms/step - loss: 9.8412 - mae: 9.8412\n",
            "Epoch 218/500\n",
            "2/2 [==============================] - 0s 8ms/step - loss: 12.5864 - mae: 12.5864\n",
            "Epoch 219/500\n",
            "2/2 [==============================] - 0s 9ms/step - loss: 4.9693 - mae: 4.9693\n",
            "Epoch 220/500\n",
            "2/2 [==============================] - 0s 8ms/step - loss: 7.1401 - mae: 7.1401\n",
            "Epoch 221/500\n",
            "2/2 [==============================] - 0s 7ms/step - loss: 35.3435 - mae: 35.3435\n",
            "Epoch 222/500\n",
            "2/2 [==============================] - 0s 7ms/step - loss: 34.7214 - mae: 34.7214\n",
            "Epoch 223/500\n",
            "2/2 [==============================] - 0s 9ms/step - loss: 8.0103 - mae: 8.0103\n",
            "Epoch 224/500\n",
            "2/2 [==============================] - 0s 7ms/step - loss: 14.7321 - mae: 14.7321\n",
            "Epoch 225/500\n",
            "2/2 [==============================] - 0s 7ms/step - loss: 16.7579 - mae: 16.7579\n",
            "Epoch 226/500\n",
            "2/2 [==============================] - 0s 7ms/step - loss: 15.9686 - mae: 15.9686\n",
            "Epoch 227/500\n",
            "2/2 [==============================] - 0s 7ms/step - loss: 16.2099 - mae: 16.2099\n",
            "Epoch 228/500\n",
            "2/2 [==============================] - 0s 8ms/step - loss: 9.3534 - mae: 9.3534\n",
            "Epoch 229/500\n",
            "2/2 [==============================] - 0s 7ms/step - loss: 18.0264 - mae: 18.0264\n",
            "Epoch 230/500\n",
            "2/2 [==============================] - 0s 7ms/step - loss: 15.5992 - mae: 15.5992\n",
            "Epoch 231/500\n",
            "2/2 [==============================] - 0s 7ms/step - loss: 21.1624 - mae: 21.1624\n",
            "Epoch 232/500\n",
            "2/2 [==============================] - 0s 7ms/step - loss: 25.3826 - mae: 25.3826\n",
            "Epoch 233/500\n",
            "2/2 [==============================] - 0s 10ms/step - loss: 16.4067 - mae: 16.4067\n",
            "Epoch 234/500\n",
            "2/2 [==============================] - 0s 8ms/step - loss: 7.3132 - mae: 7.3132\n",
            "Epoch 235/500\n",
            "2/2 [==============================] - 0s 7ms/step - loss: 17.0544 - mae: 17.0544\n",
            "Epoch 236/500\n",
            "2/2 [==============================] - 0s 10ms/step - loss: 7.1688 - mae: 7.1688\n",
            "Epoch 237/500\n",
            "2/2 [==============================] - 0s 8ms/step - loss: 9.2603 - mae: 9.2603\n",
            "Epoch 238/500\n",
            "2/2 [==============================] - 0s 9ms/step - loss: 8.1345 - mae: 8.1345\n",
            "Epoch 239/500\n",
            "2/2 [==============================] - 0s 12ms/step - loss: 17.1140 - mae: 17.1140\n",
            "Epoch 240/500\n",
            "2/2 [==============================] - 0s 8ms/step - loss: 8.9053 - mae: 8.9053\n",
            "Epoch 241/500\n",
            "2/2 [==============================] - 0s 7ms/step - loss: 13.2199 - mae: 13.2199\n",
            "Epoch 242/500\n",
            "2/2 [==============================] - 0s 8ms/step - loss: 8.8238 - mae: 8.8238\n",
            "Epoch 243/500\n",
            "2/2 [==============================] - 0s 7ms/step - loss: 18.8681 - mae: 18.8681\n",
            "Epoch 244/500\n",
            "2/2 [==============================] - 0s 8ms/step - loss: 14.0479 - mae: 14.0479\n",
            "Epoch 245/500\n",
            "2/2 [==============================] - 0s 8ms/step - loss: 14.6774 - mae: 14.6774\n",
            "Epoch 246/500\n",
            "2/2 [==============================] - 0s 6ms/step - loss: 15.8043 - mae: 15.8043\n",
            "Epoch 247/500\n",
            "2/2 [==============================] - 0s 7ms/step - loss: 17.6798 - mae: 17.6798\n",
            "Epoch 248/500\n",
            "2/2 [==============================] - 0s 8ms/step - loss: 13.2360 - mae: 13.2360\n",
            "Epoch 249/500\n",
            "2/2 [==============================] - 0s 10ms/step - loss: 14.5110 - mae: 14.5110\n",
            "Epoch 250/500\n",
            "2/2 [==============================] - 0s 7ms/step - loss: 23.2312 - mae: 23.2312\n",
            "Epoch 251/500\n",
            "2/2 [==============================] - 0s 7ms/step - loss: 9.3202 - mae: 9.3202\n",
            "Epoch 252/500\n",
            "2/2 [==============================] - 0s 9ms/step - loss: 36.6632 - mae: 36.6632\n",
            "Epoch 253/500\n",
            "2/2 [==============================] - 0s 6ms/step - loss: 21.8314 - mae: 21.8314\n",
            "Epoch 254/500\n",
            "2/2 [==============================] - 0s 7ms/step - loss: 7.2993 - mae: 7.2993\n",
            "Epoch 255/500\n",
            "2/2 [==============================] - 0s 9ms/step - loss: 24.7137 - mae: 24.7137\n",
            "Epoch 256/500\n",
            "2/2 [==============================] - 0s 10ms/step - loss: 12.4367 - mae: 12.4367\n",
            "Epoch 257/500\n",
            "2/2 [==============================] - 0s 8ms/step - loss: 10.5964 - mae: 10.5964\n",
            "Epoch 258/500\n",
            "2/2 [==============================] - 0s 7ms/step - loss: 14.2404 - mae: 14.2404\n",
            "Epoch 259/500\n",
            "2/2 [==============================] - 0s 7ms/step - loss: 11.2762 - mae: 11.2762\n",
            "Epoch 260/500\n",
            "2/2 [==============================] - 0s 8ms/step - loss: 31.7081 - mae: 31.7081\n",
            "Epoch 261/500\n",
            "2/2 [==============================] - 0s 10ms/step - loss: 11.2058 - mae: 11.2058\n",
            "Epoch 262/500\n",
            "2/2 [==============================] - 0s 8ms/step - loss: 10.0577 - mae: 10.0577\n",
            "Epoch 263/500\n",
            "2/2 [==============================] - 0s 9ms/step - loss: 8.9598 - mae: 8.9598\n",
            "Epoch 264/500\n",
            "2/2 [==============================] - 0s 7ms/step - loss: 21.5885 - mae: 21.5885\n",
            "Epoch 265/500\n",
            "2/2 [==============================] - 0s 10ms/step - loss: 11.4125 - mae: 11.4125\n",
            "Epoch 266/500\n",
            "2/2 [==============================] - 0s 9ms/step - loss: 13.2438 - mae: 13.2438\n",
            "Epoch 267/500\n",
            "2/2 [==============================] - 0s 7ms/step - loss: 11.0556 - mae: 11.0556\n",
            "Epoch 268/500\n",
            "2/2 [==============================] - 0s 8ms/step - loss: 21.6900 - mae: 21.6900\n",
            "Epoch 269/500\n",
            "2/2 [==============================] - 0s 7ms/step - loss: 32.9964 - mae: 32.9964\n",
            "Epoch 270/500\n",
            "2/2 [==============================] - 0s 6ms/step - loss: 9.7643 - mae: 9.7643\n",
            "Epoch 271/500\n",
            "2/2 [==============================] - 0s 8ms/step - loss: 7.7126 - mae: 7.7126\n",
            "Epoch 272/500\n",
            "2/2 [==============================] - 0s 9ms/step - loss: 28.4902 - mae: 28.4902\n",
            "Epoch 273/500\n",
            "2/2 [==============================] - 0s 6ms/step - loss: 7.4006 - mae: 7.4006\n",
            "Epoch 274/500\n",
            "2/2 [==============================] - 0s 9ms/step - loss: 6.3292 - mae: 6.3292\n",
            "Epoch 275/500\n",
            "2/2 [==============================] - 0s 8ms/step - loss: 37.2420 - mae: 37.2420\n",
            "Epoch 276/500\n",
            "2/2 [==============================] - 0s 6ms/step - loss: 8.2947 - mae: 8.2947\n",
            "Epoch 277/500\n",
            "2/2 [==============================] - 0s 6ms/step - loss: 28.0149 - mae: 28.0149\n",
            "Epoch 278/500\n",
            "2/2 [==============================] - 0s 8ms/step - loss: 10.6024 - mae: 10.6024\n",
            "Epoch 279/500\n",
            "2/2 [==============================] - 0s 6ms/step - loss: 16.0488 - mae: 16.0488\n",
            "Epoch 280/500\n",
            "2/2 [==============================] - 0s 6ms/step - loss: 21.1123 - mae: 21.1123\n",
            "Epoch 281/500\n",
            "2/2 [==============================] - 0s 9ms/step - loss: 18.1011 - mae: 18.1011\n",
            "Epoch 282/500\n",
            "2/2 [==============================] - 0s 6ms/step - loss: 6.8783 - mae: 6.8783\n",
            "Epoch 283/500\n",
            "2/2 [==============================] - 0s 8ms/step - loss: 8.0706 - mae: 8.0706\n",
            "Epoch 284/500\n",
            "2/2 [==============================] - 0s 6ms/step - loss: 24.6434 - mae: 24.6434\n",
            "Epoch 285/500\n",
            "2/2 [==============================] - 0s 9ms/step - loss: 13.4654 - mae: 13.4654\n",
            "Epoch 286/500\n",
            "2/2 [==============================] - 0s 6ms/step - loss: 8.5918 - mae: 8.5918\n",
            "Epoch 287/500\n",
            "2/2 [==============================] - 0s 12ms/step - loss: 22.2693 - mae: 22.2693\n",
            "Epoch 288/500\n",
            "2/2 [==============================] - 0s 10ms/step - loss: 23.4887 - mae: 23.4887\n",
            "Epoch 289/500\n",
            "2/2 [==============================] - 0s 10ms/step - loss: 12.0211 - mae: 12.0211\n",
            "Epoch 290/500\n",
            "2/2 [==============================] - 0s 7ms/step - loss: 16.5900 - mae: 16.5900\n",
            "Epoch 291/500\n",
            "2/2 [==============================] - 0s 9ms/step - loss: 16.8691 - mae: 16.8691\n",
            "Epoch 292/500\n",
            "2/2 [==============================] - 0s 12ms/step - loss: 9.4902 - mae: 9.4902\n",
            "Epoch 293/500\n",
            "2/2 [==============================] - 0s 8ms/step - loss: 15.2999 - mae: 15.2999\n",
            "Epoch 294/500\n",
            "2/2 [==============================] - 0s 7ms/step - loss: 22.7842 - mae: 22.7842\n",
            "Epoch 295/500\n",
            "2/2 [==============================] - 0s 7ms/step - loss: 17.7830 - mae: 17.7830\n",
            "Epoch 296/500\n",
            "2/2 [==============================] - 0s 7ms/step - loss: 6.1003 - mae: 6.1003\n",
            "Epoch 297/500\n",
            "2/2 [==============================] - 0s 7ms/step - loss: 10.9590 - mae: 10.9590\n",
            "Epoch 298/500\n",
            "2/2 [==============================] - 0s 7ms/step - loss: 23.2037 - mae: 23.2037\n",
            "Epoch 299/500\n",
            "2/2 [==============================] - 0s 8ms/step - loss: 17.6219 - mae: 17.6219\n",
            "Epoch 300/500\n",
            "2/2 [==============================] - 0s 8ms/step - loss: 6.9430 - mae: 6.9430\n",
            "Epoch 301/500\n",
            "2/2 [==============================] - 0s 11ms/step - loss: 25.0520 - mae: 25.0520\n",
            "Epoch 302/500\n",
            "2/2 [==============================] - 0s 13ms/step - loss: 8.8474 - mae: 8.8474\n",
            "Epoch 303/500\n",
            "2/2 [==============================] - 0s 8ms/step - loss: 17.6724 - mae: 17.6724\n",
            "Epoch 304/500\n",
            "2/2 [==============================] - 0s 9ms/step - loss: 10.9342 - mae: 10.9342\n",
            "Epoch 305/500\n",
            "2/2 [==============================] - 0s 7ms/step - loss: 12.8510 - mae: 12.8510\n",
            "Epoch 306/500\n",
            "2/2 [==============================] - 0s 10ms/step - loss: 8.3555 - mae: 8.3555\n",
            "Epoch 307/500\n",
            "2/2 [==============================] - 0s 12ms/step - loss: 13.5469 - mae: 13.5469\n",
            "Epoch 308/500\n",
            "2/2 [==============================] - 0s 7ms/step - loss: 7.3996 - mae: 7.3996\n",
            "Epoch 309/500\n",
            "2/2 [==============================] - 0s 8ms/step - loss: 9.4226 - mae: 9.4226\n",
            "Epoch 310/500\n",
            "2/2 [==============================] - 0s 12ms/step - loss: 10.6632 - mae: 10.6632\n",
            "Epoch 311/500\n",
            "2/2 [==============================] - 0s 7ms/step - loss: 13.2779 - mae: 13.2779\n",
            "Epoch 312/500\n",
            "2/2 [==============================] - 0s 10ms/step - loss: 29.9861 - mae: 29.9861\n",
            "Epoch 313/500\n",
            "2/2 [==============================] - 0s 9ms/step - loss: 7.5955 - mae: 7.5955\n",
            "Epoch 314/500\n",
            "2/2 [==============================] - 0s 8ms/step - loss: 9.9050 - mae: 9.9050\n",
            "Epoch 315/500\n",
            "2/2 [==============================] - 0s 11ms/step - loss: 23.7718 - mae: 23.7718\n",
            "Epoch 316/500\n",
            "2/2 [==============================] - 0s 8ms/step - loss: 16.3832 - mae: 16.3832\n",
            "Epoch 317/500\n",
            "2/2 [==============================] - 0s 9ms/step - loss: 21.0574 - mae: 21.0574\n",
            "Epoch 318/500\n",
            "2/2 [==============================] - 0s 9ms/step - loss: 7.9155 - mae: 7.9155\n",
            "Epoch 319/500\n",
            "2/2 [==============================] - 0s 12ms/step - loss: 17.9666 - mae: 17.9666\n",
            "Epoch 320/500\n",
            "2/2 [==============================] - 0s 10ms/step - loss: 10.5252 - mae: 10.5252\n",
            "Epoch 321/500\n",
            "2/2 [==============================] - 0s 9ms/step - loss: 6.9306 - mae: 6.9306\n",
            "Epoch 322/500\n",
            "2/2 [==============================] - 0s 9ms/step - loss: 9.2145 - mae: 9.2145\n",
            "Epoch 323/500\n",
            "2/2 [==============================] - 0s 8ms/step - loss: 17.8635 - mae: 17.8635\n",
            "Epoch 324/500\n",
            "2/2 [==============================] - 0s 9ms/step - loss: 15.9506 - mae: 15.9506\n",
            "Epoch 325/500\n",
            "2/2 [==============================] - 0s 9ms/step - loss: 17.6293 - mae: 17.6293\n",
            "Epoch 326/500\n",
            "2/2 [==============================] - 0s 7ms/step - loss: 23.8799 - mae: 23.8799\n",
            "Epoch 327/500\n",
            "2/2 [==============================] - 0s 8ms/step - loss: 10.2546 - mae: 10.2546\n",
            "Epoch 328/500\n",
            "2/2 [==============================] - 0s 9ms/step - loss: 13.1394 - mae: 13.1394\n",
            "Epoch 329/500\n",
            "2/2 [==============================] - 0s 9ms/step - loss: 16.0024 - mae: 16.0024\n",
            "Epoch 330/500\n",
            "2/2 [==============================] - 0s 9ms/step - loss: 14.3351 - mae: 14.3351\n",
            "Epoch 331/500\n",
            "2/2 [==============================] - 0s 7ms/step - loss: 25.7844 - mae: 25.7844\n",
            "Epoch 332/500\n",
            "2/2 [==============================] - 0s 9ms/step - loss: 16.9317 - mae: 16.9317\n",
            "Epoch 333/500\n",
            "2/2 [==============================] - 0s 11ms/step - loss: 10.5551 - mae: 10.5551\n",
            "Epoch 334/500\n",
            "2/2 [==============================] - 0s 8ms/step - loss: 7.4605 - mae: 7.4605\n",
            "Epoch 335/500\n",
            "2/2 [==============================] - 0s 9ms/step - loss: 13.0745 - mae: 13.0745\n",
            "Epoch 336/500\n",
            "2/2 [==============================] - 0s 7ms/step - loss: 32.5567 - mae: 32.5567\n",
            "Epoch 337/500\n",
            "2/2 [==============================] - 0s 8ms/step - loss: 11.1069 - mae: 11.1069\n",
            "Epoch 338/500\n",
            "2/2 [==============================] - 0s 10ms/step - loss: 20.1037 - mae: 20.1037\n",
            "Epoch 339/500\n",
            "2/2 [==============================] - 0s 10ms/step - loss: 33.8915 - mae: 33.8915\n",
            "Epoch 340/500\n",
            "2/2 [==============================] - 0s 9ms/step - loss: 8.6163 - mae: 8.6163\n",
            "Epoch 341/500\n",
            "2/2 [==============================] - 0s 7ms/step - loss: 21.6132 - mae: 21.6132\n",
            "Epoch 342/500\n",
            "2/2 [==============================] - 0s 10ms/step - loss: 14.0402 - mae: 14.0402\n",
            "Epoch 343/500\n",
            "2/2 [==============================] - 0s 8ms/step - loss: 11.5750 - mae: 11.5750\n",
            "Epoch 344/500\n",
            "2/2 [==============================] - 0s 12ms/step - loss: 10.6690 - mae: 10.6690\n",
            "Epoch 345/500\n",
            "2/2 [==============================] - 0s 10ms/step - loss: 30.8386 - mae: 30.8386\n",
            "Epoch 346/500\n",
            "2/2 [==============================] - 0s 10ms/step - loss: 10.5959 - mae: 10.5959\n",
            "Epoch 347/500\n",
            "2/2 [==============================] - 0s 8ms/step - loss: 25.4659 - mae: 25.4659\n",
            "Epoch 348/500\n",
            "2/2 [==============================] - 0s 8ms/step - loss: 13.5130 - mae: 13.5130\n",
            "Epoch 349/500\n",
            "2/2 [==============================] - 0s 10ms/step - loss: 12.9482 - mae: 12.9482\n",
            "Epoch 350/500\n",
            "2/2 [==============================] - 0s 8ms/step - loss: 15.3666 - mae: 15.3666\n",
            "Epoch 351/500\n",
            "2/2 [==============================] - 0s 9ms/step - loss: 32.8211 - mae: 32.8211\n",
            "Epoch 352/500\n",
            "2/2 [==============================] - 0s 8ms/step - loss: 13.8826 - mae: 13.8826\n",
            "Epoch 353/500\n",
            "2/2 [==============================] - 0s 6ms/step - loss: 15.8830 - mae: 15.8830\n",
            "Epoch 354/500\n",
            "2/2 [==============================] - 0s 9ms/step - loss: 19.0086 - mae: 19.0086\n",
            "Epoch 355/500\n",
            "2/2 [==============================] - 0s 9ms/step - loss: 34.3444 - mae: 34.3444\n",
            "Epoch 356/500\n",
            "2/2 [==============================] - 0s 6ms/step - loss: 8.2981 - mae: 8.2981\n",
            "Epoch 357/500\n",
            "2/2 [==============================] - 0s 6ms/step - loss: 21.8584 - mae: 21.8584\n",
            "Epoch 358/500\n",
            "2/2 [==============================] - 0s 6ms/step - loss: 19.9953 - mae: 19.9953\n",
            "Epoch 359/500\n",
            "2/2 [==============================] - 0s 10ms/step - loss: 11.0501 - mae: 11.0501\n",
            "Epoch 360/500\n",
            "2/2 [==============================] - 0s 6ms/step - loss: 20.2806 - mae: 20.2806\n",
            "Epoch 361/500\n",
            "2/2 [==============================] - 0s 9ms/step - loss: 10.9975 - mae: 10.9975\n",
            "Epoch 362/500\n",
            "2/2 [==============================] - 0s 9ms/step - loss: 6.8118 - mae: 6.8118\n",
            "Epoch 363/500\n",
            "2/2 [==============================] - 0s 10ms/step - loss: 23.9828 - mae: 23.9828\n",
            "Epoch 364/500\n",
            "2/2 [==============================] - 0s 6ms/step - loss: 29.7408 - mae: 29.7408\n",
            "Epoch 365/500\n",
            "2/2 [==============================] - 0s 9ms/step - loss: 8.3401 - mae: 8.3401\n",
            "Epoch 366/500\n",
            "2/2 [==============================] - 0s 7ms/step - loss: 6.0876 - mae: 6.0876\n",
            "Epoch 367/500\n",
            "2/2 [==============================] - 0s 9ms/step - loss: 34.9026 - mae: 34.9026\n",
            "Epoch 368/500\n",
            "2/2 [==============================] - 0s 8ms/step - loss: 7.4003 - mae: 7.4003\n",
            "Epoch 369/500\n",
            "2/2 [==============================] - 0s 9ms/step - loss: 9.2225 - mae: 9.2225\n",
            "Epoch 370/500\n",
            "2/2 [==============================] - 0s 7ms/step - loss: 10.9318 - mae: 10.9318\n",
            "Epoch 371/500\n",
            "2/2 [==============================] - 0s 7ms/step - loss: 8.9959 - mae: 8.9959\n",
            "Epoch 372/500\n",
            "2/2 [==============================] - 0s 7ms/step - loss: 7.6923 - mae: 7.6923\n",
            "Epoch 373/500\n",
            "2/2 [==============================] - 0s 8ms/step - loss: 25.0456 - mae: 25.0456\n",
            "Epoch 374/500\n",
            "2/2 [==============================] - 0s 7ms/step - loss: 13.2494 - mae: 13.2494\n",
            "Epoch 375/500\n",
            "2/2 [==============================] - 0s 7ms/step - loss: 11.8404 - mae: 11.8404\n",
            "Epoch 376/500\n",
            "2/2 [==============================] - 0s 7ms/step - loss: 14.1188 - mae: 14.1188\n",
            "Epoch 377/500\n",
            "2/2 [==============================] - 0s 7ms/step - loss: 15.7043 - mae: 15.7043\n",
            "Epoch 378/500\n",
            "2/2 [==============================] - 0s 7ms/step - loss: 17.0199 - mae: 17.0199\n",
            "Epoch 379/500\n",
            "2/2 [==============================] - 0s 7ms/step - loss: 19.4346 - mae: 19.4346\n",
            "Epoch 380/500\n",
            "2/2 [==============================] - 0s 7ms/step - loss: 15.7952 - mae: 15.7952\n",
            "Epoch 381/500\n",
            "2/2 [==============================] - 0s 8ms/step - loss: 11.4441 - mae: 11.4441\n",
            "Epoch 382/500\n",
            "2/2 [==============================] - 0s 9ms/step - loss: 16.3251 - mae: 16.3251\n",
            "Epoch 383/500\n",
            "2/2 [==============================] - 0s 7ms/step - loss: 22.0742 - mae: 22.0742\n",
            "Epoch 384/500\n",
            "2/2 [==============================] - 0s 8ms/step - loss: 7.7722 - mae: 7.7722\n",
            "Epoch 385/500\n",
            "2/2 [==============================] - 0s 7ms/step - loss: 10.5961 - mae: 10.5961\n",
            "Epoch 386/500\n",
            "2/2 [==============================] - 0s 7ms/step - loss: 19.0610 - mae: 19.0610\n",
            "Epoch 387/500\n",
            "2/2 [==============================] - 0s 8ms/step - loss: 26.5694 - mae: 26.5694\n",
            "Epoch 388/500\n",
            "2/2 [==============================] - 0s 7ms/step - loss: 10.1425 - mae: 10.1425\n",
            "Epoch 389/500\n",
            "2/2 [==============================] - 0s 7ms/step - loss: 5.1765 - mae: 5.1765\n",
            "Epoch 390/500\n",
            "2/2 [==============================] - 0s 8ms/step - loss: 18.8950 - mae: 18.8950\n",
            "Epoch 391/500\n",
            "2/2 [==============================] - 0s 8ms/step - loss: 9.3101 - mae: 9.3101\n",
            "Epoch 392/500\n",
            "2/2 [==============================] - 0s 8ms/step - loss: 14.3812 - mae: 14.3812\n",
            "Epoch 393/500\n",
            "2/2 [==============================] - 0s 7ms/step - loss: 15.3862 - mae: 15.3862\n",
            "Epoch 394/500\n",
            "2/2 [==============================] - 0s 10ms/step - loss: 14.7319 - mae: 14.7319\n",
            "Epoch 395/500\n",
            "2/2 [==============================] - 0s 8ms/step - loss: 24.9473 - mae: 24.9473\n",
            "Epoch 396/500\n",
            "2/2 [==============================] - 0s 7ms/step - loss: 19.2223 - mae: 19.2223\n",
            "Epoch 397/500\n",
            "2/2 [==============================] - 0s 8ms/step - loss: 11.5598 - mae: 11.5598\n",
            "Epoch 398/500\n",
            "2/2 [==============================] - 0s 9ms/step - loss: 19.1886 - mae: 19.1886\n",
            "Epoch 399/500\n",
            "2/2 [==============================] - 0s 8ms/step - loss: 26.0139 - mae: 26.0139\n",
            "Epoch 400/500\n",
            "2/2 [==============================] - 0s 8ms/step - loss: 15.6685 - mae: 15.6685\n",
            "Epoch 401/500\n",
            "2/2 [==============================] - 0s 7ms/step - loss: 14.6455 - mae: 14.6455\n",
            "Epoch 402/500\n",
            "2/2 [==============================] - 0s 7ms/step - loss: 24.2500 - mae: 24.2500\n",
            "Epoch 403/500\n",
            "2/2 [==============================] - 0s 8ms/step - loss: 16.3364 - mae: 16.3364\n",
            "Epoch 404/500\n",
            "2/2 [==============================] - 0s 6ms/step - loss: 10.7524 - mae: 10.7524\n",
            "Epoch 405/500\n",
            "2/2 [==============================] - 0s 6ms/step - loss: 5.8936 - mae: 5.8936\n",
            "Epoch 406/500\n",
            "2/2 [==============================] - 0s 7ms/step - loss: 17.2546 - mae: 17.2546\n",
            "Epoch 407/500\n",
            "2/2 [==============================] - 0s 7ms/step - loss: 11.5073 - mae: 11.5073\n",
            "Epoch 408/500\n",
            "2/2 [==============================] - 0s 7ms/step - loss: 20.8219 - mae: 20.8219\n",
            "Epoch 409/500\n",
            "2/2 [==============================] - 0s 9ms/step - loss: 31.0387 - mae: 31.0387\n",
            "Epoch 410/500\n",
            "2/2 [==============================] - 0s 7ms/step - loss: 9.3167 - mae: 9.3167\n",
            "Epoch 411/500\n",
            "2/2 [==============================] - 0s 7ms/step - loss: 14.9086 - mae: 14.9086\n",
            "Epoch 412/500\n",
            "2/2 [==============================] - 0s 7ms/step - loss: 21.7987 - mae: 21.7987\n",
            "Epoch 413/500\n",
            "2/2 [==============================] - 0s 7ms/step - loss: 12.5077 - mae: 12.5077\n",
            "Epoch 414/500\n",
            "2/2 [==============================] - 0s 8ms/step - loss: 6.1070 - mae: 6.1070\n",
            "Epoch 415/500\n",
            "2/2 [==============================] - 0s 12ms/step - loss: 13.2503 - mae: 13.2503\n",
            "Epoch 416/500\n",
            "2/2 [==============================] - 0s 8ms/step - loss: 27.4864 - mae: 27.4864\n",
            "Epoch 417/500\n",
            "2/2 [==============================] - 0s 11ms/step - loss: 10.4821 - mae: 10.4821\n",
            "Epoch 418/500\n",
            "2/2 [==============================] - 0s 8ms/step - loss: 12.8776 - mae: 12.8776\n",
            "Epoch 419/500\n",
            "2/2 [==============================] - 0s 9ms/step - loss: 15.9173 - mae: 15.9173\n",
            "Epoch 420/500\n",
            "2/2 [==============================] - 0s 8ms/step - loss: 24.8226 - mae: 24.8226\n",
            "Epoch 421/500\n",
            "2/2 [==============================] - 0s 9ms/step - loss: 17.2013 - mae: 17.2013\n",
            "Epoch 422/500\n",
            "2/2 [==============================] - 0s 8ms/step - loss: 7.8320 - mae: 7.8320\n",
            "Epoch 423/500\n",
            "2/2 [==============================] - 0s 8ms/step - loss: 25.4451 - mae: 25.4451\n",
            "Epoch 424/500\n",
            "2/2 [==============================] - 0s 8ms/step - loss: 14.9554 - mae: 14.9554\n",
            "Epoch 425/500\n",
            "2/2 [==============================] - 0s 10ms/step - loss: 7.1164 - mae: 7.1164\n",
            "Epoch 426/500\n",
            "2/2 [==============================] - 0s 9ms/step - loss: 20.1562 - mae: 20.1562\n",
            "Epoch 427/500\n",
            "2/2 [==============================] - 0s 9ms/step - loss: 6.2776 - mae: 6.2776\n",
            "Epoch 428/500\n",
            "2/2 [==============================] - 0s 11ms/step - loss: 12.6584 - mae: 12.6584\n",
            "Epoch 429/500\n",
            "2/2 [==============================] - 0s 9ms/step - loss: 12.0968 - mae: 12.0968\n",
            "Epoch 430/500\n",
            "2/2 [==============================] - 0s 9ms/step - loss: 11.0965 - mae: 11.0965\n",
            "Epoch 431/500\n",
            "2/2 [==============================] - 0s 7ms/step - loss: 10.0225 - mae: 10.0225\n",
            "Epoch 432/500\n",
            "2/2 [==============================] - 0s 10ms/step - loss: 13.3687 - mae: 13.3687\n",
            "Epoch 433/500\n",
            "2/2 [==============================] - 0s 7ms/step - loss: 11.3897 - mae: 11.3897\n",
            "Epoch 434/500\n",
            "2/2 [==============================] - 0s 11ms/step - loss: 30.4146 - mae: 30.4146\n",
            "Epoch 435/500\n",
            "2/2 [==============================] - 0s 7ms/step - loss: 10.5096 - mae: 10.5096\n",
            "Epoch 436/500\n",
            "2/2 [==============================] - 0s 11ms/step - loss: 28.8989 - mae: 28.8989\n",
            "Epoch 437/500\n",
            "2/2 [==============================] - 0s 11ms/step - loss: 8.6119 - mae: 8.6119\n",
            "Epoch 438/500\n",
            "2/2 [==============================] - 0s 11ms/step - loss: 12.7407 - mae: 12.7407\n",
            "Epoch 439/500\n",
            "2/2 [==============================] - 0s 8ms/step - loss: 33.6861 - mae: 33.6861\n",
            "Epoch 440/500\n",
            "2/2 [==============================] - 0s 8ms/step - loss: 15.1112 - mae: 15.1112\n",
            "Epoch 441/500\n",
            "2/2 [==============================] - 0s 7ms/step - loss: 17.4922 - mae: 17.4922\n",
            "Epoch 442/500\n",
            "2/2 [==============================] - 0s 6ms/step - loss: 22.3292 - mae: 22.3292\n",
            "Epoch 443/500\n",
            "2/2 [==============================] - 0s 8ms/step - loss: 23.5257 - mae: 23.5257\n",
            "Epoch 444/500\n",
            "2/2 [==============================] - 0s 7ms/step - loss: 10.9529 - mae: 10.9529\n",
            "Epoch 445/500\n",
            "2/2 [==============================] - 0s 7ms/step - loss: 14.9305 - mae: 14.9305\n",
            "Epoch 446/500\n",
            "2/2 [==============================] - 0s 8ms/step - loss: 18.0169 - mae: 18.0169\n",
            "Epoch 447/500\n",
            "2/2 [==============================] - 0s 7ms/step - loss: 5.4253 - mae: 5.4253\n",
            "Epoch 448/500\n",
            "2/2 [==============================] - 0s 8ms/step - loss: 10.0693 - mae: 10.0693\n",
            "Epoch 449/500\n",
            "2/2 [==============================] - 0s 10ms/step - loss: 14.0184 - mae: 14.0184\n",
            "Epoch 450/500\n",
            "2/2 [==============================] - 0s 7ms/step - loss: 16.7907 - mae: 16.7907\n",
            "Epoch 451/500\n",
            "2/2 [==============================] - 0s 7ms/step - loss: 14.2983 - mae: 14.2983\n",
            "Epoch 452/500\n",
            "2/2 [==============================] - 0s 7ms/step - loss: 30.6306 - mae: 30.6306\n",
            "Epoch 453/500\n",
            "2/2 [==============================] - 0s 7ms/step - loss: 7.6539 - mae: 7.6539\n",
            "Epoch 454/500\n",
            "2/2 [==============================] - 0s 7ms/step - loss: 28.1559 - mae: 28.1559\n",
            "Epoch 455/500\n",
            "2/2 [==============================] - 0s 7ms/step - loss: 7.9759 - mae: 7.9759\n",
            "Epoch 456/500\n",
            "2/2 [==============================] - 0s 8ms/step - loss: 10.4046 - mae: 10.4046\n",
            "Epoch 457/500\n",
            "2/2 [==============================] - 0s 8ms/step - loss: 15.0348 - mae: 15.0348\n",
            "Epoch 458/500\n",
            "2/2 [==============================] - 0s 8ms/step - loss: 16.5708 - mae: 16.5708\n",
            "Epoch 459/500\n",
            "2/2 [==============================] - 0s 7ms/step - loss: 26.8694 - mae: 26.8694\n",
            "Epoch 460/500\n",
            "2/2 [==============================] - 0s 8ms/step - loss: 12.4530 - mae: 12.4530\n",
            "Epoch 461/500\n",
            "2/2 [==============================] - 0s 8ms/step - loss: 12.4906 - mae: 12.4906\n",
            "Epoch 462/500\n",
            "2/2 [==============================] - 0s 7ms/step - loss: 13.3233 - mae: 13.3233\n",
            "Epoch 463/500\n",
            "2/2 [==============================] - 0s 7ms/step - loss: 29.5624 - mae: 29.5624\n",
            "Epoch 464/500\n",
            "2/2 [==============================] - 0s 8ms/step - loss: 3.4646 - mae: 3.4646\n",
            "Epoch 465/500\n",
            "2/2 [==============================] - 0s 8ms/step - loss: 15.2214 - mae: 15.2214\n",
            "Epoch 466/500\n",
            "2/2 [==============================] - 0s 10ms/step - loss: 20.8489 - mae: 20.8489\n",
            "Epoch 467/500\n",
            "2/2 [==============================] - 0s 8ms/step - loss: 30.4669 - mae: 30.4669\n",
            "Epoch 468/500\n",
            "2/2 [==============================] - 0s 8ms/step - loss: 11.0389 - mae: 11.0389\n",
            "Epoch 469/500\n",
            "2/2 [==============================] - 0s 7ms/step - loss: 12.8109 - mae: 12.8109\n",
            "Epoch 470/500\n",
            "2/2 [==============================] - 0s 8ms/step - loss: 3.2352 - mae: 3.2352\n",
            "Epoch 471/500\n",
            "2/2 [==============================] - 0s 9ms/step - loss: 16.7067 - mae: 16.7067\n",
            "Epoch 472/500\n",
            "2/2 [==============================] - 0s 8ms/step - loss: 13.3966 - mae: 13.3966\n",
            "Epoch 473/500\n",
            "2/2 [==============================] - 0s 8ms/step - loss: 15.2857 - mae: 15.2857\n",
            "Epoch 474/500\n",
            "2/2 [==============================] - 0s 8ms/step - loss: 11.7530 - mae: 11.7530\n",
            "Epoch 475/500\n",
            "2/2 [==============================] - 0s 8ms/step - loss: 16.4203 - mae: 16.4203\n",
            "Epoch 476/500\n",
            "2/2 [==============================] - 0s 7ms/step - loss: 13.8814 - mae: 13.8814\n",
            "Epoch 477/500\n",
            "2/2 [==============================] - 0s 7ms/step - loss: 30.6773 - mae: 30.6773\n",
            "Epoch 478/500\n",
            "2/2 [==============================] - 0s 7ms/step - loss: 8.5994 - mae: 8.5994\n",
            "Epoch 479/500\n",
            "2/2 [==============================] - 0s 7ms/step - loss: 10.7446 - mae: 10.7446\n",
            "Epoch 480/500\n",
            "2/2 [==============================] - 0s 7ms/step - loss: 17.9118 - mae: 17.9118\n",
            "Epoch 481/500\n",
            "2/2 [==============================] - 0s 7ms/step - loss: 15.8144 - mae: 15.8144\n",
            "Epoch 482/500\n",
            "2/2 [==============================] - 0s 7ms/step - loss: 21.3168 - mae: 21.3168\n",
            "Epoch 483/500\n",
            "2/2 [==============================] - 0s 7ms/step - loss: 25.3595 - mae: 25.3595\n",
            "Epoch 484/500\n",
            "2/2 [==============================] - 0s 7ms/step - loss: 23.9538 - mae: 23.9538\n",
            "Epoch 485/500\n",
            "2/2 [==============================] - 0s 7ms/step - loss: 5.7665 - mae: 5.7665\n",
            "Epoch 486/500\n",
            "2/2 [==============================] - 0s 7ms/step - loss: 19.9739 - mae: 19.9739\n",
            "Epoch 487/500\n",
            "2/2 [==============================] - 0s 8ms/step - loss: 14.0446 - mae: 14.0446\n",
            "Epoch 488/500\n",
            "2/2 [==============================] - 0s 8ms/step - loss: 30.6143 - mae: 30.6143\n",
            "Epoch 489/500\n",
            "2/2 [==============================] - 0s 7ms/step - loss: 11.9489 - mae: 11.9489\n",
            "Epoch 490/500\n",
            "2/2 [==============================] - 0s 8ms/step - loss: 12.7392 - mae: 12.7392\n",
            "Epoch 491/500\n",
            "2/2 [==============================] - 0s 7ms/step - loss: 23.6225 - mae: 23.6225\n",
            "Epoch 492/500\n",
            "2/2 [==============================] - 0s 7ms/step - loss: 20.5153 - mae: 20.5153\n",
            "Epoch 493/500\n",
            "2/2 [==============================] - 0s 7ms/step - loss: 4.9875 - mae: 4.9875\n",
            "Epoch 494/500\n",
            "2/2 [==============================] - 0s 7ms/step - loss: 12.7806 - mae: 12.7806\n",
            "Epoch 495/500\n",
            "2/2 [==============================] - 0s 7ms/step - loss: 13.3839 - mae: 13.3839\n",
            "Epoch 496/500\n",
            "2/2 [==============================] - 0s 12ms/step - loss: 12.6773 - mae: 12.6773\n",
            "Epoch 497/500\n",
            "2/2 [==============================] - 0s 7ms/step - loss: 17.6271 - mae: 17.6271\n",
            "Epoch 498/500\n",
            "2/2 [==============================] - 0s 7ms/step - loss: 23.5441 - mae: 23.5441\n",
            "Epoch 499/500\n",
            "2/2 [==============================] - 0s 7ms/step - loss: 9.3600 - mae: 9.3600\n",
            "Epoch 500/500\n",
            "2/2 [==============================] - 0s 7ms/step - loss: 14.6328 - mae: 14.6328\n"
          ]
        },
        {
          "output_type": "execute_result",
          "data": {
            "text/plain": [
              "<keras.src.callbacks.History at 0x79c00a9e67d0>"
            ]
          },
          "metadata": {},
          "execution_count": 128
        }
      ]
    },
    {
      "cell_type": "code",
      "source": [
        "# Make and plot some predictions\n",
        "y_preds_3 = model_3.predict(X_test)\n",
        "plot_predictions(predictions=y_preds_3)"
      ],
      "metadata": {
        "id": "cbKMk3Oa4_rB",
        "outputId": "7faaa3ed-ae83-405f-c23f-5c6c25373fe6",
        "colab": {
          "base_uri": "https://localhost:8080/",
          "height": 616
        }
      },
      "execution_count": 129,
      "outputs": [
        {
          "output_type": "stream",
          "name": "stdout",
          "text": [
            "1/1 [==============================] - 0s 232ms/step\n"
          ]
        },
        {
          "output_type": "display_data",
          "data": {
            "text/plain": [
              "<Figure size 1000x700 with 1 Axes>"
            ],
            "image/png": "[encoded data removed]"
          },
          "metadata": {}
        }
      ]
    },
    {
      "cell_type": "code",
      "source": [
        "# Calculate model_3 evaluation metrics\n",
        "mae_3 = mae(y_test, y_preds_3)\n",
        "mse_3 = mse(y_test, y_preds_3)\n",
        "mae_3, mse_3"
      ],
      "metadata": {
        "id": "l-nD1YW25oMT",
        "outputId": "bbaa025d-4f97-4879-d9f1-df5e360d24ca",
        "colab": {
          "base_uri": "https://localhost:8080/"
        }
      },
      "execution_count": 130,
      "outputs": [
        {
          "output_type": "execute_result",
          "data": {
            "text/plain": [
              "(<tf.Tensor: shape=(), dtype=float32, numpy=68.71633>,\n",
              " <tf.Tensor: shape=(), dtype=float32, numpy=4808.415>)"
            ]
          },
          "metadata": {},
          "execution_count": 130
        }
      ]
    },
    {
      "cell_type": "markdown",
      "source": [
        "**Note:** You want to start with small experiements (small models) and make sure they work and then increase their scale when necessary."
      ],
      "metadata": {
        "id": "8yleLo8Y6k8h"
      }
    },
    {
      "cell_type": "markdown",
      "source": [
        "## Comparing the results of our experiments\n",
        "\n",
        "We've run a few experiments, let's compare the results.\n"
      ],
      "metadata": {
        "id": "ECmr_jR16Csi"
      }
    },
    {
      "cell_type": "code",
      "source": [
        "# Let's compare our model's results using pandas DataFrame\n",
        "\n",
        "import pandas as pd\n",
        "\n",
        "model_results = [[\"model_1\",mae_1.numpy(), mse_1.numpy()],\n",
        "                 [\"model_2\",mae_2.numpy(), mse_2.numpy()],\n",
        "                 [\"model_3\",mae_3.numpy(), mse_3.numpy()]]\n",
        "\n",
        "all_results = pd.DataFrame(model_results, columns=[\"model\", \"mae\", \"mse\"])\n",
        "all_results"
      ],
      "metadata": {
        "id": "-h08ytrz6U1R",
        "outputId": "3827ae98-2957-43ae-a583-43c6e49060a7",
        "colab": {
          "base_uri": "https://localhost:8080/",
          "height": 143
        }
      },
      "execution_count": 135,
      "outputs": [
        {
          "output_type": "execute_result",
          "data": {
            "text/plain": [
              "     model        mae          mse\n",
              "0  model_1  30.388428   933.683411\n",
              "1  model_2   3.100622    12.410212\n",
              "2  model_3  68.716331  4808.415039"
            ],
            "text/html": [
              "\n",
              "  <div id=\"df-431e74af-666c-49aa-944d-debd59a9e8b2\" class=\"colab-df-container\">\n",
              "    <div>\n",
              "<style scoped>\n",
              "    .dataframe tbody tr th:only-of-type {\n",
              "        vertical-align: middle;\n",
              "    }\n",
              "\n",
              "    .dataframe tbody tr th {\n",
              "        vertical-align: top;\n",
              "    }\n",
              "\n",
              "    .dataframe thead th {\n",
              "        text-align: right;\n",
              "    }\n",
              "</style>\n",
              "<table border=\"1\" class=\"dataframe\">\n",
              "  <thead>\n",
              "    <tr style=\"text-align: right;\">\n",
              "      <th></th>\n",
              "      <th>model</th>\n",
              "      <th>mae</th>\n",
              "      <th>mse</th>\n",
              "    </tr>\n",
              "  </thead>\n",
              "  <tbody>\n",
              "    <tr>\n",
              "      <th>0</th>\n",
              "      <td>model_1</td>\n",
              "      <td>30.388428</td>\n",
              "      <td>933.683411</td>\n",
              "    </tr>\n",
              "    <tr>\n",
              "      <th>1</th>\n",
              "      <td>model_2</td>\n",
              "      <td>3.100622</td>\n",
              "      <td>12.410212</td>\n",
              "    </tr>\n",
              "    <tr>\n",
              "      <th>2</th>\n",
              "      <td>model_3</td>\n",
              "      <td>68.716331</td>\n",
              "      <td>4808.415039</td>\n",
              "    </tr>\n",
              "  </tbody>\n",
              "</table>\n",
              "</div>\n",
              "    <div class=\"colab-df-buttons\">\n",
              "\n",
              "  <div class=\"colab-df-container\">\n",
              "    <button class=\"colab-df-convert\" onclick=\"convertToInteractive('df-431e74af-666c-49aa-944d-debd59a9e8b2')\"\n",
              "            title=\"Convert this dataframe to an interactive table.\"\n",
              "            style=\"display:none;\">\n",
              "\n",
              "  <svg xmlns=\"http://www.w3.org/2000/svg\" height=\"24px\" viewBox=\"0 -960 960 960\">\n",
              "    <path d=\"M120-120v-720h720v720H120Zm60-500h600v-160H180v160Zm220 220h160v-160H400v160Zm0 220h160v-160H400v160ZM180-400h160v-160H180v160Zm440 0h160v-160H620v160ZM180-180h160v-160H180v160Zm440 0h160v-160H620v160Z\"/>\n",
              "  </svg>\n",
              "    </button>\n",
              "\n",
              "  <style>\n",
              "    .colab-df-container {\n",
              "      display:flex;\n",
              "      gap: 12px;\n",
              "    }\n",
              "\n",
              "    .colab-df-convert {\n",
              "      background-color: #E8F0FE;\n",
              "      border: none;\n",
              "      border-radius: 50%;\n",
              "      cursor: pointer;\n",
              "      display: none;\n",
              "      fill: #1967D2;\n",
              "      height: 32px;\n",
              "      padding: 0 0 0 0;\n",
              "      width: 32px;\n",
              "    }\n",
              "\n",
              "    .colab-df-convert:hover {\n",
              "      background-color: #E2EBFA;\n",
              "      box-shadow: 0px 1px 2px rgba(60, 64, 67, 0.3), 0px 1px 3px 1px rgba(60, 64, 67, 0.15);\n",
              "      fill: #174EA6;\n",
              "    }\n",
              "\n",
              "    .colab-df-buttons div {\n",
              "      margin-bottom: 4px;\n",
              "    }\n",
              "\n",
              "    [theme=dark] .colab-df-convert {\n",
              "      background-color: #3B4455;\n",
              "      fill: #D2E3FC;\n",
              "    }\n",
              "\n",
              "    [theme=dark] .colab-df-convert:hover {\n",
              "      background-color: #434B5C;\n",
              "      box-shadow: 0px 1px 3px 1px rgba(0, 0, 0, 0.15);\n",
              "      filter: drop-shadow(0px 1px 2px rgba(0, 0, 0, 0.3));\n",
              "      fill: #FFFFFF;\n",
              "    }\n",
              "  </style>\n",
              "\n",
              "    <script>\n",
              "      const buttonEl =\n",
              "        document.querySelector('#df-431e74af-666c-49aa-944d-debd59a9e8b2 button.colab-df-convert');\n",
              "      buttonEl.style.display =\n",
              "        google.colab.kernel.accessAllowed ? 'block' : 'none';\n",
              "\n",
              "      async function convertToInteractive(key) {\n",
              "        const element = document.querySelector('#df-431e74af-666c-49aa-944d-debd59a9e8b2');\n",
              "        const dataTable =\n",
              "          await google.colab.kernel.invokeFunction('convertToInteractive',\n",
              "                                                    [key], {});\n",
              "        if (!dataTable) return;\n",
              "\n",
              "        const docLinkHtml = 'Like what you see? Visit the ' +\n",
              "          '<a target=\"_blank\" href=https://colab.research.google.com/notebooks/data_table.ipynb>data table notebook</a>'\n",
              "          + ' to learn more about interactive tables.';\n",
              "        element.innerHTML = '';\n",
              "        dataTable['output_type'] = 'display_data';\n",
              "        await google.colab.output.renderOutput(dataTable, element);\n",
              "        const docLink = document.createElement('div');\n",
              "        docLink.innerHTML = docLinkHtml;\n",
              "        element.appendChild(docLink);\n",
              "      }\n",
              "    </script>\n",
              "  </div>\n",
              "\n",
              "\n",
              "<div id=\"df-acc339ec-60d9-4f00-9a11-b86944dfdadd\">\n",
              "  <button class=\"colab-df-quickchart\" onclick=\"quickchart('df-acc339ec-60d9-4f00-9a11-b86944dfdadd')\"\n",
              "            title=\"Suggest charts\"\n",
              "            style=\"display:none;\">\n",
              "\n",
              "<svg xmlns=\"http://www.w3.org/2000/svg\" height=\"24px\"viewBox=\"0 0 24 24\"\n",
              "     width=\"24px\">\n",
              "    <g>\n",
              "        <path d=\"M19 3H5c-1.1 0-2 .9-2 2v14c0 1.1.9 2 2 2h14c1.1 0 2-.9 2-2V5c0-1.1-.9-2-2-2zM9 17H7v-7h2v7zm4 0h-2V7h2v10zm4 0h-2v-4h2v4z\"/>\n",
              "    </g>\n",
              "</svg>\n",
              "  </button>\n",
              "\n",
              "<style>\n",
              "  .colab-df-quickchart {\n",
              "      --bg-color: #E8F0FE;\n",
              "      --fill-color: #1967D2;\n",
              "      --hover-bg-color: #E2EBFA;\n",
              "      --hover-fill-color: #174EA6;\n",
              "      --disabled-fill-color: #AAA;\n",
              "      --disabled-bg-color: #DDD;\n",
              "  }\n",
              "\n",
              "  [theme=dark] .colab-df-quickchart {\n",
              "      --bg-color: #3B4455;\n",
              "      --fill-color: #D2E3FC;\n",
              "      --hover-bg-color: #434B5C;\n",
              "      --hover-fill-color: #FFFFFF;\n",
              "      --disabled-bg-color: #3B4455;\n",
              "      --disabled-fill-color: #666;\n",
              "  }\n",
              "\n",
              "  .colab-df-quickchart {\n",
              "    background-color: var(--bg-color);\n",
              "    border: none;\n",
              "    border-radius: 50%;\n",
              "    cursor: pointer;\n",
              "    display: none;\n",
              "    fill: var(--fill-color);\n",
              "    height: 32px;\n",
              "    padding: 0;\n",
              "    width: 32px;\n",
              "  }\n",
              "\n",
              "  .colab-df-quickchart:hover {\n",
              "    background-color: var(--hover-bg-color);\n",
              "    box-shadow: 0 1px 2px rgba(60, 64, 67, 0.3), 0 1px 3px 1px rgba(60, 64, 67, 0.15);\n",
              "    fill: var(--button-hover-fill-color);\n",
              "  }\n",
              "\n",
              "  .colab-df-quickchart-complete:disabled,\n",
              "  .colab-df-quickchart-complete:disabled:hover {\n",
              "    background-color: var(--disabled-bg-color);\n",
              "    fill: var(--disabled-fill-color);\n",
              "    box-shadow: none;\n",
              "  }\n",
              "\n",
              "  .colab-df-spinner {\n",
              "    border: 2px solid var(--fill-color);\n",
              "    border-color: transparent;\n",
              "    border-bottom-color: var(--fill-color);\n",
              "    animation:\n",
              "      spin 1s steps(1) infinite;\n",
              "  }\n",
              "\n",
              "  @keyframes spin {\n",
              "    0% {\n",
              "      border-color: transparent;\n",
              "      border-bottom-color: var(--fill-color);\n",
              "      border-left-color: var(--fill-color);\n",
              "    }\n",
              "    20% {\n",
              "      border-color: transparent;\n",
              "      border-left-color: var(--fill-color);\n",
              "      border-top-color: var(--fill-color);\n",
              "    }\n",
              "    30% {\n",
              "      border-color: transparent;\n",
              "      border-left-color: var(--fill-color);\n",
              "      border-top-color: var(--fill-color);\n",
              "      border-right-color: var(--fill-color);\n",
              "    }\n",
              "    40% {\n",
              "      border-color: transparent;\n",
              "      border-right-color: var(--fill-color);\n",
              "      border-top-color: var(--fill-color);\n",
              "    }\n",
              "    60% {\n",
              "      border-color: transparent;\n",
              "      border-right-color: var(--fill-color);\n",
              "    }\n",
              "    80% {\n",
              "      border-color: transparent;\n",
              "      border-right-color: var(--fill-color);\n",
              "      border-bottom-color: var(--fill-color);\n",
              "    }\n",
              "    90% {\n",
              "      border-color: transparent;\n",
              "      border-bottom-color: var(--fill-color);\n",
              "    }\n",
              "  }\n",
              "</style>\n",
              "\n",
              "  <script>\n",
              "    async function quickchart(key) {\n",
              "      const quickchartButtonEl =\n",
              "        document.querySelector('#' + key + ' button');\n",
              "      quickchartButtonEl.disabled = true;  // To prevent multiple clicks.\n",
              "      quickchartButtonEl.classList.add('colab-df-spinner');\n",
              "      try {\n",
              "        const charts = await google.colab.kernel.invokeFunction(\n",
              "            'suggestCharts', [key], {});\n",
              "      } catch (error) {\n",
              "        console.error('Error during call to suggestCharts:', error);\n",
              "      }\n",
              "      quickchartButtonEl.classList.remove('colab-df-spinner');\n",
              "      quickchartButtonEl.classList.add('colab-df-quickchart-complete');\n",
              "    }\n",
              "    (() => {\n",
              "      let quickchartButtonEl =\n",
              "        document.querySelector('#df-acc339ec-60d9-4f00-9a11-b86944dfdadd button');\n",
              "      quickchartButtonEl.style.display =\n",
              "        google.colab.kernel.accessAllowed ? 'block' : 'none';\n",
              "    })();\n",
              "  </script>\n",
              "</div>\n",
              "    </div>\n",
              "  </div>\n"
            ],
            "application/vnd.google.colaboratory.intrinsic+json": {
              "type": "dataframe",
              "variable_name": "all_results",
              "summary": "{\n  \"name\": \"all_results\",\n  \"rows\": 3,\n  \"fields\": [\n    {\n      \"column\": \"model\",\n      \"properties\": {\n        \"dtype\": \"string\",\n        \"samples\": [\n          \"model_1\",\n          \"model_2\",\n          \"model_3\"\n        ],\n        \"num_unique_values\": 3,\n        \"semantic_type\": \"\",\n        \"description\": \"\"\n      }\n    },\n    {\n      \"column\": \"mae\",\n      \"properties\": {\n        \"dtype\": \"float32\",\n        \"samples\": [\n          30.388427734375,\n          3.1006217002868652,\n          68.7163314819336\n        ],\n        \"num_unique_values\": 3,\n        \"semantic_type\": \"\",\n        \"description\": \"\"\n      }\n    },\n    {\n      \"column\": \"mse\",\n      \"properties\": {\n        \"dtype\": \"float32\",\n        \"samples\": [\n          933.6834106445312,\n          12.410211563110352,\n          4808.4150390625\n        ],\n        \"num_unique_values\": 3,\n        \"semantic_type\": \"\",\n        \"description\": \"\"\n      }\n    }\n  ]\n}"
            }
          },
          "metadata": {},
          "execution_count": 135
        }
      ]
    },
    {
      "cell_type": "markdown",
      "source": [
        "Looks like `model_2` performed the best..."
      ],
      "metadata": {
        "id": "Pb7Tcpfb8FQf"
      }
    },
    {
      "cell_type": "code",
      "source": [
        "model_2.summary()"
      ],
      "metadata": {
        "id": "PvJGz7Bk7pZq",
        "outputId": "58929092-b905-4e10-91e1-e9ac5fcfa284",
        "colab": {
          "base_uri": "https://localhost:8080/"
        }
      },
      "execution_count": 136,
      "outputs": [
        {
          "output_type": "stream",
          "name": "stdout",
          "text": [
            "Model: \"sequential_21\"\n",
            "_________________________________________________________________\n",
            " Layer (type)                Output Shape              Param #   \n",
            "=================================================================\n",
            " dense_21 (Dense)            (None, 10)                20        \n",
            "                                                                 \n",
            " dense_22 (Dense)            (None, 1)                 11        \n",
            "                                                                 \n",
            "=================================================================\n",
            "Total params: 31 (124.00 Byte)\n",
            "Trainable params: 31 (124.00 Byte)\n",
            "Non-trainable params: 0 (0.00 Byte)\n",
            "_________________________________________________________________\n"
          ]
        }
      ]
    },
    {
      "cell_type": "markdown",
      "source": [
        "**Note:** One of the main goals should be to minimize the time between your experiments. The more experiments you do, the more things you'll figure out which don't work and in turn, get closer to figuring out which don't work and in turn, get closer to figuring out what does work. Remember the machine learning practitioners moto:\"experiment, experiment, experiment\"."
      ],
      "metadata": {
        "id": "QFPZN9Ce77AU"
      }
    },
    {
      "cell_type": "markdown",
      "source": [
        "## Tracking your experiments\n",
        "\n",
        "One really good habit in machine learning modelling is to track the results of your experiments.\n",
        "\n",
        "And when doing do, it can be tedious if you're running lots of experiments.else\n",
        "\n",
        "Luckily, there are tools to help us!\n",
        "\n",
        "**Resource:** As you build more models, you'll want to look into using:\n",
        "\n",
        "* TensorBoard - a component of the TensorFlow library to help track modelling experiements.\n",
        "* Weights & Biases - a tool for tracking all kinds of machine learning experiments (plugs straight into TensorBoard)."
      ],
      "metadata": {
        "id": "pEu9tMXI8hJk"
      }
    },
    {
      "cell_type": "markdown",
      "source": [
        "## Saving our models\n",
        "\n",
        "Saving our models allows us to use them outside of Google colab (or wherever they were trained) such as a web application or a mobile app.\n",
        "\n",
        "There are 2 main format we can save our model's too:\n",
        "\n",
        "1. The SavedModel format\n",
        "2. The HDF5 format"
      ],
      "metadata": {
        "id": "tveIshFr-WpF"
      }
    },
    {
      "cell_type": "code",
      "source": [
        "# Save model using the SavedModel format\n",
        "model_2.save(\"best_model_SavedModel_format\")"
      ],
      "metadata": {
        "id": "0nyDDEEL-q7V"
      },
      "execution_count": 142,
      "outputs": []
    },
    {
      "cell_type": "code",
      "source": [
        "# Save model using the HDF5 format\n",
        "model_2.save(\"best_model_HDF5_format.h5\")"
      ],
      "metadata": {
        "id": "vkdVIfdw_jyB",
        "outputId": "61c62990-a2bb-478e-8d4c-152e9dda325d",
        "colab": {
          "base_uri": "https://localhost:8080/"
        }
      },
      "execution_count": 143,
      "outputs": [
        {
          "output_type": "stream",
          "name": "stderr",
          "text": [
            "/usr/local/lib/python3.10/dist-packages/keras/src/engine/training.py:3103: UserWarning: You are saving your model as an HDF5 file via `model.save()`. This file format is considered legacy. We recommend using instead the native Keras format, e.g. `model.save('my_model.keras')`.\n",
            "  saving_api.save_model(\n"
          ]
        }
      ]
    },
    {
      "cell_type": "code",
      "source": [
        "# Save model using the keras format\n",
        "model_2.save(\"best_model_keras_format.keras\")"
      ],
      "metadata": {
        "id": "lbDSlNucAMG8"
      },
      "execution_count": 145,
      "outputs": []
    },
    {
      "cell_type": "code",
      "source": [
        "# Loading in a saved model\n",
        "loaded_SavedModel_format = tf.keras.models.load_model(\"/content/best_model_SavedModel_format\")\n",
        "loaded_SavedModel_format.summary()"
      ],
      "metadata": {
        "id": "MWJuVX2fArPK",
        "outputId": "a5ad8e10-8374-4171-b40a-7a6f35fe2b29",
        "colab": {
          "base_uri": "https://localhost:8080/"
        }
      },
      "execution_count": 147,
      "outputs": [
        {
          "output_type": "stream",
          "name": "stdout",
          "text": [
            "Model: \"sequential_21\"\n",
            "_________________________________________________________________\n",
            " Layer (type)                Output Shape              Param #   \n",
            "=================================================================\n",
            " dense_21 (Dense)            (None, 10)                20        \n",
            "                                                                 \n",
            " dense_22 (Dense)            (None, 1)                 11        \n",
            "                                                                 \n",
            "=================================================================\n",
            "Total params: 31 (124.00 Byte)\n",
            "Trainable params: 31 (124.00 Byte)\n",
            "Non-trainable params: 0 (0.00 Byte)\n",
            "_________________________________________________________________\n"
          ]
        }
      ]
    },
    {
      "cell_type": "code",
      "source": [
        "model_2.summary()"
      ],
      "metadata": {
        "id": "clfA74EOBP2s",
        "outputId": "5dd89d05-d27f-454a-b83c-345fcf61ba2b",
        "colab": {
          "base_uri": "https://localhost:8080/"
        }
      },
      "execution_count": 148,
      "outputs": [
        {
          "output_type": "stream",
          "name": "stdout",
          "text": [
            "Model: \"sequential_21\"\n",
            "_________________________________________________________________\n",
            " Layer (type)                Output Shape              Param #   \n",
            "=================================================================\n",
            " dense_21 (Dense)            (None, 10)                20        \n",
            "                                                                 \n",
            " dense_22 (Dense)            (None, 1)                 11        \n",
            "                                                                 \n",
            "=================================================================\n",
            "Total params: 31 (124.00 Byte)\n",
            "Trainable params: 31 (124.00 Byte)\n",
            "Non-trainable params: 0 (0.00 Byte)\n",
            "_________________________________________________________________\n"
          ]
        }
      ]
    },
    {
      "cell_type": "code",
      "source": [
        "# Compare model_2 predictions with SavedModel format model predictions\n",
        "\n",
        "model_2_preds = model_2.predict(X_test)\n",
        "loaded_SavedModel_format_preds = loaded_SavedModel_format.predict(X_test)\n",
        "model_2_preds == loaded_SavedModel_format_preds"
      ],
      "metadata": {
        "id": "gTm34poIBXn_",
        "outputId": "435f7c4f-6f87-404a-9317-b8ea2d6171a9",
        "colab": {
          "base_uri": "https://localhost:8080/"
        }
      },
      "execution_count": 150,
      "outputs": [
        {
          "output_type": "stream",
          "name": "stdout",
          "text": [
            "1/1 [==============================] - 0s 33ms/step\n",
            "1/1 [==============================] - 0s 70ms/step\n"
          ]
        },
        {
          "output_type": "execute_result",
          "data": {
            "text/plain": [
              "array([[ True],\n",
              "       [ True],\n",
              "       [ True],\n",
              "       [ True],\n",
              "       [ True],\n",
              "       [ True],\n",
              "       [ True],\n",
              "       [ True],\n",
              "       [ True],\n",
              "       [ True]])"
            ]
          },
          "metadata": {},
          "execution_count": 150
        }
      ]
    },
    {
      "cell_type": "code",
      "source": [
        "# Load in a model using the .h5 format\n",
        "loaded_h5_model = tf.keras.models.load_model(\"/content/best_model_HDF5_format.h5\")\n",
        "loaded_h5_model"
      ],
      "metadata": {
        "id": "OP3Zelr_B8FZ",
        "outputId": "71da6143-dfc5-4b34-80bc-9bb7efc836b2",
        "colab": {
          "base_uri": "https://localhost:8080/"
        }
      },
      "execution_count": 152,
      "outputs": [
        {
          "output_type": "execute_result",
          "data": {
            "text/plain": [
              "<keras.src.engine.sequential.Sequential at 0x79c00a653580>"
            ]
          },
          "metadata": {},
          "execution_count": 152
        }
      ]
    },
    {
      "cell_type": "code",
      "source": [
        "# Compare model_2 predictions with h5 format model predictions\n",
        "loaded_h5_model.predict(X_test) == model_2.predict(X_test)"
      ],
      "metadata": {
        "id": "Et4bQiMBC9V_",
        "outputId": "910960da-d516-4225-b52c-0790f981d9b2",
        "colab": {
          "base_uri": "https://localhost:8080/"
        }
      },
      "execution_count": 154,
      "outputs": [
        {
          "output_type": "stream",
          "name": "stdout",
          "text": [
            "1/1 [==============================] - 0s 33ms/step\n",
            "1/1 [==============================] - 0s 29ms/step\n"
          ]
        },
        {
          "output_type": "execute_result",
          "data": {
            "text/plain": [
              "array([[ True],\n",
              "       [ True],\n",
              "       [ True],\n",
              "       [ True],\n",
              "       [ True],\n",
              "       [ True],\n",
              "       [ True],\n",
              "       [ True],\n",
              "       [ True],\n",
              "       [ True]])"
            ]
          },
          "metadata": {},
          "execution_count": 154
        }
      ]
    },
    {
      "cell_type": "code",
      "source": [],
      "metadata": {
        "id": "m4ySjKpMDHkU"
      },
      "execution_count": null,
      "outputs": []
    }
  ]
}