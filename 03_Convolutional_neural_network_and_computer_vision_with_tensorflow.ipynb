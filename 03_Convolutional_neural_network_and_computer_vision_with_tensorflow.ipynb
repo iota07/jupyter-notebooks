{
  "nbformat": 4,
  "nbformat_minor": 0,
  "metadata": {
    "colab": {
      "provenance": [],
      "authorship_tag": "ABX9TyPjDVHkABPMtdgPVlqJKFnO"
    },
    "kernelspec": {
      "name": "python3",
      "display_name": "Python 3"
    },
    "language_info": {
      "name": "python"
    }
  },
  "cells": [
    {
      "cell_type": "markdown",
      "source": [
        "# Introduction to Convolutional Neural Networks and Computer Vision with TensorFlow\n",
        "\n",
        "Computer vision is the practice of writing algorithms which can discover patterns in visual data. Such as the camera of a self-driving car recognizing the car in front."
      ],
      "metadata": {
        "id": "xA-ZvCRDa15o"
      }
    }
  ]
}